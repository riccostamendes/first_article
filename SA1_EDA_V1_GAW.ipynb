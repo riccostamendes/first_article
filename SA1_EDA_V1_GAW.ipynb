{
 "cells": [
  {
   "cell_type": "markdown",
   "metadata": {},
   "source": [
    "# High School Academic Achievement\n",
    "## Portuguese\n",
    "### Exploratory Data Analysis EDA¶\n"
   ]
  },
  {
   "cell_type": "code",
   "execution_count": 1,
   "metadata": {},
   "outputs": [],
   "source": [
    "import pandas as pd\n",
    "import numpy as np\n",
    "import matplotlib.pyplot as plt\n",
    "import seaborn as sns\n",
    "sns.set_style(\"whitegrid\")\n",
    "%matplotlib inline\n"
   ]
  },
  {
   "cell_type": "code",
   "execution_count": 2,
   "metadata": {},
   "outputs": [],
   "source": [
    "df = pd.read_excel(\"PREPARED_DS_V1.xlsx\")"
   ]
  },
  {
   "cell_type": "code",
   "execution_count": 3,
   "metadata": {},
   "outputs": [
    {
     "data": {
      "text/html": [
       "<div>\n",
       "<style scoped>\n",
       "    .dataframe tbody tr th:only-of-type {\n",
       "        vertical-align: middle;\n",
       "    }\n",
       "\n",
       "    .dataframe tbody tr th {\n",
       "        vertical-align: top;\n",
       "    }\n",
       "\n",
       "    .dataframe thead th {\n",
       "        text-align: right;\n",
       "    }\n",
       "</style>\n",
       "<table border=\"1\" class=\"dataframe\">\n",
       "  <thead>\n",
       "    <tr style=\"text-align: right;\">\n",
       "      <th></th>\n",
       "      <th>PermanentIncomeSupport_1</th>\n",
       "      <th>PermanentIncomeSupport_2</th>\n",
       "      <th>PermanentIncomeSupport_3</th>\n",
       "      <th>Scholarship_1</th>\n",
       "      <th>Scholarship_2</th>\n",
       "      <th>Gender_M</th>\n",
       "      <th>AcYear_11</th>\n",
       "      <th>AcYear_12</th>\n",
       "      <th>N_NoApprovals</th>\n",
       "      <th>Nationality</th>\n",
       "      <th>...</th>\n",
       "      <th>UrbanIndex</th>\n",
       "      <th>IncomeIndex</th>\n",
       "      <th>AgingIndex</th>\n",
       "      <th>UnemploymentIndex</th>\n",
       "      <th>CulturalLevelIndex</th>\n",
       "      <th>ClassSize</th>\n",
       "      <th>SchoolSize</th>\n",
       "      <th>N_SubjectsEnrolled</th>\n",
       "      <th>Gender_M__ClassSize</th>\n",
       "      <th>FinalMark</th>\n",
       "    </tr>\n",
       "  </thead>\n",
       "  <tbody>\n",
       "    <tr>\n",
       "      <th>0</th>\n",
       "      <td>0</td>\n",
       "      <td>0</td>\n",
       "      <td>0</td>\n",
       "      <td>0</td>\n",
       "      <td>0</td>\n",
       "      <td>0</td>\n",
       "      <td>1</td>\n",
       "      <td>0</td>\n",
       "      <td>0</td>\n",
       "      <td>0</td>\n",
       "      <td>...</td>\n",
       "      <td>138.4</td>\n",
       "      <td>875.1</td>\n",
       "      <td>146.2</td>\n",
       "      <td>9.73</td>\n",
       "      <td>12.77</td>\n",
       "      <td>23</td>\n",
       "      <td>193</td>\n",
       "      <td>7</td>\n",
       "      <td>0</td>\n",
       "      <td>10</td>\n",
       "    </tr>\n",
       "    <tr>\n",
       "      <th>1</th>\n",
       "      <td>0</td>\n",
       "      <td>0</td>\n",
       "      <td>0</td>\n",
       "      <td>0</td>\n",
       "      <td>0</td>\n",
       "      <td>1</td>\n",
       "      <td>0</td>\n",
       "      <td>1</td>\n",
       "      <td>0</td>\n",
       "      <td>0</td>\n",
       "      <td>...</td>\n",
       "      <td>5090.4</td>\n",
       "      <td>1560.6</td>\n",
       "      <td>189.3</td>\n",
       "      <td>11.76</td>\n",
       "      <td>70.93</td>\n",
       "      <td>29</td>\n",
       "      <td>519</td>\n",
       "      <td>5</td>\n",
       "      <td>29</td>\n",
       "      <td>19</td>\n",
       "    </tr>\n",
       "    <tr>\n",
       "      <th>2</th>\n",
       "      <td>0</td>\n",
       "      <td>1</td>\n",
       "      <td>0</td>\n",
       "      <td>1</td>\n",
       "      <td>0</td>\n",
       "      <td>0</td>\n",
       "      <td>0</td>\n",
       "      <td>1</td>\n",
       "      <td>0</td>\n",
       "      <td>0</td>\n",
       "      <td>...</td>\n",
       "      <td>5090.4</td>\n",
       "      <td>1560.6</td>\n",
       "      <td>189.3</td>\n",
       "      <td>11.76</td>\n",
       "      <td>70.93</td>\n",
       "      <td>29</td>\n",
       "      <td>519</td>\n",
       "      <td>5</td>\n",
       "      <td>0</td>\n",
       "      <td>16</td>\n",
       "    </tr>\n",
       "    <tr>\n",
       "      <th>3</th>\n",
       "      <td>1</td>\n",
       "      <td>0</td>\n",
       "      <td>0</td>\n",
       "      <td>0</td>\n",
       "      <td>1</td>\n",
       "      <td>0</td>\n",
       "      <td>1</td>\n",
       "      <td>0</td>\n",
       "      <td>2</td>\n",
       "      <td>0</td>\n",
       "      <td>...</td>\n",
       "      <td>5090.4</td>\n",
       "      <td>1560.6</td>\n",
       "      <td>189.3</td>\n",
       "      <td>11.76</td>\n",
       "      <td>70.93</td>\n",
       "      <td>25</td>\n",
       "      <td>519</td>\n",
       "      <td>7</td>\n",
       "      <td>0</td>\n",
       "      <td>10</td>\n",
       "    </tr>\n",
       "    <tr>\n",
       "      <th>4</th>\n",
       "      <td>0</td>\n",
       "      <td>0</td>\n",
       "      <td>0</td>\n",
       "      <td>0</td>\n",
       "      <td>0</td>\n",
       "      <td>1</td>\n",
       "      <td>0</td>\n",
       "      <td>1</td>\n",
       "      <td>0</td>\n",
       "      <td>0</td>\n",
       "      <td>...</td>\n",
       "      <td>5090.4</td>\n",
       "      <td>1560.6</td>\n",
       "      <td>189.3</td>\n",
       "      <td>11.76</td>\n",
       "      <td>70.93</td>\n",
       "      <td>29</td>\n",
       "      <td>519</td>\n",
       "      <td>5</td>\n",
       "      <td>29</td>\n",
       "      <td>17</td>\n",
       "    </tr>\n",
       "  </tbody>\n",
       "</table>\n",
       "<p>5 rows × 24 columns</p>\n",
       "</div>"
      ],
      "text/plain": [
       "   PermanentIncomeSupport_1  PermanentIncomeSupport_2  \\\n",
       "0                         0                         0   \n",
       "1                         0                         0   \n",
       "2                         0                         1   \n",
       "3                         1                         0   \n",
       "4                         0                         0   \n",
       "\n",
       "   PermanentIncomeSupport_3  Scholarship_1  Scholarship_2  Gender_M  \\\n",
       "0                         0              0              0         0   \n",
       "1                         0              0              0         1   \n",
       "2                         0              1              0         0   \n",
       "3                         0              0              1         0   \n",
       "4                         0              0              0         1   \n",
       "\n",
       "   AcYear_11  AcYear_12  N_NoApprovals  Nationality  ...  UrbanIndex  \\\n",
       "0          1          0              0            0  ...       138.4   \n",
       "1          0          1              0            0  ...      5090.4   \n",
       "2          0          1              0            0  ...      5090.4   \n",
       "3          1          0              2            0  ...      5090.4   \n",
       "4          0          1              0            0  ...      5090.4   \n",
       "\n",
       "   IncomeIndex  AgingIndex UnemploymentIndex  CulturalLevelIndex  ClassSize  \\\n",
       "0        875.1       146.2              9.73               12.77         23   \n",
       "1       1560.6       189.3             11.76               70.93         29   \n",
       "2       1560.6       189.3             11.76               70.93         29   \n",
       "3       1560.6       189.3             11.76               70.93         25   \n",
       "4       1560.6       189.3             11.76               70.93         29   \n",
       "\n",
       "   SchoolSize  N_SubjectsEnrolled  Gender_M__ClassSize  FinalMark  \n",
       "0         193                   7                    0         10  \n",
       "1         519                   5                   29         19  \n",
       "2         519                   5                    0         16  \n",
       "3         519                   7                    0         10  \n",
       "4         519                   5                   29         17  \n",
       "\n",
       "[5 rows x 24 columns]"
      ]
     },
     "execution_count": 3,
     "metadata": {},
     "output_type": "execute_result"
    }
   ],
   "source": [
    "df.head()"
   ]
  },
  {
   "cell_type": "code",
   "execution_count": 4,
   "metadata": {},
   "outputs": [
    {
     "data": {
      "text/plain": [
       "(362127, 24)"
      ]
     },
     "execution_count": 4,
     "metadata": {},
     "output_type": "execute_result"
    }
   ],
   "source": [
    "df.shape"
   ]
  },
  {
   "cell_type": "code",
   "execution_count": 5,
   "metadata": {},
   "outputs": [
    {
     "name": "stdout",
     "output_type": "stream",
     "text": [
      "Shape per Course Subject:\n",
      "\n",
      "Língua Estrangeira I - Inglês \t (54885, 24)\n",
      "Matemática A \t (46593, 24)\n",
      "Biologia \t (16451, 24)\n",
      "Psicologia B \t (16197, 24)\n",
      "Português \t (75035, 24)\n",
      "História A \t (19756, 24)\n",
      "Filosofia \t (57249, 24)\n",
      "Geografia A \t (19884, 24)\n",
      "Física e Química A \t (28581, 24)\n",
      "Biologia e Geologia \t (27496, 24)\n"
     ]
    }
   ],
   "source": [
    "Course_Subject = df['CourseSubject'].unique()\n",
    "print(\"Shape per Course Subject:\\n\")\n",
    "for i in Course_Subject:\n",
    "    Subject_i= df[df['CourseSubject']== i]\n",
    "    print(i, '\\t', Subject_i.shape)"
   ]
  },
  {
   "cell_type": "code",
   "execution_count": 6,
   "metadata": {},
   "outputs": [],
   "source": [
    "df1=df[(df['CourseSubject'] == \"Português\")]"
   ]
  },
  {
   "cell_type": "code",
   "execution_count": 7,
   "metadata": {},
   "outputs": [
    {
     "data": {
      "text/plain": [
       "(75035, 24)"
      ]
     },
     "execution_count": 7,
     "metadata": {},
     "output_type": "execute_result"
    }
   ],
   "source": [
    "df1.shape"
   ]
  },
  {
   "cell_type": "code",
   "execution_count": 8,
   "metadata": {},
   "outputs": [],
   "source": [
    "df1.to_excel(\"GAW_Portuguese_DS.xlsx\", sheet_name='DATASET')"
   ]
  },
  {
   "cell_type": "code",
   "execution_count": 9,
   "metadata": {},
   "outputs": [
    {
     "data": {
      "text/plain": [
       "Index(['PermanentIncomeSupport_1', 'PermanentIncomeSupport_2',\n",
       "       'PermanentIncomeSupport_3', 'Scholarship_1', 'Scholarship_2',\n",
       "       'Gender_M', 'AcYear_11', 'AcYear_12', 'N_NoApprovals', 'Nationality',\n",
       "       'N_Enrollments', 'Computer', 'InternetAccess', 'CourseSubject',\n",
       "       'UrbanIndex', 'IncomeIndex', 'AgingIndex', 'UnemploymentIndex',\n",
       "       'CulturalLevelIndex', 'ClassSize', 'SchoolSize', 'N_SubjectsEnrolled',\n",
       "       'Gender_M__ClassSize', 'FinalMark'],\n",
       "      dtype='object')"
      ]
     },
     "execution_count": 9,
     "metadata": {},
     "output_type": "execute_result"
    }
   ],
   "source": [
    "df1.columns"
   ]
  },
  {
   "cell_type": "code",
   "execution_count": null,
   "metadata": {},
   "outputs": [],
   "source": []
  }
 ],
 "metadata": {
  "kernelspec": {
   "display_name": "Python 3",
   "language": "python",
   "name": "python3"
  },
  "language_info": {
   "codemirror_mode": {
    "name": "ipython",
    "version": 3
   },
   "file_extension": ".py",
   "mimetype": "text/x-python",
   "name": "python",
   "nbconvert_exporter": "python",
   "pygments_lexer": "ipython3",
   "version": "3.7.7"
  }
 },
 "nbformat": 4,
 "nbformat_minor": 4
}
