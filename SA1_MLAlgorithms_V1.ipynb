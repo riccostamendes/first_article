{
 "cells": [
  {
   "cell_type": "markdown",
   "metadata": {},
   "source": [
    "# High School Academic Achievement\n",
    "## English\n",
    "Multiple Linear Regression, Random Forest, Support Vector Machines, Artificial Neural Network, and XDBoost\n",
    "\n",
    "\n",
    "\n"
   ]
  },
  {
   "cell_type": "markdown",
   "metadata": {},
   "source": [
    "## Multiple Linear Regression"
   ]
  },
  {
   "cell_type": "code",
   "execution_count": 1,
   "metadata": {},
   "outputs": [],
   "source": [
    "import numpy as np\n",
    "import pandas as pd\n",
    "import matplotlib.pyplot as plt\n",
    "%matplotlib inline\n",
    "import seaborn as sns"
   ]
  },
  {
   "cell_type": "code",
   "execution_count": 2,
   "metadata": {},
   "outputs": [],
   "source": [
    "df = pd.read_excel(\"PREPARED_English_DS_V1.xlsx\")"
   ]
  },
  {
   "cell_type": "code",
   "execution_count": 3,
   "metadata": {},
   "outputs": [
    {
     "data": {
      "text/html": [
       "<div>\n",
       "<style scoped>\n",
       "    .dataframe tbody tr th:only-of-type {\n",
       "        vertical-align: middle;\n",
       "    }\n",
       "\n",
       "    .dataframe tbody tr th {\n",
       "        vertical-align: top;\n",
       "    }\n",
       "\n",
       "    .dataframe thead th {\n",
       "        text-align: right;\n",
       "    }\n",
       "</style>\n",
       "<table border=\"1\" class=\"dataframe\">\n",
       "  <thead>\n",
       "    <tr style=\"text-align: right;\">\n",
       "      <th></th>\n",
       "      <th>PermanentIncomeSupport_3</th>\n",
       "      <th>Scholarship_1</th>\n",
       "      <th>Scholarship_2</th>\n",
       "      <th>Gender_M</th>\n",
       "      <th>AcYear_11</th>\n",
       "      <th>AcYear_12</th>\n",
       "      <th>N_NoApprovals</th>\n",
       "      <th>N_Enrollments</th>\n",
       "      <th>Computer</th>\n",
       "      <th>InternetAccess</th>\n",
       "      <th>UrbanIndex</th>\n",
       "      <th>AgingIndex</th>\n",
       "      <th>UnemploymentIndex</th>\n",
       "      <th>ClassSize</th>\n",
       "      <th>SchoolSize</th>\n",
       "      <th>FinalMark</th>\n",
       "    </tr>\n",
       "  </thead>\n",
       "  <tbody>\n",
       "    <tr>\n",
       "      <th>0</th>\n",
       "      <td>0</td>\n",
       "      <td>0</td>\n",
       "      <td>0</td>\n",
       "      <td>0</td>\n",
       "      <td>1</td>\n",
       "      <td>0</td>\n",
       "      <td>0</td>\n",
       "      <td>1</td>\n",
       "      <td>1</td>\n",
       "      <td>1</td>\n",
       "      <td>138.4</td>\n",
       "      <td>146.2</td>\n",
       "      <td>9.73</td>\n",
       "      <td>23</td>\n",
       "      <td>193</td>\n",
       "      <td>10</td>\n",
       "    </tr>\n",
       "    <tr>\n",
       "      <th>1</th>\n",
       "      <td>0</td>\n",
       "      <td>0</td>\n",
       "      <td>1</td>\n",
       "      <td>0</td>\n",
       "      <td>1</td>\n",
       "      <td>0</td>\n",
       "      <td>2</td>\n",
       "      <td>1</td>\n",
       "      <td>0</td>\n",
       "      <td>0</td>\n",
       "      <td>5090.4</td>\n",
       "      <td>189.3</td>\n",
       "      <td>11.76</td>\n",
       "      <td>25</td>\n",
       "      <td>519</td>\n",
       "      <td>10</td>\n",
       "    </tr>\n",
       "    <tr>\n",
       "      <th>2</th>\n",
       "      <td>0</td>\n",
       "      <td>0</td>\n",
       "      <td>0</td>\n",
       "      <td>1</td>\n",
       "      <td>0</td>\n",
       "      <td>0</td>\n",
       "      <td>1</td>\n",
       "      <td>1</td>\n",
       "      <td>1</td>\n",
       "      <td>1</td>\n",
       "      <td>424.5</td>\n",
       "      <td>184.1</td>\n",
       "      <td>10.14</td>\n",
       "      <td>30</td>\n",
       "      <td>1040</td>\n",
       "      <td>16</td>\n",
       "    </tr>\n",
       "    <tr>\n",
       "      <th>3</th>\n",
       "      <td>0</td>\n",
       "      <td>0</td>\n",
       "      <td>0</td>\n",
       "      <td>0</td>\n",
       "      <td>0</td>\n",
       "      <td>0</td>\n",
       "      <td>0</td>\n",
       "      <td>1</td>\n",
       "      <td>1</td>\n",
       "      <td>1</td>\n",
       "      <td>424.5</td>\n",
       "      <td>184.1</td>\n",
       "      <td>10.14</td>\n",
       "      <td>30</td>\n",
       "      <td>1040</td>\n",
       "      <td>18</td>\n",
       "    </tr>\n",
       "    <tr>\n",
       "      <th>4</th>\n",
       "      <td>0</td>\n",
       "      <td>0</td>\n",
       "      <td>0</td>\n",
       "      <td>0</td>\n",
       "      <td>0</td>\n",
       "      <td>0</td>\n",
       "      <td>0</td>\n",
       "      <td>1</td>\n",
       "      <td>1</td>\n",
       "      <td>1</td>\n",
       "      <td>424.5</td>\n",
       "      <td>184.1</td>\n",
       "      <td>10.14</td>\n",
       "      <td>30</td>\n",
       "      <td>1040</td>\n",
       "      <td>10</td>\n",
       "    </tr>\n",
       "  </tbody>\n",
       "</table>\n",
       "</div>"
      ],
      "text/plain": [
       "   PermanentIncomeSupport_3  Scholarship_1  Scholarship_2  Gender_M  \\\n",
       "0                         0              0              0         0   \n",
       "1                         0              0              1         0   \n",
       "2                         0              0              0         1   \n",
       "3                         0              0              0         0   \n",
       "4                         0              0              0         0   \n",
       "\n",
       "   AcYear_11  AcYear_12  N_NoApprovals  N_Enrollments  Computer  \\\n",
       "0          1          0              0              1         1   \n",
       "1          1          0              2              1         0   \n",
       "2          0          0              1              1         1   \n",
       "3          0          0              0              1         1   \n",
       "4          0          0              0              1         1   \n",
       "\n",
       "   InternetAccess  UrbanIndex  AgingIndex  UnemploymentIndex  ClassSize  \\\n",
       "0               1       138.4       146.2               9.73         23   \n",
       "1               0      5090.4       189.3              11.76         25   \n",
       "2               1       424.5       184.1              10.14         30   \n",
       "3               1       424.5       184.1              10.14         30   \n",
       "4               1       424.5       184.1              10.14         30   \n",
       "\n",
       "   SchoolSize  FinalMark  \n",
       "0         193         10  \n",
       "1         519         10  \n",
       "2        1040         16  \n",
       "3        1040         18  \n",
       "4        1040         10  "
      ]
     },
     "execution_count": 3,
     "metadata": {},
     "output_type": "execute_result"
    }
   ],
   "source": [
    "df.head()"
   ]
  },
  {
   "cell_type": "code",
   "execution_count": 4,
   "metadata": {},
   "outputs": [
    {
     "data": {
      "text/plain": [
       "(54885, 16)"
      ]
     },
     "execution_count": 4,
     "metadata": {},
     "output_type": "execute_result"
    }
   ],
   "source": [
    "df.shape"
   ]
  },
  {
   "cell_type": "code",
   "execution_count": 5,
   "metadata": {},
   "outputs": [],
   "source": [
    "from sklearn.model_selection import train_test_split\n",
    "from sklearn.preprocessing import StandardScaler"
   ]
  },
  {
   "cell_type": "code",
   "execution_count": 6,
   "metadata": {},
   "outputs": [],
   "source": [
    "l=len(df.columns)-1\n",
    "X = df.iloc[:, :l]\n",
    "X.columns\n",
    "y = df.iloc[:, -1]\n",
    "# X = X.to_numpy()\n",
    "y = y.to_numpy()\n",
    "y=y.reshape(-1,1)"
   ]
  },
  {
   "cell_type": "code",
   "execution_count": 7,
   "metadata": {},
   "outputs": [],
   "source": [
    "X_train, X_test, y_train, y_test = train_test_split(X, y, test_size=0.30, random_state=22)"
   ]
  },
  {
   "cell_type": "code",
   "execution_count": 8,
   "metadata": {},
   "outputs": [],
   "source": [
    "sc = StandardScaler()\n",
    "\n",
    "X_std = sc.fit(X_train)\n",
    "# y_std = sc.fit(y_train.reshape(-1,1))\n",
    "\n",
    "X_train_std = X_std.transform(X_train)\n",
    "# y_train_std = y_std.transform(y_train.reshape(-1, 1))\n",
    "\n",
    "X_test_std = X_std.transform(X_test)\n",
    "# y_test_std = y_std.transform(y_test.reshape(-1, 1))"
   ]
  },
  {
   "cell_type": "code",
   "execution_count": 9,
   "metadata": {},
   "outputs": [],
   "source": [
    "from sklearn.model_selection import cross_val_score\n",
    "from sklearn import metrics\n",
    "from sklearn.linear_model import LinearRegression\n",
    "import statsmodels.api as sm"
   ]
  },
  {
   "cell_type": "code",
   "execution_count": 10,
   "metadata": {},
   "outputs": [
    {
     "name": "stderr",
     "output_type": "stream",
     "text": [
      "C:\\Users\\rmendes\\AppData\\Local\\Continuum\\anaconda3\\lib\\site-packages\\numpy\\core\\fromnumeric.py:2389: FutureWarning: Method .ptp is deprecated and will be removed in a future version. Use numpy.ptp instead.\n",
      "  return ptp(axis=axis, out=out, **kwargs)\n"
     ]
    }
   ],
   "source": [
    "X_constant = sm.add_constant(X)\n",
    "X_train_constant = sm.add_constant(X_train)\n",
    "X_test_constant = sm.add_constant(X_test)"
   ]
  },
  {
   "cell_type": "code",
   "execution_count": 11,
   "metadata": {},
   "outputs": [],
   "source": [
    "# pd.DataFrame(X_constant)"
   ]
  },
  {
   "cell_type": "code",
   "execution_count": 12,
   "metadata": {},
   "outputs": [],
   "source": [
    "OLS_rgr = LinearRegression(fit_intercept=True, normalize=False, copy_X=True, n_jobs=None)"
   ]
  },
  {
   "cell_type": "code",
   "execution_count": 13,
   "metadata": {},
   "outputs": [
    {
     "data": {
      "text/plain": [
       "LinearRegression(copy_X=True, fit_intercept=True, n_jobs=None, normalize=False)"
      ]
     },
     "execution_count": 13,
     "metadata": {},
     "output_type": "execute_result"
    }
   ],
   "source": [
    "OLS_rgr.fit(X_train, y_train)\n"
   ]
  },
  {
   "cell_type": "code",
   "execution_count": 14,
   "metadata": {},
   "outputs": [
    {
     "data": {
      "text/plain": [
       "0.12883321563905348"
      ]
     },
     "execution_count": 14,
     "metadata": {},
     "output_type": "execute_result"
    }
   ],
   "source": [
    "OLS_rgr.score(X_train, y_train)"
   ]
  },
  {
   "cell_type": "code",
   "execution_count": 15,
   "metadata": {},
   "outputs": [
    {
     "data": {
      "text/plain": [
       "array([[-4.45997417e-01, -8.08511243e-01, -9.25442147e-01,\n",
       "         1.28157426e-01,  9.43925030e-01,  2.62586213e+00,\n",
       "        -1.21006720e+00, -6.70989494e-01, -1.83835078e-01,\n",
       "         3.34978275e-01, -4.99978879e-05,  2.40235981e-03,\n",
       "         4.58491871e-02,  1.64334840e-02,  4.76314572e-04]])"
      ]
     },
     "execution_count": 15,
     "metadata": {},
     "output_type": "execute_result"
    }
   ],
   "source": [
    "OLS_rgr.coef_"
   ]
  },
  {
   "cell_type": "code",
   "execution_count": 16,
   "metadata": {},
   "outputs": [
    {
     "data": {
      "text/plain": [
       "array([13.07766539])"
      ]
     },
     "execution_count": 16,
     "metadata": {},
     "output_type": "execute_result"
    }
   ],
   "source": [
    "OLS_rgr.intercept_"
   ]
  },
  {
   "cell_type": "code",
   "execution_count": 17,
   "metadata": {},
   "outputs": [
    {
     "data": {
      "text/plain": [
       "array([0.13384135, 0.11850459, 0.13306138, 0.12865427, 0.12474634])"
      ]
     },
     "execution_count": 17,
     "metadata": {},
     "output_type": "execute_result"
    }
   ],
   "source": [
    "scores = cross_val_score(OLS_rgr, X_train, y_train, cv=5, scoring='r2')\n",
    "scores #R^2"
   ]
  },
  {
   "cell_type": "code",
   "execution_count": 18,
   "metadata": {},
   "outputs": [
    {
     "name": "stdout",
     "output_type": "stream",
     "text": [
      "R2: 0.13 (+/- 0.01)\n"
     ]
    }
   ],
   "source": [
    "print(\"R2: %0.2f (+/- %0.2f)\" % (scores.mean(), scores.std() * 2))"
   ]
  },
  {
   "cell_type": "code",
   "execution_count": 19,
   "metadata": {},
   "outputs": [],
   "source": [
    "r2_OLS_rgr_cv = scores.mean()\n",
    "std_OLS_rgr_cv = scores.std() "
   ]
  },
  {
   "cell_type": "code",
   "execution_count": 20,
   "metadata": {},
   "outputs": [],
   "source": [
    "y_train_pred=OLS_rgr.predict(X_train)\n",
    "y_test_pred=OLS_rgr.predict(X_test)"
   ]
  },
  {
   "cell_type": "code",
   "execution_count": 21,
   "metadata": {},
   "outputs": [],
   "source": [
    "mse_OLS_rgr_train = metrics.mean_squared_error(y_train, y_train_pred) \n",
    "mse_OLS_rgr_test = metrics.mean_squared_error(y_test, y_test_pred)\n",
    "\n",
    "r2_OLS_rgr_train = metrics.r2_score(y_train, y_train_pred)\n",
    "r2_OLS_rgr_test = metrics.r2_score(y_test, y_test_pred)"
   ]
  },
  {
   "cell_type": "code",
   "execution_count": 22,
   "metadata": {},
   "outputs": [],
   "source": [
    "columns = ['R2_cv','std_cv','MSE_train','MSE_test', 'R2_train', 'R2_test']"
   ]
  },
  {
   "cell_type": "code",
   "execution_count": 23,
   "metadata": {},
   "outputs": [],
   "source": [
    "df_results= pd.DataFrame(columns=columns)"
   ]
  },
  {
   "cell_type": "code",
   "execution_count": 24,
   "metadata": {},
   "outputs": [],
   "source": [
    "new_results_dic = {'R2_cv': r2_OLS_rgr_cv ,'std_cv': std_OLS_rgr_cv,'MSE_train': mse_OLS_rgr_train,\n",
    "                   'MSE_test': mse_OLS_rgr_test, 'R2_train': r2_OLS_rgr_train, 'R2_test': r2_OLS_rgr_test}\n",
    "df_results.loc[len(df_results)] = new_results_dic\n"
   ]
  },
  {
   "cell_type": "code",
   "execution_count": 25,
   "metadata": {},
   "outputs": [
    {
     "data": {
      "text/html": [
       "<div>\n",
       "<style scoped>\n",
       "    .dataframe tbody tr th:only-of-type {\n",
       "        vertical-align: middle;\n",
       "    }\n",
       "\n",
       "    .dataframe tbody tr th {\n",
       "        vertical-align: top;\n",
       "    }\n",
       "\n",
       "    .dataframe thead th {\n",
       "        text-align: right;\n",
       "    }\n",
       "</style>\n",
       "<table border=\"1\" class=\"dataframe\">\n",
       "  <thead>\n",
       "    <tr style=\"text-align: right;\">\n",
       "      <th></th>\n",
       "      <th>R2_cv</th>\n",
       "      <th>std_cv</th>\n",
       "      <th>MSE_train</th>\n",
       "      <th>MSE_test</th>\n",
       "      <th>R2_train</th>\n",
       "      <th>R2_test</th>\n",
       "    </tr>\n",
       "  </thead>\n",
       "  <tbody>\n",
       "    <tr>\n",
       "      <th>OLS</th>\n",
       "      <td>0.127762</td>\n",
       "      <td>0.005668</td>\n",
       "      <td>8.198322</td>\n",
       "      <td>8.31364</td>\n",
       "      <td>0.128833</td>\n",
       "      <td>0.132835</td>\n",
       "    </tr>\n",
       "  </tbody>\n",
       "</table>\n",
       "</div>"
      ],
      "text/plain": [
       "        R2_cv    std_cv  MSE_train  MSE_test  R2_train   R2_test\n",
       "OLS  0.127762  0.005668   8.198322   8.31364  0.128833  0.132835"
      ]
     },
     "execution_count": 25,
     "metadata": {},
     "output_type": "execute_result"
    }
   ],
   "source": [
    "indexNamesArr = df_results.index.values\n",
    "i = indexNamesArr[-1]\n",
    "df_results.rename(index={i:'OLS'}, inplace=True)\n",
    "df_results.head()\n"
   ]
  },
  {
   "cell_type": "code",
   "execution_count": 26,
   "metadata": {},
   "outputs": [
    {
     "name": "stdout",
     "output_type": "stream",
     "text": [
      "R2: 0.13\n"
     ]
    }
   ],
   "source": [
    "print(\"R2: %0.2f\" % (r2_OLS_rgr_test))"
   ]
  },
  {
   "cell_type": "code",
   "execution_count": 27,
   "metadata": {},
   "outputs": [],
   "source": [
    "df_y_train = pd.DataFrame()\n",
    "df_y_test = pd.DataFrame()"
   ]
  },
  {
   "cell_type": "code",
   "execution_count": 28,
   "metadata": {},
   "outputs": [
    {
     "data": {
      "text/plain": [
       "(38419, 1)"
      ]
     },
     "execution_count": 28,
     "metadata": {},
     "output_type": "execute_result"
    }
   ],
   "source": [
    "df_y_train.loc[:,'OLS'] = pd.Series(y_train_pred.ravel())\n",
    "df_y_train.shape"
   ]
  },
  {
   "cell_type": "code",
   "execution_count": 29,
   "metadata": {},
   "outputs": [
    {
     "data": {
      "text/plain": [
       "(16466, 1)"
      ]
     },
     "execution_count": 29,
     "metadata": {},
     "output_type": "execute_result"
    }
   ],
   "source": [
    "df_y_test.loc[:,'OLS'] = pd.Series(y_test_pred.ravel())\n",
    "df_y_test.shape"
   ]
  },
  {
   "cell_type": "code",
   "execution_count": 30,
   "metadata": {},
   "outputs": [
    {
     "data": {
      "text/html": [
       "<div>\n",
       "<style scoped>\n",
       "    .dataframe tbody tr th:only-of-type {\n",
       "        vertical-align: middle;\n",
       "    }\n",
       "\n",
       "    .dataframe tbody tr th {\n",
       "        vertical-align: top;\n",
       "    }\n",
       "\n",
       "    .dataframe thead th {\n",
       "        text-align: right;\n",
       "    }\n",
       "</style>\n",
       "<table border=\"1\" class=\"dataframe\">\n",
       "  <thead>\n",
       "    <tr style=\"text-align: right;\">\n",
       "      <th></th>\n",
       "      <th>OLS</th>\n",
       "    </tr>\n",
       "  </thead>\n",
       "  <tbody>\n",
       "    <tr>\n",
       "      <th>0</th>\n",
       "      <td>16.780056</td>\n",
       "    </tr>\n",
       "    <tr>\n",
       "      <th>1</th>\n",
       "      <td>12.679535</td>\n",
       "    </tr>\n",
       "    <tr>\n",
       "      <th>2</th>\n",
       "      <td>15.029712</td>\n",
       "    </tr>\n",
       "    <tr>\n",
       "      <th>3</th>\n",
       "      <td>15.330722</td>\n",
       "    </tr>\n",
       "    <tr>\n",
       "      <th>4</th>\n",
       "      <td>11.662264</td>\n",
       "    </tr>\n",
       "  </tbody>\n",
       "</table>\n",
       "</div>"
      ],
      "text/plain": [
       "         OLS\n",
       "0  16.780056\n",
       "1  12.679535\n",
       "2  15.029712\n",
       "3  15.330722\n",
       "4  11.662264"
      ]
     },
     "execution_count": 30,
     "metadata": {},
     "output_type": "execute_result"
    }
   ],
   "source": [
    "df_y_train.head()"
   ]
  },
  {
   "cell_type": "code",
   "execution_count": 31,
   "metadata": {},
   "outputs": [
    {
     "data": {
      "text/html": [
       "<div>\n",
       "<style scoped>\n",
       "    .dataframe tbody tr th:only-of-type {\n",
       "        vertical-align: middle;\n",
       "    }\n",
       "\n",
       "    .dataframe tbody tr th {\n",
       "        vertical-align: top;\n",
       "    }\n",
       "\n",
       "    .dataframe thead th {\n",
       "        text-align: right;\n",
       "    }\n",
       "</style>\n",
       "<table border=\"1\" class=\"dataframe\">\n",
       "  <thead>\n",
       "    <tr style=\"text-align: right;\">\n",
       "      <th></th>\n",
       "      <th>OLS</th>\n",
       "    </tr>\n",
       "  </thead>\n",
       "  <tbody>\n",
       "    <tr>\n",
       "      <th>0</th>\n",
       "      <td>15.275436</td>\n",
       "    </tr>\n",
       "    <tr>\n",
       "      <th>1</th>\n",
       "      <td>14.169345</td>\n",
       "    </tr>\n",
       "    <tr>\n",
       "      <th>2</th>\n",
       "      <td>15.504234</td>\n",
       "    </tr>\n",
       "    <tr>\n",
       "      <th>3</th>\n",
       "      <td>15.085562</td>\n",
       "    </tr>\n",
       "    <tr>\n",
       "      <th>4</th>\n",
       "      <td>15.499572</td>\n",
       "    </tr>\n",
       "  </tbody>\n",
       "</table>\n",
       "</div>"
      ],
      "text/plain": [
       "         OLS\n",
       "0  15.275436\n",
       "1  14.169345\n",
       "2  15.504234\n",
       "3  15.085562\n",
       "4  15.499572"
      ]
     },
     "execution_count": 31,
     "metadata": {},
     "output_type": "execute_result"
    }
   ],
   "source": [
    "df_y_test.head()"
   ]
  },
  {
   "cell_type": "code",
   "execution_count": 32,
   "metadata": {},
   "outputs": [
    {
     "data": {
      "text/html": [
       "<table class=\"simpletable\">\n",
       "<caption>OLS Regression Results</caption>\n",
       "<tr>\n",
       "  <th>Dep. Variable:</th>            <td>y</td>        <th>  R-squared:         </th> <td>   0.129</td> \n",
       "</tr>\n",
       "<tr>\n",
       "  <th>Model:</th>                   <td>OLS</td>       <th>  Adj. R-squared:    </th> <td>   0.128</td> \n",
       "</tr>\n",
       "<tr>\n",
       "  <th>Method:</th>             <td>Least Squares</td>  <th>  F-statistic:       </th> <td>   378.6</td> \n",
       "</tr>\n",
       "<tr>\n",
       "  <th>Date:</th>             <td>Tue, 13 Aug 2019</td> <th>  Prob (F-statistic):</th>  <td>  0.00</td>  \n",
       "</tr>\n",
       "<tr>\n",
       "  <th>Time:</th>                 <td>11:11:50</td>     <th>  Log-Likelihood:    </th> <td> -94930.</td> \n",
       "</tr>\n",
       "<tr>\n",
       "  <th>No. Observations:</th>      <td> 38419</td>      <th>  AIC:               </th> <td>1.899e+05</td>\n",
       "</tr>\n",
       "<tr>\n",
       "  <th>Df Residuals:</th>          <td> 38403</td>      <th>  BIC:               </th> <td>1.900e+05</td>\n",
       "</tr>\n",
       "<tr>\n",
       "  <th>Df Model:</th>              <td>    15</td>      <th>                     </th>     <td> </td>    \n",
       "</tr>\n",
       "<tr>\n",
       "  <th>Covariance Type:</th>      <td>nonrobust</td>    <th>                     </th>     <td> </td>    \n",
       "</tr>\n",
       "</table>\n",
       "<table class=\"simpletable\">\n",
       "<tr>\n",
       "              <td></td>                <th>coef</th>     <th>std err</th>      <th>t</th>      <th>P>|t|</th>  <th>[0.025</th>    <th>0.975]</th>  \n",
       "</tr>\n",
       "<tr>\n",
       "  <th>const</th>                    <td>   13.0777</td> <td>    0.165</td> <td>   79.195</td> <td> 0.000</td> <td>   12.754</td> <td>   13.401</td>\n",
       "</tr>\n",
       "<tr>\n",
       "  <th>PermanentIncomeSupport_3</th> <td>   -0.4460</td> <td>    0.140</td> <td>   -3.194</td> <td> 0.001</td> <td>   -0.720</td> <td>   -0.172</td>\n",
       "</tr>\n",
       "<tr>\n",
       "  <th>Scholarship_1</th>            <td>   -0.8085</td> <td>    0.043</td> <td>  -18.925</td> <td> 0.000</td> <td>   -0.892</td> <td>   -0.725</td>\n",
       "</tr>\n",
       "<tr>\n",
       "  <th>Scholarship_2</th>            <td>   -0.9254</td> <td>    0.044</td> <td>  -20.969</td> <td> 0.000</td> <td>   -1.012</td> <td>   -0.839</td>\n",
       "</tr>\n",
       "<tr>\n",
       "  <th>Gender_M</th>                 <td>    0.1282</td> <td>    0.029</td> <td>    4.348</td> <td> 0.000</td> <td>    0.070</td> <td>    0.186</td>\n",
       "</tr>\n",
       "<tr>\n",
       "  <th>AcYear_11</th>                <td>    0.9439</td> <td>    0.038</td> <td>   25.171</td> <td> 0.000</td> <td>    0.870</td> <td>    1.017</td>\n",
       "</tr>\n",
       "<tr>\n",
       "  <th>AcYear_12</th>                <td>    2.6259</td> <td>    0.062</td> <td>   42.033</td> <td> 0.000</td> <td>    2.503</td> <td>    2.748</td>\n",
       "</tr>\n",
       "<tr>\n",
       "  <th>N_NoApprovals</th>            <td>   -1.2101</td> <td>    0.027</td> <td>  -45.431</td> <td> 0.000</td> <td>   -1.262</td> <td>   -1.158</td>\n",
       "</tr>\n",
       "<tr>\n",
       "  <th>N_Enrollments</th>            <td>   -0.6710</td> <td>    0.059</td> <td>  -11.404</td> <td> 0.000</td> <td>   -0.786</td> <td>   -0.556</td>\n",
       "</tr>\n",
       "<tr>\n",
       "  <th>Computer</th>                 <td>   -0.1838</td> <td>    0.094</td> <td>   -1.961</td> <td> 0.050</td> <td>   -0.368</td> <td>-7.34e-05</td>\n",
       "</tr>\n",
       "<tr>\n",
       "  <th>InternetAccess</th>           <td>    0.3350</td> <td>    0.091</td> <td>    3.679</td> <td> 0.000</td> <td>    0.157</td> <td>    0.513</td>\n",
       "</tr>\n",
       "<tr>\n",
       "  <th>UrbanIndex</th>               <td>    -5e-05</td> <td>  9.3e-06</td> <td>   -5.377</td> <td> 0.000</td> <td>-6.82e-05</td> <td>-3.18e-05</td>\n",
       "</tr>\n",
       "<tr>\n",
       "  <th>AgingIndex</th>               <td>    0.0024</td> <td>    0.000</td> <td>    8.053</td> <td> 0.000</td> <td>    0.002</td> <td>    0.003</td>\n",
       "</tr>\n",
       "<tr>\n",
       "  <th>UnemploymentIndex</th>        <td>    0.0458</td> <td>    0.006</td> <td>    7.301</td> <td> 0.000</td> <td>    0.034</td> <td>    0.058</td>\n",
       "</tr>\n",
       "<tr>\n",
       "  <th>ClassSize</th>                <td>    0.0164</td> <td>    0.003</td> <td>    4.916</td> <td> 0.000</td> <td>    0.010</td> <td>    0.023</td>\n",
       "</tr>\n",
       "<tr>\n",
       "  <th>SchoolSize</th>               <td>    0.0005</td> <td> 4.48e-05</td> <td>   10.641</td> <td> 0.000</td> <td>    0.000</td> <td>    0.001</td>\n",
       "</tr>\n",
       "</table>\n",
       "<table class=\"simpletable\">\n",
       "<tr>\n",
       "  <th>Omnibus:</th>       <td>1013.197</td> <th>  Durbin-Watson:     </th> <td>   2.007</td> \n",
       "</tr>\n",
       "<tr>\n",
       "  <th>Prob(Omnibus):</th>  <td> 0.000</td>  <th>  Jarque-Bera (JB):  </th> <td> 615.579</td> \n",
       "</tr>\n",
       "<tr>\n",
       "  <th>Skew:</th>           <td>-0.166</td>  <th>  Prob(JB):          </th> <td>2.13e-134</td>\n",
       "</tr>\n",
       "<tr>\n",
       "  <th>Kurtosis:</th>       <td> 2.476</td>  <th>  Cond. No.          </th> <td>2.42e+04</td> \n",
       "</tr>\n",
       "</table><br/><br/>Warnings:<br/>[1] Standard Errors assume that the covariance matrix of the errors is correctly specified.<br/>[2] The condition number is large, 2.42e+04. This might indicate that there are<br/>strong multicollinearity or other numerical problems."
      ],
      "text/plain": [
       "<class 'statsmodels.iolib.summary.Summary'>\n",
       "\"\"\"\n",
       "                            OLS Regression Results                            \n",
       "==============================================================================\n",
       "Dep. Variable:                      y   R-squared:                       0.129\n",
       "Model:                            OLS   Adj. R-squared:                  0.128\n",
       "Method:                 Least Squares   F-statistic:                     378.6\n",
       "Date:                Tue, 13 Aug 2019   Prob (F-statistic):               0.00\n",
       "Time:                        11:11:50   Log-Likelihood:                -94930.\n",
       "No. Observations:               38419   AIC:                         1.899e+05\n",
       "Df Residuals:                   38403   BIC:                         1.900e+05\n",
       "Df Model:                          15                                         \n",
       "Covariance Type:            nonrobust                                         \n",
       "============================================================================================\n",
       "                               coef    std err          t      P>|t|      [0.025      0.975]\n",
       "--------------------------------------------------------------------------------------------\n",
       "const                       13.0777      0.165     79.195      0.000      12.754      13.401\n",
       "PermanentIncomeSupport_3    -0.4460      0.140     -3.194      0.001      -0.720      -0.172\n",
       "Scholarship_1               -0.8085      0.043    -18.925      0.000      -0.892      -0.725\n",
       "Scholarship_2               -0.9254      0.044    -20.969      0.000      -1.012      -0.839\n",
       "Gender_M                     0.1282      0.029      4.348      0.000       0.070       0.186\n",
       "AcYear_11                    0.9439      0.038     25.171      0.000       0.870       1.017\n",
       "AcYear_12                    2.6259      0.062     42.033      0.000       2.503       2.748\n",
       "N_NoApprovals               -1.2101      0.027    -45.431      0.000      -1.262      -1.158\n",
       "N_Enrollments               -0.6710      0.059    -11.404      0.000      -0.786      -0.556\n",
       "Computer                    -0.1838      0.094     -1.961      0.050      -0.368   -7.34e-05\n",
       "InternetAccess               0.3350      0.091      3.679      0.000       0.157       0.513\n",
       "UrbanIndex                   -5e-05    9.3e-06     -5.377      0.000   -6.82e-05   -3.18e-05\n",
       "AgingIndex                   0.0024      0.000      8.053      0.000       0.002       0.003\n",
       "UnemploymentIndex            0.0458      0.006      7.301      0.000       0.034       0.058\n",
       "ClassSize                    0.0164      0.003      4.916      0.000       0.010       0.023\n",
       "SchoolSize                   0.0005   4.48e-05     10.641      0.000       0.000       0.001\n",
       "==============================================================================\n",
       "Omnibus:                     1013.197   Durbin-Watson:                   2.007\n",
       "Prob(Omnibus):                  0.000   Jarque-Bera (JB):              615.579\n",
       "Skew:                          -0.166   Prob(JB):                    2.13e-134\n",
       "Kurtosis:                       2.476   Cond. No.                     2.42e+04\n",
       "==============================================================================\n",
       "\n",
       "Warnings:\n",
       "[1] Standard Errors assume that the covariance matrix of the errors is correctly specified.\n",
       "[2] The condition number is large, 2.42e+04. This might indicate that there are\n",
       "strong multicollinearity or other numerical problems.\n",
       "\"\"\""
      ]
     },
     "execution_count": 32,
     "metadata": {},
     "output_type": "execute_result"
    }
   ],
   "source": [
    "OLS_model = sm.OLS(y_train, X_train_constant)\n",
    "lr = OLS_model.fit()\n",
    "lr.summary()"
   ]
  },
  {
   "cell_type": "markdown",
   "metadata": {},
   "source": [
    "## Random Forest"
   ]
  },
  {
   "cell_type": "code",
   "execution_count": 33,
   "metadata": {},
   "outputs": [],
   "source": [
    "from sklearn.ensemble import RandomForestRegressor\n",
    "from sklearn.model_selection import GridSearchCV\n",
    "from sklearn.metrics import mean_squared_error, r2_score"
   ]
  },
  {
   "cell_type": "raw",
   "metadata": {},
   "source": [
    "rf_rgr = RandomForestRegressor(n_estimators = 10, criterion=\"mse\", min_samples_leaf=0.001,\n",
    "                               min_samples_split=0.001 , random_state=42)"
   ]
  },
  {
   "cell_type": "raw",
   "metadata": {},
   "source": [
    "params_rf = {\"n_estimators\": [10, 20, 50, 100, 150, 200], # number of trees in the forest\n",
    "             \"min_samples_leaf\": [0.001,0.002,0.003,0.004,0.005,0.006,0.007,0.008,0.009,0.01], # minimum number of samples\n",
    "              #required to be at a leaf \n",
    "              \"min_samples_split\": [0.001,0.002,0.003,0.004,0.005,0.006,0.007,0.008,0.009,0.01, # The minimum number of samples\n",
    "              #required to split an internal node\n",
    "                0.011,0.012, 0.013,0.014, 0.015, 0.016, 0.017, 0.018, 0.019, 0.02],\n",
    "                \"bootstrap\": [True, False]} #bootstrap samples are used when building trees"
   ]
  },
  {
   "cell_type": "raw",
   "metadata": {},
   "source": [
    "rf_grid = GridSearchCV(rf_rgr, params_rf,\n",
    "                           n_jobs=-1, cv=5,\n",
    "                           verbose=1)"
   ]
  },
  {
   "cell_type": "raw",
   "metadata": {},
   "source": [
    "rf_grid.fit(X_train_std, y_train)\n",
    "rf_grid.best_score_\n",
    "Out: 0.16143538998252474\n",
    "Verbose: Fitting 5 folds for each of 2400 candidates, totalling 12000 fits\n",
    "[Parallel(n_jobs=-1)]: Done 12000 out of 12000 | elapsed: 194.5min finished"
   ]
  },
  {
   "cell_type": "raw",
   "metadata": {},
   "source": [
    "rf_grid.best_estimator_.get_params()\n",
    "Out:{'bootstrap': True,\n",
    " 'criterion': 'mse',\n",
    " 'max_depth': None,\n",
    " 'max_features': 'auto',\n",
    " 'max_leaf_nodes': None,\n",
    " 'min_impurity_decrease': 0.0,\n",
    " 'min_impurity_split': None,\n",
    " 'min_samples_leaf': 0.001,\n",
    " 'min_samples_split': 0.001,\n",
    " 'min_weight_fraction_leaf': 0.0,\n",
    " 'n_estimators': 200,\n",
    " 'n_jobs': None,\n",
    " 'oob_score': False,\n",
    " 'random_state': 42,\n",
    " 'verbose': 0,\n",
    " 'warm_start': False}"
   ]
  },
  {
   "cell_type": "raw",
   "metadata": {},
   "source": [
    "y_train_pred = rf_grid.predict(X_train_std)\n",
    "y_test_pred = rf_grid.predict(X_test_std)\n",
    "print(\"MSE train: {0:.4f}, test: {1:.4f}\".\\\n",
    "       format(mean_squared_error(y_train, y_train_pred), \n",
    "            mean_squared_error(y_test, y_test_pred)))\n",
    "\n",
    "print(\"R^2 train: {0:.4f}, test: {1:.4f}\".\\\n",
    "      format(r2_score(y_train, y_train_pred),\n",
    "             r2_score(y_test, y_test_pred)))      "
   ]
  },
  {
   "cell_type": "code",
   "execution_count": 34,
   "metadata": {},
   "outputs": [
    {
     "name": "stderr",
     "output_type": "stream",
     "text": [
      "C:\\Users\\rmendes\\AppData\\Local\\Continuum\\anaconda3\\lib\\site-packages\\ipykernel_launcher.py:18: DataConversionWarning: A column-vector y was passed when a 1d array was expected. Please change the shape of y to (n_samples,), for example using ravel().\n"
     ]
    },
    {
     "data": {
      "text/plain": [
       "RandomForestRegressor(bootstrap=True, criterion='mse', max_depth=None,\n",
       "                      max_features='auto', max_leaf_nodes=None,\n",
       "                      min_impurity_decrease=0.0, min_impurity_split=None,\n",
       "                      min_samples_leaf=0.001, min_samples_split=0.001,\n",
       "                      min_weight_fraction_leaf=0.0, n_estimators=200,\n",
       "                      n_jobs=None, oob_score=False, random_state=42, verbose=0,\n",
       "                      warm_start=False)"
      ]
     },
     "execution_count": 34,
     "metadata": {},
     "output_type": "execute_result"
    }
   ],
   "source": [
    "rf_rgr = RandomForestRegressor(bootstrap = True, #Best estimator\n",
    " criterion = 'mse',\n",
    " max_depth = None,\n",
    " max_features = 'auto',\n",
    " max_leaf_nodes = None,\n",
    " min_impurity_decrease = 0.0,\n",
    " min_impurity_split = None,\n",
    " min_samples_leaf = 0.001,\n",
    " min_samples_split = 0.001,\n",
    " min_weight_fraction_leaf = 0.0,\n",
    " n_estimators = 200,\n",
    " n_jobs = None,\n",
    " oob_score = False,\n",
    " random_state = 42,\n",
    " verbose = 0,\n",
    " warm_start = False)\n",
    "\n",
    "rf_rgr.fit(X_train_std, y_train)"
   ]
  },
  {
   "cell_type": "code",
   "execution_count": 35,
   "metadata": {},
   "outputs": [],
   "source": [
    "y_train_pred = rf_rgr.predict(X_train_std)\n",
    "y_test_pred = rf_rgr.predict(X_test_std)\n",
    "\n",
    "scores = cross_val_score(rf_rgr, X_train_std, y_train.ravel(), cv=5, scoring='r2')\n",
    " \n",
    "r2_rf_rgr_cv = scores.mean()\n",
    "std_rf_rgr_cv = scores.std() \n",
    "\n",
    "mse_rf_rgr_train = metrics.mean_squared_error(y_train.ravel(), y_train_pred.ravel()) \n",
    "mse_rf_rgr_test = metrics.mean_squared_error(y_test.ravel(), y_test_pred.ravel())\n",
    "\n",
    "r2_rf_rgr_train = metrics.r2_score(y_train.ravel(), y_train_pred.ravel())\n",
    "r2_rf_rgr_test = metrics.r2_score(y_test.ravel(), y_test_pred.ravel())\n"
   ]
  },
  {
   "cell_type": "code",
   "execution_count": 36,
   "metadata": {},
   "outputs": [
    {
     "name": "stdout",
     "output_type": "stream",
     "text": [
      "MSE train: 7.2905, test: 7.9404\n",
      "R^2 train: 0.2253, test: 0.1718\n"
     ]
    }
   ],
   "source": [
    "print(\"MSE train: {0:.4f}, test: {1:.4f}\".\\\n",
    "     format(mean_squared_error(y_train, y_train_pred), \n",
    "            mean_squared_error(y_test, y_test_pred)))\n",
    "\n",
    "print(\"R^2 train: {0:.4f}, test: {1:.4f}\".\\\n",
    "      format(r2_score(y_train, y_train_pred),\n",
    "             r2_score(y_test, y_test_pred)))      "
   ]
  },
  {
   "cell_type": "code",
   "execution_count": 37,
   "metadata": {},
   "outputs": [],
   "source": [
    "new_results_dic = {'R2_cv': r2_rf_rgr_cv ,'std_cv': std_rf_rgr_cv,'MSE_train': mse_rf_rgr_train,\n",
    "                   'MSE_test': mse_rf_rgr_test, 'R2_train': r2_rf_rgr_train, 'R2_test': r2_rf_rgr_test}\n",
    "df_results.loc[len(df_results)] = new_results_dic"
   ]
  },
  {
   "cell_type": "code",
   "execution_count": 38,
   "metadata": {},
   "outputs": [
    {
     "data": {
      "text/html": [
       "<div>\n",
       "<style scoped>\n",
       "    .dataframe tbody tr th:only-of-type {\n",
       "        vertical-align: middle;\n",
       "    }\n",
       "\n",
       "    .dataframe tbody tr th {\n",
       "        vertical-align: top;\n",
       "    }\n",
       "\n",
       "    .dataframe thead th {\n",
       "        text-align: right;\n",
       "    }\n",
       "</style>\n",
       "<table border=\"1\" class=\"dataframe\">\n",
       "  <thead>\n",
       "    <tr style=\"text-align: right;\">\n",
       "      <th></th>\n",
       "      <th>R2_cv</th>\n",
       "      <th>std_cv</th>\n",
       "      <th>MSE_train</th>\n",
       "      <th>MSE_test</th>\n",
       "      <th>R2_train</th>\n",
       "      <th>R2_test</th>\n",
       "    </tr>\n",
       "  </thead>\n",
       "  <tbody>\n",
       "    <tr>\n",
       "      <th>OLS</th>\n",
       "      <td>0.127762</td>\n",
       "      <td>0.005668</td>\n",
       "      <td>8.198322</td>\n",
       "      <td>8.31364</td>\n",
       "      <td>0.128833</td>\n",
       "      <td>0.132835</td>\n",
       "    </tr>\n",
       "    <tr>\n",
       "      <th>RF</th>\n",
       "      <td>0.161435</td>\n",
       "      <td>0.004573</td>\n",
       "      <td>7.290466</td>\n",
       "      <td>7.94045</td>\n",
       "      <td>0.225304</td>\n",
       "      <td>0.171761</td>\n",
       "    </tr>\n",
       "  </tbody>\n",
       "</table>\n",
       "</div>"
      ],
      "text/plain": [
       "        R2_cv    std_cv  MSE_train  MSE_test  R2_train   R2_test\n",
       "OLS  0.127762  0.005668   8.198322   8.31364  0.128833  0.132835\n",
       "RF   0.161435  0.004573   7.290466   7.94045  0.225304  0.171761"
      ]
     },
     "execution_count": 38,
     "metadata": {},
     "output_type": "execute_result"
    }
   ],
   "source": [
    "indexNamesArr = df_results.index.values\n",
    "i = indexNamesArr[-1]\n",
    "df_results.rename(index={i:'RF'}, inplace=True)\n",
    "df_results.head()"
   ]
  },
  {
   "cell_type": "code",
   "execution_count": 39,
   "metadata": {},
   "outputs": [
    {
     "data": {
      "text/plain": [
       "(38419, 2)"
      ]
     },
     "execution_count": 39,
     "metadata": {},
     "output_type": "execute_result"
    }
   ],
   "source": [
    "df_y_train.loc[:,'RF'] = pd.Series(y_train_pred)\n",
    "df_y_train.shape"
   ]
  },
  {
   "cell_type": "code",
   "execution_count": 40,
   "metadata": {},
   "outputs": [
    {
     "data": {
      "text/plain": [
       "(16466, 2)"
      ]
     },
     "execution_count": 40,
     "metadata": {},
     "output_type": "execute_result"
    }
   ],
   "source": [
    "df_y_test.loc[:,'RF'] = pd.Series(y_test_pred)\n",
    "df_y_test.shape"
   ]
  },
  {
   "cell_type": "code",
   "execution_count": 41,
   "metadata": {},
   "outputs": [
    {
     "data": {
      "text/html": [
       "<div>\n",
       "<style scoped>\n",
       "    .dataframe tbody tr th:only-of-type {\n",
       "        vertical-align: middle;\n",
       "    }\n",
       "\n",
       "    .dataframe tbody tr th {\n",
       "        vertical-align: top;\n",
       "    }\n",
       "\n",
       "    .dataframe thead th {\n",
       "        text-align: right;\n",
       "    }\n",
       "</style>\n",
       "<table border=\"1\" class=\"dataframe\">\n",
       "  <thead>\n",
       "    <tr style=\"text-align: right;\">\n",
       "      <th></th>\n",
       "      <th>OLS</th>\n",
       "      <th>RF</th>\n",
       "    </tr>\n",
       "  </thead>\n",
       "  <tbody>\n",
       "    <tr>\n",
       "      <th>0</th>\n",
       "      <td>16.780056</td>\n",
       "      <td>15.790575</td>\n",
       "    </tr>\n",
       "    <tr>\n",
       "      <th>1</th>\n",
       "      <td>12.679535</td>\n",
       "      <td>12.509075</td>\n",
       "    </tr>\n",
       "    <tr>\n",
       "      <th>2</th>\n",
       "      <td>15.029712</td>\n",
       "      <td>15.122949</td>\n",
       "    </tr>\n",
       "    <tr>\n",
       "      <th>3</th>\n",
       "      <td>15.330722</td>\n",
       "      <td>15.242884</td>\n",
       "    </tr>\n",
       "    <tr>\n",
       "      <th>4</th>\n",
       "      <td>11.662264</td>\n",
       "      <td>12.411303</td>\n",
       "    </tr>\n",
       "  </tbody>\n",
       "</table>\n",
       "</div>"
      ],
      "text/plain": [
       "         OLS         RF\n",
       "0  16.780056  15.790575\n",
       "1  12.679535  12.509075\n",
       "2  15.029712  15.122949\n",
       "3  15.330722  15.242884\n",
       "4  11.662264  12.411303"
      ]
     },
     "execution_count": 41,
     "metadata": {},
     "output_type": "execute_result"
    }
   ],
   "source": [
    "df_y_train.head()"
   ]
  },
  {
   "cell_type": "code",
   "execution_count": 42,
   "metadata": {},
   "outputs": [
    {
     "data": {
      "text/html": [
       "<div>\n",
       "<style scoped>\n",
       "    .dataframe tbody tr th:only-of-type {\n",
       "        vertical-align: middle;\n",
       "    }\n",
       "\n",
       "    .dataframe tbody tr th {\n",
       "        vertical-align: top;\n",
       "    }\n",
       "\n",
       "    .dataframe thead th {\n",
       "        text-align: right;\n",
       "    }\n",
       "</style>\n",
       "<table border=\"1\" class=\"dataframe\">\n",
       "  <thead>\n",
       "    <tr style=\"text-align: right;\">\n",
       "      <th></th>\n",
       "      <th>OLS</th>\n",
       "      <th>RF</th>\n",
       "    </tr>\n",
       "  </thead>\n",
       "  <tbody>\n",
       "    <tr>\n",
       "      <th>0</th>\n",
       "      <td>15.275436</td>\n",
       "      <td>14.721972</td>\n",
       "    </tr>\n",
       "    <tr>\n",
       "      <th>1</th>\n",
       "      <td>14.169345</td>\n",
       "      <td>13.581197</td>\n",
       "    </tr>\n",
       "    <tr>\n",
       "      <th>2</th>\n",
       "      <td>15.504234</td>\n",
       "      <td>14.160836</td>\n",
       "    </tr>\n",
       "    <tr>\n",
       "      <th>3</th>\n",
       "      <td>15.085562</td>\n",
       "      <td>15.651684</td>\n",
       "    </tr>\n",
       "    <tr>\n",
       "      <th>4</th>\n",
       "      <td>15.499572</td>\n",
       "      <td>15.502973</td>\n",
       "    </tr>\n",
       "  </tbody>\n",
       "</table>\n",
       "</div>"
      ],
      "text/plain": [
       "         OLS         RF\n",
       "0  15.275436  14.721972\n",
       "1  14.169345  13.581197\n",
       "2  15.504234  14.160836\n",
       "3  15.085562  15.651684\n",
       "4  15.499572  15.502973"
      ]
     },
     "execution_count": 42,
     "metadata": {},
     "output_type": "execute_result"
    }
   ],
   "source": [
    "df_y_test.head()"
   ]
  },
  {
   "cell_type": "code",
   "execution_count": 43,
   "metadata": {},
   "outputs": [
    {
     "data": {
      "image/png": "[encoded data removed]",
      "text/plain": [
       "<Figure size 864x432 with 1 Axes>"
      ]
     },
     "metadata": {
      "needs_background": "light"
     },
     "output_type": "display_data"
    }
   ],
   "source": [
    "pd.Series(rf_rgr.feature_importances_, \n",
    "         index=X_train.columns).sort_values(ascending=False).plot(kind='bar', figsize=(12,6));"
   ]
  },
  {
   "cell_type": "markdown",
   "metadata": {},
   "source": [
    "## Support Vector Machine"
   ]
  },
  {
   "cell_type": "code",
   "execution_count": 44,
   "metadata": {},
   "outputs": [],
   "source": [
    "from sklearn.svm import SVR\n",
    "from sklearn.ensemble import BaggingRegressor\n",
    "from sklearn.pipeline import Pipeline\n",
    "import math"
   ]
  },
  {
   "cell_type": "code",
   "execution_count": 45,
   "metadata": {},
   "outputs": [],
   "source": [
    "samples_limit=7500"
   ]
  },
  {
   "cell_type": "code",
   "execution_count": 46,
   "metadata": {},
   "outputs": [
    {
     "data": {
      "text/plain": [
       "6"
      ]
     },
     "execution_count": 46,
     "metadata": {},
     "output_type": "execute_result"
    }
   ],
   "source": [
    "n_estimators=math.ceil(len(X_train)/samples_limit)\n",
    "n_estimators"
   ]
  },
  {
   "cell_type": "code",
   "execution_count": 47,
   "metadata": {},
   "outputs": [
    {
     "data": {
      "text/plain": [
       "6403"
      ]
     },
     "execution_count": 47,
     "metadata": {},
     "output_type": "execute_result"
    }
   ],
   "source": [
    "max_samples= math.floor(len(X_train)/n_estimators)\n",
    "max_samples"
   ]
  },
  {
   "cell_type": "code",
   "execution_count": 48,
   "metadata": {},
   "outputs": [
    {
     "data": {
      "text/plain": [
       "1"
      ]
     },
     "execution_count": 48,
     "metadata": {},
     "output_type": "execute_result"
    }
   ],
   "source": [
    "len(X_train)-(n_estimators*max_samples)"
   ]
  },
  {
   "cell_type": "raw",
   "metadata": {},
   "source": [
    "svm_rgr= SVR(C=1.0, cache_size=400, coef0=0.0, degree=3, epsilon=0.2, gamma='scale',\n",
    "    kernel='rbf', max_iter=-1, shrinking=True, tol=0.001, verbose=True)\n",
    "svr_bagging = BaggingRegressor(base_estimator=svm_rgr, n_estimators=n_estimators, max_samples=max_samples,\n",
    "                               max_features=1.0, bootstrap=False, bootstrap_features=False,\n",
    "                               oob_score=False, warm_start=False, n_jobs=-1, random_state=42,\n",
    "                               verbose=0)\n",
    "\n"
   ]
  },
  {
   "cell_type": "raw",
   "metadata": {},
   "source": [
    "svr_bagging.get_params().keys()"
   ]
  },
  {
   "cell_type": "raw",
   "metadata": {},
   "source": [
    "When training an SVM with the Radial Basis Function (RBF) kernel, two parameters must be considered: C and gamma. The parameter C, common to all SVM kernels, trades off misclassification of training examples against simplicity of the decision surface. A low C makes the decision surface smooth, while a high C aims at classifying all training examples correctly. gamma defines how much influence a single training example has. The larger gamma is, the closer other examples must be to be affected.\n",
    "Proper choice of C and gamma is critical to the SVM’s performance. One is advised to use sklearn.model_selection.GridSearchCV with C and gamma spaced exponentially far apart to choose good values."
   ]
  },
  {
   "cell_type": "raw",
   "metadata": {},
   "source": [
    "#Penalty parameter C for the error term when it stays outside the insensitive chanel.\n",
    "C_range = np.logspace(-3, 2, 15) # [0.0001 : 100]\n",
    "#The gamma parameter can be seen as the inverse of the radius of influence of samples\n",
    "#selected by the model as support vectors.\n",
    "gamma_range = np.logspace(-3, 2, 15)\n",
    "params_pipe = dict(base_estimator__gamma= gamma_range, base_estimator__C= C_range)"
   ]
  },
  {
   "cell_type": "raw",
   "metadata": {},
   "source": [
    "pipe_grid = GridSearchCV(svr_bagging, params_pipe,\n",
    "                           n_jobs=-1, cv=5,\n",
    "                          verbose=1)"
   ]
  },
  {
   "cell_type": "raw",
   "metadata": {},
   "source": [
    "pipe_grid.fit(X_train_std, y_train.ravel())\n",
    "pipe_grid.best_score_\n",
    "\n",
    "verbose:\n",
    "Fitting 5 folds for each of 225 candidates, totalling 1125 fits\n",
    "\n",
    "[Parallel(n_jobs=-1)]: Using backend LokyBackend with 12 concurrent workers.\n",
    "[Parallel(n_jobs=-1)]: Done  26 tasks      | elapsed:  6.6min\n",
    "[Parallel(n_jobs=-1)]: Done 176 tasks      | elapsed: 33.2min\n",
    "[Parallel(n_jobs=-1)]: Done 426 tasks      | elapsed: 78.8min\n",
    "[Parallel(n_jobs=-1)]: Done 776 tasks      | elapsed: 141.4min\n",
    "[Parallel(n_jobs=-1)]: Done 1125 out of 1125 | elapsed: 219.8min finished\n",
    "C:\\Users\\rmendes\\AppData\\Local\\Continuum\\anaconda3\\lib\\site-packages\\sklearn\\ensemble\\bagging.py:398: DataConversionWarning: A column-vector y was passed when a 1d array was expected. Please change the shape of y to (n_samples, ), for example using ravel().\n",
    "  return column_or_1d(y, warn=True)\n",
    "Out: 0.13384515550088605"
   ]
  },
  {
   "cell_type": "raw",
   "metadata": {},
   "source": [
    "pipe_grid.best_estimator_.get_params()\n",
    "Out:{'base_estimator__C': 1.6378937069540647,\n",
    " 'base_estimator__cache_size': 400,\n",
    " 'base_estimator__coef0': 0.0,\n",
    " 'base_estimator__degree': 3,\n",
    " 'base_estimator__epsilon': 0.2,\n",
    " 'base_estimator__gamma': 0.011787686347935873,\n",
    " 'base_estimator__kernel': 'rbf',\n",
    " 'base_estimator__max_iter': -1,\n",
    " 'base_estimator__shrinking': True,\n",
    " 'base_estimator__tol': 0.001,\n",
    " 'base_estimator__verbose': False,\n",
    " 'base_estimator': SVR(C=1.6378937069540647, cache_size=400, coef0=0.0, degree=3, epsilon=0.2,\n",
    "     gamma=0.011787686347935873, kernel='rbf', max_iter=-1, shrinking=True,\n",
    "     tol=0.001, verbose=False),\n",
    " 'bootstrap': False,\n",
    " 'bootstrap_features': False,\n",
    " 'max_features': 1.0,\n",
    " 'max_samples': 9147,\n",
    " 'n_estimators': 6,\n",
    " 'n_jobs': -1,\n",
    " 'oob_score': False,\n",
    " 'random_state': 42,\n",
    " 'verbose': 0,\n",
    " 'warm_start': False}"
   ]
  },
  {
   "cell_type": "raw",
   "metadata": {},
   "source": [
    "y_train_pred = pipe_grid.predict(X_train_std)\n",
    "y_test_pred = pipe_grid.predict(X_test_std)"
   ]
  },
  {
   "cell_type": "raw",
   "metadata": {},
   "source": [
    "print(\"MSE train: {0:.4f}, test: {1:.4f}\".\\\n",
    "       format(mean_squared_error(y_train, y_train_pred), \n",
    "            mean_squared_error(y_test, y_test_pred)))\n",
    "\n",
    "print(\"R^2 train: {0:.4f}, test: {1:.4f}\".\\\n",
    "      format(r2_score(y_train, y_train_pred),\n",
    "             r2_score(y_test, y_test_pred)))      "
   ]
  },
  {
   "cell_type": "raw",
   "metadata": {},
   "source": [
    "df_cvres= pd.DataFrame(pipe_grid.cv_results_)\n",
    "df_cvres"
   ]
  },
  {
   "cell_type": "raw",
   "metadata": {},
   "source": [
    "params_svr = dict(gamma= gamma_range, C= C_range)\n",
    "pipe_grid = GridSearchCV(svm_rgr, params_svr,\n",
    "                           n_jobs=-1, cv=5,\n",
    "                           verbose=1)\n",
    "pipe_grid.fit(X_train_std, y_train.ravel())\n",
    "pipe_grid.best_score_\n",
    "Verbose:\n",
    "Fitting 5 folds for each of 225 candidates, totalling 1125 fits\n",
    "\n",
    "[Parallel(n_jobs=-1)]: Using backend LokyBackend with 12 concurrent workers.\n",
    "[Parallel(n_jobs=-1)]: Done  26 tasks      | elapsed:  6.5min\n",
    "[Parallel(n_jobs=-1)]: Done 176 tasks      | elapsed: 33.0min\n",
    "[Parallel(n_jobs=-1)]: Done 426 tasks      | elapsed: 78.7min\n",
    "C:\\Users\\rmendes\\AppData\\Local\\Continuum\\anaconda3\\lib\\site-packages\\joblib\\externals\\loky\\process_executor.py:706: UserWarning: A worker stopped while some jobs were given to the executor. This can be caused by a too short worker timeout or by a memory leak.\n",
    "  \"timeout or by a memory leak.\", UserWarning\n",
    "[Parallel(n_jobs=-1)]: Done 776 tasks      | elapsed: 145.6min\n",
    "C:\\Users\\rmendes\\AppData\\Local\\Continuum\\anaconda3\\lib\\site-packages\\joblib\\externals\\loky\\process_executor.py:706: UserWarning: A worker stopped while some jobs were given to the executor. This can be caused by a too short worker timeout or by a memory leak.\n",
    "  \"timeout or by a memory leak.\", UserWarning"
   ]
  },
  {
   "cell_type": "code",
   "execution_count": 49,
   "metadata": {},
   "outputs": [],
   "source": [
    "sv_rgr = SVR(C=1.6378937069540647, cache_size=400, coef0=0.0, degree=3, epsilon=0.2,\n",
    "     gamma=0.011787686347935873, kernel='rbf', max_iter=-1, shrinking=True,\n",
    "     tol=0.001, verbose=True)"
   ]
  },
  {
   "cell_type": "code",
   "execution_count": 50,
   "metadata": {},
   "outputs": [
    {
     "name": "stdout",
     "output_type": "stream",
     "text": [
      "[LibSVM]"
     ]
    },
    {
     "data": {
      "text/plain": [
       "SVR(C=1.6378937069540647, cache_size=400, coef0=0.0, degree=3, epsilon=0.2,\n",
       "    gamma=0.011787686347935873, kernel='rbf', max_iter=-1, shrinking=True,\n",
       "    tol=0.001, verbose=True)"
      ]
     },
     "execution_count": 50,
     "metadata": {},
     "output_type": "execute_result"
    }
   ],
   "source": [
    "sv_rgr.fit(X_train_std,y_train.ravel())"
   ]
  },
  {
   "cell_type": "code",
   "execution_count": 51,
   "metadata": {},
   "outputs": [
    {
     "name": "stdout",
     "output_type": "stream",
     "text": [
      "[LibSVM][LibSVM][LibSVM][LibSVM][LibSVM]"
     ]
    }
   ],
   "source": [
    "y_train_pred = sv_rgr.predict(X_train_std)\n",
    "y_test_pred = sv_rgr.predict(X_test_std)\n",
    "\n",
    "scores = cross_val_score(sv_rgr, X_train_std, y_train.ravel(), cv=5, scoring='r2')\n",
    " \n",
    "r2_sv_rgr_cv = scores.mean()\n",
    "std_sv_rgr_cv = scores.std() \n",
    "\n",
    "mse_sv_rgr_train = metrics.mean_squared_error(y_train.ravel(), y_train_pred.ravel()) \n",
    "mse_sv_rgr_test = metrics.mean_squared_error(y_test.ravel(), y_test_pred.ravel())\n",
    "\n",
    "r2_sv_rgr_train = metrics.r2_score(y_train.ravel(), y_train_pred.ravel())\n",
    "r2_sv_rgr_test = metrics.r2_score(y_test.ravel(), y_test_pred.ravel())"
   ]
  },
  {
   "cell_type": "code",
   "execution_count": 52,
   "metadata": {},
   "outputs": [
    {
     "name": "stdout",
     "output_type": "stream",
     "text": [
      "MSE train: 8.0646, test: 8.2280\n",
      "R^2 train: 0.1430, test: 0.1418\n"
     ]
    }
   ],
   "source": [
    "print(\"MSE train: {0:.4f}, test: {1:.4f}\".\\\n",
    "       format(mean_squared_error(y_train, y_train_pred), \n",
    "            mean_squared_error(y_test, y_test_pred)))\n",
    "\n",
    "print(\"R^2 train: {0:.4f}, test: {1:.4f}\".\\\n",
    "      format(r2_score(y_train, y_train_pred),\n",
    "             r2_score(y_test, y_test_pred))) "
   ]
  },
  {
   "cell_type": "code",
   "execution_count": 53,
   "metadata": {},
   "outputs": [],
   "source": [
    "new_results_dic = {'R2_cv': r2_sv_rgr_cv ,'std_cv': std_sv_rgr_cv,'MSE_train': mse_sv_rgr_train,\n",
    "                   'MSE_test': mse_sv_rgr_test, 'R2_train': r2_sv_rgr_train, 'R2_test': r2_sv_rgr_test}\n",
    "df_results.loc[len(df_results)] = new_results_dic"
   ]
  },
  {
   "cell_type": "code",
   "execution_count": 54,
   "metadata": {},
   "outputs": [
    {
     "data": {
      "text/html": [
       "<div>\n",
       "<style scoped>\n",
       "    .dataframe tbody tr th:only-of-type {\n",
       "        vertical-align: middle;\n",
       "    }\n",
       "\n",
       "    .dataframe tbody tr th {\n",
       "        vertical-align: top;\n",
       "    }\n",
       "\n",
       "    .dataframe thead th {\n",
       "        text-align: right;\n",
       "    }\n",
       "</style>\n",
       "<table border=\"1\" class=\"dataframe\">\n",
       "  <thead>\n",
       "    <tr style=\"text-align: right;\">\n",
       "      <th></th>\n",
       "      <th>R2_cv</th>\n",
       "      <th>std_cv</th>\n",
       "      <th>MSE_train</th>\n",
       "      <th>MSE_test</th>\n",
       "      <th>R2_train</th>\n",
       "      <th>R2_test</th>\n",
       "    </tr>\n",
       "  </thead>\n",
       "  <tbody>\n",
       "    <tr>\n",
       "      <th>OLS</th>\n",
       "      <td>0.127762</td>\n",
       "      <td>0.005668</td>\n",
       "      <td>8.198322</td>\n",
       "      <td>8.313640</td>\n",
       "      <td>0.128833</td>\n",
       "      <td>0.132835</td>\n",
       "    </tr>\n",
       "    <tr>\n",
       "      <th>RF</th>\n",
       "      <td>0.161435</td>\n",
       "      <td>0.004573</td>\n",
       "      <td>7.290466</td>\n",
       "      <td>7.940450</td>\n",
       "      <td>0.225304</td>\n",
       "      <td>0.171761</td>\n",
       "    </tr>\n",
       "    <tr>\n",
       "      <th>SV</th>\n",
       "      <td>0.134508</td>\n",
       "      <td>0.008144</td>\n",
       "      <td>8.064586</td>\n",
       "      <td>8.228026</td>\n",
       "      <td>0.143044</td>\n",
       "      <td>0.141765</td>\n",
       "    </tr>\n",
       "  </tbody>\n",
       "</table>\n",
       "</div>"
      ],
      "text/plain": [
       "        R2_cv    std_cv  MSE_train  MSE_test  R2_train   R2_test\n",
       "OLS  0.127762  0.005668   8.198322  8.313640  0.128833  0.132835\n",
       "RF   0.161435  0.004573   7.290466  7.940450  0.225304  0.171761\n",
       "SV   0.134508  0.008144   8.064586  8.228026  0.143044  0.141765"
      ]
     },
     "execution_count": 54,
     "metadata": {},
     "output_type": "execute_result"
    }
   ],
   "source": [
    "indexNamesArr = df_results.index.values\n",
    "i = indexNamesArr[-1]\n",
    "df_results.rename(index={i:'SV'}, inplace=True)\n",
    "df_results.head()"
   ]
  },
  {
   "cell_type": "code",
   "execution_count": 55,
   "metadata": {},
   "outputs": [
    {
     "data": {
      "text/plain": [
       "(38419, 3)"
      ]
     },
     "execution_count": 55,
     "metadata": {},
     "output_type": "execute_result"
    }
   ],
   "source": [
    "df_y_train.loc[:,'SV'] = pd.Series(y_train_pred)\n",
    "df_y_train.shape"
   ]
  },
  {
   "cell_type": "code",
   "execution_count": 56,
   "metadata": {},
   "outputs": [
    {
     "data": {
      "text/plain": [
       "(16466, 3)"
      ]
     },
     "execution_count": 56,
     "metadata": {},
     "output_type": "execute_result"
    }
   ],
   "source": [
    "df_y_test.loc[:,'SV'] = pd.Series(y_test_pred)\n",
    "df_y_test.shape"
   ]
  },
  {
   "cell_type": "code",
   "execution_count": 57,
   "metadata": {},
   "outputs": [
    {
     "data": {
      "text/html": [
       "<div>\n",
       "<style scoped>\n",
       "    .dataframe tbody tr th:only-of-type {\n",
       "        vertical-align: middle;\n",
       "    }\n",
       "\n",
       "    .dataframe tbody tr th {\n",
       "        vertical-align: top;\n",
       "    }\n",
       "\n",
       "    .dataframe thead th {\n",
       "        text-align: right;\n",
       "    }\n",
       "</style>\n",
       "<table border=\"1\" class=\"dataframe\">\n",
       "  <thead>\n",
       "    <tr style=\"text-align: right;\">\n",
       "      <th></th>\n",
       "      <th>OLS</th>\n",
       "      <th>RF</th>\n",
       "      <th>SV</th>\n",
       "    </tr>\n",
       "  </thead>\n",
       "  <tbody>\n",
       "    <tr>\n",
       "      <th>0</th>\n",
       "      <td>16.780056</td>\n",
       "      <td>15.790575</td>\n",
       "      <td>15.810559</td>\n",
       "    </tr>\n",
       "    <tr>\n",
       "      <th>1</th>\n",
       "      <td>12.679535</td>\n",
       "      <td>12.509075</td>\n",
       "      <td>11.500928</td>\n",
       "    </tr>\n",
       "    <tr>\n",
       "      <th>2</th>\n",
       "      <td>15.029712</td>\n",
       "      <td>15.122949</td>\n",
       "      <td>15.251522</td>\n",
       "    </tr>\n",
       "    <tr>\n",
       "      <th>3</th>\n",
       "      <td>15.330722</td>\n",
       "      <td>15.242884</td>\n",
       "      <td>15.648563</td>\n",
       "    </tr>\n",
       "    <tr>\n",
       "      <th>4</th>\n",
       "      <td>11.662264</td>\n",
       "      <td>12.411303</td>\n",
       "      <td>11.244985</td>\n",
       "    </tr>\n",
       "  </tbody>\n",
       "</table>\n",
       "</div>"
      ],
      "text/plain": [
       "         OLS         RF         SV\n",
       "0  16.780056  15.790575  15.810559\n",
       "1  12.679535  12.509075  11.500928\n",
       "2  15.029712  15.122949  15.251522\n",
       "3  15.330722  15.242884  15.648563\n",
       "4  11.662264  12.411303  11.244985"
      ]
     },
     "execution_count": 57,
     "metadata": {},
     "output_type": "execute_result"
    }
   ],
   "source": [
    "df_y_train.head()"
   ]
  },
  {
   "cell_type": "code",
   "execution_count": 58,
   "metadata": {},
   "outputs": [
    {
     "data": {
      "text/html": [
       "<div>\n",
       "<style scoped>\n",
       "    .dataframe tbody tr th:only-of-type {\n",
       "        vertical-align: middle;\n",
       "    }\n",
       "\n",
       "    .dataframe tbody tr th {\n",
       "        vertical-align: top;\n",
       "    }\n",
       "\n",
       "    .dataframe thead th {\n",
       "        text-align: right;\n",
       "    }\n",
       "</style>\n",
       "<table border=\"1\" class=\"dataframe\">\n",
       "  <thead>\n",
       "    <tr style=\"text-align: right;\">\n",
       "      <th></th>\n",
       "      <th>OLS</th>\n",
       "      <th>RF</th>\n",
       "      <th>SV</th>\n",
       "    </tr>\n",
       "  </thead>\n",
       "  <tbody>\n",
       "    <tr>\n",
       "      <th>0</th>\n",
       "      <td>15.275436</td>\n",
       "      <td>14.721972</td>\n",
       "      <td>15.345241</td>\n",
       "    </tr>\n",
       "    <tr>\n",
       "      <th>1</th>\n",
       "      <td>14.169345</td>\n",
       "      <td>13.581197</td>\n",
       "      <td>12.666565</td>\n",
       "    </tr>\n",
       "    <tr>\n",
       "      <th>2</th>\n",
       "      <td>15.504234</td>\n",
       "      <td>14.160836</td>\n",
       "      <td>15.902861</td>\n",
       "    </tr>\n",
       "    <tr>\n",
       "      <th>3</th>\n",
       "      <td>15.085562</td>\n",
       "      <td>15.651684</td>\n",
       "      <td>15.288001</td>\n",
       "    </tr>\n",
       "    <tr>\n",
       "      <th>4</th>\n",
       "      <td>15.499572</td>\n",
       "      <td>15.502973</td>\n",
       "      <td>15.845475</td>\n",
       "    </tr>\n",
       "  </tbody>\n",
       "</table>\n",
       "</div>"
      ],
      "text/plain": [
       "         OLS         RF         SV\n",
       "0  15.275436  14.721972  15.345241\n",
       "1  14.169345  13.581197  12.666565\n",
       "2  15.504234  14.160836  15.902861\n",
       "3  15.085562  15.651684  15.288001\n",
       "4  15.499572  15.502973  15.845475"
      ]
     },
     "execution_count": 58,
     "metadata": {},
     "output_type": "execute_result"
    }
   ],
   "source": [
    "df_y_test.head()"
   ]
  },
  {
   "cell_type": "code",
   "execution_count": 59,
   "metadata": {},
   "outputs": [],
   "source": [
    "bsv_rgr = BaggingRegressor(base_estimator=sv_rgr, n_estimators=n_estimators, max_samples=max_samples,\n",
    "                               max_features=1.0, bootstrap=False, bootstrap_features=False,\n",
    "                               oob_score=False, warm_start=False, n_jobs=-1, random_state=42,\n",
    "                               verbose=0)"
   ]
  },
  {
   "cell_type": "code",
   "execution_count": 60,
   "metadata": {},
   "outputs": [
    {
     "data": {
      "text/plain": [
       "BaggingRegressor(base_estimator=SVR(C=1.6378937069540647, cache_size=400,\n",
       "                                    coef0=0.0, degree=3, epsilon=0.2,\n",
       "                                    gamma=0.011787686347935873, kernel='rbf',\n",
       "                                    max_iter=-1, shrinking=True, tol=0.001,\n",
       "                                    verbose=True),\n",
       "                 bootstrap=False, bootstrap_features=False, max_features=1.0,\n",
       "                 max_samples=6403, n_estimators=6, n_jobs=-1, oob_score=False,\n",
       "                 random_state=42, verbose=0, warm_start=False)"
      ]
     },
     "execution_count": 60,
     "metadata": {},
     "output_type": "execute_result"
    }
   ],
   "source": [
    "bsv_rgr.fit(X_train_std,y_train.ravel())"
   ]
  },
  {
   "cell_type": "code",
   "execution_count": 61,
   "metadata": {},
   "outputs": [],
   "source": [
    "y_train_pred = bsv_rgr.predict(X_train_std)\n",
    "y_test_pred = bsv_rgr.predict(X_test_std)\n",
    "\n",
    "scores = cross_val_score(bsv_rgr, X_train_std, y_train.ravel(), cv=5, scoring='r2')\n",
    " \n",
    "r2_bsv_rgr_cv = scores.mean()\n",
    "std_bsv_rgr_cv = scores.std() \n",
    "\n",
    "mse_bsv_rgr_train = metrics.mean_squared_error(y_train.ravel(), y_train_pred.ravel()) \n",
    "mse_bsv_rgr_test = metrics.mean_squared_error(y_test.ravel(), y_test_pred.ravel())\n",
    "\n",
    "r2_bsv_rgr_train = metrics.r2_score(y_train.ravel(), y_train_pred.ravel())\n",
    "r2_bsv_rgr_test = metrics.r2_score(y_test.ravel(), y_test_pred.ravel())\n",
    "\n"
   ]
  },
  {
   "cell_type": "code",
   "execution_count": 62,
   "metadata": {},
   "outputs": [
    {
     "name": "stdout",
     "output_type": "stream",
     "text": [
      "MSE train: 8.1080, test: 8.2354\n",
      "R^2 train: 0.1384, test: 0.1410\n"
     ]
    }
   ],
   "source": [
    "print(\"MSE train: {0:.4f}, test: {1:.4f}\".\\\n",
    "       format(mean_squared_error(y_train, y_train_pred), \n",
    "            mean_squared_error(y_test, y_test_pred)))\n",
    "\n",
    "print(\"R^2 train: {0:.4f}, test: {1:.4f}\".\\\n",
    "      format(r2_score(y_train, y_train_pred),\n",
    "             r2_score(y_test, y_test_pred)))"
   ]
  },
  {
   "cell_type": "code",
   "execution_count": 63,
   "metadata": {},
   "outputs": [],
   "source": [
    "new_results_dic = {'R2_cv': r2_bsv_rgr_cv ,'std_cv': std_bsv_rgr_cv,'MSE_train': mse_bsv_rgr_train,\n",
    "                   'MSE_test': mse_bsv_rgr_test, 'R2_train': r2_bsv_rgr_train, 'R2_test': r2_bsv_rgr_test}\n",
    "df_results.loc[len(df_results)] = new_results_dic"
   ]
  },
  {
   "cell_type": "code",
   "execution_count": 64,
   "metadata": {},
   "outputs": [
    {
     "data": {
      "text/html": [
       "<div>\n",
       "<style scoped>\n",
       "    .dataframe tbody tr th:only-of-type {\n",
       "        vertical-align: middle;\n",
       "    }\n",
       "\n",
       "    .dataframe tbody tr th {\n",
       "        vertical-align: top;\n",
       "    }\n",
       "\n",
       "    .dataframe thead th {\n",
       "        text-align: right;\n",
       "    }\n",
       "</style>\n",
       "<table border=\"1\" class=\"dataframe\">\n",
       "  <thead>\n",
       "    <tr style=\"text-align: right;\">\n",
       "      <th></th>\n",
       "      <th>R2_cv</th>\n",
       "      <th>std_cv</th>\n",
       "      <th>MSE_train</th>\n",
       "      <th>MSE_test</th>\n",
       "      <th>R2_train</th>\n",
       "      <th>R2_test</th>\n",
       "    </tr>\n",
       "  </thead>\n",
       "  <tbody>\n",
       "    <tr>\n",
       "      <th>OLS</th>\n",
       "      <td>0.127762</td>\n",
       "      <td>0.005668</td>\n",
       "      <td>8.198322</td>\n",
       "      <td>8.313640</td>\n",
       "      <td>0.128833</td>\n",
       "      <td>0.132835</td>\n",
       "    </tr>\n",
       "    <tr>\n",
       "      <th>RF</th>\n",
       "      <td>0.161435</td>\n",
       "      <td>0.004573</td>\n",
       "      <td>7.290466</td>\n",
       "      <td>7.940450</td>\n",
       "      <td>0.225304</td>\n",
       "      <td>0.171761</td>\n",
       "    </tr>\n",
       "    <tr>\n",
       "      <th>SV</th>\n",
       "      <td>0.134508</td>\n",
       "      <td>0.008144</td>\n",
       "      <td>8.064586</td>\n",
       "      <td>8.228026</td>\n",
       "      <td>0.143044</td>\n",
       "      <td>0.141765</td>\n",
       "    </tr>\n",
       "    <tr>\n",
       "      <th>BSV</th>\n",
       "      <td>0.133034</td>\n",
       "      <td>0.007358</td>\n",
       "      <td>8.107966</td>\n",
       "      <td>8.235377</td>\n",
       "      <td>0.138435</td>\n",
       "      <td>0.140998</td>\n",
       "    </tr>\n",
       "  </tbody>\n",
       "</table>\n",
       "</div>"
      ],
      "text/plain": [
       "        R2_cv    std_cv  MSE_train  MSE_test  R2_train   R2_test\n",
       "OLS  0.127762  0.005668   8.198322  8.313640  0.128833  0.132835\n",
       "RF   0.161435  0.004573   7.290466  7.940450  0.225304  0.171761\n",
       "SV   0.134508  0.008144   8.064586  8.228026  0.143044  0.141765\n",
       "BSV  0.133034  0.007358   8.107966  8.235377  0.138435  0.140998"
      ]
     },
     "execution_count": 64,
     "metadata": {},
     "output_type": "execute_result"
    }
   ],
   "source": [
    "indexNamesArr = df_results.index.values\n",
    "i = indexNamesArr[-1]\n",
    "df_results.rename(index={i:'BSV'}, inplace=True)\n",
    "df_results.head()"
   ]
  },
  {
   "cell_type": "code",
   "execution_count": 65,
   "metadata": {},
   "outputs": [
    {
     "data": {
      "text/plain": [
       "(38419, 4)"
      ]
     },
     "execution_count": 65,
     "metadata": {},
     "output_type": "execute_result"
    }
   ],
   "source": [
    "df_y_train.loc[:,'BSV'] = pd.Series(y_train_pred)\n",
    "df_y_train.shape"
   ]
  },
  {
   "cell_type": "code",
   "execution_count": 66,
   "metadata": {},
   "outputs": [
    {
     "data": {
      "text/plain": [
       "(16466, 4)"
      ]
     },
     "execution_count": 66,
     "metadata": {},
     "output_type": "execute_result"
    }
   ],
   "source": [
    "df_y_test.loc[:,'BSV'] = pd.Series(y_test_pred)\n",
    "df_y_test.shape"
   ]
  },
  {
   "cell_type": "code",
   "execution_count": 67,
   "metadata": {},
   "outputs": [
    {
     "data": {
      "text/html": [
       "<div>\n",
       "<style scoped>\n",
       "    .dataframe tbody tr th:only-of-type {\n",
       "        vertical-align: middle;\n",
       "    }\n",
       "\n",
       "    .dataframe tbody tr th {\n",
       "        vertical-align: top;\n",
       "    }\n",
       "\n",
       "    .dataframe thead th {\n",
       "        text-align: right;\n",
       "    }\n",
       "</style>\n",
       "<table border=\"1\" class=\"dataframe\">\n",
       "  <thead>\n",
       "    <tr style=\"text-align: right;\">\n",
       "      <th></th>\n",
       "      <th>OLS</th>\n",
       "      <th>RF</th>\n",
       "      <th>SV</th>\n",
       "      <th>BSV</th>\n",
       "    </tr>\n",
       "  </thead>\n",
       "  <tbody>\n",
       "    <tr>\n",
       "      <th>0</th>\n",
       "      <td>16.780056</td>\n",
       "      <td>15.790575</td>\n",
       "      <td>15.810559</td>\n",
       "      <td>16.209134</td>\n",
       "    </tr>\n",
       "    <tr>\n",
       "      <th>1</th>\n",
       "      <td>12.679535</td>\n",
       "      <td>12.509075</td>\n",
       "      <td>11.500928</td>\n",
       "      <td>11.691078</td>\n",
       "    </tr>\n",
       "    <tr>\n",
       "      <th>2</th>\n",
       "      <td>15.029712</td>\n",
       "      <td>15.122949</td>\n",
       "      <td>15.251522</td>\n",
       "      <td>15.112296</td>\n",
       "    </tr>\n",
       "    <tr>\n",
       "      <th>3</th>\n",
       "      <td>15.330722</td>\n",
       "      <td>15.242884</td>\n",
       "      <td>15.648563</td>\n",
       "      <td>15.659669</td>\n",
       "    </tr>\n",
       "    <tr>\n",
       "      <th>4</th>\n",
       "      <td>11.662264</td>\n",
       "      <td>12.411303</td>\n",
       "      <td>11.244985</td>\n",
       "      <td>11.278633</td>\n",
       "    </tr>\n",
       "  </tbody>\n",
       "</table>\n",
       "</div>"
      ],
      "text/plain": [
       "         OLS         RF         SV        BSV\n",
       "0  16.780056  15.790575  15.810559  16.209134\n",
       "1  12.679535  12.509075  11.500928  11.691078\n",
       "2  15.029712  15.122949  15.251522  15.112296\n",
       "3  15.330722  15.242884  15.648563  15.659669\n",
       "4  11.662264  12.411303  11.244985  11.278633"
      ]
     },
     "execution_count": 67,
     "metadata": {},
     "output_type": "execute_result"
    }
   ],
   "source": [
    "df_y_train.head()"
   ]
  },
  {
   "cell_type": "code",
   "execution_count": 68,
   "metadata": {},
   "outputs": [
    {
     "data": {
      "text/html": [
       "<div>\n",
       "<style scoped>\n",
       "    .dataframe tbody tr th:only-of-type {\n",
       "        vertical-align: middle;\n",
       "    }\n",
       "\n",
       "    .dataframe tbody tr th {\n",
       "        vertical-align: top;\n",
       "    }\n",
       "\n",
       "    .dataframe thead th {\n",
       "        text-align: right;\n",
       "    }\n",
       "</style>\n",
       "<table border=\"1\" class=\"dataframe\">\n",
       "  <thead>\n",
       "    <tr style=\"text-align: right;\">\n",
       "      <th></th>\n",
       "      <th>OLS</th>\n",
       "      <th>RF</th>\n",
       "      <th>SV</th>\n",
       "      <th>BSV</th>\n",
       "    </tr>\n",
       "  </thead>\n",
       "  <tbody>\n",
       "    <tr>\n",
       "      <th>0</th>\n",
       "      <td>15.275436</td>\n",
       "      <td>14.721972</td>\n",
       "      <td>15.345241</td>\n",
       "      <td>15.420818</td>\n",
       "    </tr>\n",
       "    <tr>\n",
       "      <th>1</th>\n",
       "      <td>14.169345</td>\n",
       "      <td>13.581197</td>\n",
       "      <td>12.666565</td>\n",
       "      <td>13.252518</td>\n",
       "    </tr>\n",
       "    <tr>\n",
       "      <th>2</th>\n",
       "      <td>15.504234</td>\n",
       "      <td>14.160836</td>\n",
       "      <td>15.902861</td>\n",
       "      <td>15.932961</td>\n",
       "    </tr>\n",
       "    <tr>\n",
       "      <th>3</th>\n",
       "      <td>15.085562</td>\n",
       "      <td>15.651684</td>\n",
       "      <td>15.288001</td>\n",
       "      <td>15.340415</td>\n",
       "    </tr>\n",
       "    <tr>\n",
       "      <th>4</th>\n",
       "      <td>15.499572</td>\n",
       "      <td>15.502973</td>\n",
       "      <td>15.845475</td>\n",
       "      <td>15.817521</td>\n",
       "    </tr>\n",
       "  </tbody>\n",
       "</table>\n",
       "</div>"
      ],
      "text/plain": [
       "         OLS         RF         SV        BSV\n",
       "0  15.275436  14.721972  15.345241  15.420818\n",
       "1  14.169345  13.581197  12.666565  13.252518\n",
       "2  15.504234  14.160836  15.902861  15.932961\n",
       "3  15.085562  15.651684  15.288001  15.340415\n",
       "4  15.499572  15.502973  15.845475  15.817521"
      ]
     },
     "execution_count": 68,
     "metadata": {},
     "output_type": "execute_result"
    }
   ],
   "source": [
    "df_y_test.head()"
   ]
  },
  {
   "cell_type": "raw",
   "metadata": {},
   "source": [
    "params_svr = dict(gamma= gamma_range, C= C_range)\n",
    "pipe_grid = GridSearchCV(svm_rgr, params_svr,\n",
    "                           n_jobs=-1, cv=5,\n",
    "                           verbose=1)\n",
    "pipe_grid.fit(X_train_std, y_train.ravel())\n",
    "pipe_grid.best_score_\n",
    "Verbose:\n",
    "Fitting 5 folds for each of 225 candidates, totalling 1125 fits\n",
    "\n",
    "[Parallel(n_jobs=-1)]: Using backend LokyBackend with 12 concurrent workers.\n",
    "[Parallel(n_jobs=-1)]: Done  26 tasks      | elapsed:  6.5min\n",
    "[Parallel(n_jobs=-1)]: Done 176 tasks      | elapsed: 33.0min\n",
    "[Parallel(n_jobs=-1)]: Done 426 tasks      | elapsed: 78.7min\n",
    "C:\\Users\\rmendes\\AppData\\Local\\Continuum\\anaconda3\\lib\\site-packages\\joblib\\externals\\loky\\process_executor.py:706: UserWarning: A worker stopped while some jobs were given to the executor. This can be caused by a too short worker timeout or by a memory leak.\n",
    "  \"timeout or by a memory leak.\", UserWarning\n",
    "[Parallel(n_jobs=-1)]: Done 776 tasks      | elapsed: 145.6min\n",
    "C:\\Users\\rmendes\\AppData\\Local\\Continuum\\anaconda3\\lib\\site-packages\\joblib\\externals\\loky\\process_executor.py:706: UserWarning: A worker stopped while some jobs were given to the executor. This can be caused by a too short worker timeout or by a memory leak.\n",
    "  \"timeout or by a memory leak.\", UserWarning"
   ]
  },
  {
   "cell_type": "markdown",
   "metadata": {},
   "source": [
    "# Multilayer Perceptron"
   ]
  },
  {
   "cell_type": "code",
   "execution_count": 69,
   "metadata": {},
   "outputs": [],
   "source": [
    "from sklearn.neural_network import MLPRegressor\n",
    "from itertools import product"
   ]
  },
  {
   "cell_type": "raw",
   "metadata": {},
   "source": [
    "mlp_rgr = MLPRegressor(hidden_layer_sizes=(100,),\n",
    "                       activation=\"relu\",#‘logistic’, the logistic sigmoid function, returns f(x) = 1 / (1 + exp(-x)).\n",
    "                                        #‘tanh’, the hyperbolic tan function, returns f(x) = tanh(x).\n",
    "                                        #‘relu’, the rectified linear unit function, returns f(x) = max(0, x)\n",
    "                       solver=\"adam\",\n",
    "                       #the solver for weight optimization\n",
    "                       #The default solver ‘adam’ works pretty well on relatively\n",
    "                       #large datasets (with thousands of training samples or more)\n",
    "                       #in terms of both training time and validation score.\n",
    "                       #For small datasets, however, ‘lbfgs’ can converge faster and perform better.\n",
    "                       alpha=0.0001,\n",
    "                       #L2 penalty (regularization term) parameter.\n",
    "                       batch_size=\"auto\",\n",
    "                       learning_rate=\"constant\", learning_rate_init=0.001,\n",
    "                       power_t=0.5,\n",
    "                       #Learning rate schedule for weight updates.\n",
    "                       #‘constant’ is a constant learning rate given by ‘learning_rate_init’.\n",
    "                       #‘invscaling’ gradually decreases the learning rate learning_rate_ at each time step ‘t’\n",
    "                       #using an inverse scaling exponent of ‘power_t’.\n",
    "                       #effective_learning_rate = learning_rate_init / pow(t, power_t)\n",
    "                       #‘adaptive’ keeps the learning rate constant to ‘learning_rate_init’\n",
    "                       #as long as training loss keeps decreasing. Each time two consecutive\n",
    "                       #epochs fail to decrease training loss by at least tol, or fail to increase#\n",
    "                       #validation score by at least tol if ‘early_stopping’ is on, the current\n",
    "                       #learning rate is divided by 5.\n",
    "                       #Only used when solver=’sgd’.\n",
    "                       max_iter=200, shuffle=True,\n",
    "                       random_state=42,\n",
    "                       tol=0.0001,\n",
    "                       #The exponent for inverse scaling learning rate. It is used in updating effective\n",
    "                       #learning rate when the learning_rate is set to ‘invscaling’. Only used when solver=’sgd’.\n",
    "                       verbose=False,\n",
    "                       warm_start=False,\n",
    "                       momentum=0.9,\n",
    "                       #Momentum for gradient descent update. Should be between 0 and 1. Only used when solver=’sgd’.\n",
    "                       nesterovs_momentum=True,\n",
    "                       #Only used when solver=’sgd’ and momentum > 0\n",
    "                       early_stopping=False,\n",
    "                       #Whether to use early stopping to terminate training when validation score is not improving.\n",
    "                       #If set to true, it will automatically set aside 10% of training data as validation and terminate\n",
    "                       #training when validation score is not improving by at least tol for n_iter_no_change\n",
    "                       #consecutive epochs. Only effective when solver=’sgd’ or ‘adam’\n",
    "                       validation_fraction=0.1,\n",
    "                       #The proportion of training data to set aside as validation set for early stopping.\n",
    "                       #Must be between 0 and 1. Only used if early_stopping is True\n",
    "                       beta_1=0.9,\n",
    "                       #Exponential decay rate for estimates of first moment vector in adam, should be in [0, 1).\n",
    "                       #Only used when solver=’adam’\n",
    "                       beta_2=0.999,\n",
    "                       #Exponential decay rate for estimates of second moment vector in adam, should be in [0, 1).\n",
    "                       #Only used when solver=’adam’\n",
    "                       epsilon=1e-08,\n",
    "                       #Value for numerical stability in adam. Only used when solver=’adam’\n",
    "                       n_iter_no_change=10)\n",
    "                       #Maximum number of epochs to not meet tol improvement. Only effective when solver=’sgd’ or ‘adam’\n",
    "mlp_rgr.get_params().keys()"
   ]
  },
  {
   "cell_type": "raw",
   "metadata": {},
   "source": [
    "df.shape[1]-1"
   ]
  },
  {
   "cell_type": "raw",
   "metadata": {},
   "source": [
    "hls=list(product(range(1,16),repeat=2))\n",
    "hls"
   ]
  },
  {
   "cell_type": "raw",
   "metadata": {},
   "source": [
    "alfa1=list(10.0**-np.arange(1, 7))\n",
    "alfa1"
   ]
  },
  {
   "cell_type": "raw",
   "metadata": {},
   "source": [
    "params_mlp = [{'hidden_layer_sizes': hls, 'activation': ['relu','logistic'],\n",
    "'alpha':alfa1\n",
    "'learning_rate_init': [0.05, 0.01, 0.005, 0.001]}]"
   ]
  },
  {
   "cell_type": "raw",
   "metadata": {},
   "source": [
    "mlp_rgr_grid = GridSearchCV(mlp_rgr, params_mlp,\n",
    "                           n_jobs=-1, cv=5,\n",
    "                          verbose=1)\n"
   ]
  },
  {
   "cell_type": "raw",
   "metadata": {},
   "source": [
    "mlp_rgr_grid.fit(X_train_std, y_train.ravel())\n",
    "mlp_rgr_grid.best_score_\n",
    "\n",
    "verbose:\n",
    "Fitting 5 folds for each of 10800 candidates, totalling 54000 fits\n",
    "[Parallel(n_jobs=-1)]: Done 54000 out of 54000 | elapsed: 728.3min finished\n",
    "\n",
    "0.14132705739021506"
   ]
  },
  {
   "cell_type": "raw",
   "metadata": {},
   "source": [
    "mlp_rgr_grid.best_estimator_.get_params()\n",
    "Out:\n",
    "{'activation': 'logistic',\n",
    " 'alpha': 0.1,\n",
    " 'batch_size': 'auto',\n",
    " 'beta_1': 0.9,\n",
    " 'beta_2': 0.999,\n",
    " 'early_stopping': False,\n",
    " 'epsilon': 1e-08,\n",
    " 'hidden_layer_sizes': (14, 5),\n",
    " 'learning_rate': 'constant',\n",
    " 'learning_rate_init': 0.005,\n",
    " 'max_iter': 200,\n",
    " 'momentum': 0.9,\n",
    " 'n_iter_no_change': 10,\n",
    " 'nesterovs_momentum': True,\n",
    " 'power_t': 0.5,\n",
    " 'random_state': 42,\n",
    " 'shuffle': True,\n",
    " 'solver': 'adam',\n",
    " 'tol': 0.0001,\n",
    " 'validation_fraction': 0.1,\n",
    " 'verbose': False,\n",
    " 'warm_start': False}"
   ]
  },
  {
   "cell_type": "raw",
   "metadata": {},
   "source": [
    "y_train_pred = mlp_rgr_grid.predict(X_train_std)\n",
    "y_test_pred = mlp_rgr_grid.predict(X_test_std)"
   ]
  },
  {
   "cell_type": "raw",
   "metadata": {},
   "source": [
    "print(\"MSE train: {0:.4f}, test: {1:.4f}\".\\\n",
    "       format(mean_squared_error(y_train, y_train_pred), \n",
    "            mean_squared_error(y_test, y_test_pred)))\n",
    "\n",
    "print(\"R^2 train: {0:.4f}, test: {1:.4f}\".\\\n",
    "      format(r2_score(y_train, y_train_pred),\n",
    "             r2_score(y_test, y_test_pred)))"
   ]
  },
  {
   "cell_type": "code",
   "execution_count": 70,
   "metadata": {},
   "outputs": [],
   "source": [
    "mlp_rgr=MLPRegressor(activation= 'logistic',\n",
    " alpha = 0.1,\n",
    " hidden_layer_sizes = (14, 5),\n",
    " learning_rate_init = 0.005,\n",
    " random_state = 42)"
   ]
  },
  {
   "cell_type": "code",
   "execution_count": 71,
   "metadata": {},
   "outputs": [
    {
     "data": {
      "text/plain": [
       "MLPRegressor(activation='logistic', alpha=0.1, batch_size='auto', beta_1=0.9,\n",
       "             beta_2=0.999, early_stopping=False, epsilon=1e-08,\n",
       "             hidden_layer_sizes=(14, 5), learning_rate='constant',\n",
       "             learning_rate_init=0.005, max_iter=200, momentum=0.9,\n",
       "             n_iter_no_change=10, nesterovs_momentum=True, power_t=0.5,\n",
       "             random_state=42, shuffle=True, solver='adam', tol=0.0001,\n",
       "             validation_fraction=0.1, verbose=False, warm_start=False)"
      ]
     },
     "execution_count": 71,
     "metadata": {},
     "output_type": "execute_result"
    }
   ],
   "source": [
    "mlp_rgr.fit(X_train_std,y_train.ravel())"
   ]
  },
  {
   "cell_type": "code",
   "execution_count": 72,
   "metadata": {},
   "outputs": [],
   "source": [
    "y_train_pred = mlp_rgr.predict(X_train_std)\n",
    "y_test_pred = mlp_rgr.predict(X_test_std)\n",
    "\n",
    "scores = cross_val_score(mlp_rgr, X_train_std, y_train.ravel(), cv=5, scoring='r2')\n",
    " \n",
    "r2_mlp_rgr_cv = scores.mean()\n",
    "std_mlp_rgr_cv = scores.std() \n",
    "\n",
    "mse_mlp_rgr_train = metrics.mean_squared_error(y_train.ravel(), y_train_pred.ravel()) \n",
    "mse_mlp_rgr_test = metrics.mean_squared_error(y_test.ravel(), y_test_pred.ravel())\n",
    "\n",
    "r2_mlp_rgr_train = metrics.r2_score(y_train.ravel(), y_train_pred.ravel())\n",
    "r2_mlp_rgr_test = metrics.r2_score(y_test.ravel(), y_test_pred.ravel())"
   ]
  },
  {
   "cell_type": "code",
   "execution_count": 73,
   "metadata": {},
   "outputs": [
    {
     "name": "stdout",
     "output_type": "stream",
     "text": [
      "MSE train: 7.9640, test: 8.1641\n",
      "R^2 train: 0.1537, test: 0.1484\n"
     ]
    }
   ],
   "source": [
    "print(\"MSE train: {0:.4f}, test: {1:.4f}\".\\\n",
    "       format(mean_squared_error(y_train, y_train_pred), \n",
    "            mean_squared_error(y_test, y_test_pred)))\n",
    "\n",
    "print(\"R^2 train: {0:.4f}, test: {1:.4f}\".\\\n",
    "      format(r2_score(y_train, y_train_pred),\n",
    "             r2_score(y_test, y_test_pred))) "
   ]
  },
  {
   "cell_type": "code",
   "execution_count": 74,
   "metadata": {},
   "outputs": [],
   "source": [
    "new_results_dic = {'R2_cv': r2_mlp_rgr_cv ,'std_cv': std_mlp_rgr_cv,'MSE_train': mse_mlp_rgr_train,\n",
    "                   'MSE_test': mse_mlp_rgr_test, 'R2_train': r2_mlp_rgr_train, 'R2_test': r2_mlp_rgr_test}\n",
    "df_results.loc[len(df_results)] = new_results_dic"
   ]
  },
  {
   "cell_type": "code",
   "execution_count": 75,
   "metadata": {
    "scrolled": true
   },
   "outputs": [
    {
     "data": {
      "text/html": [
       "<div>\n",
       "<style scoped>\n",
       "    .dataframe tbody tr th:only-of-type {\n",
       "        vertical-align: middle;\n",
       "    }\n",
       "\n",
       "    .dataframe tbody tr th {\n",
       "        vertical-align: top;\n",
       "    }\n",
       "\n",
       "    .dataframe thead th {\n",
       "        text-align: right;\n",
       "    }\n",
       "</style>\n",
       "<table border=\"1\" class=\"dataframe\">\n",
       "  <thead>\n",
       "    <tr style=\"text-align: right;\">\n",
       "      <th></th>\n",
       "      <th>R2_cv</th>\n",
       "      <th>std_cv</th>\n",
       "      <th>MSE_train</th>\n",
       "      <th>MSE_test</th>\n",
       "      <th>R2_train</th>\n",
       "      <th>R2_test</th>\n",
       "    </tr>\n",
       "  </thead>\n",
       "  <tbody>\n",
       "    <tr>\n",
       "      <th>OLS</th>\n",
       "      <td>0.127762</td>\n",
       "      <td>0.005668</td>\n",
       "      <td>8.198322</td>\n",
       "      <td>8.313640</td>\n",
       "      <td>0.128833</td>\n",
       "      <td>0.132835</td>\n",
       "    </tr>\n",
       "    <tr>\n",
       "      <th>RF</th>\n",
       "      <td>0.161435</td>\n",
       "      <td>0.004573</td>\n",
       "      <td>7.290466</td>\n",
       "      <td>7.940450</td>\n",
       "      <td>0.225304</td>\n",
       "      <td>0.171761</td>\n",
       "    </tr>\n",
       "    <tr>\n",
       "      <th>SV</th>\n",
       "      <td>0.134508</td>\n",
       "      <td>0.008144</td>\n",
       "      <td>8.064586</td>\n",
       "      <td>8.228026</td>\n",
       "      <td>0.143044</td>\n",
       "      <td>0.141765</td>\n",
       "    </tr>\n",
       "    <tr>\n",
       "      <th>BSV</th>\n",
       "      <td>0.133034</td>\n",
       "      <td>0.007358</td>\n",
       "      <td>8.107966</td>\n",
       "      <td>8.235377</td>\n",
       "      <td>0.138435</td>\n",
       "      <td>0.140998</td>\n",
       "    </tr>\n",
       "    <tr>\n",
       "      <th>NN</th>\n",
       "      <td>0.141327</td>\n",
       "      <td>0.004269</td>\n",
       "      <td>7.964029</td>\n",
       "      <td>8.164109</td>\n",
       "      <td>0.153730</td>\n",
       "      <td>0.148432</td>\n",
       "    </tr>\n",
       "  </tbody>\n",
       "</table>\n",
       "</div>"
      ],
      "text/plain": [
       "        R2_cv    std_cv  MSE_train  MSE_test  R2_train   R2_test\n",
       "OLS  0.127762  0.005668   8.198322  8.313640  0.128833  0.132835\n",
       "RF   0.161435  0.004573   7.290466  7.940450  0.225304  0.171761\n",
       "SV   0.134508  0.008144   8.064586  8.228026  0.143044  0.141765\n",
       "BSV  0.133034  0.007358   8.107966  8.235377  0.138435  0.140998\n",
       "NN   0.141327  0.004269   7.964029  8.164109  0.153730  0.148432"
      ]
     },
     "execution_count": 75,
     "metadata": {},
     "output_type": "execute_result"
    }
   ],
   "source": [
    "indexNamesArr = df_results.index.values\n",
    "i = indexNamesArr[-1]\n",
    "df_results.rename(index={i:'NN'}, inplace=True)\n",
    "df_results.head()"
   ]
  },
  {
   "cell_type": "code",
   "execution_count": 76,
   "metadata": {},
   "outputs": [
    {
     "data": {
      "text/plain": [
       "(38419, 5)"
      ]
     },
     "execution_count": 76,
     "metadata": {},
     "output_type": "execute_result"
    }
   ],
   "source": [
    "df_y_train.loc[:,'NN'] = pd.Series(y_train_pred)\n",
    "df_y_train.shape"
   ]
  },
  {
   "cell_type": "code",
   "execution_count": 77,
   "metadata": {},
   "outputs": [
    {
     "data": {
      "text/plain": [
       "(16466, 5)"
      ]
     },
     "execution_count": 77,
     "metadata": {},
     "output_type": "execute_result"
    }
   ],
   "source": [
    "df_y_test.loc[:,'NN'] = pd.Series(y_test_pred)\n",
    "df_y_test.shape"
   ]
  },
  {
   "cell_type": "code",
   "execution_count": 78,
   "metadata": {},
   "outputs": [
    {
     "data": {
      "text/html": [
       "<div>\n",
       "<style scoped>\n",
       "    .dataframe tbody tr th:only-of-type {\n",
       "        vertical-align: middle;\n",
       "    }\n",
       "\n",
       "    .dataframe tbody tr th {\n",
       "        vertical-align: top;\n",
       "    }\n",
       "\n",
       "    .dataframe thead th {\n",
       "        text-align: right;\n",
       "    }\n",
       "</style>\n",
       "<table border=\"1\" class=\"dataframe\">\n",
       "  <thead>\n",
       "    <tr style=\"text-align: right;\">\n",
       "      <th></th>\n",
       "      <th>OLS</th>\n",
       "      <th>RF</th>\n",
       "      <th>SV</th>\n",
       "      <th>BSV</th>\n",
       "      <th>NN</th>\n",
       "    </tr>\n",
       "  </thead>\n",
       "  <tbody>\n",
       "    <tr>\n",
       "      <th>0</th>\n",
       "      <td>16.780056</td>\n",
       "      <td>15.790575</td>\n",
       "      <td>15.810559</td>\n",
       "      <td>16.209134</td>\n",
       "      <td>15.827529</td>\n",
       "    </tr>\n",
       "    <tr>\n",
       "      <th>1</th>\n",
       "      <td>12.679535</td>\n",
       "      <td>12.509075</td>\n",
       "      <td>11.500928</td>\n",
       "      <td>11.691078</td>\n",
       "      <td>12.816955</td>\n",
       "    </tr>\n",
       "    <tr>\n",
       "      <th>2</th>\n",
       "      <td>15.029712</td>\n",
       "      <td>15.122949</td>\n",
       "      <td>15.251522</td>\n",
       "      <td>15.112296</td>\n",
       "      <td>15.147449</td>\n",
       "    </tr>\n",
       "    <tr>\n",
       "      <th>3</th>\n",
       "      <td>15.330722</td>\n",
       "      <td>15.242884</td>\n",
       "      <td>15.648563</td>\n",
       "      <td>15.659669</td>\n",
       "      <td>15.337663</td>\n",
       "    </tr>\n",
       "    <tr>\n",
       "      <th>4</th>\n",
       "      <td>11.662264</td>\n",
       "      <td>12.411303</td>\n",
       "      <td>11.244985</td>\n",
       "      <td>11.278633</td>\n",
       "      <td>11.962216</td>\n",
       "    </tr>\n",
       "  </tbody>\n",
       "</table>\n",
       "</div>"
      ],
      "text/plain": [
       "         OLS         RF         SV        BSV         NN\n",
       "0  16.780056  15.790575  15.810559  16.209134  15.827529\n",
       "1  12.679535  12.509075  11.500928  11.691078  12.816955\n",
       "2  15.029712  15.122949  15.251522  15.112296  15.147449\n",
       "3  15.330722  15.242884  15.648563  15.659669  15.337663\n",
       "4  11.662264  12.411303  11.244985  11.278633  11.962216"
      ]
     },
     "execution_count": 78,
     "metadata": {},
     "output_type": "execute_result"
    }
   ],
   "source": [
    "df_y_train.head()"
   ]
  },
  {
   "cell_type": "code",
   "execution_count": 79,
   "metadata": {},
   "outputs": [
    {
     "data": {
      "text/html": [
       "<div>\n",
       "<style scoped>\n",
       "    .dataframe tbody tr th:only-of-type {\n",
       "        vertical-align: middle;\n",
       "    }\n",
       "\n",
       "    .dataframe tbody tr th {\n",
       "        vertical-align: top;\n",
       "    }\n",
       "\n",
       "    .dataframe thead th {\n",
       "        text-align: right;\n",
       "    }\n",
       "</style>\n",
       "<table border=\"1\" class=\"dataframe\">\n",
       "  <thead>\n",
       "    <tr style=\"text-align: right;\">\n",
       "      <th></th>\n",
       "      <th>OLS</th>\n",
       "      <th>RF</th>\n",
       "      <th>SV</th>\n",
       "      <th>BSV</th>\n",
       "      <th>NN</th>\n",
       "    </tr>\n",
       "  </thead>\n",
       "  <tbody>\n",
       "    <tr>\n",
       "      <th>0</th>\n",
       "      <td>15.275436</td>\n",
       "      <td>14.721972</td>\n",
       "      <td>15.345241</td>\n",
       "      <td>15.420818</td>\n",
       "      <td>14.835111</td>\n",
       "    </tr>\n",
       "    <tr>\n",
       "      <th>1</th>\n",
       "      <td>14.169345</td>\n",
       "      <td>13.581197</td>\n",
       "      <td>12.666565</td>\n",
       "      <td>13.252518</td>\n",
       "      <td>13.366796</td>\n",
       "    </tr>\n",
       "    <tr>\n",
       "      <th>2</th>\n",
       "      <td>15.504234</td>\n",
       "      <td>14.160836</td>\n",
       "      <td>15.902861</td>\n",
       "      <td>15.932961</td>\n",
       "      <td>15.113751</td>\n",
       "    </tr>\n",
       "    <tr>\n",
       "      <th>3</th>\n",
       "      <td>15.085562</td>\n",
       "      <td>15.651684</td>\n",
       "      <td>15.288001</td>\n",
       "      <td>15.340415</td>\n",
       "      <td>14.980753</td>\n",
       "    </tr>\n",
       "    <tr>\n",
       "      <th>4</th>\n",
       "      <td>15.499572</td>\n",
       "      <td>15.502973</td>\n",
       "      <td>15.845475</td>\n",
       "      <td>15.817521</td>\n",
       "      <td>15.460979</td>\n",
       "    </tr>\n",
       "  </tbody>\n",
       "</table>\n",
       "</div>"
      ],
      "text/plain": [
       "         OLS         RF         SV        BSV         NN\n",
       "0  15.275436  14.721972  15.345241  15.420818  14.835111\n",
       "1  14.169345  13.581197  12.666565  13.252518  13.366796\n",
       "2  15.504234  14.160836  15.902861  15.932961  15.113751\n",
       "3  15.085562  15.651684  15.288001  15.340415  14.980753\n",
       "4  15.499572  15.502973  15.845475  15.817521  15.460979"
      ]
     },
     "execution_count": 79,
     "metadata": {},
     "output_type": "execute_result"
    }
   ],
   "source": [
    "df_y_test.head()"
   ]
  },
  {
   "cell_type": "code",
   "execution_count": 80,
   "metadata": {},
   "outputs": [
    {
     "data": {
      "text/plain": [
       "(38419, 6)"
      ]
     },
     "execution_count": 80,
     "metadata": {},
     "output_type": "execute_result"
    }
   ],
   "source": [
    "df_y_train.loc[:,'Y'] = pd.Series(y_train.ravel())\n",
    "df_y_train.shape"
   ]
  },
  {
   "cell_type": "code",
   "execution_count": 81,
   "metadata": {},
   "outputs": [
    {
     "data": {
      "text/plain": [
       "(16466, 6)"
      ]
     },
     "execution_count": 81,
     "metadata": {},
     "output_type": "execute_result"
    }
   ],
   "source": [
    "df_y_test.loc[:,'Y'] = pd.Series(y_test.ravel())\n",
    "df_y_test.shape"
   ]
  },
  {
   "cell_type": "code",
   "execution_count": 82,
   "metadata": {},
   "outputs": [
    {
     "data": {
      "text/html": [
       "<div>\n",
       "<style scoped>\n",
       "    .dataframe tbody tr th:only-of-type {\n",
       "        vertical-align: middle;\n",
       "    }\n",
       "\n",
       "    .dataframe tbody tr th {\n",
       "        vertical-align: top;\n",
       "    }\n",
       "\n",
       "    .dataframe thead th {\n",
       "        text-align: right;\n",
       "    }\n",
       "</style>\n",
       "<table border=\"1\" class=\"dataframe\">\n",
       "  <thead>\n",
       "    <tr style=\"text-align: right;\">\n",
       "      <th></th>\n",
       "      <th>OLS</th>\n",
       "      <th>RF</th>\n",
       "      <th>SV</th>\n",
       "      <th>BSV</th>\n",
       "      <th>NN</th>\n",
       "      <th>Y</th>\n",
       "    </tr>\n",
       "  </thead>\n",
       "  <tbody>\n",
       "    <tr>\n",
       "      <th>0</th>\n",
       "      <td>16.780056</td>\n",
       "      <td>15.790575</td>\n",
       "      <td>15.810559</td>\n",
       "      <td>16.209134</td>\n",
       "      <td>15.827529</td>\n",
       "      <td>11</td>\n",
       "    </tr>\n",
       "    <tr>\n",
       "      <th>1</th>\n",
       "      <td>12.679535</td>\n",
       "      <td>12.509075</td>\n",
       "      <td>11.500928</td>\n",
       "      <td>11.691078</td>\n",
       "      <td>12.816955</td>\n",
       "      <td>15</td>\n",
       "    </tr>\n",
       "    <tr>\n",
       "      <th>2</th>\n",
       "      <td>15.029712</td>\n",
       "      <td>15.122949</td>\n",
       "      <td>15.251522</td>\n",
       "      <td>15.112296</td>\n",
       "      <td>15.147449</td>\n",
       "      <td>16</td>\n",
       "    </tr>\n",
       "    <tr>\n",
       "      <th>3</th>\n",
       "      <td>15.330722</td>\n",
       "      <td>15.242884</td>\n",
       "      <td>15.648563</td>\n",
       "      <td>15.659669</td>\n",
       "      <td>15.337663</td>\n",
       "      <td>16</td>\n",
       "    </tr>\n",
       "    <tr>\n",
       "      <th>4</th>\n",
       "      <td>11.662264</td>\n",
       "      <td>12.411303</td>\n",
       "      <td>11.244985</td>\n",
       "      <td>11.278633</td>\n",
       "      <td>11.962216</td>\n",
       "      <td>16</td>\n",
       "    </tr>\n",
       "  </tbody>\n",
       "</table>\n",
       "</div>"
      ],
      "text/plain": [
       "         OLS         RF         SV        BSV         NN   Y\n",
       "0  16.780056  15.790575  15.810559  16.209134  15.827529  11\n",
       "1  12.679535  12.509075  11.500928  11.691078  12.816955  15\n",
       "2  15.029712  15.122949  15.251522  15.112296  15.147449  16\n",
       "3  15.330722  15.242884  15.648563  15.659669  15.337663  16\n",
       "4  11.662264  12.411303  11.244985  11.278633  11.962216  16"
      ]
     },
     "execution_count": 82,
     "metadata": {},
     "output_type": "execute_result"
    }
   ],
   "source": [
    "df_y_train.head()"
   ]
  },
  {
   "cell_type": "code",
   "execution_count": 83,
   "metadata": {},
   "outputs": [
    {
     "data": {
      "text/html": [
       "<div>\n",
       "<style scoped>\n",
       "    .dataframe tbody tr th:only-of-type {\n",
       "        vertical-align: middle;\n",
       "    }\n",
       "\n",
       "    .dataframe tbody tr th {\n",
       "        vertical-align: top;\n",
       "    }\n",
       "\n",
       "    .dataframe thead th {\n",
       "        text-align: right;\n",
       "    }\n",
       "</style>\n",
       "<table border=\"1\" class=\"dataframe\">\n",
       "  <thead>\n",
       "    <tr style=\"text-align: right;\">\n",
       "      <th></th>\n",
       "      <th>OLS</th>\n",
       "      <th>RF</th>\n",
       "      <th>SV</th>\n",
       "      <th>BSV</th>\n",
       "      <th>NN</th>\n",
       "      <th>Y</th>\n",
       "    </tr>\n",
       "  </thead>\n",
       "  <tbody>\n",
       "    <tr>\n",
       "      <th>0</th>\n",
       "      <td>15.275436</td>\n",
       "      <td>14.721972</td>\n",
       "      <td>15.345241</td>\n",
       "      <td>15.420818</td>\n",
       "      <td>14.835111</td>\n",
       "      <td>16</td>\n",
       "    </tr>\n",
       "    <tr>\n",
       "      <th>1</th>\n",
       "      <td>14.169345</td>\n",
       "      <td>13.581197</td>\n",
       "      <td>12.666565</td>\n",
       "      <td>13.252518</td>\n",
       "      <td>13.366796</td>\n",
       "      <td>10</td>\n",
       "    </tr>\n",
       "    <tr>\n",
       "      <th>2</th>\n",
       "      <td>15.504234</td>\n",
       "      <td>14.160836</td>\n",
       "      <td>15.902861</td>\n",
       "      <td>15.932961</td>\n",
       "      <td>15.113751</td>\n",
       "      <td>9</td>\n",
       "    </tr>\n",
       "    <tr>\n",
       "      <th>3</th>\n",
       "      <td>15.085562</td>\n",
       "      <td>15.651684</td>\n",
       "      <td>15.288001</td>\n",
       "      <td>15.340415</td>\n",
       "      <td>14.980753</td>\n",
       "      <td>19</td>\n",
       "    </tr>\n",
       "    <tr>\n",
       "      <th>4</th>\n",
       "      <td>15.499572</td>\n",
       "      <td>15.502973</td>\n",
       "      <td>15.845475</td>\n",
       "      <td>15.817521</td>\n",
       "      <td>15.460979</td>\n",
       "      <td>15</td>\n",
       "    </tr>\n",
       "  </tbody>\n",
       "</table>\n",
       "</div>"
      ],
      "text/plain": [
       "         OLS         RF         SV        BSV         NN   Y\n",
       "0  15.275436  14.721972  15.345241  15.420818  14.835111  16\n",
       "1  14.169345  13.581197  12.666565  13.252518  13.366796  10\n",
       "2  15.504234  14.160836  15.902861  15.932961  15.113751   9\n",
       "3  15.085562  15.651684  15.288001  15.340415  14.980753  19\n",
       "4  15.499572  15.502973  15.845475  15.817521  15.460979  15"
      ]
     },
     "execution_count": 83,
     "metadata": {},
     "output_type": "execute_result"
    }
   ],
   "source": [
    "df_y_test.head()"
   ]
  },
  {
   "cell_type": "code",
   "execution_count": 84,
   "metadata": {},
   "outputs": [
    {
     "data": {
      "text/html": [
       "<style  type=\"text/css\" >\n",
       "    #T_bcba838c_bdb3_11e9_a8c4_9cb6d0c3b1c2row0_col0 {\n",
       "            background-color:  #b40426;\n",
       "            color:  #f1f1f1;\n",
       "        }    #T_bcba838c_bdb3_11e9_a8c4_9cb6d0c3b1c2row0_col1 {\n",
       "            background-color:  #f7a688;\n",
       "            color:  #000000;\n",
       "        }    #T_bcba838c_bdb3_11e9_a8c4_9cb6d0c3b1c2row0_col2 {\n",
       "            background-color:  #d85646;\n",
       "            color:  #000000;\n",
       "        }    #T_bcba838c_bdb3_11e9_a8c4_9cb6d0c3b1c2row0_col3 {\n",
       "            background-color:  #cc403a;\n",
       "            color:  #f1f1f1;\n",
       "        }    #T_bcba838c_bdb3_11e9_a8c4_9cb6d0c3b1c2row0_col4 {\n",
       "            background-color:  #dd5f4b;\n",
       "            color:  #000000;\n",
       "        }    #T_bcba838c_bdb3_11e9_a8c4_9cb6d0c3b1c2row0_col5 {\n",
       "            background-color:  #3b4cc0;\n",
       "            color:  #f1f1f1;\n",
       "        }    #T_bcba838c_bdb3_11e9_a8c4_9cb6d0c3b1c2row1_col0 {\n",
       "            background-color:  #f29072;\n",
       "            color:  #000000;\n",
       "        }    #T_bcba838c_bdb3_11e9_a8c4_9cb6d0c3b1c2row1_col1 {\n",
       "            background-color:  #b40426;\n",
       "            color:  #f1f1f1;\n",
       "        }    #T_bcba838c_bdb3_11e9_a8c4_9cb6d0c3b1c2row1_col2 {\n",
       "            background-color:  #e9785d;\n",
       "            color:  #000000;\n",
       "        }    #T_bcba838c_bdb3_11e9_a8c4_9cb6d0c3b1c2row1_col3 {\n",
       "            background-color:  #ec7f63;\n",
       "            color:  #000000;\n",
       "        }    #T_bcba838c_bdb3_11e9_a8c4_9cb6d0c3b1c2row1_col4 {\n",
       "            background-color:  #e8765c;\n",
       "            color:  #000000;\n",
       "        }    #T_bcba838c_bdb3_11e9_a8c4_9cb6d0c3b1c2row1_col5 {\n",
       "            background-color:  #779af7;\n",
       "            color:  #000000;\n",
       "        }    #T_bcba838c_bdb3_11e9_a8c4_9cb6d0c3b1c2row2_col0 {\n",
       "            background-color:  #d75445;\n",
       "            color:  #000000;\n",
       "        }    #T_bcba838c_bdb3_11e9_a8c4_9cb6d0c3b1c2row2_col1 {\n",
       "            background-color:  #ee8669;\n",
       "            color:  #000000;\n",
       "        }    #T_bcba838c_bdb3_11e9_a8c4_9cb6d0c3b1c2row2_col2 {\n",
       "            background-color:  #b40426;\n",
       "            color:  #f1f1f1;\n",
       "        }    #T_bcba838c_bdb3_11e9_a8c4_9cb6d0c3b1c2row2_col3 {\n",
       "            background-color:  #ba162b;\n",
       "            color:  #f1f1f1;\n",
       "        }    #T_bcba838c_bdb3_11e9_a8c4_9cb6d0c3b1c2row2_col4 {\n",
       "            background-color:  #c43032;\n",
       "            color:  #f1f1f1;\n",
       "        }    #T_bcba838c_bdb3_11e9_a8c4_9cb6d0c3b1c2row2_col5 {\n",
       "            background-color:  #455cce;\n",
       "            color:  #f1f1f1;\n",
       "        }    #T_bcba838c_bdb3_11e9_a8c4_9cb6d0c3b1c2row3_col0 {\n",
       "            background-color:  #cb3e38;\n",
       "            color:  #f1f1f1;\n",
       "        }    #T_bcba838c_bdb3_11e9_a8c4_9cb6d0c3b1c2row3_col1 {\n",
       "            background-color:  #f29072;\n",
       "            color:  #000000;\n",
       "        }    #T_bcba838c_bdb3_11e9_a8c4_9cb6d0c3b1c2row3_col2 {\n",
       "            background-color:  #ba162b;\n",
       "            color:  #f1f1f1;\n",
       "        }    #T_bcba838c_bdb3_11e9_a8c4_9cb6d0c3b1c2row3_col3 {\n",
       "            background-color:  #b40426;\n",
       "            color:  #f1f1f1;\n",
       "        }    #T_bcba838c_bdb3_11e9_a8c4_9cb6d0c3b1c2row3_col4 {\n",
       "            background-color:  #ca3b37;\n",
       "            color:  #f1f1f1;\n",
       "        }    #T_bcba838c_bdb3_11e9_a8c4_9cb6d0c3b1c2row3_col5 {\n",
       "            background-color:  #4257c9;\n",
       "            color:  #f1f1f1;\n",
       "        }    #T_bcba838c_bdb3_11e9_a8c4_9cb6d0c3b1c2row4_col0 {\n",
       "            background-color:  #da5a49;\n",
       "            color:  #000000;\n",
       "        }    #T_bcba838c_bdb3_11e9_a8c4_9cb6d0c3b1c2row4_col1 {\n",
       "            background-color:  #ee8468;\n",
       "            color:  #000000;\n",
       "        }    #T_bcba838c_bdb3_11e9_a8c4_9cb6d0c3b1c2row4_col2 {\n",
       "            background-color:  #c43032;\n",
       "            color:  #f1f1f1;\n",
       "        }    #T_bcba838c_bdb3_11e9_a8c4_9cb6d0c3b1c2row4_col3 {\n",
       "            background-color:  #c83836;\n",
       "            color:  #f1f1f1;\n",
       "        }    #T_bcba838c_bdb3_11e9_a8c4_9cb6d0c3b1c2row4_col4 {\n",
       "            background-color:  #b40426;\n",
       "            color:  #f1f1f1;\n",
       "        }    #T_bcba838c_bdb3_11e9_a8c4_9cb6d0c3b1c2row4_col5 {\n",
       "            background-color:  #4a63d3;\n",
       "            color:  #f1f1f1;\n",
       "        }    #T_bcba838c_bdb3_11e9_a8c4_9cb6d0c3b1c2row5_col0 {\n",
       "            background-color:  #3b4cc0;\n",
       "            color:  #f1f1f1;\n",
       "        }    #T_bcba838c_bdb3_11e9_a8c4_9cb6d0c3b1c2row5_col1 {\n",
       "            background-color:  #3b4cc0;\n",
       "            color:  #f1f1f1;\n",
       "        }    #T_bcba838c_bdb3_11e9_a8c4_9cb6d0c3b1c2row5_col2 {\n",
       "            background-color:  #3b4cc0;\n",
       "            color:  #f1f1f1;\n",
       "        }    #T_bcba838c_bdb3_11e9_a8c4_9cb6d0c3b1c2row5_col3 {\n",
       "            background-color:  #3b4cc0;\n",
       "            color:  #f1f1f1;\n",
       "        }    #T_bcba838c_bdb3_11e9_a8c4_9cb6d0c3b1c2row5_col4 {\n",
       "            background-color:  #3b4cc0;\n",
       "            color:  #f1f1f1;\n",
       "        }    #T_bcba838c_bdb3_11e9_a8c4_9cb6d0c3b1c2row5_col5 {\n",
       "            background-color:  #b40426;\n",
       "            color:  #f1f1f1;\n",
       "        }</style><table id=\"T_bcba838c_bdb3_11e9_a8c4_9cb6d0c3b1c2\" ><thead>    <tr>        <th class=\"blank level0\" ></th>        <th class=\"col_heading level0 col0\" >OLS</th>        <th class=\"col_heading level0 col1\" >RF</th>        <th class=\"col_heading level0 col2\" >SV</th>        <th class=\"col_heading level0 col3\" >BSV</th>        <th class=\"col_heading level0 col4\" >NN</th>        <th class=\"col_heading level0 col5\" >Y</th>    </tr></thead><tbody>\n",
       "                <tr>\n",
       "                        <th id=\"T_bcba838c_bdb3_11e9_a8c4_9cb6d0c3b1c2level0_row0\" class=\"row_heading level0 row0\" >OLS</th>\n",
       "                        <td id=\"T_bcba838c_bdb3_11e9_a8c4_9cb6d0c3b1c2row0_col0\" class=\"data row0 col0\" >1</td>\n",
       "                        <td id=\"T_bcba838c_bdb3_11e9_a8c4_9cb6d0c3b1c2row0_col1\" class=\"data row0 col1\" >0.85</td>\n",
       "                        <td id=\"T_bcba838c_bdb3_11e9_a8c4_9cb6d0c3b1c2row0_col2\" class=\"data row0 col2\" >0.93</td>\n",
       "                        <td id=\"T_bcba838c_bdb3_11e9_a8c4_9cb6d0c3b1c2row0_col3\" class=\"data row0 col3\" >0.96</td>\n",
       "                        <td id=\"T_bcba838c_bdb3_11e9_a8c4_9cb6d0c3b1c2row0_col4\" class=\"data row0 col4\" >0.92</td>\n",
       "                        <td id=\"T_bcba838c_bdb3_11e9_a8c4_9cb6d0c3b1c2row0_col5\" class=\"data row0 col5\" >0.36</td>\n",
       "            </tr>\n",
       "            <tr>\n",
       "                        <th id=\"T_bcba838c_bdb3_11e9_a8c4_9cb6d0c3b1c2level0_row1\" class=\"row_heading level0 row1\" >RF</th>\n",
       "                        <td id=\"T_bcba838c_bdb3_11e9_a8c4_9cb6d0c3b1c2row1_col0\" class=\"data row1 col0\" >0.85</td>\n",
       "                        <td id=\"T_bcba838c_bdb3_11e9_a8c4_9cb6d0c3b1c2row1_col1\" class=\"data row1 col1\" >1</td>\n",
       "                        <td id=\"T_bcba838c_bdb3_11e9_a8c4_9cb6d0c3b1c2row1_col2\" class=\"data row1 col2\" >0.89</td>\n",
       "                        <td id=\"T_bcba838c_bdb3_11e9_a8c4_9cb6d0c3b1c2row1_col3\" class=\"data row1 col3\" >0.88</td>\n",
       "                        <td id=\"T_bcba838c_bdb3_11e9_a8c4_9cb6d0c3b1c2row1_col4\" class=\"data row1 col4\" >0.9</td>\n",
       "                        <td id=\"T_bcba838c_bdb3_11e9_a8c4_9cb6d0c3b1c2row1_col5\" class=\"data row1 col5\" >0.48</td>\n",
       "            </tr>\n",
       "            <tr>\n",
       "                        <th id=\"T_bcba838c_bdb3_11e9_a8c4_9cb6d0c3b1c2level0_row2\" class=\"row_heading level0 row2\" >SV</th>\n",
       "                        <td id=\"T_bcba838c_bdb3_11e9_a8c4_9cb6d0c3b1c2row2_col0\" class=\"data row2 col0\" >0.93</td>\n",
       "                        <td id=\"T_bcba838c_bdb3_11e9_a8c4_9cb6d0c3b1c2row2_col1\" class=\"data row2 col1\" >0.89</td>\n",
       "                        <td id=\"T_bcba838c_bdb3_11e9_a8c4_9cb6d0c3b1c2row2_col2\" class=\"data row2 col2\" >1</td>\n",
       "                        <td id=\"T_bcba838c_bdb3_11e9_a8c4_9cb6d0c3b1c2row2_col3\" class=\"data row2 col3\" >0.99</td>\n",
       "                        <td id=\"T_bcba838c_bdb3_11e9_a8c4_9cb6d0c3b1c2row2_col4\" class=\"data row2 col4\" >0.97</td>\n",
       "                        <td id=\"T_bcba838c_bdb3_11e9_a8c4_9cb6d0c3b1c2row2_col5\" class=\"data row2 col5\" >0.38</td>\n",
       "            </tr>\n",
       "            <tr>\n",
       "                        <th id=\"T_bcba838c_bdb3_11e9_a8c4_9cb6d0c3b1c2level0_row3\" class=\"row_heading level0 row3\" >BSV</th>\n",
       "                        <td id=\"T_bcba838c_bdb3_11e9_a8c4_9cb6d0c3b1c2row3_col0\" class=\"data row3 col0\" >0.96</td>\n",
       "                        <td id=\"T_bcba838c_bdb3_11e9_a8c4_9cb6d0c3b1c2row3_col1\" class=\"data row3 col1\" >0.88</td>\n",
       "                        <td id=\"T_bcba838c_bdb3_11e9_a8c4_9cb6d0c3b1c2row3_col2\" class=\"data row3 col2\" >0.99</td>\n",
       "                        <td id=\"T_bcba838c_bdb3_11e9_a8c4_9cb6d0c3b1c2row3_col3\" class=\"data row3 col3\" >1</td>\n",
       "                        <td id=\"T_bcba838c_bdb3_11e9_a8c4_9cb6d0c3b1c2row3_col4\" class=\"data row3 col4\" >0.96</td>\n",
       "                        <td id=\"T_bcba838c_bdb3_11e9_a8c4_9cb6d0c3b1c2row3_col5\" class=\"data row3 col5\" >0.38</td>\n",
       "            </tr>\n",
       "            <tr>\n",
       "                        <th id=\"T_bcba838c_bdb3_11e9_a8c4_9cb6d0c3b1c2level0_row4\" class=\"row_heading level0 row4\" >NN</th>\n",
       "                        <td id=\"T_bcba838c_bdb3_11e9_a8c4_9cb6d0c3b1c2row4_col0\" class=\"data row4 col0\" >0.92</td>\n",
       "                        <td id=\"T_bcba838c_bdb3_11e9_a8c4_9cb6d0c3b1c2row4_col1\" class=\"data row4 col1\" >0.9</td>\n",
       "                        <td id=\"T_bcba838c_bdb3_11e9_a8c4_9cb6d0c3b1c2row4_col2\" class=\"data row4 col2\" >0.97</td>\n",
       "                        <td id=\"T_bcba838c_bdb3_11e9_a8c4_9cb6d0c3b1c2row4_col3\" class=\"data row4 col3\" >0.96</td>\n",
       "                        <td id=\"T_bcba838c_bdb3_11e9_a8c4_9cb6d0c3b1c2row4_col4\" class=\"data row4 col4\" >1</td>\n",
       "                        <td id=\"T_bcba838c_bdb3_11e9_a8c4_9cb6d0c3b1c2row4_col5\" class=\"data row4 col5\" >0.39</td>\n",
       "            </tr>\n",
       "            <tr>\n",
       "                        <th id=\"T_bcba838c_bdb3_11e9_a8c4_9cb6d0c3b1c2level0_row5\" class=\"row_heading level0 row5\" >Y</th>\n",
       "                        <td id=\"T_bcba838c_bdb3_11e9_a8c4_9cb6d0c3b1c2row5_col0\" class=\"data row5 col0\" >0.36</td>\n",
       "                        <td id=\"T_bcba838c_bdb3_11e9_a8c4_9cb6d0c3b1c2row5_col1\" class=\"data row5 col1\" >0.48</td>\n",
       "                        <td id=\"T_bcba838c_bdb3_11e9_a8c4_9cb6d0c3b1c2row5_col2\" class=\"data row5 col2\" >0.38</td>\n",
       "                        <td id=\"T_bcba838c_bdb3_11e9_a8c4_9cb6d0c3b1c2row5_col3\" class=\"data row5 col3\" >0.38</td>\n",
       "                        <td id=\"T_bcba838c_bdb3_11e9_a8c4_9cb6d0c3b1c2row5_col4\" class=\"data row5 col4\" >0.39</td>\n",
       "                        <td id=\"T_bcba838c_bdb3_11e9_a8c4_9cb6d0c3b1c2row5_col5\" class=\"data row5 col5\" >1</td>\n",
       "            </tr>\n",
       "    </tbody></table>"
      ],
      "text/plain": [
       "<pandas.io.formats.style.Styler at 0x27b665d8358>"
      ]
     },
     "execution_count": 84,
     "metadata": {},
     "output_type": "execute_result"
    }
   ],
   "source": [
    "corr= df_y_train.corr()\n",
    "corr.style.background_gradient(cmap='coolwarm', axis=None)\n",
    "corr.style.background_gradient(cmap='coolwarm').set_precision(2)"
   ]
  },
  {
   "cell_type": "code",
   "execution_count": 85,
   "metadata": {},
   "outputs": [
    {
     "data": {
      "text/html": [
       "<style  type=\"text/css\" >\n",
       "    #T_bcbec7c2_bdb3_11e9_b900_9cb6d0c3b1c2row0_col0 {\n",
       "            background-color:  #b40426;\n",
       "            color:  #f1f1f1;\n",
       "        }    #T_bcbec7c2_bdb3_11e9_b900_9cb6d0c3b1c2row0_col1 {\n",
       "            background-color:  #f39778;\n",
       "            color:  #000000;\n",
       "        }    #T_bcbec7c2_bdb3_11e9_b900_9cb6d0c3b1c2row0_col2 {\n",
       "            background-color:  #d75445;\n",
       "            color:  #000000;\n",
       "        }    #T_bcbec7c2_bdb3_11e9_b900_9cb6d0c3b1c2row0_col3 {\n",
       "            background-color:  #cb3e38;\n",
       "            color:  #f1f1f1;\n",
       "        }    #T_bcbec7c2_bdb3_11e9_b900_9cb6d0c3b1c2row0_col4 {\n",
       "            background-color:  #dd5f4b;\n",
       "            color:  #000000;\n",
       "        }    #T_bcbec7c2_bdb3_11e9_b900_9cb6d0c3b1c2row0_col5 {\n",
       "            background-color:  #3b4cc0;\n",
       "            color:  #f1f1f1;\n",
       "        }    #T_bcbec7c2_bdb3_11e9_b900_9cb6d0c3b1c2row1_col0 {\n",
       "            background-color:  #f18f71;\n",
       "            color:  #000000;\n",
       "        }    #T_bcbec7c2_bdb3_11e9_b900_9cb6d0c3b1c2row1_col1 {\n",
       "            background-color:  #b40426;\n",
       "            color:  #f1f1f1;\n",
       "        }    #T_bcbec7c2_bdb3_11e9_b900_9cb6d0c3b1c2row1_col2 {\n",
       "            background-color:  #e9785d;\n",
       "            color:  #000000;\n",
       "        }    #T_bcbec7c2_bdb3_11e9_b900_9cb6d0c3b1c2row1_col3 {\n",
       "            background-color:  #ec7f63;\n",
       "            color:  #000000;\n",
       "        }    #T_bcbec7c2_bdb3_11e9_b900_9cb6d0c3b1c2row1_col4 {\n",
       "            background-color:  #e8765c;\n",
       "            color:  #000000;\n",
       "        }    #T_bcbec7c2_bdb3_11e9_b900_9cb6d0c3b1c2row1_col5 {\n",
       "            background-color:  #536edd;\n",
       "            color:  #000000;\n",
       "        }    #T_bcbec7c2_bdb3_11e9_b900_9cb6d0c3b1c2row2_col0 {\n",
       "            background-color:  #d65244;\n",
       "            color:  #000000;\n",
       "        }    #T_bcbec7c2_bdb3_11e9_b900_9cb6d0c3b1c2row2_col1 {\n",
       "            background-color:  #ea7b60;\n",
       "            color:  #000000;\n",
       "        }    #T_bcbec7c2_bdb3_11e9_b900_9cb6d0c3b1c2row2_col2 {\n",
       "            background-color:  #b40426;\n",
       "            color:  #f1f1f1;\n",
       "        }    #T_bcbec7c2_bdb3_11e9_b900_9cb6d0c3b1c2row2_col3 {\n",
       "            background-color:  #ba162b;\n",
       "            color:  #f1f1f1;\n",
       "        }    #T_bcbec7c2_bdb3_11e9_b900_9cb6d0c3b1c2row2_col4 {\n",
       "            background-color:  #c53334;\n",
       "            color:  #f1f1f1;\n",
       "        }    #T_bcbec7c2_bdb3_11e9_b900_9cb6d0c3b1c2row2_col5 {\n",
       "            background-color:  #4358cb;\n",
       "            color:  #f1f1f1;\n",
       "        }    #T_bcbec7c2_bdb3_11e9_b900_9cb6d0c3b1c2row3_col0 {\n",
       "            background-color:  #cb3e38;\n",
       "            color:  #f1f1f1;\n",
       "        }    #T_bcbec7c2_bdb3_11e9_b900_9cb6d0c3b1c2row3_col1 {\n",
       "            background-color:  #ee8468;\n",
       "            color:  #000000;\n",
       "        }    #T_bcbec7c2_bdb3_11e9_b900_9cb6d0c3b1c2row3_col2 {\n",
       "            background-color:  #ba162b;\n",
       "            color:  #f1f1f1;\n",
       "        }    #T_bcbec7c2_bdb3_11e9_b900_9cb6d0c3b1c2row3_col3 {\n",
       "            background-color:  #b40426;\n",
       "            color:  #f1f1f1;\n",
       "        }    #T_bcbec7c2_bdb3_11e9_b900_9cb6d0c3b1c2row3_col4 {\n",
       "            background-color:  #ca3b37;\n",
       "            color:  #f1f1f1;\n",
       "        }    #T_bcbec7c2_bdb3_11e9_b900_9cb6d0c3b1c2row3_col5 {\n",
       "            background-color:  #4055c8;\n",
       "            color:  #f1f1f1;\n",
       "        }    #T_bcbec7c2_bdb3_11e9_b900_9cb6d0c3b1c2row4_col0 {\n",
       "            background-color:  #dc5d4a;\n",
       "            color:  #000000;\n",
       "        }    #T_bcbec7c2_bdb3_11e9_b900_9cb6d0c3b1c2row4_col1 {\n",
       "            background-color:  #e97a5f;\n",
       "            color:  #000000;\n",
       "        }    #T_bcbec7c2_bdb3_11e9_b900_9cb6d0c3b1c2row4_col2 {\n",
       "            background-color:  #c43032;\n",
       "            color:  #f1f1f1;\n",
       "        }    #T_bcbec7c2_bdb3_11e9_b900_9cb6d0c3b1c2row4_col3 {\n",
       "            background-color:  #ca3b37;\n",
       "            color:  #f1f1f1;\n",
       "        }    #T_bcbec7c2_bdb3_11e9_b900_9cb6d0c3b1c2row4_col4 {\n",
       "            background-color:  #b40426;\n",
       "            color:  #f1f1f1;\n",
       "        }    #T_bcbec7c2_bdb3_11e9_b900_9cb6d0c3b1c2row4_col5 {\n",
       "            background-color:  #445acc;\n",
       "            color:  #f1f1f1;\n",
       "        }    #T_bcbec7c2_bdb3_11e9_b900_9cb6d0c3b1c2row5_col0 {\n",
       "            background-color:  #3b4cc0;\n",
       "            color:  #f1f1f1;\n",
       "        }    #T_bcbec7c2_bdb3_11e9_b900_9cb6d0c3b1c2row5_col1 {\n",
       "            background-color:  #3b4cc0;\n",
       "            color:  #f1f1f1;\n",
       "        }    #T_bcbec7c2_bdb3_11e9_b900_9cb6d0c3b1c2row5_col2 {\n",
       "            background-color:  #3b4cc0;\n",
       "            color:  #f1f1f1;\n",
       "        }    #T_bcbec7c2_bdb3_11e9_b900_9cb6d0c3b1c2row5_col3 {\n",
       "            background-color:  #3b4cc0;\n",
       "            color:  #f1f1f1;\n",
       "        }    #T_bcbec7c2_bdb3_11e9_b900_9cb6d0c3b1c2row5_col4 {\n",
       "            background-color:  #3b4cc0;\n",
       "            color:  #f1f1f1;\n",
       "        }    #T_bcbec7c2_bdb3_11e9_b900_9cb6d0c3b1c2row5_col5 {\n",
       "            background-color:  #b40426;\n",
       "            color:  #f1f1f1;\n",
       "        }</style><table id=\"T_bcbec7c2_bdb3_11e9_b900_9cb6d0c3b1c2\" ><thead>    <tr>        <th class=\"blank level0\" ></th>        <th class=\"col_heading level0 col0\" >OLS</th>        <th class=\"col_heading level0 col1\" >RF</th>        <th class=\"col_heading level0 col2\" >SV</th>        <th class=\"col_heading level0 col3\" >BSV</th>        <th class=\"col_heading level0 col4\" >NN</th>        <th class=\"col_heading level0 col5\" >Y</th>    </tr></thead><tbody>\n",
       "                <tr>\n",
       "                        <th id=\"T_bcbec7c2_bdb3_11e9_b900_9cb6d0c3b1c2level0_row0\" class=\"row_heading level0 row0\" >OLS</th>\n",
       "                        <td id=\"T_bcbec7c2_bdb3_11e9_b900_9cb6d0c3b1c2row0_col0\" class=\"data row0 col0\" >1</td>\n",
       "                        <td id=\"T_bcbec7c2_bdb3_11e9_b900_9cb6d0c3b1c2row0_col1\" class=\"data row0 col1\" >0.86</td>\n",
       "                        <td id=\"T_bcbec7c2_bdb3_11e9_b900_9cb6d0c3b1c2row0_col2\" class=\"data row0 col2\" >0.94</td>\n",
       "                        <td id=\"T_bcbec7c2_bdb3_11e9_b900_9cb6d0c3b1c2row0_col3\" class=\"data row0 col3\" >0.96</td>\n",
       "                        <td id=\"T_bcbec7c2_bdb3_11e9_b900_9cb6d0c3b1c2row0_col4\" class=\"data row0 col4\" >0.92</td>\n",
       "                        <td id=\"T_bcbec7c2_bdb3_11e9_b900_9cb6d0c3b1c2row0_col5\" class=\"data row0 col5\" >0.37</td>\n",
       "            </tr>\n",
       "            <tr>\n",
       "                        <th id=\"T_bcbec7c2_bdb3_11e9_b900_9cb6d0c3b1c2level0_row1\" class=\"row_heading level0 row1\" >RF</th>\n",
       "                        <td id=\"T_bcbec7c2_bdb3_11e9_b900_9cb6d0c3b1c2row1_col0\" class=\"data row1 col0\" >0.86</td>\n",
       "                        <td id=\"T_bcbec7c2_bdb3_11e9_b900_9cb6d0c3b1c2row1_col1\" class=\"data row1 col1\" >1</td>\n",
       "                        <td id=\"T_bcbec7c2_bdb3_11e9_b900_9cb6d0c3b1c2row1_col2\" class=\"data row1 col2\" >0.89</td>\n",
       "                        <td id=\"T_bcbec7c2_bdb3_11e9_b900_9cb6d0c3b1c2row1_col3\" class=\"data row1 col3\" >0.88</td>\n",
       "                        <td id=\"T_bcbec7c2_bdb3_11e9_b900_9cb6d0c3b1c2row1_col4\" class=\"data row1 col4\" >0.9</td>\n",
       "                        <td id=\"T_bcbec7c2_bdb3_11e9_b900_9cb6d0c3b1c2row1_col5\" class=\"data row1 col5\" >0.42</td>\n",
       "            </tr>\n",
       "            <tr>\n",
       "                        <th id=\"T_bcbec7c2_bdb3_11e9_b900_9cb6d0c3b1c2level0_row2\" class=\"row_heading level0 row2\" >SV</th>\n",
       "                        <td id=\"T_bcbec7c2_bdb3_11e9_b900_9cb6d0c3b1c2row2_col0\" class=\"data row2 col0\" >0.94</td>\n",
       "                        <td id=\"T_bcbec7c2_bdb3_11e9_b900_9cb6d0c3b1c2row2_col1\" class=\"data row2 col1\" >0.89</td>\n",
       "                        <td id=\"T_bcbec7c2_bdb3_11e9_b900_9cb6d0c3b1c2row2_col2\" class=\"data row2 col2\" >1</td>\n",
       "                        <td id=\"T_bcbec7c2_bdb3_11e9_b900_9cb6d0c3b1c2row2_col3\" class=\"data row2 col3\" >0.99</td>\n",
       "                        <td id=\"T_bcbec7c2_bdb3_11e9_b900_9cb6d0c3b1c2row2_col4\" class=\"data row2 col4\" >0.97</td>\n",
       "                        <td id=\"T_bcbec7c2_bdb3_11e9_b900_9cb6d0c3b1c2row2_col5\" class=\"data row2 col5\" >0.38</td>\n",
       "            </tr>\n",
       "            <tr>\n",
       "                        <th id=\"T_bcbec7c2_bdb3_11e9_b900_9cb6d0c3b1c2level0_row3\" class=\"row_heading level0 row3\" >BSV</th>\n",
       "                        <td id=\"T_bcbec7c2_bdb3_11e9_b900_9cb6d0c3b1c2row3_col0\" class=\"data row3 col0\" >0.96</td>\n",
       "                        <td id=\"T_bcbec7c2_bdb3_11e9_b900_9cb6d0c3b1c2row3_col1\" class=\"data row3 col1\" >0.88</td>\n",
       "                        <td id=\"T_bcbec7c2_bdb3_11e9_b900_9cb6d0c3b1c2row3_col2\" class=\"data row3 col2\" >0.99</td>\n",
       "                        <td id=\"T_bcbec7c2_bdb3_11e9_b900_9cb6d0c3b1c2row3_col3\" class=\"data row3 col3\" >1</td>\n",
       "                        <td id=\"T_bcbec7c2_bdb3_11e9_b900_9cb6d0c3b1c2row3_col4\" class=\"data row3 col4\" >0.96</td>\n",
       "                        <td id=\"T_bcbec7c2_bdb3_11e9_b900_9cb6d0c3b1c2row3_col5\" class=\"data row3 col5\" >0.38</td>\n",
       "            </tr>\n",
       "            <tr>\n",
       "                        <th id=\"T_bcbec7c2_bdb3_11e9_b900_9cb6d0c3b1c2level0_row4\" class=\"row_heading level0 row4\" >NN</th>\n",
       "                        <td id=\"T_bcbec7c2_bdb3_11e9_b900_9cb6d0c3b1c2row4_col0\" class=\"data row4 col0\" >0.92</td>\n",
       "                        <td id=\"T_bcbec7c2_bdb3_11e9_b900_9cb6d0c3b1c2row4_col1\" class=\"data row4 col1\" >0.9</td>\n",
       "                        <td id=\"T_bcbec7c2_bdb3_11e9_b900_9cb6d0c3b1c2row4_col2\" class=\"data row4 col2\" >0.97</td>\n",
       "                        <td id=\"T_bcbec7c2_bdb3_11e9_b900_9cb6d0c3b1c2row4_col3\" class=\"data row4 col3\" >0.96</td>\n",
       "                        <td id=\"T_bcbec7c2_bdb3_11e9_b900_9cb6d0c3b1c2row4_col4\" class=\"data row4 col4\" >1</td>\n",
       "                        <td id=\"T_bcbec7c2_bdb3_11e9_b900_9cb6d0c3b1c2row4_col5\" class=\"data row4 col5\" >0.39</td>\n",
       "            </tr>\n",
       "            <tr>\n",
       "                        <th id=\"T_bcbec7c2_bdb3_11e9_b900_9cb6d0c3b1c2level0_row5\" class=\"row_heading level0 row5\" >Y</th>\n",
       "                        <td id=\"T_bcbec7c2_bdb3_11e9_b900_9cb6d0c3b1c2row5_col0\" class=\"data row5 col0\" >0.37</td>\n",
       "                        <td id=\"T_bcbec7c2_bdb3_11e9_b900_9cb6d0c3b1c2row5_col1\" class=\"data row5 col1\" >0.42</td>\n",
       "                        <td id=\"T_bcbec7c2_bdb3_11e9_b900_9cb6d0c3b1c2row5_col2\" class=\"data row5 col2\" >0.38</td>\n",
       "                        <td id=\"T_bcbec7c2_bdb3_11e9_b900_9cb6d0c3b1c2row5_col3\" class=\"data row5 col3\" >0.38</td>\n",
       "                        <td id=\"T_bcbec7c2_bdb3_11e9_b900_9cb6d0c3b1c2row5_col4\" class=\"data row5 col4\" >0.39</td>\n",
       "                        <td id=\"T_bcbec7c2_bdb3_11e9_b900_9cb6d0c3b1c2row5_col5\" class=\"data row5 col5\" >1</td>\n",
       "            </tr>\n",
       "    </tbody></table>"
      ],
      "text/plain": [
       "<pandas.io.formats.style.Styler at 0x27b633706a0>"
      ]
     },
     "execution_count": 85,
     "metadata": {},
     "output_type": "execute_result"
    }
   ],
   "source": [
    "corr= df_y_test.corr()\n",
    "corr.style.background_gradient(cmap='coolwarm', axis=None)\n",
    "corr.style.background_gradient(cmap='coolwarm').set_precision(2)"
   ]
  },
  {
   "cell_type": "markdown",
   "metadata": {},
   "source": [
    "## XGBoost from models outputs"
   ]
  },
  {
   "cell_type": "code",
   "execution_count": 86,
   "metadata": {},
   "outputs": [],
   "source": [
    "df_y = pd.concat([df_y_train, df_y_test], axis=0)"
   ]
  },
  {
   "cell_type": "code",
   "execution_count": 87,
   "metadata": {},
   "outputs": [
    {
     "data": {
      "text/html": [
       "<div>\n",
       "<style scoped>\n",
       "    .dataframe tbody tr th:only-of-type {\n",
       "        vertical-align: middle;\n",
       "    }\n",
       "\n",
       "    .dataframe tbody tr th {\n",
       "        vertical-align: top;\n",
       "    }\n",
       "\n",
       "    .dataframe thead th {\n",
       "        text-align: right;\n",
       "    }\n",
       "</style>\n",
       "<table border=\"1\" class=\"dataframe\">\n",
       "  <thead>\n",
       "    <tr style=\"text-align: right;\">\n",
       "      <th></th>\n",
       "      <th>OLS</th>\n",
       "      <th>RF</th>\n",
       "      <th>SV</th>\n",
       "      <th>BSV</th>\n",
       "      <th>NN</th>\n",
       "      <th>Y</th>\n",
       "    </tr>\n",
       "  </thead>\n",
       "  <tbody>\n",
       "    <tr>\n",
       "      <th>0</th>\n",
       "      <td>16.780056</td>\n",
       "      <td>15.790575</td>\n",
       "      <td>15.810559</td>\n",
       "      <td>16.209134</td>\n",
       "      <td>15.827529</td>\n",
       "      <td>11</td>\n",
       "    </tr>\n",
       "    <tr>\n",
       "      <th>1</th>\n",
       "      <td>12.679535</td>\n",
       "      <td>12.509075</td>\n",
       "      <td>11.500928</td>\n",
       "      <td>11.691078</td>\n",
       "      <td>12.816955</td>\n",
       "      <td>15</td>\n",
       "    </tr>\n",
       "    <tr>\n",
       "      <th>2</th>\n",
       "      <td>15.029712</td>\n",
       "      <td>15.122949</td>\n",
       "      <td>15.251522</td>\n",
       "      <td>15.112296</td>\n",
       "      <td>15.147449</td>\n",
       "      <td>16</td>\n",
       "    </tr>\n",
       "    <tr>\n",
       "      <th>3</th>\n",
       "      <td>15.330722</td>\n",
       "      <td>15.242884</td>\n",
       "      <td>15.648563</td>\n",
       "      <td>15.659669</td>\n",
       "      <td>15.337663</td>\n",
       "      <td>16</td>\n",
       "    </tr>\n",
       "    <tr>\n",
       "      <th>4</th>\n",
       "      <td>11.662264</td>\n",
       "      <td>12.411303</td>\n",
       "      <td>11.244985</td>\n",
       "      <td>11.278633</td>\n",
       "      <td>11.962216</td>\n",
       "      <td>16</td>\n",
       "    </tr>\n",
       "  </tbody>\n",
       "</table>\n",
       "</div>"
      ],
      "text/plain": [
       "         OLS         RF         SV        BSV         NN   Y\n",
       "0  16.780056  15.790575  15.810559  16.209134  15.827529  11\n",
       "1  12.679535  12.509075  11.500928  11.691078  12.816955  15\n",
       "2  15.029712  15.122949  15.251522  15.112296  15.147449  16\n",
       "3  15.330722  15.242884  15.648563  15.659669  15.337663  16\n",
       "4  11.662264  12.411303  11.244985  11.278633  11.962216  16"
      ]
     },
     "execution_count": 87,
     "metadata": {},
     "output_type": "execute_result"
    }
   ],
   "source": [
    "df_y.head()"
   ]
  },
  {
   "cell_type": "code",
   "execution_count": 88,
   "metadata": {},
   "outputs": [
    {
     "data": {
      "text/plain": [
       "(54885, 6)"
      ]
     },
     "execution_count": 88,
     "metadata": {},
     "output_type": "execute_result"
    }
   ],
   "source": [
    "df_y.shape"
   ]
  },
  {
   "cell_type": "code",
   "execution_count": 89,
   "metadata": {},
   "outputs": [],
   "source": [
    "l=df_y.shape[1]-1\n",
    "XY = df_y.iloc[:, :l]\n",
    "XY.columns\n",
    "yy = df_y.iloc[:, -1]\n",
    "yy = yy.to_numpy()\n",
    "yy=yy.reshape(-1,1)"
   ]
  },
  {
   "cell_type": "code",
   "execution_count": 90,
   "metadata": {},
   "outputs": [
    {
     "data": {
      "text/plain": [
       "5"
      ]
     },
     "execution_count": 90,
     "metadata": {},
     "output_type": "execute_result"
    }
   ],
   "source": [
    "len(XY.T)"
   ]
  },
  {
   "cell_type": "code",
   "execution_count": 91,
   "metadata": {},
   "outputs": [],
   "source": [
    "yy_train= yy[0:df_y_train.shape[0]]\n",
    "yy_test=yy[df_y_train.shape[0]:]"
   ]
  },
  {
   "cell_type": "code",
   "execution_count": 92,
   "metadata": {},
   "outputs": [
    {
     "data": {
      "text/plain": [
       "38419"
      ]
     },
     "execution_count": 92,
     "metadata": {},
     "output_type": "execute_result"
    }
   ],
   "source": [
    "len(yy_train)"
   ]
  },
  {
   "cell_type": "code",
   "execution_count": 93,
   "metadata": {},
   "outputs": [
    {
     "data": {
      "text/plain": [
       "16466"
      ]
     },
     "execution_count": 93,
     "metadata": {},
     "output_type": "execute_result"
    }
   ],
   "source": [
    "len(yy_test)"
   ]
  },
  {
   "cell_type": "code",
   "execution_count": 94,
   "metadata": {},
   "outputs": [],
   "source": [
    "XY_train=XY.iloc[0:df_y_train.shape[0],:]\n",
    "XY_test=XY.iloc[df_y_train.shape[0]:,:]"
   ]
  },
  {
   "cell_type": "code",
   "execution_count": 95,
   "metadata": {},
   "outputs": [
    {
     "data": {
      "text/plain": [
       "(38419, 5)"
      ]
     },
     "execution_count": 95,
     "metadata": {},
     "output_type": "execute_result"
    }
   ],
   "source": [
    "XY_train.shape"
   ]
  },
  {
   "cell_type": "code",
   "execution_count": 96,
   "metadata": {},
   "outputs": [
    {
     "data": {
      "text/plain": [
       "(16466, 5)"
      ]
     },
     "execution_count": 96,
     "metadata": {},
     "output_type": "execute_result"
    }
   ],
   "source": [
    "XY_test.shape"
   ]
  },
  {
   "cell_type": "code",
   "execution_count": 97,
   "metadata": {},
   "outputs": [],
   "source": [
    "XY_std = sc.fit(XY_train)"
   ]
  },
  {
   "cell_type": "code",
   "execution_count": 98,
   "metadata": {},
   "outputs": [],
   "source": [
    "XY_train_std = XY_std.transform(XY_train)\n",
    "XY_test_std = XY_std.transform(XY_test)"
   ]
  },
  {
   "cell_type": "code",
   "execution_count": 99,
   "metadata": {},
   "outputs": [],
   "source": [
    "from sklearn.decomposition import PCA"
   ]
  },
  {
   "cell_type": "code",
   "execution_count": 100,
   "metadata": {},
   "outputs": [
    {
     "data": {
      "text/plain": [
       "PCA(copy=True, iterated_power='auto', n_components=None, random_state=None,\n",
       "    svd_solver='auto', tol=0.0, whiten=False)"
      ]
     },
     "execution_count": 100,
     "metadata": {},
     "output_type": "execute_result"
    }
   ],
   "source": [
    "pca_train = PCA()\n",
    "pca_train.fit(XY_train_std)"
   ]
  },
  {
   "cell_type": "code",
   "execution_count": 101,
   "metadata": {},
   "outputs": [
    {
     "name": "stdout",
     "output_type": "stream",
     "text": [
      "[0.94 0.03 0.02 0.01 0.  ]\n"
     ]
    }
   ],
   "source": [
    "print(np.round(pca_train.explained_variance_ratio_,2))"
   ]
  },
  {
   "cell_type": "code",
   "execution_count": 102,
   "metadata": {},
   "outputs": [],
   "source": [
    "pca_train = PCA(n_components=4, random_state=42)"
   ]
  },
  {
   "cell_type": "code",
   "execution_count": 103,
   "metadata": {},
   "outputs": [
    {
     "data": {
      "text/html": [
       "<div>\n",
       "<style scoped>\n",
       "    .dataframe tbody tr th:only-of-type {\n",
       "        vertical-align: middle;\n",
       "    }\n",
       "\n",
       "    .dataframe tbody tr th {\n",
       "        vertical-align: top;\n",
       "    }\n",
       "\n",
       "    .dataframe thead th {\n",
       "        text-align: right;\n",
       "    }\n",
       "</style>\n",
       "<table border=\"1\" class=\"dataframe\">\n",
       "  <thead>\n",
       "    <tr style=\"text-align: right;\">\n",
       "      <th></th>\n",
       "      <th>PC1</th>\n",
       "      <th>PC2</th>\n",
       "      <th>PC3</th>\n",
       "      <th>PC4</th>\n",
       "    </tr>\n",
       "  </thead>\n",
       "  <tbody>\n",
       "    <tr>\n",
       "      <th>0</th>\n",
       "      <td>-2.947421</td>\n",
       "      <td>-0.398053</td>\n",
       "      <td>-0.802197</td>\n",
       "      <td>-0.264157</td>\n",
       "    </tr>\n",
       "    <tr>\n",
       "      <th>1</th>\n",
       "      <td>4.009442</td>\n",
       "      <td>0.218340</td>\n",
       "      <td>-0.149652</td>\n",
       "      <td>-0.709645</td>\n",
       "    </tr>\n",
       "    <tr>\n",
       "      <th>2</th>\n",
       "      <td>-1.181149</td>\n",
       "      <td>0.044297</td>\n",
       "      <td>0.017810</td>\n",
       "      <td>-0.105116</td>\n",
       "    </tr>\n",
       "    <tr>\n",
       "      <th>3</th>\n",
       "      <td>-1.741588</td>\n",
       "      <td>-0.136163</td>\n",
       "      <td>0.017574</td>\n",
       "      <td>0.039590</td>\n",
       "    </tr>\n",
       "    <tr>\n",
       "      <th>4</th>\n",
       "      <td>5.009793</td>\n",
       "      <td>0.645026</td>\n",
       "      <td>0.137287</td>\n",
       "      <td>-0.207729</td>\n",
       "    </tr>\n",
       "  </tbody>\n",
       "</table>\n",
       "</div>"
      ],
      "text/plain": [
       "        PC1       PC2       PC3       PC4\n",
       "0 -2.947421 -0.398053 -0.802197 -0.264157\n",
       "1  4.009442  0.218340 -0.149652 -0.709645\n",
       "2 -1.181149  0.044297  0.017810 -0.105116\n",
       "3 -1.741588 -0.136163  0.017574  0.039590\n",
       "4  5.009793  0.645026  0.137287 -0.207729"
      ]
     },
     "execution_count": 103,
     "metadata": {},
     "output_type": "execute_result"
    }
   ],
   "source": [
    "pca_XY_train = pca_train.fit_transform(XY_train_std)\n",
    "PCAXY_train = pd.DataFrame(data = pca_XY_train\n",
    "             , columns = ['PC1', 'PC2', 'PC3', 'PC4'])\n",
    "PCAXY_train.head()"
   ]
  },
  {
   "cell_type": "code",
   "execution_count": 104,
   "metadata": {},
   "outputs": [
    {
     "data": {
      "text/html": [
       "<div>\n",
       "<style scoped>\n",
       "    .dataframe tbody tr th:only-of-type {\n",
       "        vertical-align: middle;\n",
       "    }\n",
       "\n",
       "    .dataframe tbody tr th {\n",
       "        vertical-align: top;\n",
       "    }\n",
       "\n",
       "    .dataframe thead th {\n",
       "        text-align: right;\n",
       "    }\n",
       "</style>\n",
       "<table border=\"1\" class=\"dataframe\">\n",
       "  <thead>\n",
       "    <tr style=\"text-align: right;\">\n",
       "      <th></th>\n",
       "      <th>PC1</th>\n",
       "      <th>PC2</th>\n",
       "      <th>PC3</th>\n",
       "      <th>PC4</th>\n",
       "    </tr>\n",
       "  </thead>\n",
       "  <tbody>\n",
       "    <tr>\n",
       "      <th>0</th>\n",
       "      <td>-1.178571</td>\n",
       "      <td>-0.379217</td>\n",
       "      <td>-0.164789</td>\n",
       "      <td>0.153659</td>\n",
       "    </tr>\n",
       "    <tr>\n",
       "      <th>1</th>\n",
       "      <td>1.880656</td>\n",
       "      <td>-0.002021</td>\n",
       "      <td>-0.676230</td>\n",
       "      <td>-0.379366</td>\n",
       "    </tr>\n",
       "    <tr>\n",
       "      <th>2</th>\n",
       "      <td>-1.553919</td>\n",
       "      <td>-1.027821</td>\n",
       "      <td>0.061212</td>\n",
       "      <td>0.256179</td>\n",
       "    </tr>\n",
       "    <tr>\n",
       "      <th>3</th>\n",
       "      <td>-1.426945</td>\n",
       "      <td>0.350612</td>\n",
       "      <td>-0.140321</td>\n",
       "      <td>0.108852</td>\n",
       "    </tr>\n",
       "    <tr>\n",
       "      <th>4</th>\n",
       "      <td>-2.081677</td>\n",
       "      <td>-0.071900</td>\n",
       "      <td>-0.028558</td>\n",
       "      <td>0.059060</td>\n",
       "    </tr>\n",
       "  </tbody>\n",
       "</table>\n",
       "</div>"
      ],
      "text/plain": [
       "        PC1       PC2       PC3       PC4\n",
       "0 -1.178571 -0.379217 -0.164789  0.153659\n",
       "1  1.880656 -0.002021 -0.676230 -0.379366\n",
       "2 -1.553919 -1.027821  0.061212  0.256179\n",
       "3 -1.426945  0.350612 -0.140321  0.108852\n",
       "4 -2.081677 -0.071900 -0.028558  0.059060"
      ]
     },
     "execution_count": 104,
     "metadata": {},
     "output_type": "execute_result"
    }
   ],
   "source": [
    "pca_XY_test = pca_train.fit_transform(XY_test_std)\n",
    "PCAXY_test = pd.DataFrame(data = pca_XY_test\n",
    "             , columns = ['PC1', 'PC2', 'PC3', 'PC4'])\n",
    "PCAXY_test.head()"
   ]
  },
  {
   "cell_type": "code",
   "execution_count": 105,
   "metadata": {},
   "outputs": [],
   "source": [
    "import xgboost as xgb"
   ]
  },
  {
   "cell_type": "raw",
   "metadata": {},
   "source": [
    "Implementation of the scikit-learn API for XGBoost regression.\n",
    "ParametersXGBoost regression\n",
    "max_depth (int) – Maximum tree depth for base learners.\n",
    "learning_rate (float) – Boosting learning rate (xgb’s “eta”)\n",
    "n_estimators (int) – Number of trees to fit.\n",
    "verbosity (int) – The degree of verbosity. Valid values are 0 (silent) - 3 (debug).\n",
    "silent (boolean) – Whether to print messages while running boosting. Deprecated. Use verbosity instead.\n",
    "objective (string or callable) – Specify the learning task and the corresponding learning objective or a custom objective function to be used (see note below).\n",
    "booster (string) – Specify which booster to use: gbtree, gblinear or dart.\n",
    "n_jobs (int) – Number of parallel threads used to run xgboost. (replaces nthread)\n",
    "gamma (float) – Minimum loss reduction required to make a further partition on a leaf node of the tree.\n",
    "min_child_weight (int) – Minimum sum of instance weight(hessian) needed in a child.\n",
    "max_delta_step (int) – Maximum delta step we allow each tree’s weight estimation to be.\n",
    "subsample (float) – Subsample ratio of the training instance.\n",
    "colsample_bytree (float) – Subsample ratio of columns when constructing each tree.\n",
    "colsample_bylevel (float) – Subsample ratio of columns for each level.\n",
    "colsample_bynode (float) – Subsample ratio of columns for each split.\n",
    "reg_alpha (float (xgb's alpha)) – L1 regularization term on weights\n",
    "reg_lambda (float (xgb's lambda)) – L2 regularization term on weights\n",
    "scale_pos_weight (float) – Balancing of positive and negative weights.\n",
    "base_score – The initial prediction score of all instances, global bias.\n",
    "random_state (int) – Random number seed. (replaces seed)\n",
    "missing (float, optional) – Value in the data which needs to be present as a missing value. If None, defaults to np.nan.\n",
    "importance_type (string, default \"gain\") – The feature importance type for the feature_importances_ property: either “gain”, “weight”, “cover”, “total_gain” or “total_cover”."
   ]
  },
  {
   "cell_type": "raw",
   "metadata": {},
   "source": [
    "Parameters chosen for gridsearchcv:\n",
    "max_depth (int) – Maximum tree depth for base learners.\n",
    "learning_rate (float) – Boosting learning rate (xgb’s “eta”)\n",
    "n_estimators (int) – Number of trees to fit.\n",
    "reg_lambda (float (xgb's lambda)) – L2 regularization term on weights."
   ]
  },
  {
   "cell_type": "raw",
   "metadata": {},
   "source": [
    "xgb_rgr = xgb.XGBRegressor(max_depth=4, learning_rate=0.05, n_estimators=200,\n",
    "                           verbosity=1, objective='reg:squarederror',\n",
    "                           booster='gbtree', n_jobs=-1, gamma=0,\n",
    "                           min_child_weight=1, max_delta_step=0, subsample=0.6,\n",
    "                           colsample_bytree=1, colsample_bylevel=1, colsample_bynode=1,\n",
    "                           reg_alpha=0, reg_lambda=1.5, scale_pos_weight=1, base_score=0.5,\n",
    "                           random_state=42, seed=None, missing=None, importance_type='gain')\n"
   ]
  },
  {
   "cell_type": "raw",
   "metadata": {},
   "source": [
    "md=[2,4,6,8,10]\n",
    "lr=[0.01, 0.05, 0.1, 0.5, 0.9]\n",
    "ne=[20, 50,100,200,500]\n",
    "rl=[0.1,0.5,1,1.5,2.5,5,10,15]\n",
    "ss=[0.5,0.6,0.7,0.8,0.9,1]\n",
    "params_xgb = [{'max_depth': md,'learning_rate': lr, 'n_estimators': ne, 'reg_lambda': rl, 'subsample': ss}]\n",
    "#params_xgb = [{'max_depth': md,'learning_rate': lr, 'n_estimators': ne, 'reg_lambda': rl, 'subsample': ss}]\n",
    "#min_child_weight=0.02*df.shape[0]"
   ]
  },
  {
   "cell_type": "raw",
   "metadata": {},
   "source": [
    "xgb_rgr_grid = GridSearchCV(xgb_rgr, params_xgb,\n",
    "                           n_jobs=-1, cv=5,\n",
    "                          verbose=1, scoring='r2', return_train_score=True)\n"
   ]
  },
  {
   "cell_type": "raw",
   "metadata": {},
   "source": [
    "xgb_rgr_grid.fit(PCAXY_train, yy_train.ravel())\n",
    "xgb_rgr_grid.best_score_\n",
    "Verbose:\n",
    "Fitting 5 folds for each of 6000 candidates, totalling 30000 fits\n",
    "[Parallel(n_jobs=-1)]: Done 30000 out of 30000 | elapsed: 263.6min finished\n",
    "0.2426566288833661"
   ]
  },
  {
   "cell_type": "raw",
   "metadata": {},
   "source": [
    "xgb_rgr_grid.best_estimator_.get_params()\n",
    "{'base_score': 0.5,\n",
    " 'booster': 'gbtree',\n",
    " 'colsample_bylevel': 1,\n",
    " 'colsample_bynode': 1,\n",
    " 'colsample_bytree': 1,\n",
    " 'gamma': 0,\n",
    " 'importance_type': 'gain',\n",
    " 'learning_rate': 0.05,\n",
    " 'max_delta_step': 0,\n",
    " 'max_depth': 4,\n",
    " 'min_child_weight': 1,\n",
    " 'missing': None,\n",
    " 'n_estimators': 200,\n",
    " 'n_jobs': -1,\n",
    " 'nthread': None,\n",
    " 'objective': 'reg:squarederror',\n",
    " 'random_state': 42,\n",
    " 'reg_alpha': 0,\n",
    " 'reg_lambda': 1.5,\n",
    " 'scale_pos_weight': 1,\n",
    " 'seed': None,\n",
    " 'silent': None,\n",
    " 'subsample': 0.6,\n",
    " 'verbosity': 1}"
   ]
  },
  {
   "cell_type": "raw",
   "metadata": {},
   "source": [
    "xgb_rgr_grid.cv_results_"
   ]
  },
  {
   "cell_type": "raw",
   "metadata": {},
   "source": [
    "sorted(xgb_rgr_grid.cv_results_.keys())"
   ]
  },
  {
   "cell_type": "raw",
   "metadata": {},
   "source": [
    "yy_train_pred = xgb_rgr_grid.predict(PCAXY_train)\n",
    "yy_test_pred = xgb_rgr_grid.predict(PCAXY_test)"
   ]
  },
  {
   "cell_type": "raw",
   "metadata": {},
   "source": [
    "print(\"MSE train: {0:.4f}, test: {1:.4f}\".\\\n",
    "       format(mean_squared_error(yy_train, yy_train_pred), \n",
    "            mean_squared_error(yy_test, yy_test_pred)))\n",
    "\n",
    "print(\"R^2 train: {0:.4f}, test: {1:.4f}\".\\\n",
    "      format(r2_score(yy_train, yy_train_pred),\n",
    "             r2_score(yy_test, yy_test_pred)))\n",
    "MSE train: 6.8843, test: 8.1478\n",
    "R^2 train: 0.2685, test: 0.1501"
   ]
  },
  {
   "cell_type": "code",
   "execution_count": 106,
   "metadata": {},
   "outputs": [],
   "source": [
    "dtrain = xgb.DMatrix(PCAXY_train, label=yy_train)\n",
    "dtest = xgb.DMatrix(PCAXY_test, label=yy_test)"
   ]
  },
  {
   "cell_type": "raw",
   "metadata": {},
   "source": [
    "params = {\n",
    "    # Parameters that we are going to tune.\n",
    "    'eta':.3,\n",
    "    'max_depth':6,\n",
    "    'min_child_weight': 1,\n",
    "    'subsample': 1,\n",
    "    'colsample_bytree': 1,\n",
    "    'lambda': 1,\n",
    "    # Other parameters\n",
    "    'objective':'reg:squarederror'\n",
    "}"
   ]
  },
  {
   "cell_type": "raw",
   "metadata": {},
   "source": [
    "params['eval_metric'] = \"rmse\""
   ]
  },
  {
   "cell_type": "raw",
   "metadata": {},
   "source": [
    "num_boost_round = 999\n",
    "#maximum number of boosting rounds allowed"
   ]
  },
  {
   "cell_type": "raw",
   "metadata": {},
   "source": [
    "model = xgb.train(\n",
    "    params,\n",
    "    dtrain,\n",
    "    num_boost_round=num_boost_round,\n",
    "    evals=[(dtest, \"Test\")],\n",
    "    early_stopping_rounds=10)\n",
    "\n",
    "#evals: a list of pairs (test_dmatrix, name_of_test). Here we will use our dtest DMatrix.\n",
    "#early_stopping_rounds: The number of rounds without improvements after which we should stop, here we set it to 10"
   ]
  },
  {
   "cell_type": "raw",
   "metadata": {},
   "source": [
    "cv_results = xgb.cv(\n",
    "    params,\n",
    "    dtrain,\n",
    "    num_boost_round=num_boost_round,\n",
    "    seed=42,\n",
    "    nfold=5,\n",
    "    metrics={'rmse'},\n",
    "    early_stopping_rounds=10\n",
    ")\n",
    "cv_results\n",
    "\n",
    "\n",
    "train-rmse-mean\n",
    "train-rmse-std\n",
    "test-rmse-mean\n",
    "test-rmse-std\n",
    "0\n",
    "10.184550\n",
    "0.003199\n",
    "10.186716\n",
    "0.022820\n",
    "1\n",
    "7.380453\n",
    "0.001910\n",
    "7.386719\n",
    "0.024670\n",
    "2\n",
    "5.503018\n",
    "0.001418\n",
    "5.515585\n",
    "0.025147\n",
    "3\n",
    "4.288846\n",
    "0.001257\n",
    "4.309225\n",
    "0.023591\n",
    "4\n",
    "3.541540\n",
    "0.001344\n",
    "3.571218\n",
    "0.021111\n",
    "5\n",
    "3.107558\n",
    "0.001850\n",
    "3.146844\n",
    "0.017992\n",
    "6\n",
    "2.867998\n",
    "0.002358\n",
    "2.916259\n",
    "0.015381\n",
    "7\n",
    "2.739993\n",
    "0.003070\n",
    "2.795933\n",
    "0.013648\n",
    "8\n",
    "2.672886\n",
    "0.003364\n",
    "2.734975\n",
    "0.012342\n",
    "9\n",
    "2.637644\n",
    "0.003359\n",
    "2.705136\n",
    "0.011755\n",
    "10\n",
    "2.618228\n",
    "0.003334\n",
    "2.690842\n",
    "0.011258\n",
    "11\n",
    "2.606832\n",
    "0.003803\n",
    "2.683162\n",
    "0.010207\n",
    "12\n",
    "2.600146\n",
    "0.003658\n",
    "2.679548\n",
    "0.010415\n",
    "13\n",
    "2.595041\n",
    "0.003676\n",
    "2.678269\n",
    "0.010689\n",
    "14\n",
    "2.592010\n",
    "0.003517\n",
    "2.677481\n",
    "0.010618\n",
    "15\n",
    "2.589280\n",
    "0.003907\n",
    "2.677225\n",
    "0.010661\n",
    "16\n",
    "2.586220\n",
    "0.003980\n",
    "2.677059\n",
    "0.010693"
   ]
  },
  {
   "cell_type": "raw",
   "metadata": {},
   "source": [
    "cv_results['test-rmse-mean'].min()\n",
    "2.6770587999999997"
   ]
  },
  {
   "cell_type": "raw",
   "metadata": {},
   "source": [
    "max_depth is the maximum number of nodes allowed from the root to the farthest leaf of a tree.\n",
    "Deeper trees can model more complex relationships by adding more nodes, but as we go deeper, \n",
    "splits become less relevant and are sometimes only due to noise, causing the model to overfit.\n",
    "\n",
    "min_child_weight is the minimum weight (or number of samples if all samples have a weight of 1)\n",
    "required in order to create a new node in the tree. A smaller min_child_weight allows the algorithm\n",
    "to create children that correspond to fewer samples, thus allowing for more complex trees,\n",
    "but again, more likely to overfit.\n",
    "\n",
    "It is important to tune them together in order to find a good trade-off between model bias and variance"
   ]
  },
  {
   "cell_type": "raw",
   "metadata": {},
   "source": [
    "# You can try wider intervals with a larger step between\n",
    "# each value and then narrow it down.\n",
    "d = len(df.index)\n",
    "cw=[0, 0.0005,0.001, 0.005, 0.01, 0.015, 0.02]\n",
    "mcw = np.round(d*np.array(cw),0)\n",
    "gridsearch_params = [\n",
    "    (max_depth, min_child_weight)\n",
    "    for max_depth in [2,4,6,8,10]\n",
    "    for min_child_weight in mcw]"
   ]
  },
  {
   "cell_type": "code",
   "execution_count": 143,
   "metadata": {},
   "outputs": [
    {
     "name": "stdout",
     "output_type": "stream",
     "text": [
      "CV with max_depth=2, min_child_weight=0.0\n"
     ]
    },
    {
     "name": "stderr",
     "output_type": "stream",
     "text": [
      "C:\\Users\\rmendes\\AppData\\Local\\Continuum\\anaconda3\\lib\\site-packages\\ipykernel_launcher.py:23: FutureWarning: \n",
      "The current behaviour of 'Series.argmin' is deprecated, use 'idxmin'\n",
      "instead.\n",
      "The behavior of 'argmin' will be corrected to return the positional\n",
      "minimum in the future. For now, use 'series.values.argmin' or\n",
      "'np.argmin(np.array(values))' to get the position of the minimum\n",
      "row.\n"
     ]
    },
    {
     "name": "stdout",
     "output_type": "stream",
     "text": [
      "\tRMSE 2.6760954 for 54 rounds\n",
      "CV with max_depth=2, min_child_weight=27.0\n",
      "\tRMSE 2.674586 for 66 rounds\n",
      "CV with max_depth=2, min_child_weight=55.0\n",
      "\tRMSE 2.6747706 for 55 rounds\n",
      "CV with max_depth=2, min_child_weight=274.0\n",
      "\tRMSE 2.6749806 for 75 rounds\n",
      "CV with max_depth=2, min_child_weight=549.0\n",
      "\tRMSE 2.6747975999999998 for 67 rounds\n",
      "CV with max_depth=2, min_child_weight=823.0\n",
      "\tRMSE 2.6766145999999997 for 86 rounds\n",
      "CV with max_depth=2, min_child_weight=1098.0\n",
      "\tRMSE 2.6785276 for 92 rounds\n",
      "CV with max_depth=4, min_child_weight=0.0\n",
      "\tRMSE 2.6730218 for 15 rounds\n",
      "CV with max_depth=4, min_child_weight=27.0\n",
      "\tRMSE 2.6733664 for 16 rounds\n",
      "CV with max_depth=4, min_child_weight=55.0\n",
      "\tRMSE 2.6716168000000002 for 20 rounds\n",
      "CV with max_depth=4, min_child_weight=274.0\n",
      "\tRMSE 2.6715518000000005 for 18 rounds\n",
      "CV with max_depth=4, min_child_weight=549.0\n",
      "\tRMSE 2.6736052 for 22 rounds\n",
      "CV with max_depth=4, min_child_weight=823.0\n",
      "\tRMSE 2.6755408000000003 for 53 rounds\n",
      "CV with max_depth=4, min_child_weight=1098.0\n",
      "\tRMSE 2.6773512 for 26 rounds\n",
      "CV with max_depth=6, min_child_weight=0.0\n",
      "\tRMSE 2.6770587999999997 for 16 rounds\n",
      "CV with max_depth=6, min_child_weight=27.0\n",
      "\tRMSE 2.6756658 for 15 rounds\n",
      "CV with max_depth=6, min_child_weight=55.0\n",
      "\tRMSE 2.6742353999999997 for 17 rounds\n",
      "CV with max_depth=6, min_child_weight=274.0\n",
      "\tRMSE 2.6728482 for 17 rounds\n",
      "CV with max_depth=6, min_child_weight=549.0\n",
      "\tRMSE 2.6752654 for 16 rounds\n",
      "CV with max_depth=6, min_child_weight=823.0\n",
      "\tRMSE 2.6772438 for 21 rounds\n",
      "CV with max_depth=6, min_child_weight=1098.0\n",
      "\tRMSE 2.677647 for 28 rounds\n",
      "CV with max_depth=8, min_child_weight=0.0\n",
      "\tRMSE 2.6909358000000005 for 13 rounds\n",
      "CV with max_depth=8, min_child_weight=27.0\n",
      "\tRMSE 2.6833544 for 15 rounds\n",
      "CV with max_depth=8, min_child_weight=55.0\n",
      "\tRMSE 2.6827487999999997 for 14 rounds\n",
      "CV with max_depth=8, min_child_weight=274.0\n",
      "\tRMSE 2.6750068000000002 for 17 rounds\n",
      "CV with max_depth=8, min_child_weight=549.0\n",
      "\tRMSE 2.6762661999999997 for 22 rounds\n",
      "CV with max_depth=8, min_child_weight=823.0\n",
      "\tRMSE 2.6785932 for 17 rounds\n",
      "CV with max_depth=8, min_child_weight=1098.0\n",
      "\tRMSE 2.6787330000000003 for 19 rounds\n",
      "CV with max_depth=10, min_child_weight=0.0\n",
      "\tRMSE 2.7069952 for 13 rounds\n",
      "CV with max_depth=10, min_child_weight=27.0\n",
      "\tRMSE 2.6955608 for 14 rounds\n",
      "CV with max_depth=10, min_child_weight=55.0\n",
      "\tRMSE 2.6904814000000004 for 15 rounds\n",
      "CV with max_depth=10, min_child_weight=274.0\n",
      "\tRMSE 2.6772848 for 17 rounds\n",
      "CV with max_depth=10, min_child_weight=549.0\n",
      "\tRMSE 2.6769816 for 15 rounds\n",
      "CV with max_depth=10, min_child_weight=823.0\n",
      "\tRMSE 2.6791892 for 16 rounds\n",
      "CV with max_depth=10, min_child_weight=1098.0\n",
      "\tRMSE 2.6791626 for 18 rounds\n",
      "Best params: 4, 274.0, RMSE: 2.6715518000000005\n"
     ]
    }
   ],
   "source": [
    "# Define initial best params and MAE\n",
    "min_rmse = float(\"Inf\")\n",
    "best_params = None\n",
    "for max_depth, min_child_weight in gridsearch_params:\n",
    "    print(\"CV with max_depth={}, min_child_weight={}\".format(\n",
    "                             max_depth,\n",
    "                             min_child_weight))\n",
    "    # Update our parameters\n",
    "    params['max_depth'] = max_depth\n",
    "    params['min_child_weight'] = min_child_weight\n",
    "    # Run CV\n",
    "    cv_results = xgb.cv(\n",
    "        params,\n",
    "        dtrain,\n",
    "        num_boost_round=num_boost_round,\n",
    "        seed=42,\n",
    "        nfold=5,\n",
    "        metrics={'rmse'},\n",
    "        early_stopping_rounds=10\n",
    "    )\n",
    "    # Update best rmse\n",
    "    mean_rmse = cv_results['test-rmse-mean'].min()\n",
    "    boost_rounds = cv_results['test-rmse-mean'].argmin()\n",
    "    print(\"\\tRMSE {} for {} rounds\".format(mean_rmse, boost_rounds))\n",
    "    if mean_rmse < min_rmse:\n",
    "        min_rmse = mean_rmse\n",
    "        best_params = (max_depth,min_child_weight)\n",
    "print(\"Best params: {}, {}, RMSE: {}\".format(best_params[0], best_params[1], min_rmse))\n",
    "CV with max_depth=2, min_child_weight=0.0\n"
   ]
  },
  {
   "cell_type": "raw",
   "metadata": {},
   "source": [
    "CV with max_depth=4, min_child_weight=274.0\n",
    "\tRMSE 2.6715518000000005 for 18 rounds"
   ]
  },
  {
   "cell_type": "raw",
   "metadata": {},
   "source": [
    "Parameters subsample and colsample_bytree\n",
    "Those parameters control the sampling of the dataset that is done at each boosting round.\n",
    "Instead of using the whole training set every time, we can build a tree on slightly different data at each step, which makes it less likely to overfit to a single sample or feature.\n",
    "subsample corresponds to the fraction of observations (the rows) to subsample at each step. By default it is set to 1 meaning that we use all rows.\n",
    "colsample_bytree corresponds to the fraction of features (the columns) to use. By default it is set to 1 meaning that we will use all features."
   ]
  },
  {
   "cell_type": "code",
   "execution_count": 146,
   "metadata": {},
   "outputs": [],
   "source": [
    "gridsearch_params = [\n",
    "    (subsample, colsample)\n",
    "    for subsample in [i/10. for i in range(4,11)]\n",
    "    for colsample in [i/10. for i in range(4,11)]\n",
    "]"
   ]
  },
  {
   "cell_type": "code",
   "execution_count": 147,
   "metadata": {},
   "outputs": [
    {
     "name": "stdout",
     "output_type": "stream",
     "text": [
      "CV with subsample=1.0, colsample=1.0\n"
     ]
    },
    {
     "name": "stderr",
     "output_type": "stream",
     "text": [
      "C:\\Users\\rmendes\\AppData\\Local\\Continuum\\anaconda3\\lib\\site-packages\\ipykernel_launcher.py:23: FutureWarning: \n",
      "The current behaviour of 'Series.argmin' is deprecated, use 'idxmin'\n",
      "instead.\n",
      "The behavior of 'argmin' will be corrected to return the positional\n",
      "minimum in the future. For now, use 'series.values.argmin' or\n",
      "'np.argmin(np.array(values))' to get the position of the minimum\n",
      "row.\n"
     ]
    },
    {
     "name": "stdout",
     "output_type": "stream",
     "text": [
      "\tRMSE 2.6715518000000005 for 18 rounds\n",
      "CV with subsample=1.0, colsample=0.9\n",
      "\tRMSE 2.674294 for 28 rounds\n",
      "CV with subsample=1.0, colsample=0.8\n",
      "\tRMSE 2.674294 for 28 rounds\n",
      "CV with subsample=1.0, colsample=0.7\n",
      "\tRMSE 2.6745512 for 35 rounds\n",
      "CV with subsample=1.0, colsample=0.6\n",
      "\tRMSE 2.6745512 for 35 rounds\n",
      "CV with subsample=1.0, colsample=0.5\n",
      "\tRMSE 2.6745512 for 35 rounds\n",
      "CV with subsample=1.0, colsample=0.4\n",
      "\tRMSE 2.6778250000000003 for 46 rounds\n",
      "CV with subsample=0.9, colsample=1.0\n",
      "\tRMSE 2.6715285999999994 for 19 rounds\n",
      "CV with subsample=0.9, colsample=0.9\n",
      "\tRMSE 2.6732576000000003 for 33 rounds\n",
      "CV with subsample=0.9, colsample=0.8\n",
      "\tRMSE 2.6732576000000003 for 33 rounds\n",
      "CV with subsample=0.9, colsample=0.7\n",
      "\tRMSE 2.6742098000000003 for 25 rounds\n",
      "CV with subsample=0.9, colsample=0.6\n",
      "\tRMSE 2.6742098000000003 for 25 rounds\n",
      "CV with subsample=0.9, colsample=0.5\n",
      "\tRMSE 2.6742098000000003 for 25 rounds\n",
      "CV with subsample=0.9, colsample=0.4\n",
      "\tRMSE 2.6787792 for 61 rounds\n",
      "CV with subsample=0.8, colsample=1.0\n",
      "\tRMSE 2.6735826000000005 for 16 rounds\n",
      "CV with subsample=0.8, colsample=0.9\n",
      "\tRMSE 2.6743436000000003 for 33 rounds\n",
      "CV with subsample=0.8, colsample=0.8\n",
      "\tRMSE 2.6743434 for 33 rounds\n",
      "CV with subsample=0.8, colsample=0.7\n",
      "\tRMSE 2.6766432 for 25 rounds\n",
      "CV with subsample=0.8, colsample=0.6\n",
      "\tRMSE 2.6766432 for 25 rounds\n",
      "CV with subsample=0.8, colsample=0.5\n",
      "\tRMSE 2.6766432 for 25 rounds\n",
      "CV with subsample=0.8, colsample=0.4\n",
      "\tRMSE 2.6786084 for 55 rounds\n",
      "CV with subsample=0.7, colsample=1.0\n",
      "\tRMSE 2.673366 for 16 rounds\n",
      "CV with subsample=0.7, colsample=0.9\n",
      "\tRMSE 2.6749976 for 20 rounds\n",
      "CV with subsample=0.7, colsample=0.8\n",
      "\tRMSE 2.6749976 for 20 rounds\n",
      "CV with subsample=0.7, colsample=0.7\n",
      "\tRMSE 2.677032 for 31 rounds\n",
      "CV with subsample=0.7, colsample=0.6\n",
      "\tRMSE 2.677032 for 31 rounds\n",
      "CV with subsample=0.7, colsample=0.5\n",
      "\tRMSE 2.677032 for 31 rounds\n",
      "CV with subsample=0.7, colsample=0.4\n",
      "\tRMSE 2.6783241999999996 for 54 rounds\n",
      "CV with subsample=0.6, colsample=1.0\n",
      "\tRMSE 2.6754232 for 18 rounds\n",
      "CV with subsample=0.6, colsample=0.9\n",
      "\tRMSE 2.6756808 for 22 rounds\n",
      "CV with subsample=0.6, colsample=0.8\n",
      "\tRMSE 2.675681 for 22 rounds\n",
      "CV with subsample=0.6, colsample=0.7\n",
      "\tRMSE 2.6756833999999996 for 25 rounds\n",
      "CV with subsample=0.6, colsample=0.6\n",
      "\tRMSE 2.6756833999999996 for 25 rounds\n",
      "CV with subsample=0.6, colsample=0.5\n",
      "\tRMSE 2.6756831999999995 for 25 rounds\n",
      "CV with subsample=0.6, colsample=0.4\n",
      "\tRMSE 2.679436 for 52 rounds\n",
      "CV with subsample=0.5, colsample=1.0\n",
      "\tRMSE 2.6761732 for 18 rounds\n",
      "CV with subsample=0.5, colsample=0.9\n",
      "\tRMSE 2.6760336 for 16 rounds\n",
      "CV with subsample=0.5, colsample=0.8\n",
      "\tRMSE 2.6760336 for 16 rounds\n",
      "CV with subsample=0.5, colsample=0.7\n",
      "\tRMSE 2.6779692000000006 for 27 rounds\n",
      "CV with subsample=0.5, colsample=0.6\n",
      "\tRMSE 2.6779692000000006 for 27 rounds\n",
      "CV with subsample=0.5, colsample=0.5\n",
      "\tRMSE 2.6779692 for 27 rounds\n",
      "CV with subsample=0.5, colsample=0.4\n",
      "\tRMSE 2.6814215999999997 for 48 rounds\n",
      "CV with subsample=0.4, colsample=1.0\n",
      "\tRMSE 2.6746412 for 17 rounds\n",
      "CV with subsample=0.4, colsample=0.9\n",
      "\tRMSE 2.6779787999999995 for 18 rounds\n",
      "CV with subsample=0.4, colsample=0.8\n",
      "\tRMSE 2.6779787999999995 for 18 rounds\n",
      "CV with subsample=0.4, colsample=0.7\n",
      "\tRMSE 2.6786192 for 28 rounds\n",
      "CV with subsample=0.4, colsample=0.6\n",
      "\tRMSE 2.6786190000000003 for 28 rounds\n",
      "CV with subsample=0.4, colsample=0.5\n",
      "\tRMSE 2.6786188 for 28 rounds\n",
      "CV with subsample=0.4, colsample=0.4\n",
      "\tRMSE 2.681426 for 48 rounds\n",
      "Best params: 0.9, 1.0, RMSE: 2.6715285999999994\n"
     ]
    }
   ],
   "source": [
    "min_rmse = float(\"Inf\")\n",
    "best_params = None\n",
    "# We start by the largest values and go down to the smallest\n",
    "for subsample, colsample in reversed(gridsearch_params):\n",
    "    print(\"CV with subsample={}, colsample={}\".format(\n",
    "                             subsample,\n",
    "                             colsample))\n",
    "    # We update our parameters\n",
    "    params['subsample'] = subsample\n",
    "    params['colsample_bytree'] = colsample\n",
    "    # Run CV\n",
    "    cv_results = xgb.cv(\n",
    "        params,\n",
    "        dtrain,\n",
    "        num_boost_round=num_boost_round,\n",
    "        seed=42,\n",
    "        nfold=5,\n",
    "        metrics={'rmse'},\n",
    "        early_stopping_rounds=10\n",
    "    )\n",
    "    # Update best score\n",
    "    mean_rmse = cv_results['test-rmse-mean'].min()\n",
    "    boost_rounds = cv_results['test-rmse-mean'].argmin()\n",
    "    print(\"\\tRMSE {} for {} rounds\".format(mean_rmse, boost_rounds))\n",
    "    if mean_rmse < min_rmse:\n",
    "        min_rmse = mean_rmse\n",
    "        best_params = (subsample,colsample)\n",
    "print(\"Best params: {}, {}, RMSE: {}\".format(best_params[0], best_params[1], min_rmse))"
   ]
  },
  {
   "cell_type": "raw",
   "metadata": {},
   "source": [
    "CV with subsample=0.9, colsample=1.0\n",
    "\tRMSE 2.6715285999999994 for 19 rounds"
   ]
  },
  {
   "cell_type": "code",
   "execution_count": 148,
   "metadata": {},
   "outputs": [],
   "source": [
    "params['subsample'] = 0.9\n",
    "params['colsample_bytree'] = 1.0"
   ]
  },
  {
   "cell_type": "raw",
   "metadata": {},
   "source": [
    "Parameter ETA\n",
    "The ETA parameter controls the learning rate. It corresponds to the shrinkage of the weights associated to features after each round, in other words it defines the amount of \"correction\" we make at each step (remember how each boosting round is correcting the errors of the previous? if not, check our first tutorial here).\n",
    "In practice, having a lower eta makes our model more robust to overfitting thus, usually, the lower the learning rate, the best. But with a lower eta, we need more boosting rounds, which takes more time to train, sometimes for only marginal improvements. Let's try a couple of values here, and time them with the notebook command:"
   ]
  },
  {
   "cell_type": "code",
   "execution_count": 152,
   "metadata": {},
   "outputs": [
    {
     "name": "stdout",
     "output_type": "stream",
     "text": [
      "CV with eta=0.3\n"
     ]
    },
    {
     "name": "stderr",
     "output_type": "stream",
     "text": [
      "C:\\Users\\rmendes\\AppData\\Local\\Continuum\\anaconda3\\lib\\site-packages\\ipykernel_launcher.py:18: FutureWarning: \n",
      "The current behaviour of 'Series.argmin' is deprecated, use 'idxmin'\n",
      "instead.\n",
      "The behavior of 'argmin' will be corrected to return the positional\n",
      "minimum in the future. For now, use 'series.values.argmin' or\n",
      "'np.argmin(np.array(values))' to get the position of the minimum\n",
      "row.\n"
     ]
    },
    {
     "name": "stdout",
     "output_type": "stream",
     "text": [
      "\tRMSE 2.6715285999999994 for 19 rounds\n",
      "\n",
      "CV with eta=0.2\n",
      "\tRMSE 2.6719573999999997 for 31 rounds\n",
      "\n",
      "CV with eta=0.1\n",
      "\tRMSE 2.6697628 for 75 rounds\n",
      "\n",
      "CV with eta=0.05\n",
      "\tRMSE 2.6694763999999997 for 144 rounds\n",
      "\n",
      "CV with eta=0.01\n",
      "\tRMSE 2.6693469999999997 for 655 rounds\n",
      "\n",
      "CV with eta=0.005\n",
      "\tRMSE 2.6712786 for 998 rounds\n",
      "\n",
      "Best params: 0.01, RMSE: 2.6693469999999997\n"
     ]
    }
   ],
   "source": [
    "\n",
    "min_rmse = float(\"Inf\")\n",
    "best_params = None\n",
    "for eta in [.3, .2, .1, .05, .01, .005]:\n",
    "    print(\"CV with eta={}\".format(eta))\n",
    "    # We update our parameters\n",
    "    params['eta'] = eta\n",
    "    # Run and time CV\n",
    "    cv_results = xgb.cv(\n",
    "            params,\n",
    "            dtrain,\n",
    "            num_boost_round=num_boost_round,\n",
    "            seed=42,\n",
    "            nfold=5,\n",
    "            metrics=['rmse'],\n",
    "            early_stopping_rounds=10)\n",
    "    # Update best score\n",
    "    mean_rmse = cv_results['test-rmse-mean'].min()\n",
    "    boost_rounds = cv_results['test-rmse-mean'].argmin()\n",
    "    print(\"\\tRMSE {} for {} rounds\\n\".format(mean_rmse, boost_rounds))\n",
    "    if mean_rmse < min_rmse:\n",
    "        min_rmse = mean_rmse\n",
    "        best_params = eta\n",
    "print(\"Best params: {}, RMSE: {}\".format(best_params, min_rmse))"
   ]
  },
  {
   "cell_type": "code",
   "execution_count": 153,
   "metadata": {},
   "outputs": [],
   "source": [
    "params['eta'] = .01"
   ]
  },
  {
   "cell_type": "raw",
   "metadata": {},
   "source": [
    "Parameter lambda\n",
    "lambda [default=1, alias: reg_lambda]\n",
    "L2 regularization term on weights. Increasing this value will make model more conservative."
   ]
  },
  {
   "cell_type": "code",
   "execution_count": 155,
   "metadata": {},
   "outputs": [
    {
     "name": "stdout",
     "output_type": "stream",
     "text": [
      "CV with lambda=0.1\n"
     ]
    },
    {
     "name": "stderr",
     "output_type": "stream",
     "text": [
      "C:\\Users\\rmendes\\AppData\\Local\\Continuum\\anaconda3\\lib\\site-packages\\ipykernel_launcher.py:18: FutureWarning: \n",
      "The current behaviour of 'Series.argmin' is deprecated, use 'idxmin'\n",
      "instead.\n",
      "The behavior of 'argmin' will be corrected to return the positional\n",
      "minimum in the future. For now, use 'series.values.argmin' or\n",
      "'np.argmin(np.array(values))' to get the position of the minimum\n",
      "row.\n"
     ]
    },
    {
     "name": "stdout",
     "output_type": "stream",
     "text": [
      "\tRMSE 2.6692869999999997 for 682 rounds\n",
      "\n",
      "CV with lambda=0.5\n",
      "\tRMSE 2.6693148 for 655 rounds\n",
      "\n",
      "CV with lambda=1\n",
      "\tRMSE 2.6693469999999997 for 655 rounds\n",
      "\n",
      "CV with lambda=1.5\n",
      "\tRMSE 2.6692232000000002 for 682 rounds\n",
      "\n",
      "CV with lambda=2.5\n",
      "\tRMSE 2.6692612 for 655 rounds\n",
      "\n",
      "CV with lambda=5\n",
      "\tRMSE 2.6693431999999997 for 682 rounds\n",
      "\n",
      "CV with lambda=10\n",
      "\tRMSE 2.6691908 for 680 rounds\n",
      "\n",
      "CV with lambda=15\n",
      "\tRMSE 2.6690884000000006 for 698 rounds\n",
      "\n",
      "Best params: 15, RMSE: 2.6690884000000006\n"
     ]
    }
   ],
   "source": [
    "min_rmse = float(\"Inf\")\n",
    "best_params = None\n",
    "for lamb in [0.1,0.5,1,1.5,2.5,5,10,15]:\n",
    "    print(\"CV with lambda={}\".format(lamb))\n",
    "    # We update our parameters\n",
    "    params['lambda'] = lamb\n",
    "    # Run and time CV\n",
    "    cv_results = xgb.cv(\n",
    "            params,\n",
    "            dtrain,\n",
    "            num_boost_round=num_boost_round,\n",
    "            seed=42,\n",
    "            nfold=5,\n",
    "            metrics=['rmse'],\n",
    "            early_stopping_rounds=10)\n",
    "    # Update best score\n",
    "    mean_rmse = cv_results['test-rmse-mean'].min()\n",
    "    boost_rounds = cv_results['test-rmse-mean'].argmin()\n",
    "    print(\"\\tRMSE {} for {} rounds\\n\".format(mean_rmse, boost_rounds))\n",
    "    if mean_rmse < min_rmse:\n",
    "        min_rmse = mean_rmse\n",
    "        best_params = lamb\n",
    "print(\"Best params: {}, RMSE: {}\".format(best_params, min_rmse))"
   ]
  },
  {
   "cell_type": "code",
   "execution_count": 156,
   "metadata": {},
   "outputs": [],
   "source": [
    "params['lambda'] = 15"
   ]
  },
  {
   "cell_type": "code",
   "execution_count": 157,
   "metadata": {},
   "outputs": [
    {
     "data": {
      "text/plain": [
       "{'eta': 0.01,\n",
       " 'max_depth': 4,\n",
       " 'min_child_weight': 274,\n",
       " 'subsample': 0.9,\n",
       " 'colsample_bytree': 1.0,\n",
       " 'lambda': 15,\n",
       " 'objective': 'reg:squarederror',\n",
       " 'eval_metric': 'rmse'}"
      ]
     },
     "execution_count": 157,
     "metadata": {},
     "output_type": "execute_result"
    }
   ],
   "source": [
    "params"
   ]
  },
  {
   "cell_type": "code",
   "execution_count": 158,
   "metadata": {},
   "outputs": [
    {
     "name": "stdout",
     "output_type": "stream",
     "text": [
      "[0]\tTest-rmse:14.1002\n",
      "Will train until Test-rmse hasn't improved in 10 rounds.\n",
      "[1]\tTest-rmse:13.9646\n",
      "[2]\tTest-rmse:13.8305\n",
      "[3]\tTest-rmse:13.6977\n",
      "[4]\tTest-rmse:13.5664\n",
      "[5]\tTest-rmse:13.4365\n",
      "[6]\tTest-rmse:13.3079\n",
      "[7]\tTest-rmse:13.1807\n",
      "[8]\tTest-rmse:13.0547\n",
      "[9]\tTest-rmse:12.9302\n",
      "[10]\tTest-rmse:12.8068\n",
      "[11]\tTest-rmse:12.6848\n",
      "[12]\tTest-rmse:12.564\n",
      "[13]\tTest-rmse:12.4445\n",
      "[14]\tTest-rmse:12.3263\n",
      "[15]\tTest-rmse:12.2094\n",
      "[16]\tTest-rmse:12.0937\n",
      "[17]\tTest-rmse:11.9791\n",
      "[18]\tTest-rmse:11.8657\n",
      "[19]\tTest-rmse:11.7536\n",
      "[20]\tTest-rmse:11.6427\n",
      "[21]\tTest-rmse:11.5329\n",
      "[22]\tTest-rmse:11.4242\n",
      "[23]\tTest-rmse:11.3167\n",
      "[24]\tTest-rmse:11.2104\n",
      "[25]\tTest-rmse:11.1054\n",
      "[26]\tTest-rmse:11.0013\n",
      "[27]\tTest-rmse:10.8984\n",
      "[28]\tTest-rmse:10.7966\n",
      "[29]\tTest-rmse:10.6959\n",
      "[30]\tTest-rmse:10.5962\n",
      "[31]\tTest-rmse:10.4977\n",
      "[32]\tTest-rmse:10.4001\n",
      "[33]\tTest-rmse:10.3036\n",
      "[34]\tTest-rmse:10.208\n",
      "[35]\tTest-rmse:10.1135\n",
      "[36]\tTest-rmse:10.0202\n",
      "[37]\tTest-rmse:9.92758\n",
      "[38]\tTest-rmse:9.83633\n",
      "[39]\tTest-rmse:9.74594\n",
      "[40]\tTest-rmse:9.65647\n",
      "[41]\tTest-rmse:9.56796\n",
      "[42]\tTest-rmse:9.48032\n",
      "[43]\tTest-rmse:9.39374\n",
      "[44]\tTest-rmse:9.30804\n",
      "[45]\tTest-rmse:9.22332\n",
      "[46]\tTest-rmse:9.13951\n",
      "[47]\tTest-rmse:9.05665\n",
      "[48]\tTest-rmse:8.97472\n",
      "[49]\tTest-rmse:8.89366\n",
      "[50]\tTest-rmse:8.81356\n",
      "[51]\tTest-rmse:8.73427\n",
      "[52]\tTest-rmse:8.65582\n",
      "[53]\tTest-rmse:8.5781\n",
      "[54]\tTest-rmse:8.50139\n",
      "[55]\tTest-rmse:8.42559\n",
      "[56]\tTest-rmse:8.35064\n",
      "[57]\tTest-rmse:8.27647\n",
      "[58]\tTest-rmse:8.20297\n",
      "[59]\tTest-rmse:8.13046\n",
      "[60]\tTest-rmse:8.05877\n",
      "[61]\tTest-rmse:7.98778\n",
      "[62]\tTest-rmse:7.9176\n",
      "[63]\tTest-rmse:7.84824\n",
      "[64]\tTest-rmse:7.77968\n",
      "[65]\tTest-rmse:7.71192\n",
      "[66]\tTest-rmse:7.6449\n",
      "[67]\tTest-rmse:7.57869\n",
      "[68]\tTest-rmse:7.51316\n",
      "[69]\tTest-rmse:7.44842\n",
      "[70]\tTest-rmse:7.38445\n",
      "[71]\tTest-rmse:7.32112\n",
      "[72]\tTest-rmse:7.25869\n",
      "[73]\tTest-rmse:7.19694\n",
      "[74]\tTest-rmse:7.13571\n",
      "[75]\tTest-rmse:7.07524\n",
      "[76]\tTest-rmse:7.0155\n",
      "[77]\tTest-rmse:6.9565\n",
      "[78]\tTest-rmse:6.89823\n",
      "[79]\tTest-rmse:6.8405\n",
      "[80]\tTest-rmse:6.78358\n",
      "[81]\tTest-rmse:6.72725\n",
      "[82]\tTest-rmse:6.67158\n",
      "[83]\tTest-rmse:6.61646\n",
      "[84]\tTest-rmse:6.56215\n",
      "[85]\tTest-rmse:6.50843\n",
      "[86]\tTest-rmse:6.45538\n",
      "[87]\tTest-rmse:6.4029\n",
      "[88]\tTest-rmse:6.35101\n",
      "[89]\tTest-rmse:6.29985\n",
      "[90]\tTest-rmse:6.24935\n",
      "[91]\tTest-rmse:6.19942\n",
      "[92]\tTest-rmse:6.14998\n",
      "[93]\tTest-rmse:6.10122\n",
      "[94]\tTest-rmse:6.05304\n",
      "[95]\tTest-rmse:6.00547\n",
      "[96]\tTest-rmse:5.95847\n",
      "[97]\tTest-rmse:5.91194\n",
      "[98]\tTest-rmse:5.86604\n",
      "[99]\tTest-rmse:5.82078\n",
      "[100]\tTest-rmse:5.776\n",
      "[101]\tTest-rmse:5.73182\n",
      "[102]\tTest-rmse:5.68809\n",
      "[103]\tTest-rmse:5.64492\n",
      "[104]\tTest-rmse:5.60232\n",
      "[105]\tTest-rmse:5.56023\n",
      "[106]\tTest-rmse:5.51875\n",
      "[107]\tTest-rmse:5.4778\n",
      "[108]\tTest-rmse:5.43736\n",
      "[109]\tTest-rmse:5.3975\n",
      "[110]\tTest-rmse:5.35806\n",
      "[111]\tTest-rmse:5.3192\n",
      "[112]\tTest-rmse:5.28083\n",
      "[113]\tTest-rmse:5.24298\n",
      "[114]\tTest-rmse:5.20551\n",
      "[115]\tTest-rmse:5.16857\n",
      "[116]\tTest-rmse:5.13212\n",
      "[117]\tTest-rmse:5.09616\n",
      "[118]\tTest-rmse:5.0606\n",
      "[119]\tTest-rmse:5.0256\n",
      "[120]\tTest-rmse:4.99096\n",
      "[121]\tTest-rmse:4.95687\n",
      "[122]\tTest-rmse:4.9232\n",
      "[123]\tTest-rmse:4.88995\n",
      "[124]\tTest-rmse:4.85712\n",
      "[125]\tTest-rmse:4.82475\n",
      "[126]\tTest-rmse:4.79282\n",
      "[127]\tTest-rmse:4.76134\n",
      "[128]\tTest-rmse:4.73029\n",
      "[129]\tTest-rmse:4.69964\n",
      "[130]\tTest-rmse:4.66945\n",
      "[131]\tTest-rmse:4.63963\n",
      "[132]\tTest-rmse:4.61025\n",
      "[133]\tTest-rmse:4.58123\n",
      "[134]\tTest-rmse:4.55259\n",
      "[135]\tTest-rmse:4.5244\n",
      "[136]\tTest-rmse:4.49657\n",
      "[137]\tTest-rmse:4.46925\n",
      "[138]\tTest-rmse:4.44219\n",
      "[139]\tTest-rmse:4.41559\n",
      "[140]\tTest-rmse:4.38935\n",
      "[141]\tTest-rmse:4.36342\n",
      "[142]\tTest-rmse:4.33793\n",
      "[143]\tTest-rmse:4.31273\n",
      "[144]\tTest-rmse:4.28795\n",
      "[145]\tTest-rmse:4.26351\n",
      "[146]\tTest-rmse:4.2395\n",
      "[147]\tTest-rmse:4.21577\n",
      "[148]\tTest-rmse:4.19233\n",
      "[149]\tTest-rmse:4.16929\n",
      "[150]\tTest-rmse:4.14661\n",
      "[151]\tTest-rmse:4.12422\n",
      "[152]\tTest-rmse:4.10218\n",
      "[153]\tTest-rmse:4.08047\n",
      "[154]\tTest-rmse:4.05908\n",
      "[155]\tTest-rmse:4.03798\n",
      "[156]\tTest-rmse:4.01721\n",
      "[157]\tTest-rmse:3.99682\n",
      "[158]\tTest-rmse:3.97663\n",
      "[159]\tTest-rmse:3.95678\n",
      "[160]\tTest-rmse:3.93732\n",
      "[161]\tTest-rmse:3.91805\n",
      "[162]\tTest-rmse:3.89919\n",
      "[163]\tTest-rmse:3.8805\n",
      "[164]\tTest-rmse:3.86214\n",
      "[165]\tTest-rmse:3.84412\n",
      "[166]\tTest-rmse:3.82636\n",
      "[167]\tTest-rmse:3.80884\n",
      "[168]\tTest-rmse:3.79158\n",
      "[169]\tTest-rmse:3.77457\n",
      "[170]\tTest-rmse:3.75792\n",
      "[171]\tTest-rmse:3.74149\n",
      "[172]\tTest-rmse:3.72531\n",
      "[173]\tTest-rmse:3.70936\n",
      "[174]\tTest-rmse:3.69363\n",
      "[175]\tTest-rmse:3.67817\n",
      "[176]\tTest-rmse:3.66312\n",
      "[177]\tTest-rmse:3.64822\n",
      "[178]\tTest-rmse:3.63357\n",
      "[179]\tTest-rmse:3.61914\n",
      "[180]\tTest-rmse:3.60497\n",
      "[181]\tTest-rmse:3.59101\n",
      "[182]\tTest-rmse:3.5773\n",
      "[183]\tTest-rmse:3.56382\n",
      "[184]\tTest-rmse:3.55052\n",
      "[185]\tTest-rmse:3.53747\n",
      "[186]\tTest-rmse:3.52464\n",
      "[187]\tTest-rmse:3.51205\n",
      "[188]\tTest-rmse:3.49963\n",
      "[189]\tTest-rmse:3.48738\n",
      "[190]\tTest-rmse:3.47537\n",
      "[191]\tTest-rmse:3.46359\n",
      "[192]\tTest-rmse:3.45197\n",
      "[193]\tTest-rmse:3.44062\n",
      "[194]\tTest-rmse:3.42939\n",
      "[195]\tTest-rmse:3.41841\n",
      "[196]\tTest-rmse:3.40752\n",
      "[197]\tTest-rmse:3.39685\n",
      "[198]\tTest-rmse:3.38637\n",
      "[199]\tTest-rmse:3.37611\n",
      "[200]\tTest-rmse:3.36596\n",
      "[201]\tTest-rmse:3.35595\n",
      "[202]\tTest-rmse:3.3462\n",
      "[203]\tTest-rmse:3.33658\n",
      "[204]\tTest-rmse:3.32716\n",
      "[205]\tTest-rmse:3.31785\n",
      "[206]\tTest-rmse:3.30876\n",
      "[207]\tTest-rmse:3.29984\n",
      "[208]\tTest-rmse:3.29108\n",
      "[209]\tTest-rmse:3.2824\n",
      "[210]\tTest-rmse:3.27395\n",
      "[211]\tTest-rmse:3.26559\n",
      "[212]\tTest-rmse:3.25743\n",
      "[213]\tTest-rmse:3.24941\n",
      "[214]\tTest-rmse:3.2415\n",
      "[215]\tTest-rmse:3.23378\n",
      "[216]\tTest-rmse:3.22614\n",
      "[217]\tTest-rmse:3.21868\n",
      "[218]\tTest-rmse:3.21132\n",
      "[219]\tTest-rmse:3.20406\n",
      "[220]\tTest-rmse:3.19698\n",
      "[221]\tTest-rmse:3.19006\n",
      "[222]\tTest-rmse:3.18323\n",
      "[223]\tTest-rmse:3.17654\n",
      "[224]\tTest-rmse:3.16996\n",
      "[225]\tTest-rmse:3.16353\n",
      "[226]\tTest-rmse:3.15722\n",
      "[227]\tTest-rmse:3.15099\n",
      "[228]\tTest-rmse:3.14488\n",
      "[229]\tTest-rmse:3.13893\n",
      "[230]\tTest-rmse:3.13303\n",
      "[231]\tTest-rmse:3.12724\n",
      "[232]\tTest-rmse:3.12161\n",
      "[233]\tTest-rmse:3.11609\n",
      "[234]\tTest-rmse:3.11059\n",
      "[235]\tTest-rmse:3.10525\n",
      "[236]\tTest-rmse:3.10002\n",
      "[237]\tTest-rmse:3.09486\n",
      "[238]\tTest-rmse:3.08981\n",
      "[239]\tTest-rmse:3.0849\n",
      "[240]\tTest-rmse:3.07997\n",
      "[241]\tTest-rmse:3.07518\n",
      "[242]\tTest-rmse:3.07049\n",
      "[243]\tTest-rmse:3.06589\n",
      "[244]\tTest-rmse:3.06144\n",
      "[245]\tTest-rmse:3.05706\n",
      "[246]\tTest-rmse:3.05276\n",
      "[247]\tTest-rmse:3.04852\n",
      "[248]\tTest-rmse:3.04432\n",
      "[249]\tTest-rmse:3.04021\n",
      "[250]\tTest-rmse:3.0362\n",
      "[251]\tTest-rmse:3.03228\n",
      "[252]\tTest-rmse:3.02842\n",
      "[253]\tTest-rmse:3.02461\n",
      "[254]\tTest-rmse:3.02089\n",
      "[255]\tTest-rmse:3.01724\n",
      "[256]\tTest-rmse:3.01368\n",
      "[257]\tTest-rmse:3.01018\n",
      "[258]\tTest-rmse:3.00675\n",
      "[259]\tTest-rmse:3.00339\n",
      "[260]\tTest-rmse:3.00007\n",
      "[261]\tTest-rmse:2.99681\n",
      "[262]\tTest-rmse:2.99365\n",
      "[263]\tTest-rmse:2.99052\n",
      "[264]\tTest-rmse:2.98749\n",
      "[265]\tTest-rmse:2.98455\n",
      "[266]\tTest-rmse:2.98164\n",
      "[267]\tTest-rmse:2.97874\n",
      "[268]\tTest-rmse:2.97592\n",
      "[269]\tTest-rmse:2.97318\n",
      "[270]\tTest-rmse:2.97045\n",
      "[271]\tTest-rmse:2.96782\n",
      "[272]\tTest-rmse:2.96524\n",
      "[273]\tTest-rmse:2.9627\n",
      "[274]\tTest-rmse:2.96024\n",
      "[275]\tTest-rmse:2.95779\n",
      "[276]\tTest-rmse:2.95544\n",
      "[277]\tTest-rmse:2.95308\n",
      "[278]\tTest-rmse:2.95081\n",
      "[279]\tTest-rmse:2.94856\n",
      "[280]\tTest-rmse:2.94636\n",
      "[281]\tTest-rmse:2.94417\n",
      "[282]\tTest-rmse:2.94205\n",
      "[283]\tTest-rmse:2.93996\n",
      "[284]\tTest-rmse:2.93796\n",
      "[285]\tTest-rmse:2.93596\n",
      "[286]\tTest-rmse:2.934\n",
      "[287]\tTest-rmse:2.9321\n",
      "[288]\tTest-rmse:2.93025\n",
      "[289]\tTest-rmse:2.92839\n",
      "[290]\tTest-rmse:2.92665\n",
      "[291]\tTest-rmse:2.92486\n",
      "[292]\tTest-rmse:2.92317\n",
      "[293]\tTest-rmse:2.92151\n",
      "[294]\tTest-rmse:2.91988\n",
      "[295]\tTest-rmse:2.91827\n",
      "[296]\tTest-rmse:2.91667\n",
      "[297]\tTest-rmse:2.91516\n",
      "[298]\tTest-rmse:2.91366\n",
      "[299]\tTest-rmse:2.91217\n",
      "[300]\tTest-rmse:2.91072\n",
      "[301]\tTest-rmse:2.90931\n",
      "[302]\tTest-rmse:2.90793\n",
      "[303]\tTest-rmse:2.90658\n",
      "[304]\tTest-rmse:2.90527\n",
      "[305]\tTest-rmse:2.90394\n",
      "[306]\tTest-rmse:2.90262\n",
      "[307]\tTest-rmse:2.90138\n",
      "[308]\tTest-rmse:2.90011\n",
      "[309]\tTest-rmse:2.89897\n",
      "[310]\tTest-rmse:2.89785\n",
      "[311]\tTest-rmse:2.89673\n",
      "[312]\tTest-rmse:2.89558\n",
      "[313]\tTest-rmse:2.89454\n",
      "[314]\tTest-rmse:2.89345\n",
      "[315]\tTest-rmse:2.89243\n",
      "[316]\tTest-rmse:2.89138\n",
      "[317]\tTest-rmse:2.89034\n",
      "[318]\tTest-rmse:2.88936\n",
      "[319]\tTest-rmse:2.88843\n",
      "[320]\tTest-rmse:2.88748\n",
      "[321]\tTest-rmse:2.88658\n",
      "[322]\tTest-rmse:2.88566\n",
      "[323]\tTest-rmse:2.88476\n",
      "[324]\tTest-rmse:2.8839\n",
      "[325]\tTest-rmse:2.88301\n",
      "[326]\tTest-rmse:2.88215\n",
      "[327]\tTest-rmse:2.88136\n",
      "[328]\tTest-rmse:2.88053\n",
      "[329]\tTest-rmse:2.8797\n",
      "[330]\tTest-rmse:2.87899\n",
      "[331]\tTest-rmse:2.8782\n",
      "[332]\tTest-rmse:2.87749\n",
      "[333]\tTest-rmse:2.87681\n",
      "[334]\tTest-rmse:2.87609\n",
      "[335]\tTest-rmse:2.87538\n",
      "[336]\tTest-rmse:2.87471\n",
      "[337]\tTest-rmse:2.87409\n",
      "[338]\tTest-rmse:2.87348\n",
      "[339]\tTest-rmse:2.87284\n",
      "[340]\tTest-rmse:2.87222\n",
      "[341]\tTest-rmse:2.8716\n",
      "[342]\tTest-rmse:2.871\n",
      "[343]\tTest-rmse:2.87046\n",
      "[344]\tTest-rmse:2.86989\n",
      "[345]\tTest-rmse:2.86935\n"
     ]
    },
    {
     "name": "stdout",
     "output_type": "stream",
     "text": [
      "[346]\tTest-rmse:2.86883\n",
      "[347]\tTest-rmse:2.86831\n",
      "[348]\tTest-rmse:2.86783\n",
      "[349]\tTest-rmse:2.8673\n",
      "[350]\tTest-rmse:2.86681\n",
      "[351]\tTest-rmse:2.86637\n",
      "[352]\tTest-rmse:2.8659\n",
      "[353]\tTest-rmse:2.86545\n",
      "[354]\tTest-rmse:2.86501\n",
      "[355]\tTest-rmse:2.86458\n",
      "[356]\tTest-rmse:2.86411\n",
      "[357]\tTest-rmse:2.86373\n",
      "[358]\tTest-rmse:2.86332\n",
      "[359]\tTest-rmse:2.86293\n",
      "[360]\tTest-rmse:2.8625\n",
      "[361]\tTest-rmse:2.86212\n",
      "[362]\tTest-rmse:2.86172\n",
      "[363]\tTest-rmse:2.86136\n",
      "[364]\tTest-rmse:2.86103\n",
      "[365]\tTest-rmse:2.86069\n",
      "[366]\tTest-rmse:2.86036\n",
      "[367]\tTest-rmse:2.86004\n",
      "[368]\tTest-rmse:2.85972\n",
      "[369]\tTest-rmse:2.85937\n",
      "[370]\tTest-rmse:2.85905\n",
      "[371]\tTest-rmse:2.85871\n",
      "[372]\tTest-rmse:2.85841\n",
      "[373]\tTest-rmse:2.8581\n",
      "[374]\tTest-rmse:2.85782\n",
      "[375]\tTest-rmse:2.85753\n",
      "[376]\tTest-rmse:2.85727\n",
      "[377]\tTest-rmse:2.857\n",
      "[378]\tTest-rmse:2.85674\n",
      "[379]\tTest-rmse:2.8565\n",
      "[380]\tTest-rmse:2.85626\n",
      "[381]\tTest-rmse:2.85599\n",
      "[382]\tTest-rmse:2.85577\n",
      "[383]\tTest-rmse:2.85554\n",
      "[384]\tTest-rmse:2.85533\n",
      "[385]\tTest-rmse:2.85513\n",
      "[386]\tTest-rmse:2.85494\n",
      "[387]\tTest-rmse:2.85477\n",
      "[388]\tTest-rmse:2.8546\n",
      "[389]\tTest-rmse:2.85438\n",
      "[390]\tTest-rmse:2.85421\n",
      "[391]\tTest-rmse:2.85404\n",
      "[392]\tTest-rmse:2.85384\n",
      "[393]\tTest-rmse:2.8537\n",
      "[394]\tTest-rmse:2.85351\n",
      "[395]\tTest-rmse:2.85334\n",
      "[396]\tTest-rmse:2.85317\n",
      "[397]\tTest-rmse:2.85302\n",
      "[398]\tTest-rmse:2.85286\n",
      "[399]\tTest-rmse:2.85271\n",
      "[400]\tTest-rmse:2.85257\n",
      "[401]\tTest-rmse:2.85244\n",
      "[402]\tTest-rmse:2.8523\n",
      "[403]\tTest-rmse:2.85216\n",
      "[404]\tTest-rmse:2.85202\n",
      "[405]\tTest-rmse:2.8519\n",
      "[406]\tTest-rmse:2.85177\n",
      "[407]\tTest-rmse:2.85171\n",
      "[408]\tTest-rmse:2.85161\n",
      "[409]\tTest-rmse:2.85151\n",
      "[410]\tTest-rmse:2.85141\n",
      "[411]\tTest-rmse:2.85129\n",
      "[412]\tTest-rmse:2.85118\n",
      "[413]\tTest-rmse:2.85107\n",
      "[414]\tTest-rmse:2.85099\n",
      "[415]\tTest-rmse:2.85092\n",
      "[416]\tTest-rmse:2.85087\n",
      "[417]\tTest-rmse:2.85079\n",
      "[418]\tTest-rmse:2.85068\n",
      "[419]\tTest-rmse:2.85059\n",
      "[420]\tTest-rmse:2.85048\n",
      "[421]\tTest-rmse:2.85041\n",
      "[422]\tTest-rmse:2.85035\n",
      "[423]\tTest-rmse:2.85027\n",
      "[424]\tTest-rmse:2.85021\n",
      "[425]\tTest-rmse:2.85015\n",
      "[426]\tTest-rmse:2.8501\n",
      "[427]\tTest-rmse:2.85004\n",
      "[428]\tTest-rmse:2.84995\n",
      "[429]\tTest-rmse:2.8499\n",
      "[430]\tTest-rmse:2.84987\n",
      "[431]\tTest-rmse:2.8498\n",
      "[432]\tTest-rmse:2.84974\n",
      "[433]\tTest-rmse:2.84969\n",
      "[434]\tTest-rmse:2.84967\n",
      "[435]\tTest-rmse:2.84964\n",
      "[436]\tTest-rmse:2.84958\n",
      "[437]\tTest-rmse:2.84956\n",
      "[438]\tTest-rmse:2.84953\n",
      "[439]\tTest-rmse:2.84947\n",
      "[440]\tTest-rmse:2.84943\n",
      "[441]\tTest-rmse:2.84938\n",
      "[442]\tTest-rmse:2.84936\n",
      "[443]\tTest-rmse:2.84932\n",
      "[444]\tTest-rmse:2.84927\n",
      "[445]\tTest-rmse:2.84926\n",
      "[446]\tTest-rmse:2.84925\n",
      "[447]\tTest-rmse:2.84922\n",
      "[448]\tTest-rmse:2.84917\n",
      "[449]\tTest-rmse:2.84916\n",
      "[450]\tTest-rmse:2.84912\n",
      "[451]\tTest-rmse:2.8491\n",
      "[452]\tTest-rmse:2.84906\n",
      "[453]\tTest-rmse:2.84905\n",
      "[454]\tTest-rmse:2.84903\n",
      "[455]\tTest-rmse:2.84902\n",
      "[456]\tTest-rmse:2.849\n",
      "[457]\tTest-rmse:2.84897\n",
      "[458]\tTest-rmse:2.84892\n",
      "[459]\tTest-rmse:2.8489\n",
      "[460]\tTest-rmse:2.84889\n",
      "[461]\tTest-rmse:2.84889\n",
      "[462]\tTest-rmse:2.84886\n",
      "[463]\tTest-rmse:2.84888\n",
      "[464]\tTest-rmse:2.84888\n",
      "[465]\tTest-rmse:2.84889\n",
      "[466]\tTest-rmse:2.84892\n",
      "[467]\tTest-rmse:2.84888\n",
      "[468]\tTest-rmse:2.84887\n",
      "[469]\tTest-rmse:2.84888\n",
      "[470]\tTest-rmse:2.84886\n",
      "[471]\tTest-rmse:2.84885\n",
      "[472]\tTest-rmse:2.84886\n",
      "[473]\tTest-rmse:2.84889\n",
      "[474]\tTest-rmse:2.84887\n",
      "[475]\tTest-rmse:2.84887\n",
      "[476]\tTest-rmse:2.84885\n",
      "[477]\tTest-rmse:2.84886\n",
      "[478]\tTest-rmse:2.84885\n",
      "[479]\tTest-rmse:2.84885\n",
      "[480]\tTest-rmse:2.84882\n",
      "[481]\tTest-rmse:2.84883\n",
      "[482]\tTest-rmse:2.84885\n",
      "[483]\tTest-rmse:2.84885\n",
      "[484]\tTest-rmse:2.84888\n",
      "[485]\tTest-rmse:2.84888\n",
      "[486]\tTest-rmse:2.84888\n",
      "[487]\tTest-rmse:2.8489\n",
      "[488]\tTest-rmse:2.8489\n",
      "[489]\tTest-rmse:2.84892\n",
      "[490]\tTest-rmse:2.84895\n",
      "Stopping. Best iteration:\n",
      "[480]\tTest-rmse:2.84882\n",
      "\n"
     ]
    }
   ],
   "source": [
    "model = xgb.train(\n",
    "    params,\n",
    "    dtrain,\n",
    "    num_boost_round=num_boost_round,\n",
    "    evals=[(dtest, \"Test\")],\n",
    "    early_stopping_rounds=10\n",
    ")"
   ]
  },
  {
   "cell_type": "raw",
   "metadata": {},
   "source": [
    "best nun_boost_round\n",
    "num_boost_round = model.best_iteration + 1 (481)\n",
    "we can now put early_stopping_rounds=0"
   ]
  },
  {
   "cell_type": "code",
   "execution_count": 159,
   "metadata": {},
   "outputs": [],
   "source": [
    "xgb_rgr = xgb.XGBRegressor(max_depth=4, learning_rate=0.01, n_estimators=481,\n",
    "                           verbosity=1, objective='reg:squarederror',\n",
    "                           booster='gbtree', n_jobs=-1, gamma=0,\n",
    "                           min_child_weight=274, max_delta_step=0, subsample=0.9,\n",
    "                           colsample_bytree=1, colsample_bylevel=1, colsample_bynode=1,\n",
    "                           reg_alpha=0, reg_lambda=15, scale_pos_weight=1, base_score=0.5,\n",
    "                           random_state=42, seed=None, missing=None, importance_type='gain')"
   ]
  },
  {
   "cell_type": "code",
   "execution_count": 160,
   "metadata": {},
   "outputs": [
    {
     "data": {
      "text/plain": [
       "XGBRegressor(base_score=0.5, booster='gbtree', colsample_bylevel=1,\n",
       "             colsample_bynode=1, colsample_bytree=1, gamma=0,\n",
       "             importance_type='gain', learning_rate=0.01, max_delta_step=0,\n",
       "             max_depth=4, min_child_weight=274, missing=None, n_estimators=481,\n",
       "             n_jobs=-1, nthread=None, objective='reg:squarederror',\n",
       "             random_state=42, reg_alpha=0, reg_lambda=15, scale_pos_weight=1,\n",
       "             seed=None, silent=None, subsample=0.9, verbosity=1)"
      ]
     },
     "execution_count": 160,
     "metadata": {},
     "output_type": "execute_result"
    }
   ],
   "source": [
    "#dtrain = xgb.DMatrix(PCAXY_train, label=yy_train)\n",
    "#dtest = xgb.DMatrix(PCAXY_test, label=yy_test)\n",
    "xgb_rgr.fit(PCAXY_train,yy_train.ravel())"
   ]
  },
  {
   "cell_type": "code",
   "execution_count": 161,
   "metadata": {},
   "outputs": [],
   "source": [
    "yy_train_pred = xgb_rgr.predict(PCAXY_train)\n",
    "yy_test_pred = xgb_rgr.predict(PCAXY_test)\n",
    "\n",
    "scores = cross_val_score(xgb_rgr, PCAXY_train, yy_train.ravel(), cv=5, scoring='r2')\n",
    " \n",
    "r2_xgb_rgr_cv = scores.mean()\n",
    "std_xgb_rgr_cv = scores.std() \n",
    "\n",
    "mse_xgb_rgr_train = metrics.mean_squared_error(yy_train.ravel(), yy_train_pred.ravel()) \n",
    "mse_xgb_rgr_test = metrics.mean_squared_error(yy_test.ravel(), yy_test_pred.ravel())\n",
    "\n",
    "r2_xgb_rgr_train = metrics.r2_score(yy_train.ravel(), yy_train_pred.ravel())\n",
    "r2_xgb_rgr_test = metrics.r2_score(yy_test.ravel(), yy_test_pred.ravel())"
   ]
  },
  {
   "cell_type": "code",
   "execution_count": 162,
   "metadata": {},
   "outputs": [
    {
     "name": "stdout",
     "output_type": "stream",
     "text": [
      "MSE train: 7.0373, test: 8.1137\n",
      "R^2 train: 0.2522, test: 0.1537\n"
     ]
    }
   ],
   "source": [
    "print(\"MSE train: {0:.4f}, test: {1:.4f}\".\\\n",
    "       format(mean_squared_error(yy_train, yy_train_pred), \n",
    "            mean_squared_error(yy_test, yy_test_pred)))\n",
    "\n",
    "print(\"R^2 train: {0:.4f}, test: {1:.4f}\".\\\n",
    "      format(r2_score(yy_train, yy_train_pred),\n",
    "             r2_score(yy_test, yy_test_pred))) "
   ]
  },
  {
   "cell_type": "code",
   "execution_count": 163,
   "metadata": {},
   "outputs": [],
   "source": [
    "new_results_dic = {'R2_cv': r2_xgb_rgr_cv ,'std_cv': std_xgb_rgr_cv,'MSE_train': mse_xgb_rgr_train,\n",
    "                   'MSE_test': mse_xgb_rgr_test, 'R2_train': r2_xgb_rgr_train, 'R2_test': r2_xgb_rgr_test}\n",
    "df_results.loc[len(df_results)] = new_results_dic"
   ]
  },
  {
   "cell_type": "code",
   "execution_count": 165,
   "metadata": {
    "scrolled": true
   },
   "outputs": [
    {
     "data": {
      "text/html": [
       "<div>\n",
       "<style scoped>\n",
       "    .dataframe tbody tr th:only-of-type {\n",
       "        vertical-align: middle;\n",
       "    }\n",
       "\n",
       "    .dataframe tbody tr th {\n",
       "        vertical-align: top;\n",
       "    }\n",
       "\n",
       "    .dataframe thead th {\n",
       "        text-align: right;\n",
       "    }\n",
       "</style>\n",
       "<table border=\"1\" class=\"dataframe\">\n",
       "  <thead>\n",
       "    <tr style=\"text-align: right;\">\n",
       "      <th></th>\n",
       "      <th>R2_cv</th>\n",
       "      <th>std_cv</th>\n",
       "      <th>MSE_train</th>\n",
       "      <th>MSE_test</th>\n",
       "      <th>R2_train</th>\n",
       "      <th>R2_test</th>\n",
       "    </tr>\n",
       "  </thead>\n",
       "  <tbody>\n",
       "    <tr>\n",
       "      <th>OLS</th>\n",
       "      <td>0.127762</td>\n",
       "      <td>0.005668</td>\n",
       "      <td>8.198322</td>\n",
       "      <td>8.313640</td>\n",
       "      <td>0.128833</td>\n",
       "      <td>0.132835</td>\n",
       "    </tr>\n",
       "    <tr>\n",
       "      <th>RF</th>\n",
       "      <td>0.161435</td>\n",
       "      <td>0.004573</td>\n",
       "      <td>7.290466</td>\n",
       "      <td>7.940450</td>\n",
       "      <td>0.225304</td>\n",
       "      <td>0.171761</td>\n",
       "    </tr>\n",
       "    <tr>\n",
       "      <th>SV</th>\n",
       "      <td>0.134508</td>\n",
       "      <td>0.008144</td>\n",
       "      <td>8.064586</td>\n",
       "      <td>8.228026</td>\n",
       "      <td>0.143044</td>\n",
       "      <td>0.141765</td>\n",
       "    </tr>\n",
       "    <tr>\n",
       "      <th>BSV</th>\n",
       "      <td>0.133034</td>\n",
       "      <td>0.007358</td>\n",
       "      <td>8.107966</td>\n",
       "      <td>8.235377</td>\n",
       "      <td>0.138435</td>\n",
       "      <td>0.140998</td>\n",
       "    </tr>\n",
       "    <tr>\n",
       "      <th>NN</th>\n",
       "      <td>0.141327</td>\n",
       "      <td>0.004269</td>\n",
       "      <td>7.964029</td>\n",
       "      <td>8.164109</td>\n",
       "      <td>0.153730</td>\n",
       "      <td>0.148432</td>\n",
       "    </tr>\n",
       "    <tr>\n",
       "      <th>XGB</th>\n",
       "      <td>0.240959</td>\n",
       "      <td>0.004410</td>\n",
       "      <td>7.037337</td>\n",
       "      <td>8.113742</td>\n",
       "      <td>0.252201</td>\n",
       "      <td>0.153685</td>\n",
       "    </tr>\n",
       "  </tbody>\n",
       "</table>\n",
       "</div>"
      ],
      "text/plain": [
       "        R2_cv    std_cv  MSE_train  MSE_test  R2_train   R2_test\n",
       "OLS  0.127762  0.005668   8.198322  8.313640  0.128833  0.132835\n",
       "RF   0.161435  0.004573   7.290466  7.940450  0.225304  0.171761\n",
       "SV   0.134508  0.008144   8.064586  8.228026  0.143044  0.141765\n",
       "BSV  0.133034  0.007358   8.107966  8.235377  0.138435  0.140998\n",
       "NN   0.141327  0.004269   7.964029  8.164109  0.153730  0.148432\n",
       "XGB  0.240959  0.004410   7.037337  8.113742  0.252201  0.153685"
      ]
     },
     "execution_count": 165,
     "metadata": {},
     "output_type": "execute_result"
    }
   ],
   "source": [
    "indexNamesArr = df_results.index.values\n",
    "i = indexNamesArr[-1]\n",
    "df_results.rename(index={i:'XGB'}, inplace=True)\n",
    "df_results.head(10)"
   ]
  },
  {
   "cell_type": "code",
   "execution_count": null,
   "metadata": {},
   "outputs": [],
   "source": []
  }
 ],
 "metadata": {
  "kernelspec": {
   "display_name": "Python 3",
   "language": "python",
   "name": "python3"
  },
  "language_info": {
   "codemirror_mode": {
    "name": "ipython",
    "version": 3
   },
   "file_extension": ".py",
   "mimetype": "text/x-python",
   "name": "python",
   "nbconvert_exporter": "python",
   "pygments_lexer": "ipython3",
   "version": "3.7.7"
  }
 },
 "nbformat": 4,
 "nbformat_minor": 2
}
