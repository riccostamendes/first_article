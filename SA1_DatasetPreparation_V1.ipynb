{
 "cells": [
  {
   "cell_type": "markdown",
   "metadata": {},
   "source": [
    "# High School Academic Achievement\n",
    "## Dataset Preparation\n",
    "\n",
    "Predicting students high school final marks using variables of academic performance and some personal features that are stored in the database of the Education Ministry along with some economical, social and demographical indexes retrieved from the files of the National Statistical Body."
   ]
  },
  {
   "cell_type": "code",
   "execution_count": 106,
   "metadata": {},
   "outputs": [],
   "source": [
    "import pandas as pd\n",
    "import numpy as np"
   ]
  },
  {
   "cell_type": "code",
   "execution_count": 107,
   "metadata": {},
   "outputs": [],
   "source": [
    "df = pd.read_csv('DATA_SET.csv')"
   ]
  },
  {
   "cell_type": "code",
   "execution_count": 108,
   "metadata": {},
   "outputs": [
    {
     "data": {
      "text/html": [
       "<div>\n",
       "<style scoped>\n",
       "    .dataframe tbody tr th:only-of-type {\n",
       "        vertical-align: middle;\n",
       "    }\n",
       "\n",
       "    .dataframe tbody tr th {\n",
       "        vertical-align: top;\n",
       "    }\n",
       "\n",
       "    .dataframe thead th {\n",
       "        text-align: right;\n",
       "    }\n",
       "</style>\n",
       "<table border=\"1\" class=\"dataframe\">\n",
       "  <thead>\n",
       "    <tr style=\"text-align: right;\">\n",
       "      <th></th>\n",
       "      <th>AcademicYear</th>\n",
       "      <th>N_NoApprovals</th>\n",
       "      <th>Nationality</th>\n",
       "      <th>Gender</th>\n",
       "      <th>N_Enrollments</th>\n",
       "      <th>Scholarship</th>\n",
       "      <th>PermanentIncomeSupport</th>\n",
       "      <th>Computer</th>\n",
       "      <th>InternetAccess</th>\n",
       "      <th>CourseSubject</th>\n",
       "      <th>UrbanIndex</th>\n",
       "      <th>IncomeIndex</th>\n",
       "      <th>AgingIndex</th>\n",
       "      <th>UnemploymentIndex</th>\n",
       "      <th>CulturalLevelIndex</th>\n",
       "      <th>ClassSize</th>\n",
       "      <th>SchoolSize</th>\n",
       "      <th>N_SubjectsEnrolled</th>\n",
       "      <th>FinalMark</th>\n",
       "    </tr>\n",
       "  </thead>\n",
       "  <tbody>\n",
       "    <tr>\n",
       "      <th>0</th>\n",
       "      <td>11</td>\n",
       "      <td>0</td>\n",
       "      <td>PT</td>\n",
       "      <td>F</td>\n",
       "      <td>1</td>\n",
       "      <td>0</td>\n",
       "      <td>NaN</td>\n",
       "      <td>True</td>\n",
       "      <td>True</td>\n",
       "      <td>Língua Estrangeira I - Inglês</td>\n",
       "      <td>138.4</td>\n",
       "      <td>875.1</td>\n",
       "      <td>146.2</td>\n",
       "      <td>9.73</td>\n",
       "      <td>12.77</td>\n",
       "      <td>23</td>\n",
       "      <td>193</td>\n",
       "      <td>7</td>\n",
       "      <td>10</td>\n",
       "    </tr>\n",
       "    <tr>\n",
       "      <th>1</th>\n",
       "      <td>11</td>\n",
       "      <td>0</td>\n",
       "      <td>PT</td>\n",
       "      <td>F</td>\n",
       "      <td>1</td>\n",
       "      <td>0</td>\n",
       "      <td>NaN</td>\n",
       "      <td>True</td>\n",
       "      <td>True</td>\n",
       "      <td>Língua Estrangeira III - Espanhol</td>\n",
       "      <td>138.4</td>\n",
       "      <td>875.1</td>\n",
       "      <td>146.2</td>\n",
       "      <td>9.73</td>\n",
       "      <td>12.77</td>\n",
       "      <td>23</td>\n",
       "      <td>193</td>\n",
       "      <td>7</td>\n",
       "      <td>16</td>\n",
       "    </tr>\n",
       "    <tr>\n",
       "      <th>2</th>\n",
       "      <td>12</td>\n",
       "      <td>0</td>\n",
       "      <td>PT</td>\n",
       "      <td>M</td>\n",
       "      <td>1</td>\n",
       "      <td>0</td>\n",
       "      <td>NaN</td>\n",
       "      <td>False</td>\n",
       "      <td>False</td>\n",
       "      <td>Matemática A</td>\n",
       "      <td>5090.4</td>\n",
       "      <td>1560.6</td>\n",
       "      <td>189.3</td>\n",
       "      <td>11.76</td>\n",
       "      <td>70.93</td>\n",
       "      <td>29</td>\n",
       "      <td>519</td>\n",
       "      <td>5</td>\n",
       "      <td>19</td>\n",
       "    </tr>\n",
       "    <tr>\n",
       "      <th>3</th>\n",
       "      <td>12</td>\n",
       "      <td>0</td>\n",
       "      <td>PT</td>\n",
       "      <td>F</td>\n",
       "      <td>1</td>\n",
       "      <td>1</td>\n",
       "      <td>2.0</td>\n",
       "      <td>False</td>\n",
       "      <td>False</td>\n",
       "      <td>Biologia</td>\n",
       "      <td>5090.4</td>\n",
       "      <td>1560.6</td>\n",
       "      <td>189.3</td>\n",
       "      <td>11.76</td>\n",
       "      <td>70.93</td>\n",
       "      <td>29</td>\n",
       "      <td>519</td>\n",
       "      <td>5</td>\n",
       "      <td>16</td>\n",
       "    </tr>\n",
       "    <tr>\n",
       "      <th>4</th>\n",
       "      <td>11</td>\n",
       "      <td>2</td>\n",
       "      <td>PT</td>\n",
       "      <td>F</td>\n",
       "      <td>1</td>\n",
       "      <td>2</td>\n",
       "      <td>1.0</td>\n",
       "      <td>False</td>\n",
       "      <td>False</td>\n",
       "      <td>Língua Estrangeira I - Inglês</td>\n",
       "      <td>5090.4</td>\n",
       "      <td>1560.6</td>\n",
       "      <td>189.3</td>\n",
       "      <td>11.76</td>\n",
       "      <td>70.93</td>\n",
       "      <td>25</td>\n",
       "      <td>519</td>\n",
       "      <td>7</td>\n",
       "      <td>10</td>\n",
       "    </tr>\n",
       "  </tbody>\n",
       "</table>\n",
       "</div>"
      ],
      "text/plain": [
       "   AcademicYear  N_NoApprovals Nationality Gender  N_Enrollments  Scholarship  \\\n",
       "0            11              0          PT      F              1            0   \n",
       "1            11              0          PT      F              1            0   \n",
       "2            12              0          PT      M              1            0   \n",
       "3            12              0          PT      F              1            1   \n",
       "4            11              2          PT      F              1            2   \n",
       "\n",
       "   PermanentIncomeSupport  Computer  InternetAccess  \\\n",
       "0                     NaN      True            True   \n",
       "1                     NaN      True            True   \n",
       "2                     NaN     False           False   \n",
       "3                     2.0     False           False   \n",
       "4                     1.0     False           False   \n",
       "\n",
       "                       CourseSubject  UrbanIndex  IncomeIndex  AgingIndex  \\\n",
       "0      Língua Estrangeira I - Inglês       138.4        875.1       146.2   \n",
       "1  Língua Estrangeira III - Espanhol       138.4        875.1       146.2   \n",
       "2                       Matemática A      5090.4       1560.6       189.3   \n",
       "3                           Biologia      5090.4       1560.6       189.3   \n",
       "4      Língua Estrangeira I - Inglês      5090.4       1560.6       189.3   \n",
       "\n",
       "   UnemploymentIndex  CulturalLevelIndex  ClassSize  SchoolSize  \\\n",
       "0               9.73               12.77         23         193   \n",
       "1               9.73               12.77         23         193   \n",
       "2              11.76               70.93         29         519   \n",
       "3              11.76               70.93         29         519   \n",
       "4              11.76               70.93         25         519   \n",
       "\n",
       "   N_SubjectsEnrolled  FinalMark  \n",
       "0                   7         10  \n",
       "1                   7         16  \n",
       "2                   5         19  \n",
       "3                   5         16  \n",
       "4                   7         10  "
      ]
     },
     "execution_count": 108,
     "metadata": {},
     "output_type": "execute_result"
    }
   ],
   "source": [
    "df.head()"
   ]
  },
  {
   "cell_type": "code",
   "execution_count": 109,
   "metadata": {},
   "outputs": [
    {
     "data": {
      "text/plain": [
       "(542808, 19)"
      ]
     },
     "execution_count": 109,
     "metadata": {},
     "output_type": "execute_result"
    }
   ],
   "source": [
    "df.shape"
   ]
  },
  {
   "cell_type": "code",
   "execution_count": 110,
   "metadata": {},
   "outputs": [
    {
     "data": {
      "text/plain": [
       "Index(['AcademicYear', 'N_NoApprovals', 'Nationality', 'Gender',\n",
       "       'N_Enrollments', 'Scholarship', 'PermanentIncomeSupport', 'Computer',\n",
       "       'InternetAccess', 'CourseSubject', 'UrbanIndex', 'IncomeIndex',\n",
       "       'AgingIndex', 'UnemploymentIndex', 'CulturalLevelIndex', 'ClassSize',\n",
       "       'SchoolSize', 'N_SubjectsEnrolled', 'FinalMark'],\n",
       "      dtype='object')"
      ]
     },
     "execution_count": 110,
     "metadata": {},
     "output_type": "execute_result"
    }
   ],
   "source": [
    "df.columns"
   ]
  },
  {
   "cell_type": "code",
   "execution_count": 111,
   "metadata": {
    "scrolled": true
   },
   "outputs": [
    {
     "data": {
      "text/plain": [
       "array(['Língua Estrangeira I - Inglês',\n",
       "       'Língua Estrangeira III - Espanhol', 'Matemática A', 'Biologia',\n",
       "       'Psicologia B', 'Português', 'Educação Física', 'Sociologia',\n",
       "       'Ciência Política', 'História A', 'Filosofia', 'Geografia A',\n",
       "       'Matemática Aplicada às Ciências Sociais', 'Economia C',\n",
       "       'História da Cultura e das Artes', 'Matemática B',\n",
       "       'Geometria Descritiva A', 'Desenho A', 'Economia A',\n",
       "       'Aplicações Informáticas B', 'Física e Química A',\n",
       "       'Biologia e Geologia', 'Literatura Portuguesa', 'Oficina de Artes',\n",
       "       'Física', 'Educação Moral e Religiosa', 'Filosofia A',\n",
       "       'Geografia C', 'História B', 'Língua Estrangeira III - Inglês',\n",
       "       'Língua Estrangeira II - Francês', 'Química', 'Geologia',\n",
       "       'Físico-Química A', 'Língua Estrangeira II - Inglês',\n",
       "       'Língua Estrangeira III - Alemão',\n",
       "       'Língua Estrangeira I - Espanhol', 'Direito',\n",
       "       'Língua Estrangeira II - Espanhol', 'Oficina Multimédia B',\n",
       "       'Formação Musical', 'Classes de Conjunto',\n",
       "       'Outra (a decidir pela escola)', 'Aplicações Informáticas',\n",
       "       'Língua Estrangeira I - Francês', 'Materiais e Tecnologias',\n",
       "       'Português Língua Não Materna', 'Instrumento',\n",
       "       'Acompanhamento e Improvisão', 'Geografia',\n",
       "       'Língua Estrangeira - Espanhol', 'Psicologia',\n",
       "       'Análise e Técnicas de Composição',\n",
       "       'Língua Estrangeira I - Alemão', 'Orquestra', 'Matemática',\n",
       "       'Português A', 'Métodos Quantitativos',\n",
       "       'Desenvolvimento Pessoal e Social', 'Ciências Físico-Químicas',\n",
       "       'Língua Estrangeira III - Francês',\n",
       "       'Literaturas de Língua Portuguesa',\n",
       "       'Língua Estrangeira II - Alemão', 'Música', 'Antropologia',\n",
       "       'Instrumento de Tecla', 'Canto', 'Alemão', 'Coro', 'História',\n",
       "       'Desporto e Saúde', 'Língua Gestual Portuguesa',\n",
       "       'Tecnologias - Gravura /Serigrafia', 'Instrumento Principal',\n",
       "       'Matemática para a Vida', 'Oferta de Escola (Educação Artística)',\n",
       "       'Música de Câmara', 'Prática ao Teclado', 'Educação Vocal',\n",
       "       'Físico-Química', 'Técnica Vocal', 'Italiano', 'Português B',\n",
       "       'Instrumento II', 'Cidadania e Sociedade', 'Comunicação Visual',\n",
       "       'Organização Empresarial', 'Língua Estrangeira - Inglês',\n",
       "       'Aplicações Informáticas A', 'Geometria Descritiva',\n",
       "       'Ciências Naturais', 'A decidir pela escola',\n",
       "       '1.º Ciclo do Ensino Básico', 'Desenho', 'Oferta de Escola',\n",
       "       'Comunicação', 'Comunicar em Francês, Espanhol, Alemão ou Inglês',\n",
       "       'Comunicação de Dados', 'Composição/ Análise Movimento',\n",
       "       'Introdução ao Direito', 'Grego', 'Inglês', 'Física e Química',\n",
       "       'Acústica Musical', 'Latim A',\n",
       "       'Higiene, Saúde e Segurança no Trabalho',\n",
       "       'Linguagem e Comunicação', 'Acústica e Organologia',\n",
       "       'Clássicos da Literatura', 'História da Arte',\n",
       "       'Tecnologias de Equipamento', 'Economia B',\n",
       "       'Técnica Vocal e Repertório', 'Oficina da Arte', 'Projectos I',\n",
       "       'Ciências da Terra e da Vida', 'Instrumento I', 'Latim B',\n",
       "       'Modalidade', 'História da Música',\n",
       "       'Tecnologias de Informação e Comunicação', 'Oferta complementar'],\n",
       "      dtype=object)"
      ]
     },
     "execution_count": 111,
     "metadata": {},
     "output_type": "execute_result"
    }
   ],
   "source": [
    "df['CourseSubject'].unique()"
   ]
  },
  {
   "cell_type": "markdown",
   "metadata": {},
   "source": [
    "## Subjects with more than 15,000 samples\n",
    "\n",
    "* Português\n",
    "* Filosofia\n",
    "* Língua Estrangeira I - Inglês\n",
    "* Matemática A\n",
    "* Física e Química A\n",
    "* Biologia e Geologia\n",
    "* Geografia A\n",
    "* História A\n",
    "* Biologia\n",
    "* Psicologia B"
   ]
  },
  {
   "cell_type": "code",
   "execution_count": 112,
   "metadata": {},
   "outputs": [],
   "source": [
    "subject_names = [ 'Português', 'Filosofia', 'Língua Estrangeira I - Inglês',\n",
    "                 'Matemática A', 'Física e Química A', 'Biologia e Geologia',\n",
    "                 'Geografia A', 'História A', 'Biologia', 'Psicologia B']"
   ]
  },
  {
   "cell_type": "code",
   "execution_count": 113,
   "metadata": {},
   "outputs": [],
   "source": [
    "df.drop(pd.Index(np.where(~df['CourseSubject'].isin(subject_names))[0]), inplace = True)\n",
    "#df.drop(pd.Index(np.where(df['column'].isin(values))[0]), inplace = True)"
   ]
  },
  {
   "cell_type": "code",
   "execution_count": 114,
   "metadata": {},
   "outputs": [
    {
     "data": {
      "text/plain": [
       "(362261, 19)"
      ]
     },
     "execution_count": 114,
     "metadata": {},
     "output_type": "execute_result"
    }
   ],
   "source": [
    "df.shape"
   ]
  },
  {
   "cell_type": "code",
   "execution_count": 115,
   "metadata": {},
   "outputs": [
    {
     "name": "stdout",
     "output_type": "stream",
     "text": [
      "Shape per Course Subject:\n",
      "\n",
      "Língua Estrangeira I - Inglês \t (54905, 19)\n",
      "Matemática A \t (46606, 19)\n",
      "Biologia \t (16453, 19)\n",
      "Psicologia B \t (16204, 19)\n",
      "Português \t (75061, 19)\n",
      "História A \t (19767, 19)\n",
      "Filosofia \t (57272, 19)\n",
      "Geografia A \t (19892, 19)\n",
      "Física e Química A \t (28599, 19)\n",
      "Biologia e Geologia \t (27502, 19)\n"
     ]
    }
   ],
   "source": [
    "Course_Subject = df['CourseSubject'].unique()\n",
    "print(\"Shape per Course Subject:\\n\")\n",
    "for i in Course_Subject:\n",
    "    Subject_i= df[df['CourseSubject']== i]\n",
    "    print(i, '\\t', Subject_i.shape)"
   ]
  },
  {
   "cell_type": "code",
   "execution_count": 10,
   "metadata": {},
   "outputs": [],
   "source": [
    "Binarised_Features = [ 'AcademicYear', 'Nationality', 'Gender',\n",
    "                      'Scholarship', 'PermanentIncomeSupport', 'Computer',\n",
    "                      'InternetAccess' ]"
   ]
  },
  {
   "cell_type": "code",
   "execution_count": 11,
   "metadata": {},
   "outputs": [
    {
     "name": "stdout",
     "output_type": "stream",
     "text": [
      "Unique values per features to be binarised:\n",
      "\n",
      "AcademicYear \t [11 12 10]\n",
      "Nationality \t ['PT' 'DE' 'BR' 'ZA' 'AO' 'CH' 'UA' 'RO' 'MD' 'CN' 'VE' 'BY' 'CV' 'RU'\n",
      " 'IT' 'GB' 'FR' 'CM' 'ST' 'GW' 'NL' 'BB' 'LU' 'US' 'DK' 'ES' 'BE' 'BG'\n",
      " 'PL' 'AR' 'CO' 'IN' 'TH' 'BD' 'DO' 'PY' 'TR' 'PA' 'KZ' 'CS' 'TL' 'CU'\n",
      " 'LT' 'MA' 'NO' 'HU' 'EC' 'CA' 'SV' 'KR' 'IQ' 'EE' 'CL' 'MO' 'NP' 'SE' nan\n",
      " 'MZ' 'UZ' 'SL' 'AD' 'BS' 'AF' 'GE' 'PR' 'PH' 'LV' 'QA' 'IS' 'FI' 'GN'\n",
      " 'PK' 'AU' 'PE' 'DZ' 'GT' 'NG' 'ZW' 'QU' 'IE' 'AT' 'SN' 'TG' 'EG' 'CI'\n",
      " 'BJ' 'CG' 'UY' 'ID' 'TJ' 'GQ' 'XR' 'TN' 'IR' 'JP' 'MY' 'SA']\n",
      "Gender \t ['F' 'M']\n",
      "Scholarship \t [0 1 2]\n",
      "PermanentIncomeSupport \t [nan  2.  1.  3.]\n",
      "Computer \t [ True False]\n",
      "InternetAccess \t [ True False]\n"
     ]
    }
   ],
   "source": [
    "print(\"Unique values per features to be binarised:\\n\")\n",
    "for i in Binarised_Features:\n",
    "    HE_i= df[i].unique()\n",
    "    print(i, '\\t', HE_i)"
   ]
  },
  {
   "cell_type": "code",
   "execution_count": 12,
   "metadata": {},
   "outputs": [
    {
     "data": {
      "text/plain": [
       "array([0., 2., 1., 3.])"
      ]
     },
     "execution_count": 12,
     "metadata": {},
     "output_type": "execute_result"
    }
   ],
   "source": [
    "df['PermanentIncomeSupport'] = df['PermanentIncomeSupport'].fillna(0)\n",
    "df['PermanentIncomeSupport'].unique()"
   ]
  },
  {
   "cell_type": "raw",
   "metadata": {},
   "source": [
    "The samples that had 'nan' PermanentIncomeSupport don't get any support."
   ]
  },
  {
   "cell_type": "code",
   "execution_count": 13,
   "metadata": {},
   "outputs": [],
   "source": [
    "df['Nationality'] = df['Nationality'].fillna('Unknown')"
   ]
  },
  {
   "cell_type": "raw",
   "metadata": {},
   "source": [
    "The samples that have 'nan' nationality are foreign nationals.   "
   ]
  },
  {
   "cell_type": "code",
   "execution_count": 14,
   "metadata": {},
   "outputs": [
    {
     "data": {
      "text/plain": [
       "(6, 19)"
      ]
     },
     "execution_count": 14,
     "metadata": {},
     "output_type": "execute_result"
    }
   ],
   "source": [
    "df1 = df[df.Nationality =='Unknown']\n",
    "df1.shape"
   ]
  },
  {
   "cell_type": "code",
   "execution_count": 15,
   "metadata": {},
   "outputs": [
    {
     "data": {
      "text/html": [
       "<div>\n",
       "<style scoped>\n",
       "    .dataframe tbody tr th:only-of-type {\n",
       "        vertical-align: middle;\n",
       "    }\n",
       "\n",
       "    .dataframe tbody tr th {\n",
       "        vertical-align: top;\n",
       "    }\n",
       "\n",
       "    .dataframe thead th {\n",
       "        text-align: right;\n",
       "    }\n",
       "</style>\n",
       "<table border=\"1\" class=\"dataframe\">\n",
       "  <thead>\n",
       "    <tr style=\"text-align: right;\">\n",
       "      <th></th>\n",
       "      <th>AcademicYear</th>\n",
       "      <th>N_NoApprovals</th>\n",
       "      <th>Nationality</th>\n",
       "      <th>Gender</th>\n",
       "      <th>N_Enrollments</th>\n",
       "      <th>Scholarship</th>\n",
       "      <th>PermanentIncomeSupport</th>\n",
       "      <th>Computer</th>\n",
       "      <th>InternetAccess</th>\n",
       "      <th>CourseSubject</th>\n",
       "      <th>UrbanIndex</th>\n",
       "      <th>IncomeIndex</th>\n",
       "      <th>AgingIndex</th>\n",
       "      <th>UnemploymentIndex</th>\n",
       "      <th>CulturalLevelIndex</th>\n",
       "      <th>ClassSize</th>\n",
       "      <th>SchoolSize</th>\n",
       "      <th>N_SubjectsEnrolled</th>\n",
       "      <th>FinalMark</th>\n",
       "    </tr>\n",
       "  </thead>\n",
       "  <tbody>\n",
       "    <tr>\n",
       "      <th>116202</th>\n",
       "      <td>11</td>\n",
       "      <td>0</td>\n",
       "      <td>Unknown</td>\n",
       "      <td>F</td>\n",
       "      <td>1</td>\n",
       "      <td>2</td>\n",
       "      <td>1.0</td>\n",
       "      <td>False</td>\n",
       "      <td>False</td>\n",
       "      <td>Matemática A</td>\n",
       "      <td>5090.4</td>\n",
       "      <td>1560.6</td>\n",
       "      <td>189.3</td>\n",
       "      <td>11.76</td>\n",
       "      <td>70.93</td>\n",
       "      <td>17</td>\n",
       "      <td>243</td>\n",
       "      <td>8</td>\n",
       "      <td>10</td>\n",
       "    </tr>\n",
       "    <tr>\n",
       "      <th>116203</th>\n",
       "      <td>11</td>\n",
       "      <td>0</td>\n",
       "      <td>Unknown</td>\n",
       "      <td>F</td>\n",
       "      <td>1</td>\n",
       "      <td>2</td>\n",
       "      <td>1.0</td>\n",
       "      <td>False</td>\n",
       "      <td>False</td>\n",
       "      <td>Língua Estrangeira I - Inglês</td>\n",
       "      <td>5090.4</td>\n",
       "      <td>1560.6</td>\n",
       "      <td>189.3</td>\n",
       "      <td>11.76</td>\n",
       "      <td>70.93</td>\n",
       "      <td>17</td>\n",
       "      <td>243</td>\n",
       "      <td>8</td>\n",
       "      <td>12</td>\n",
       "    </tr>\n",
       "    <tr>\n",
       "      <th>339512</th>\n",
       "      <td>11</td>\n",
       "      <td>0</td>\n",
       "      <td>Unknown</td>\n",
       "      <td>F</td>\n",
       "      <td>1</td>\n",
       "      <td>2</td>\n",
       "      <td>1.0</td>\n",
       "      <td>False</td>\n",
       "      <td>False</td>\n",
       "      <td>Física e Química A</td>\n",
       "      <td>5090.4</td>\n",
       "      <td>1560.6</td>\n",
       "      <td>189.3</td>\n",
       "      <td>11.76</td>\n",
       "      <td>70.93</td>\n",
       "      <td>17</td>\n",
       "      <td>243</td>\n",
       "      <td>8</td>\n",
       "      <td>10</td>\n",
       "    </tr>\n",
       "    <tr>\n",
       "      <th>350092</th>\n",
       "      <td>11</td>\n",
       "      <td>0</td>\n",
       "      <td>Unknown</td>\n",
       "      <td>F</td>\n",
       "      <td>1</td>\n",
       "      <td>2</td>\n",
       "      <td>1.0</td>\n",
       "      <td>False</td>\n",
       "      <td>False</td>\n",
       "      <td>Português</td>\n",
       "      <td>5090.4</td>\n",
       "      <td>1560.6</td>\n",
       "      <td>189.3</td>\n",
       "      <td>11.76</td>\n",
       "      <td>70.93</td>\n",
       "      <td>17</td>\n",
       "      <td>243</td>\n",
       "      <td>8</td>\n",
       "      <td>12</td>\n",
       "    </tr>\n",
       "    <tr>\n",
       "      <th>350440</th>\n",
       "      <td>11</td>\n",
       "      <td>0</td>\n",
       "      <td>Unknown</td>\n",
       "      <td>F</td>\n",
       "      <td>1</td>\n",
       "      <td>2</td>\n",
       "      <td>1.0</td>\n",
       "      <td>False</td>\n",
       "      <td>False</td>\n",
       "      <td>Filosofia</td>\n",
       "      <td>5090.4</td>\n",
       "      <td>1560.6</td>\n",
       "      <td>189.3</td>\n",
       "      <td>11.76</td>\n",
       "      <td>70.93</td>\n",
       "      <td>17</td>\n",
       "      <td>243</td>\n",
       "      <td>8</td>\n",
       "      <td>11</td>\n",
       "    </tr>\n",
       "    <tr>\n",
       "      <th>354479</th>\n",
       "      <td>11</td>\n",
       "      <td>0</td>\n",
       "      <td>Unknown</td>\n",
       "      <td>F</td>\n",
       "      <td>1</td>\n",
       "      <td>2</td>\n",
       "      <td>1.0</td>\n",
       "      <td>False</td>\n",
       "      <td>False</td>\n",
       "      <td>Biologia e Geologia</td>\n",
       "      <td>5090.4</td>\n",
       "      <td>1560.6</td>\n",
       "      <td>189.3</td>\n",
       "      <td>11.76</td>\n",
       "      <td>70.93</td>\n",
       "      <td>17</td>\n",
       "      <td>243</td>\n",
       "      <td>8</td>\n",
       "      <td>11</td>\n",
       "    </tr>\n",
       "  </tbody>\n",
       "</table>\n",
       "</div>"
      ],
      "text/plain": [
       "        AcademicYear  N_NoApprovals Nationality Gender  N_Enrollments  \\\n",
       "116202            11              0     Unknown      F              1   \n",
       "116203            11              0     Unknown      F              1   \n",
       "339512            11              0     Unknown      F              1   \n",
       "350092            11              0     Unknown      F              1   \n",
       "350440            11              0     Unknown      F              1   \n",
       "354479            11              0     Unknown      F              1   \n",
       "\n",
       "        Scholarship  PermanentIncomeSupport  Computer  InternetAccess  \\\n",
       "116202            2                     1.0     False           False   \n",
       "116203            2                     1.0     False           False   \n",
       "339512            2                     1.0     False           False   \n",
       "350092            2                     1.0     False           False   \n",
       "350440            2                     1.0     False           False   \n",
       "354479            2                     1.0     False           False   \n",
       "\n",
       "                        CourseSubject  UrbanIndex  IncomeIndex  AgingIndex  \\\n",
       "116202                   Matemática A      5090.4       1560.6       189.3   \n",
       "116203  Língua Estrangeira I - Inglês      5090.4       1560.6       189.3   \n",
       "339512             Física e Química A      5090.4       1560.6       189.3   \n",
       "350092                      Português      5090.4       1560.6       189.3   \n",
       "350440                      Filosofia      5090.4       1560.6       189.3   \n",
       "354479            Biologia e Geologia      5090.4       1560.6       189.3   \n",
       "\n",
       "        UnemploymentIndex  CulturalLevelIndex  ClassSize  SchoolSize  \\\n",
       "116202              11.76               70.93         17         243   \n",
       "116203              11.76               70.93         17         243   \n",
       "339512              11.76               70.93         17         243   \n",
       "350092              11.76               70.93         17         243   \n",
       "350440              11.76               70.93         17         243   \n",
       "354479              11.76               70.93         17         243   \n",
       "\n",
       "        N_SubjectsEnrolled  FinalMark  \n",
       "116202                   8         10  \n",
       "116203                   8         12  \n",
       "339512                   8         10  \n",
       "350092                   8         12  \n",
       "350440                   8         11  \n",
       "354479                   8         11  "
      ]
     },
     "execution_count": 15,
     "metadata": {},
     "output_type": "execute_result"
    }
   ],
   "source": [
    "df1"
   ]
  },
  {
   "cell_type": "code",
   "execution_count": 16,
   "metadata": {},
   "outputs": [
    {
     "name": "stdout",
     "output_type": "stream",
     "text": [
      "Unique values per features to be binarised:\n",
      "\n",
      "AcademicYear \t [11 12 10]\n",
      "Nationality \t ['PT' 'DE' 'BR' 'ZA' 'AO' 'CH' 'UA' 'RO' 'MD' 'CN' 'VE' 'BY' 'CV' 'RU'\n",
      " 'IT' 'GB' 'FR' 'CM' 'ST' 'GW' 'NL' 'BB' 'LU' 'US' 'DK' 'ES' 'BE' 'BG'\n",
      " 'PL' 'AR' 'CO' 'IN' 'TH' 'BD' 'DO' 'PY' 'TR' 'PA' 'KZ' 'CS' 'TL' 'CU'\n",
      " 'LT' 'MA' 'NO' 'HU' 'EC' 'CA' 'SV' 'KR' 'IQ' 'EE' 'CL' 'MO' 'NP' 'SE'\n",
      " 'Unknown' 'MZ' 'UZ' 'SL' 'AD' 'BS' 'AF' 'GE' 'PR' 'PH' 'LV' 'QA' 'IS'\n",
      " 'FI' 'GN' 'PK' 'AU' 'PE' 'DZ' 'GT' 'NG' 'ZW' 'QU' 'IE' 'AT' 'SN' 'TG'\n",
      " 'EG' 'CI' 'BJ' 'CG' 'UY' 'ID' 'TJ' 'GQ' 'XR' 'TN' 'IR' 'JP' 'MY' 'SA']\n",
      "Gender \t ['F' 'M']\n",
      "Scholarship \t [0 1 2]\n",
      "PermanentIncomeSupport \t [0. 2. 1. 3.]\n",
      "Computer \t [ True False]\n",
      "InternetAccess \t [ True False]\n"
     ]
    }
   ],
   "source": [
    "print(\"Unique values per features to be binarised:\\n\")\n",
    "for i in Binarised_Features:\n",
    "    HE_i= df[i].unique()\n",
    "    print(i, '\\t', HE_i)"
   ]
  },
  {
   "cell_type": "code",
   "execution_count": 17,
   "metadata": {},
   "outputs": [
    {
     "data": {
      "text/plain": [
       "Index(['AcademicYear', 'N_NoApprovals', 'Nationality', 'Gender',\n",
       "       'N_Enrollments', 'Scholarship', 'PermanentIncomeSupport', 'Computer',\n",
       "       'InternetAccess', 'CourseSubject', 'UrbanIndex', 'IncomeIndex',\n",
       "       'AgingIndex', 'UnemploymentIndex', 'CulturalLevelIndex', 'ClassSize',\n",
       "       'SchoolSize', 'N_SubjectsEnrolled', 'FinalMark'],\n",
       "      dtype='object')"
      ]
     },
     "execution_count": 17,
     "metadata": {},
     "output_type": "execute_result"
    }
   ],
   "source": [
    "df.columns"
   ]
  },
  {
   "cell_type": "code",
   "execution_count": 18,
   "metadata": {},
   "outputs": [],
   "source": [
    "ind_AcademicYear = pd.get_dummies(df['AcademicYear'], prefix='AcYear')"
   ]
  },
  {
   "cell_type": "code",
   "execution_count": 19,
   "metadata": {},
   "outputs": [
    {
     "data": {
      "text/html": [
       "<div>\n",
       "<style scoped>\n",
       "    .dataframe tbody tr th:only-of-type {\n",
       "        vertical-align: middle;\n",
       "    }\n",
       "\n",
       "    .dataframe tbody tr th {\n",
       "        vertical-align: top;\n",
       "    }\n",
       "\n",
       "    .dataframe thead th {\n",
       "        text-align: right;\n",
       "    }\n",
       "</style>\n",
       "<table border=\"1\" class=\"dataframe\">\n",
       "  <thead>\n",
       "    <tr style=\"text-align: right;\">\n",
       "      <th></th>\n",
       "      <th>AcYear_10</th>\n",
       "      <th>AcYear_11</th>\n",
       "      <th>AcYear_12</th>\n",
       "    </tr>\n",
       "  </thead>\n",
       "  <tbody>\n",
       "    <tr>\n",
       "      <th>0</th>\n",
       "      <td>0</td>\n",
       "      <td>1</td>\n",
       "      <td>0</td>\n",
       "    </tr>\n",
       "    <tr>\n",
       "      <th>2</th>\n",
       "      <td>0</td>\n",
       "      <td>0</td>\n",
       "      <td>1</td>\n",
       "    </tr>\n",
       "    <tr>\n",
       "      <th>3</th>\n",
       "      <td>0</td>\n",
       "      <td>0</td>\n",
       "      <td>1</td>\n",
       "    </tr>\n",
       "    <tr>\n",
       "      <th>4</th>\n",
       "      <td>0</td>\n",
       "      <td>1</td>\n",
       "      <td>0</td>\n",
       "    </tr>\n",
       "    <tr>\n",
       "      <th>5</th>\n",
       "      <td>0</td>\n",
       "      <td>0</td>\n",
       "      <td>1</td>\n",
       "    </tr>\n",
       "  </tbody>\n",
       "</table>\n",
       "</div>"
      ],
      "text/plain": [
       "   AcYear_10  AcYear_11  AcYear_12\n",
       "0          0          1          0\n",
       "2          0          0          1\n",
       "3          0          0          1\n",
       "4          0          1          0\n",
       "5          0          0          1"
      ]
     },
     "execution_count": 19,
     "metadata": {},
     "output_type": "execute_result"
    }
   ],
   "source": [
    "ind_AcademicYear.head()"
   ]
  },
  {
   "cell_type": "code",
   "execution_count": 20,
   "metadata": {},
   "outputs": [],
   "source": [
    "ind_AcademicYear1 = ind_AcademicYear.drop('AcYear_10', axis=1)"
   ]
  },
  {
   "cell_type": "code",
   "execution_count": 21,
   "metadata": {},
   "outputs": [
    {
     "data": {
      "text/plain": [
       "(362261, 2)"
      ]
     },
     "execution_count": 21,
     "metadata": {},
     "output_type": "execute_result"
    }
   ],
   "source": [
    "ind_AcademicYear1.shape"
   ]
  },
  {
   "cell_type": "code",
   "execution_count": 22,
   "metadata": {},
   "outputs": [
    {
     "data": {
      "text/plain": [
       "(362261, 19)"
      ]
     },
     "execution_count": 22,
     "metadata": {},
     "output_type": "execute_result"
    }
   ],
   "source": [
    "df.shape"
   ]
  },
  {
   "cell_type": "code",
   "execution_count": 23,
   "metadata": {},
   "outputs": [],
   "source": [
    "df1 = pd.concat([ind_AcademicYear1, df], axis=1)"
   ]
  },
  {
   "cell_type": "code",
   "execution_count": 24,
   "metadata": {},
   "outputs": [
    {
     "data": {
      "text/plain": [
       "(362261, 21)"
      ]
     },
     "execution_count": 24,
     "metadata": {},
     "output_type": "execute_result"
    }
   ],
   "source": [
    "df1.shape"
   ]
  },
  {
   "cell_type": "code",
   "execution_count": 25,
   "metadata": {},
   "outputs": [],
   "source": [
    "df=df1.drop('AcademicYear', axis=1)\n"
   ]
  },
  {
   "cell_type": "code",
   "execution_count": 26,
   "metadata": {},
   "outputs": [
    {
     "data": {
      "text/plain": [
       "(362261, 20)"
      ]
     },
     "execution_count": 26,
     "metadata": {},
     "output_type": "execute_result"
    }
   ],
   "source": [
    "df.shape"
   ]
  },
  {
   "cell_type": "code",
   "execution_count": 27,
   "metadata": {},
   "outputs": [
    {
     "name": "stdout",
     "output_type": "stream",
     "text": [
      "<class 'pandas.core.frame.DataFrame'>\n",
      "Int64Index: 362261 entries, 0 to 542807\n",
      "Data columns (total 20 columns):\n",
      "AcYear_11                 362261 non-null uint8\n",
      "AcYear_12                 362261 non-null uint8\n",
      "N_NoApprovals             362261 non-null int64\n",
      "Nationality               362261 non-null object\n",
      "Gender                    362261 non-null object\n",
      "N_Enrollments             362261 non-null int64\n",
      "Scholarship               362261 non-null int64\n",
      "PermanentIncomeSupport    362261 non-null float64\n",
      "Computer                  362261 non-null bool\n",
      "InternetAccess            362261 non-null bool\n",
      "CourseSubject             362261 non-null object\n",
      "UrbanIndex                362261 non-null float64\n",
      "IncomeIndex               362261 non-null float64\n",
      "AgingIndex                362261 non-null float64\n",
      "UnemploymentIndex         362261 non-null float64\n",
      "CulturalLevelIndex        362261 non-null float64\n",
      "ClassSize                 362261 non-null int64\n",
      "SchoolSize                362261 non-null int64\n",
      "N_SubjectsEnrolled        362261 non-null int64\n",
      "FinalMark                 362261 non-null int64\n",
      "dtypes: bool(2), float64(6), int64(7), object(3), uint8(2)\n",
      "memory usage: 48.4+ MB\n"
     ]
    }
   ],
   "source": [
    "df.info()"
   ]
  },
  {
   "cell_type": "code",
   "execution_count": 28,
   "metadata": {},
   "outputs": [],
   "source": [
    "N_Enrollments = df['N_Enrollments'].unique()"
   ]
  },
  {
   "cell_type": "code",
   "execution_count": 29,
   "metadata": {},
   "outputs": [
    {
     "name": "stdout",
     "output_type": "stream",
     "text": [
      "Shape per number of enrollments:\n",
      "\n",
      "1 \t (337279, 20)\n",
      "2 \t (23357, 20)\n",
      "3 \t (1502, 20)\n",
      "5 \t (17, 20)\n",
      "4 \t (106, 20)\n"
     ]
    }
   ],
   "source": [
    "print(\"Shape per number of enrollments:\\n\")\n",
    "for i in N_Enrollments:\n",
    "    Enroll_i= df[df['N_Enrollments']== i]\n",
    "    print(i, '\\t', Enroll_i.shape)"
   ]
  },
  {
   "cell_type": "code",
   "execution_count": 30,
   "metadata": {},
   "outputs": [],
   "source": [
    "#ind_Enrollments = pd.get_dummies(df['N_Enrollments'], prefix='NEnroll')"
   ]
  },
  {
   "cell_type": "code",
   "execution_count": 31,
   "metadata": {},
   "outputs": [],
   "source": [
    "#ind_Enrollments.head()"
   ]
  },
  {
   "cell_type": "code",
   "execution_count": 32,
   "metadata": {},
   "outputs": [],
   "source": [
    "#ind_Enrollments1 = ind_Enrollments.drop('NEnroll_1', axis=1)"
   ]
  },
  {
   "cell_type": "code",
   "execution_count": 33,
   "metadata": {},
   "outputs": [],
   "source": [
    "#ind_Enrollments1.shape"
   ]
  },
  {
   "cell_type": "code",
   "execution_count": 34,
   "metadata": {},
   "outputs": [],
   "source": [
    "#df1 = pd.concat([ind_Enrollments1, df], axis=1)"
   ]
  },
  {
   "cell_type": "code",
   "execution_count": 35,
   "metadata": {},
   "outputs": [],
   "source": [
    "#df1.shape"
   ]
  },
  {
   "cell_type": "code",
   "execution_count": 36,
   "metadata": {},
   "outputs": [],
   "source": [
    "#df=df1.drop('N_Enrollments', axis=1)"
   ]
  },
  {
   "cell_type": "code",
   "execution_count": 37,
   "metadata": {},
   "outputs": [],
   "source": [
    "#df.shape"
   ]
  },
  {
   "cell_type": "code",
   "execution_count": 38,
   "metadata": {},
   "outputs": [],
   "source": [
    "#df.info()"
   ]
  },
  {
   "cell_type": "code",
   "execution_count": 39,
   "metadata": {},
   "outputs": [
    {
     "data": {
      "text/plain": [
       "array(['PT', 'DE', 'BR', 'ZA', 'AO', 'CH', 'UA', 'RO', 'MD', 'CN', 'VE',\n",
       "       'BY', 'CV', 'RU', 'IT', 'GB', 'FR', 'CM', 'ST', 'GW', 'NL', 'BB',\n",
       "       'LU', 'US', 'DK', 'ES', 'BE', 'BG', 'PL', 'AR', 'CO', 'IN', 'TH',\n",
       "       'BD', 'DO', 'PY', 'TR', 'PA', 'KZ', 'CS', 'TL', 'CU', 'LT', 'MA',\n",
       "       'NO', 'HU', 'EC', 'CA', 'SV', 'KR', 'IQ', 'EE', 'CL', 'MO', 'NP',\n",
       "       'SE', 'Unknown', 'MZ', 'UZ', 'SL', 'AD', 'BS', 'AF', 'GE', 'PR',\n",
       "       'PH', 'LV', 'QA', 'IS', 'FI', 'GN', 'PK', 'AU', 'PE', 'DZ', 'GT',\n",
       "       'NG', 'ZW', 'QU', 'IE', 'AT', 'SN', 'TG', 'EG', 'CI', 'BJ', 'CG',\n",
       "       'UY', 'ID', 'TJ', 'GQ', 'XR', 'TN', 'IR', 'JP', 'MY', 'SA'],\n",
       "      dtype=object)"
      ]
     },
     "execution_count": 39,
     "metadata": {},
     "output_type": "execute_result"
    }
   ],
   "source": [
    "df['Nationality'].unique()"
   ]
  },
  {
   "cell_type": "code",
   "execution_count": 40,
   "metadata": {},
   "outputs": [],
   "source": [
    "df['Nationality']=df['Nationality'].map({'PT':0, 'DE':1, 'BR':1, 'ZA':1, 'AO':1, 'CH':1, 'UA':1, 'RO':1, 'MD':1, 'CN':1, 'VE':1,\n",
    "       'BY':1, 'CV':1, 'RU':1, 'IT':1, 'GB':1, 'FR':1, 'CM':1, 'ST':1, 'GW':1, 'NL':1, 'BB':1,\n",
    "       'LU':1, 'US':1, 'DK':1, 'ES':1, 'BE':1, 'BG':1, 'PL':1, 'AR':1, 'CO':1, 'IN':1, 'TH':1,\n",
    "       'BD':1, 'DO':1, 'PY':1, 'TR':1, 'PA':1, 'KZ':1, 'CS':1, 'TL':1, 'CU':1, 'LT':1, 'MA':1,\n",
    "       'NO':1, 'HU':1, 'EC':1, 'CA':1, 'SV':1, 'KR':1, 'IQ':1, 'EE':1, 'CL':1, 'MO':1, 'NP':1,\n",
    "       'SE':1, 'Unknown':1, 'MZ':1, 'UZ':1, 'SL':1, 'AD':1, 'BS':1, 'AF':1, 'GE':1, 'PR':1,\n",
    "       'PH':1, 'LV':1, 'QA':1, 'IS':1, 'FI':1, 'GN':1, 'PK':1, 'AU':1, 'PE':1, 'DZ':1, 'GT':1,\n",
    "       'NG':1, 'ZW':1, 'QU':1, 'IE':1, 'AT':1, 'SN':1, 'TG':1, 'EG':1, 'CI':1, 'BJ':1, 'CG':1,\n",
    "       'UY':1, 'ID':1, 'TJ':1, 'GQ':1, 'XR':1, 'TN':1, 'IR':1, 'JP':1, 'MY':1, 'SA':1})"
   ]
  },
  {
   "cell_type": "code",
   "execution_count": 41,
   "metadata": {},
   "outputs": [],
   "source": [
    "#df.Nationality = df.Nationality.astype()"
   ]
  },
  {
   "cell_type": "code",
   "execution_count": 42,
   "metadata": {},
   "outputs": [
    {
     "data": {
      "text/plain": [
       "array([0, 1], dtype=int64)"
      ]
     },
     "execution_count": 42,
     "metadata": {},
     "output_type": "execute_result"
    }
   ],
   "source": [
    "df['Nationality'].unique()"
   ]
  },
  {
   "cell_type": "code",
   "execution_count": 43,
   "metadata": {},
   "outputs": [],
   "source": [
    "ind_Gender = pd.get_dummies(df['Gender'], prefix='Gender')"
   ]
  },
  {
   "cell_type": "code",
   "execution_count": 44,
   "metadata": {},
   "outputs": [
    {
     "data": {
      "text/html": [
       "<div>\n",
       "<style scoped>\n",
       "    .dataframe tbody tr th:only-of-type {\n",
       "        vertical-align: middle;\n",
       "    }\n",
       "\n",
       "    .dataframe tbody tr th {\n",
       "        vertical-align: top;\n",
       "    }\n",
       "\n",
       "    .dataframe thead th {\n",
       "        text-align: right;\n",
       "    }\n",
       "</style>\n",
       "<table border=\"1\" class=\"dataframe\">\n",
       "  <thead>\n",
       "    <tr style=\"text-align: right;\">\n",
       "      <th></th>\n",
       "      <th>Gender_F</th>\n",
       "      <th>Gender_M</th>\n",
       "    </tr>\n",
       "  </thead>\n",
       "  <tbody>\n",
       "    <tr>\n",
       "      <th>0</th>\n",
       "      <td>1</td>\n",
       "      <td>0</td>\n",
       "    </tr>\n",
       "    <tr>\n",
       "      <th>2</th>\n",
       "      <td>0</td>\n",
       "      <td>1</td>\n",
       "    </tr>\n",
       "    <tr>\n",
       "      <th>3</th>\n",
       "      <td>1</td>\n",
       "      <td>0</td>\n",
       "    </tr>\n",
       "    <tr>\n",
       "      <th>4</th>\n",
       "      <td>1</td>\n",
       "      <td>0</td>\n",
       "    </tr>\n",
       "    <tr>\n",
       "      <th>5</th>\n",
       "      <td>0</td>\n",
       "      <td>1</td>\n",
       "    </tr>\n",
       "  </tbody>\n",
       "</table>\n",
       "</div>"
      ],
      "text/plain": [
       "   Gender_F  Gender_M\n",
       "0         1         0\n",
       "2         0         1\n",
       "3         1         0\n",
       "4         1         0\n",
       "5         0         1"
      ]
     },
     "execution_count": 44,
     "metadata": {},
     "output_type": "execute_result"
    }
   ],
   "source": [
    "ind_Gender.head()"
   ]
  },
  {
   "cell_type": "code",
   "execution_count": 45,
   "metadata": {},
   "outputs": [],
   "source": [
    "ind_Gender1 = ind_Gender.drop('Gender_F', axis=1)"
   ]
  },
  {
   "cell_type": "code",
   "execution_count": 46,
   "metadata": {},
   "outputs": [
    {
     "data": {
      "text/plain": [
       "(362261, 1)"
      ]
     },
     "execution_count": 46,
     "metadata": {},
     "output_type": "execute_result"
    }
   ],
   "source": [
    "ind_Gender1.shape"
   ]
  },
  {
   "cell_type": "code",
   "execution_count": 47,
   "metadata": {},
   "outputs": [
    {
     "data": {
      "text/plain": [
       "(362261, 20)"
      ]
     },
     "execution_count": 47,
     "metadata": {},
     "output_type": "execute_result"
    }
   ],
   "source": [
    "df.shape"
   ]
  },
  {
   "cell_type": "code",
   "execution_count": 48,
   "metadata": {},
   "outputs": [],
   "source": [
    "df1 = pd.concat([ind_Gender1, df], axis=1)"
   ]
  },
  {
   "cell_type": "code",
   "execution_count": 49,
   "metadata": {},
   "outputs": [
    {
     "data": {
      "text/plain": [
       "(362261, 21)"
      ]
     },
     "execution_count": 49,
     "metadata": {},
     "output_type": "execute_result"
    }
   ],
   "source": [
    "df1.shape"
   ]
  },
  {
   "cell_type": "code",
   "execution_count": 50,
   "metadata": {},
   "outputs": [],
   "source": [
    "df=df1.drop('Gender', axis=1)"
   ]
  },
  {
   "cell_type": "code",
   "execution_count": 51,
   "metadata": {},
   "outputs": [
    {
     "data": {
      "text/plain": [
       "(362261, 20)"
      ]
     },
     "execution_count": 51,
     "metadata": {},
     "output_type": "execute_result"
    }
   ],
   "source": [
    "df.shape"
   ]
  },
  {
   "cell_type": "code",
   "execution_count": 52,
   "metadata": {},
   "outputs": [
    {
     "name": "stdout",
     "output_type": "stream",
     "text": [
      "<class 'pandas.core.frame.DataFrame'>\n",
      "Int64Index: 362261 entries, 0 to 542807\n",
      "Data columns (total 20 columns):\n",
      "Gender_M                  362261 non-null uint8\n",
      "AcYear_11                 362261 non-null uint8\n",
      "AcYear_12                 362261 non-null uint8\n",
      "N_NoApprovals             362261 non-null int64\n",
      "Nationality               362261 non-null int64\n",
      "N_Enrollments             362261 non-null int64\n",
      "Scholarship               362261 non-null int64\n",
      "PermanentIncomeSupport    362261 non-null float64\n",
      "Computer                  362261 non-null bool\n",
      "InternetAccess            362261 non-null bool\n",
      "CourseSubject             362261 non-null object\n",
      "UrbanIndex                362261 non-null float64\n",
      "IncomeIndex               362261 non-null float64\n",
      "AgingIndex                362261 non-null float64\n",
      "UnemploymentIndex         362261 non-null float64\n",
      "CulturalLevelIndex        362261 non-null float64\n",
      "ClassSize                 362261 non-null int64\n",
      "SchoolSize                362261 non-null int64\n",
      "N_SubjectsEnrolled        362261 non-null int64\n",
      "FinalMark                 362261 non-null int64\n",
      "dtypes: bool(2), float64(6), int64(8), object(1), uint8(3)\n",
      "memory usage: 45.9+ MB\n"
     ]
    }
   ],
   "source": [
    "df.info()"
   ]
  },
  {
   "cell_type": "code",
   "execution_count": 53,
   "metadata": {},
   "outputs": [
    {
     "data": {
      "text/plain": [
       "array([0, 1, 2], dtype=int64)"
      ]
     },
     "execution_count": 53,
     "metadata": {},
     "output_type": "execute_result"
    }
   ],
   "source": [
    "df['Scholarship'].unique()"
   ]
  },
  {
   "cell_type": "code",
   "execution_count": 54,
   "metadata": {},
   "outputs": [
    {
     "data": {
      "text/plain": [
       "0    263565\n",
       "1     51895\n",
       "2     46801\n",
       "Name: Scholarship, dtype: int64"
      ]
     },
     "execution_count": 54,
     "metadata": {},
     "output_type": "execute_result"
    }
   ],
   "source": [
    "df.Scholarship.value_counts()"
   ]
  },
  {
   "cell_type": "code",
   "execution_count": 55,
   "metadata": {},
   "outputs": [
    {
     "data": {
      "text/html": [
       "<div>\n",
       "<style scoped>\n",
       "    .dataframe tbody tr th:only-of-type {\n",
       "        vertical-align: middle;\n",
       "    }\n",
       "\n",
       "    .dataframe tbody tr th {\n",
       "        vertical-align: top;\n",
       "    }\n",
       "\n",
       "    .dataframe thead th {\n",
       "        text-align: right;\n",
       "    }\n",
       "</style>\n",
       "<table border=\"1\" class=\"dataframe\">\n",
       "  <thead>\n",
       "    <tr style=\"text-align: right;\">\n",
       "      <th></th>\n",
       "      <th>Scholarship_0</th>\n",
       "      <th>Scholarship_1</th>\n",
       "      <th>Scholarship_2</th>\n",
       "    </tr>\n",
       "  </thead>\n",
       "  <tbody>\n",
       "    <tr>\n",
       "      <th>0</th>\n",
       "      <td>1</td>\n",
       "      <td>0</td>\n",
       "      <td>0</td>\n",
       "    </tr>\n",
       "    <tr>\n",
       "      <th>2</th>\n",
       "      <td>1</td>\n",
       "      <td>0</td>\n",
       "      <td>0</td>\n",
       "    </tr>\n",
       "    <tr>\n",
       "      <th>3</th>\n",
       "      <td>0</td>\n",
       "      <td>1</td>\n",
       "      <td>0</td>\n",
       "    </tr>\n",
       "    <tr>\n",
       "      <th>4</th>\n",
       "      <td>0</td>\n",
       "      <td>0</td>\n",
       "      <td>1</td>\n",
       "    </tr>\n",
       "    <tr>\n",
       "      <th>5</th>\n",
       "      <td>1</td>\n",
       "      <td>0</td>\n",
       "      <td>0</td>\n",
       "    </tr>\n",
       "  </tbody>\n",
       "</table>\n",
       "</div>"
      ],
      "text/plain": [
       "   Scholarship_0  Scholarship_1  Scholarship_2\n",
       "0              1              0              0\n",
       "2              1              0              0\n",
       "3              0              1              0\n",
       "4              0              0              1\n",
       "5              1              0              0"
      ]
     },
     "execution_count": 55,
     "metadata": {},
     "output_type": "execute_result"
    }
   ],
   "source": [
    "ind_Scholarship = pd.get_dummies(df['Scholarship'], prefix='Scholarship')\n",
    "ind_Scholarship.head()\n"
   ]
  },
  {
   "cell_type": "code",
   "execution_count": 56,
   "metadata": {},
   "outputs": [
    {
     "data": {
      "text/plain": [
       "(362261, 2)"
      ]
     },
     "execution_count": 56,
     "metadata": {},
     "output_type": "execute_result"
    }
   ],
   "source": [
    "ind_Scholarship1 = ind_Scholarship.drop('Scholarship_0', axis=1);\n",
    "ind_Scholarship1.shape"
   ]
  },
  {
   "cell_type": "code",
   "execution_count": 57,
   "metadata": {},
   "outputs": [
    {
     "data": {
      "text/plain": [
       "(362261, 20)"
      ]
     },
     "execution_count": 57,
     "metadata": {},
     "output_type": "execute_result"
    }
   ],
   "source": [
    "df.shape"
   ]
  },
  {
   "cell_type": "code",
   "execution_count": 58,
   "metadata": {},
   "outputs": [
    {
     "data": {
      "text/plain": [
       "(362261, 22)"
      ]
     },
     "execution_count": 58,
     "metadata": {},
     "output_type": "execute_result"
    }
   ],
   "source": [
    "df1 = pd.concat([ind_Scholarship1, df], axis=1)\n",
    "df1.shape"
   ]
  },
  {
   "cell_type": "code",
   "execution_count": 59,
   "metadata": {},
   "outputs": [
    {
     "data": {
      "text/plain": [
       "(362261, 21)"
      ]
     },
     "execution_count": 59,
     "metadata": {},
     "output_type": "execute_result"
    }
   ],
   "source": [
    "df=df1.drop('Scholarship', axis=1)\n",
    "df.shape"
   ]
  },
  {
   "cell_type": "code",
   "execution_count": 60,
   "metadata": {},
   "outputs": [
    {
     "name": "stdout",
     "output_type": "stream",
     "text": [
      "<class 'pandas.core.frame.DataFrame'>\n",
      "Int64Index: 362261 entries, 0 to 542807\n",
      "Data columns (total 21 columns):\n",
      "Scholarship_1             362261 non-null uint8\n",
      "Scholarship_2             362261 non-null uint8\n",
      "Gender_M                  362261 non-null uint8\n",
      "AcYear_11                 362261 non-null uint8\n",
      "AcYear_12                 362261 non-null uint8\n",
      "N_NoApprovals             362261 non-null int64\n",
      "Nationality               362261 non-null int64\n",
      "N_Enrollments             362261 non-null int64\n",
      "PermanentIncomeSupport    362261 non-null float64\n",
      "Computer                  362261 non-null bool\n",
      "InternetAccess            362261 non-null bool\n",
      "CourseSubject             362261 non-null object\n",
      "UrbanIndex                362261 non-null float64\n",
      "IncomeIndex               362261 non-null float64\n",
      "AgingIndex                362261 non-null float64\n",
      "UnemploymentIndex         362261 non-null float64\n",
      "CulturalLevelIndex        362261 non-null float64\n",
      "ClassSize                 362261 non-null int64\n",
      "SchoolSize                362261 non-null int64\n",
      "N_SubjectsEnrolled        362261 non-null int64\n",
      "FinalMark                 362261 non-null int64\n",
      "dtypes: bool(2), float64(6), int64(7), object(1), uint8(5)\n",
      "memory usage: 43.9+ MB\n"
     ]
    }
   ],
   "source": [
    "df.info()"
   ]
  },
  {
   "cell_type": "code",
   "execution_count": 61,
   "metadata": {},
   "outputs": [],
   "source": [
    "# df['Scholarship']=df['Scholarship'].map({0 :0, 1 :1, 2 :1})\n",
    "# 0 means no scholarship\n",
    "# df['Scholarship'].unique()"
   ]
  },
  {
   "cell_type": "code",
   "execution_count": 62,
   "metadata": {},
   "outputs": [
    {
     "data": {
      "text/plain": [
       "array([0., 2., 1., 3.])"
      ]
     },
     "execution_count": 62,
     "metadata": {},
     "output_type": "execute_result"
    }
   ],
   "source": [
    "df['PermanentIncomeSupport'].unique()"
   ]
  },
  {
   "cell_type": "code",
   "execution_count": 63,
   "metadata": {},
   "outputs": [
    {
     "data": {
      "text/plain": [
       "0.0    263155\n",
       "2.0     51473\n",
       "1.0     43732\n",
       "3.0      3901\n",
       "Name: PermanentIncomeSupport, dtype: int64"
      ]
     },
     "execution_count": 63,
     "metadata": {},
     "output_type": "execute_result"
    }
   ],
   "source": [
    "df.PermanentIncomeSupport.value_counts()"
   ]
  },
  {
   "cell_type": "code",
   "execution_count": 64,
   "metadata": {},
   "outputs": [],
   "source": [
    "#df['PermanentIncomeSupport']=df['PermanentIncomeSupport'].map({0 :0, 1 :1, 2 :1, 3:1})\n",
    "# 0 means no support\n",
    "#df['PermanentIncomeSupport'].unique()"
   ]
  },
  {
   "cell_type": "code",
   "execution_count": 65,
   "metadata": {},
   "outputs": [],
   "source": [
    "df.PermanentIncomeSupport = df.PermanentIncomeSupport.astype(int)"
   ]
  },
  {
   "cell_type": "code",
   "execution_count": 66,
   "metadata": {},
   "outputs": [
    {
     "data": {
      "text/html": [
       "<div>\n",
       "<style scoped>\n",
       "    .dataframe tbody tr th:only-of-type {\n",
       "        vertical-align: middle;\n",
       "    }\n",
       "\n",
       "    .dataframe tbody tr th {\n",
       "        vertical-align: top;\n",
       "    }\n",
       "\n",
       "    .dataframe thead th {\n",
       "        text-align: right;\n",
       "    }\n",
       "</style>\n",
       "<table border=\"1\" class=\"dataframe\">\n",
       "  <thead>\n",
       "    <tr style=\"text-align: right;\">\n",
       "      <th></th>\n",
       "      <th>PermanentIncomeSupport_0</th>\n",
       "      <th>PermanentIncomeSupport_1</th>\n",
       "      <th>PermanentIncomeSupport_2</th>\n",
       "      <th>PermanentIncomeSupport_3</th>\n",
       "    </tr>\n",
       "  </thead>\n",
       "  <tbody>\n",
       "    <tr>\n",
       "      <th>0</th>\n",
       "      <td>1</td>\n",
       "      <td>0</td>\n",
       "      <td>0</td>\n",
       "      <td>0</td>\n",
       "    </tr>\n",
       "    <tr>\n",
       "      <th>2</th>\n",
       "      <td>1</td>\n",
       "      <td>0</td>\n",
       "      <td>0</td>\n",
       "      <td>0</td>\n",
       "    </tr>\n",
       "    <tr>\n",
       "      <th>3</th>\n",
       "      <td>0</td>\n",
       "      <td>0</td>\n",
       "      <td>1</td>\n",
       "      <td>0</td>\n",
       "    </tr>\n",
       "    <tr>\n",
       "      <th>4</th>\n",
       "      <td>0</td>\n",
       "      <td>1</td>\n",
       "      <td>0</td>\n",
       "      <td>0</td>\n",
       "    </tr>\n",
       "    <tr>\n",
       "      <th>5</th>\n",
       "      <td>1</td>\n",
       "      <td>0</td>\n",
       "      <td>0</td>\n",
       "      <td>0</td>\n",
       "    </tr>\n",
       "  </tbody>\n",
       "</table>\n",
       "</div>"
      ],
      "text/plain": [
       "   PermanentIncomeSupport_0  PermanentIncomeSupport_1  \\\n",
       "0                         1                         0   \n",
       "2                         1                         0   \n",
       "3                         0                         0   \n",
       "4                         0                         1   \n",
       "5                         1                         0   \n",
       "\n",
       "   PermanentIncomeSupport_2  PermanentIncomeSupport_3  \n",
       "0                         0                         0  \n",
       "2                         0                         0  \n",
       "3                         1                         0  \n",
       "4                         0                         0  \n",
       "5                         0                         0  "
      ]
     },
     "execution_count": 66,
     "metadata": {},
     "output_type": "execute_result"
    }
   ],
   "source": [
    "ind_PermanentIncomeSupport = pd.get_dummies(df['PermanentIncomeSupport'], prefix='PermanentIncomeSupport')\n",
    "ind_PermanentIncomeSupport.head()"
   ]
  },
  {
   "cell_type": "code",
   "execution_count": 67,
   "metadata": {},
   "outputs": [
    {
     "data": {
      "text/plain": [
       "(362261, 3)"
      ]
     },
     "execution_count": 67,
     "metadata": {},
     "output_type": "execute_result"
    }
   ],
   "source": [
    "ind_PermanentIncomeSupport1 = ind_PermanentIncomeSupport.drop('PermanentIncomeSupport_0', axis=1);\n",
    "ind_PermanentIncomeSupport1.shape"
   ]
  },
  {
   "cell_type": "code",
   "execution_count": 68,
   "metadata": {},
   "outputs": [
    {
     "data": {
      "text/plain": [
       "(362261, 21)"
      ]
     },
     "execution_count": 68,
     "metadata": {},
     "output_type": "execute_result"
    }
   ],
   "source": [
    "df.shape"
   ]
  },
  {
   "cell_type": "code",
   "execution_count": 69,
   "metadata": {},
   "outputs": [
    {
     "data": {
      "text/plain": [
       "(362261, 24)"
      ]
     },
     "execution_count": 69,
     "metadata": {},
     "output_type": "execute_result"
    }
   ],
   "source": [
    "df1 = pd.concat([ind_PermanentIncomeSupport1, df], axis=1)\n",
    "df1.shape"
   ]
  },
  {
   "cell_type": "code",
   "execution_count": 70,
   "metadata": {},
   "outputs": [
    {
     "data": {
      "text/plain": [
       "(362261, 23)"
      ]
     },
     "execution_count": 70,
     "metadata": {},
     "output_type": "execute_result"
    }
   ],
   "source": [
    "df=df1.drop('PermanentIncomeSupport', axis=1)\n",
    "df.shape"
   ]
  },
  {
   "cell_type": "code",
   "execution_count": 71,
   "metadata": {},
   "outputs": [
    {
     "name": "stdout",
     "output_type": "stream",
     "text": [
      "<class 'pandas.core.frame.DataFrame'>\n",
      "Int64Index: 362261 entries, 0 to 542807\n",
      "Data columns (total 23 columns):\n",
      "PermanentIncomeSupport_1    362261 non-null uint8\n",
      "PermanentIncomeSupport_2    362261 non-null uint8\n",
      "PermanentIncomeSupport_3    362261 non-null uint8\n",
      "Scholarship_1               362261 non-null uint8\n",
      "Scholarship_2               362261 non-null uint8\n",
      "Gender_M                    362261 non-null uint8\n",
      "AcYear_11                   362261 non-null uint8\n",
      "AcYear_12                   362261 non-null uint8\n",
      "N_NoApprovals               362261 non-null int64\n",
      "Nationality                 362261 non-null int64\n",
      "N_Enrollments               362261 non-null int64\n",
      "Computer                    362261 non-null bool\n",
      "InternetAccess              362261 non-null bool\n",
      "CourseSubject               362261 non-null object\n",
      "UrbanIndex                  362261 non-null float64\n",
      "IncomeIndex                 362261 non-null float64\n",
      "AgingIndex                  362261 non-null float64\n",
      "UnemploymentIndex           362261 non-null float64\n",
      "CulturalLevelIndex          362261 non-null float64\n",
      "ClassSize                   362261 non-null int64\n",
      "SchoolSize                  362261 non-null int64\n",
      "N_SubjectsEnrolled          362261 non-null int64\n",
      "FinalMark                   362261 non-null int64\n",
      "dtypes: bool(2), float64(5), int64(7), object(1), uint8(8)\n",
      "memory usage: 42.1+ MB\n"
     ]
    }
   ],
   "source": [
    "df.info()"
   ]
  },
  {
   "cell_type": "code",
   "execution_count": 72,
   "metadata": {},
   "outputs": [
    {
     "data": {
      "text/plain": [
       "array([ True, False])"
      ]
     },
     "execution_count": 72,
     "metadata": {},
     "output_type": "execute_result"
    }
   ],
   "source": [
    "df['Computer'].unique()"
   ]
  },
  {
   "cell_type": "code",
   "execution_count": 73,
   "metadata": {},
   "outputs": [
    {
     "data": {
      "text/plain": [
       "array([ True, False])"
      ]
     },
     "execution_count": 73,
     "metadata": {},
     "output_type": "execute_result"
    }
   ],
   "source": [
    "df['InternetAccess'].unique()"
   ]
  },
  {
   "cell_type": "code",
   "execution_count": 74,
   "metadata": {},
   "outputs": [],
   "source": [
    "df.Computer = df.Computer.astype(int)\n",
    "df.InternetAccess = df.InternetAccess.astype(int)"
   ]
  },
  {
   "cell_type": "code",
   "execution_count": 75,
   "metadata": {},
   "outputs": [
    {
     "data": {
      "text/plain": [
       "array([1, 0], dtype=int64)"
      ]
     },
     "execution_count": 75,
     "metadata": {},
     "output_type": "execute_result"
    }
   ],
   "source": [
    "df['Computer'].unique()"
   ]
  },
  {
   "cell_type": "code",
   "execution_count": 76,
   "metadata": {},
   "outputs": [
    {
     "data": {
      "text/plain": [
       "array([1, 0], dtype=int64)"
      ]
     },
     "execution_count": 76,
     "metadata": {},
     "output_type": "execute_result"
    }
   ],
   "source": [
    "df['InternetAccess'].unique()"
   ]
  },
  {
   "cell_type": "code",
   "execution_count": 77,
   "metadata": {},
   "outputs": [
    {
     "name": "stdout",
     "output_type": "stream",
     "text": [
      "<class 'pandas.core.frame.DataFrame'>\n",
      "Int64Index: 362261 entries, 0 to 542807\n",
      "Data columns (total 23 columns):\n",
      "PermanentIncomeSupport_1    362261 non-null uint8\n",
      "PermanentIncomeSupport_2    362261 non-null uint8\n",
      "PermanentIncomeSupport_3    362261 non-null uint8\n",
      "Scholarship_1               362261 non-null uint8\n",
      "Scholarship_2               362261 non-null uint8\n",
      "Gender_M                    362261 non-null uint8\n",
      "AcYear_11                   362261 non-null uint8\n",
      "AcYear_12                   362261 non-null uint8\n",
      "N_NoApprovals               362261 non-null int64\n",
      "Nationality                 362261 non-null int64\n",
      "N_Enrollments               362261 non-null int64\n",
      "Computer                    362261 non-null int32\n",
      "InternetAccess              362261 non-null int32\n",
      "CourseSubject               362261 non-null object\n",
      "UrbanIndex                  362261 non-null float64\n",
      "IncomeIndex                 362261 non-null float64\n",
      "AgingIndex                  362261 non-null float64\n",
      "UnemploymentIndex           362261 non-null float64\n",
      "CulturalLevelIndex          362261 non-null float64\n",
      "ClassSize                   362261 non-null int64\n",
      "SchoolSize                  362261 non-null int64\n",
      "N_SubjectsEnrolled          362261 non-null int64\n",
      "FinalMark                   362261 non-null int64\n",
      "dtypes: float64(5), int32(2), int64(7), object(1), uint8(8)\n",
      "memory usage: 44.2+ MB\n"
     ]
    }
   ],
   "source": [
    "df.info()"
   ]
  },
  {
   "cell_type": "code",
   "execution_count": 78,
   "metadata": {},
   "outputs": [
    {
     "data": {
      "text/plain": [
       "array([  0,   2,   1,   4,  -1,   3,  -3,  -2,   5,   6, -16,  31,  -8,\n",
       "        11,  -9, -21, -10,  10,  24,  33,  12,  32,   7,  20,   8],\n",
       "      dtype=int64)"
      ]
     },
     "execution_count": 78,
     "metadata": {},
     "output_type": "execute_result"
    }
   ],
   "source": [
    "df['N_NoApprovals'].unique()"
   ]
  },
  {
   "cell_type": "code",
   "execution_count": 79,
   "metadata": {},
   "outputs": [
    {
     "data": {
      "text/plain": [
       " 0     277333\n",
       " 1      62584\n",
       " 2      15146\n",
       "-1       3322\n",
       " 3       3110\n",
       " 4        537\n",
       "-2         70\n",
       " 5         62\n",
       " 6         18\n",
       " 10        17\n",
       "-3         14\n",
       "-10         8\n",
       " 24         6\n",
       " 11         5\n",
       " 20         5\n",
       " 12         3\n",
       "-21         3\n",
       "-8          3\n",
       "-16         3\n",
       "-9          3\n",
       " 7          2\n",
       " 31         2\n",
       " 32         2\n",
       " 33         2\n",
       " 8          1\n",
       "Name: N_NoApprovals, dtype: int64"
      ]
     },
     "execution_count": 79,
     "metadata": {},
     "output_type": "execute_result"
    }
   ],
   "source": [
    "df.N_NoApprovals.value_counts()"
   ]
  },
  {
   "cell_type": "raw",
   "metadata": {},
   "source": [
    "If number of fails are greater than six, the samples are dropped from the dataset.\n",
    "If number of fails are equal to four, five or six, the sample belongs to class 4 (4, 5 or 6 fails);\n",
    "if the number of fails computation result is negative, the sample belongs to class 0 ( no fails)."
   ]
  },
  {
   "cell_type": "code",
   "execution_count": 80,
   "metadata": {},
   "outputs": [],
   "source": [
    "df['N_NoApprovals']=df['N_NoApprovals'].map({0:0, 1:1, 2:2, -1:0, 3:3, 4:4, -2:0, 5:4, 6:4, -3:0,\n",
    "                                             -10:0, -21:0, -8:0, -16:0, -9:0})"
   ]
  },
  {
   "cell_type": "code",
   "execution_count": 81,
   "metadata": {},
   "outputs": [
    {
     "data": {
      "text/plain": [
       "0.0    280759\n",
       "1.0     62584\n",
       "2.0     15146\n",
       "3.0      3110\n",
       "4.0       617\n",
       "Name: N_NoApprovals, dtype: int64"
      ]
     },
     "execution_count": 81,
     "metadata": {},
     "output_type": "execute_result"
    }
   ],
   "source": [
    "df.N_NoApprovals.value_counts()"
   ]
  },
  {
   "cell_type": "code",
   "execution_count": 82,
   "metadata": {},
   "outputs": [
    {
     "data": {
      "text/plain": [
       "array([ 0.,  2.,  1.,  4.,  3., nan])"
      ]
     },
     "execution_count": 82,
     "metadata": {},
     "output_type": "execute_result"
    }
   ],
   "source": [
    "df['N_NoApprovals'].unique()"
   ]
  },
  {
   "cell_type": "code",
   "execution_count": 83,
   "metadata": {},
   "outputs": [
    {
     "data": {
      "text/plain": [
       "45"
      ]
     },
     "execution_count": 83,
     "metadata": {},
     "output_type": "execute_result"
    }
   ],
   "source": [
    "# df.isna().sum()\n",
    "df['N_NoApprovals'].isna().sum()"
   ]
  },
  {
   "cell_type": "code",
   "execution_count": 84,
   "metadata": {},
   "outputs": [],
   "source": [
    "df.dropna(inplace=True)"
   ]
  },
  {
   "cell_type": "code",
   "execution_count": 85,
   "metadata": {},
   "outputs": [
    {
     "data": {
      "text/plain": [
       "(362216, 23)"
      ]
     },
     "execution_count": 85,
     "metadata": {},
     "output_type": "execute_result"
    }
   ],
   "source": [
    "df.shape"
   ]
  },
  {
   "cell_type": "code",
   "execution_count": 86,
   "metadata": {},
   "outputs": [],
   "source": [
    "df.N_NoApprovals = df.N_NoApprovals.astype(int)"
   ]
  },
  {
   "cell_type": "code",
   "execution_count": 87,
   "metadata": {},
   "outputs": [
    {
     "data": {
      "text/plain": [
       "1"
      ]
     },
     "execution_count": 87,
     "metadata": {},
     "output_type": "execute_result"
    }
   ],
   "source": [
    "df['ClassSize'].min()"
   ]
  },
  {
   "cell_type": "code",
   "execution_count": 88,
   "metadata": {},
   "outputs": [
    {
     "data": {
      "text/plain": [
       "array([23, 29, 25, 30, 34, 28, 31, 33, 24, 27, 22, 26, 18, 19, 36, 32, 15,\n",
       "       21, 49, 17, 16, 20, 50, 12,  9, 14, 35, 11, 10,  7, 38, 13, 63, 37,\n",
       "        2,  8,  4,  1,  5,  6, 44, 42,  3, 46, 53, 47, 39], dtype=int64)"
      ]
     },
     "execution_count": 88,
     "metadata": {},
     "output_type": "execute_result"
    }
   ],
   "source": [
    "df['ClassSize'].unique()"
   ]
  },
  {
   "cell_type": "code",
   "execution_count": 89,
   "metadata": {},
   "outputs": [
    {
     "data": {
      "text/plain": [
       "30    40113\n",
       "29    37023\n",
       "28    36673\n",
       "26    34289\n",
       "27    33415\n",
       "25    24689\n",
       "31    22868\n",
       "24    18988\n",
       "23    15327\n",
       "32    13823\n",
       "22    12565\n",
       "21    11217\n",
       "20    10441\n",
       "19     8947\n",
       "33     8293\n",
       "18     5497\n",
       "17     4117\n",
       "34     3931\n",
       "16     3184\n",
       "15     3136\n",
       "14     2415\n",
       "36     1742\n",
       "35     1717\n",
       "13     1485\n",
       "12     1351\n",
       "11     1017\n",
       "37      741\n",
       "9       553\n",
       "10      490\n",
       "38      342\n",
       "53      281\n",
       "39      244\n",
       "8       203\n",
       "49      199\n",
       "7       159\n",
       "46      124\n",
       "63      114\n",
       "42      113\n",
       "50       97\n",
       "5        80\n",
       "6        53\n",
       "44       45\n",
       "1        40\n",
       "47       26\n",
       "4        23\n",
       "2        16\n",
       "3        10\n",
       "Name: ClassSize, dtype: int64"
      ]
     },
     "execution_count": 89,
     "metadata": {},
     "output_type": "execute_result"
    }
   ],
   "source": [
    "df['ClassSize'].value_counts()"
   ]
  },
  {
   "cell_type": "raw",
   "metadata": {},
   "source": [
    "Samples belonging to a class whose size is less than 5 studentes are dropped."
   ]
  },
  {
   "cell_type": "code",
   "execution_count": 90,
   "metadata": {},
   "outputs": [],
   "source": [
    "#df1 = df[df.Nationality =='Unknown']\n",
    "df=df[df.ClassSize >= 5]"
   ]
  },
  {
   "cell_type": "code",
   "execution_count": 91,
   "metadata": {},
   "outputs": [
    {
     "data": {
      "text/plain": [
       "(362127, 23)"
      ]
     },
     "execution_count": 91,
     "metadata": {},
     "output_type": "execute_result"
    }
   ],
   "source": [
    "df.shape"
   ]
  },
  {
   "cell_type": "code",
   "execution_count": 92,
   "metadata": {},
   "outputs": [
    {
     "data": {
      "text/plain": [
       "11"
      ]
     },
     "execution_count": 92,
     "metadata": {},
     "output_type": "execute_result"
    }
   ],
   "source": [
    "df['SchoolSize'].min()"
   ]
  },
  {
   "cell_type": "code",
   "execution_count": 93,
   "metadata": {},
   "outputs": [],
   "source": [
    "#df['SchoolSize'].unique()"
   ]
  },
  {
   "cell_type": "code",
   "execution_count": 94,
   "metadata": {},
   "outputs": [
    {
     "data": {
      "text/plain": [
       "1"
      ]
     },
     "execution_count": 94,
     "metadata": {},
     "output_type": "execute_result"
    }
   ],
   "source": [
    "df['N_SubjectsEnrolled'].min()"
   ]
  },
  {
   "cell_type": "code",
   "execution_count": 95,
   "metadata": {},
   "outputs": [
    {
     "data": {
      "text/plain": [
       "array([ 7,  5,  2,  4,  8,  6,  1,  3,  9, 10, 11, 12, 13], dtype=int64)"
      ]
     },
     "execution_count": 95,
     "metadata": {},
     "output_type": "execute_result"
    }
   ],
   "source": [
    "df['N_SubjectsEnrolled'].unique()"
   ]
  },
  {
   "cell_type": "code",
   "execution_count": 96,
   "metadata": {},
   "outputs": [
    {
     "data": {
      "text/plain": [
       "7     200226\n",
       "5      93521\n",
       "8      31328\n",
       "6      17085\n",
       "4       9522\n",
       "1       4343\n",
       "3       2561\n",
       "2       2429\n",
       "9        631\n",
       "10       290\n",
       "11       167\n",
       "12        18\n",
       "13         6\n",
       "Name: N_SubjectsEnrolled, dtype: int64"
      ]
     },
     "execution_count": 96,
     "metadata": {},
     "output_type": "execute_result"
    }
   ],
   "source": [
    "df['N_SubjectsEnrolled'].value_counts()"
   ]
  },
  {
   "cell_type": "code",
   "execution_count": 97,
   "metadata": {},
   "outputs": [
    {
     "name": "stdout",
     "output_type": "stream",
     "text": [
      "<class 'pandas.core.frame.DataFrame'>\n",
      "Int64Index: 362127 entries, 0 to 542807\n",
      "Data columns (total 23 columns):\n",
      "PermanentIncomeSupport_1    362127 non-null uint8\n",
      "PermanentIncomeSupport_2    362127 non-null uint8\n",
      "PermanentIncomeSupport_3    362127 non-null uint8\n",
      "Scholarship_1               362127 non-null uint8\n",
      "Scholarship_2               362127 non-null uint8\n",
      "Gender_M                    362127 non-null uint8\n",
      "AcYear_11                   362127 non-null uint8\n",
      "AcYear_12                   362127 non-null uint8\n",
      "N_NoApprovals               362127 non-null int32\n",
      "Nationality                 362127 non-null int64\n",
      "N_Enrollments               362127 non-null int64\n",
      "Computer                    362127 non-null int32\n",
      "InternetAccess              362127 non-null int32\n",
      "CourseSubject               362127 non-null object\n",
      "UrbanIndex                  362127 non-null float64\n",
      "IncomeIndex                 362127 non-null float64\n",
      "AgingIndex                  362127 non-null float64\n",
      "UnemploymentIndex           362127 non-null float64\n",
      "CulturalLevelIndex          362127 non-null float64\n",
      "ClassSize                   362127 non-null int64\n",
      "SchoolSize                  362127 non-null int64\n",
      "N_SubjectsEnrolled          362127 non-null int64\n",
      "FinalMark                   362127 non-null int64\n",
      "dtypes: float64(5), int32(3), int64(6), object(1), uint8(8)\n",
      "memory usage: 42.8+ MB\n"
     ]
    }
   ],
   "source": [
    "df.info()"
   ]
  },
  {
   "cell_type": "code",
   "execution_count": 98,
   "metadata": {},
   "outputs": [],
   "source": [
    "# df.to_excel(\"PREPARED_DS_V1.xlsx\", sheet_name='DATASET')"
   ]
  },
  {
   "cell_type": "code",
   "execution_count": 99,
   "metadata": {},
   "outputs": [
    {
     "data": {
      "text/html": [
       "<div>\n",
       "<style scoped>\n",
       "    .dataframe tbody tr th:only-of-type {\n",
       "        vertical-align: middle;\n",
       "    }\n",
       "\n",
       "    .dataframe tbody tr th {\n",
       "        vertical-align: top;\n",
       "    }\n",
       "\n",
       "    .dataframe thead th {\n",
       "        text-align: right;\n",
       "    }\n",
       "</style>\n",
       "<table border=\"1\" class=\"dataframe\">\n",
       "  <thead>\n",
       "    <tr style=\"text-align: right;\">\n",
       "      <th></th>\n",
       "      <th>PermanentIncomeSupport_1</th>\n",
       "      <th>PermanentIncomeSupport_2</th>\n",
       "      <th>PermanentIncomeSupport_3</th>\n",
       "      <th>Scholarship_1</th>\n",
       "      <th>Scholarship_2</th>\n",
       "      <th>Gender_M</th>\n",
       "      <th>AcYear_11</th>\n",
       "      <th>AcYear_12</th>\n",
       "      <th>N_NoApprovals</th>\n",
       "      <th>Nationality</th>\n",
       "      <th>...</th>\n",
       "      <th>UrbanIndex</th>\n",
       "      <th>IncomeIndex</th>\n",
       "      <th>AgingIndex</th>\n",
       "      <th>UnemploymentIndex</th>\n",
       "      <th>CulturalLevelIndex</th>\n",
       "      <th>ClassSize</th>\n",
       "      <th>SchoolSize</th>\n",
       "      <th>N_SubjectsEnrolled</th>\n",
       "      <th>FinalMark</th>\n",
       "      <th>Gender_M__ClassSize</th>\n",
       "    </tr>\n",
       "  </thead>\n",
       "  <tbody>\n",
       "    <tr>\n",
       "      <th>0</th>\n",
       "      <td>0</td>\n",
       "      <td>0</td>\n",
       "      <td>0</td>\n",
       "      <td>0</td>\n",
       "      <td>0</td>\n",
       "      <td>0</td>\n",
       "      <td>1</td>\n",
       "      <td>0</td>\n",
       "      <td>0</td>\n",
       "      <td>0</td>\n",
       "      <td>...</td>\n",
       "      <td>138.4</td>\n",
       "      <td>875.1</td>\n",
       "      <td>146.2</td>\n",
       "      <td>9.73</td>\n",
       "      <td>12.77</td>\n",
       "      <td>23</td>\n",
       "      <td>193</td>\n",
       "      <td>7</td>\n",
       "      <td>10</td>\n",
       "      <td>0</td>\n",
       "    </tr>\n",
       "    <tr>\n",
       "      <th>2</th>\n",
       "      <td>0</td>\n",
       "      <td>0</td>\n",
       "      <td>0</td>\n",
       "      <td>0</td>\n",
       "      <td>0</td>\n",
       "      <td>1</td>\n",
       "      <td>0</td>\n",
       "      <td>1</td>\n",
       "      <td>0</td>\n",
       "      <td>0</td>\n",
       "      <td>...</td>\n",
       "      <td>5090.4</td>\n",
       "      <td>1560.6</td>\n",
       "      <td>189.3</td>\n",
       "      <td>11.76</td>\n",
       "      <td>70.93</td>\n",
       "      <td>29</td>\n",
       "      <td>519</td>\n",
       "      <td>5</td>\n",
       "      <td>19</td>\n",
       "      <td>29</td>\n",
       "    </tr>\n",
       "    <tr>\n",
       "      <th>3</th>\n",
       "      <td>0</td>\n",
       "      <td>1</td>\n",
       "      <td>0</td>\n",
       "      <td>1</td>\n",
       "      <td>0</td>\n",
       "      <td>0</td>\n",
       "      <td>0</td>\n",
       "      <td>1</td>\n",
       "      <td>0</td>\n",
       "      <td>0</td>\n",
       "      <td>...</td>\n",
       "      <td>5090.4</td>\n",
       "      <td>1560.6</td>\n",
       "      <td>189.3</td>\n",
       "      <td>11.76</td>\n",
       "      <td>70.93</td>\n",
       "      <td>29</td>\n",
       "      <td>519</td>\n",
       "      <td>5</td>\n",
       "      <td>16</td>\n",
       "      <td>0</td>\n",
       "    </tr>\n",
       "    <tr>\n",
       "      <th>4</th>\n",
       "      <td>1</td>\n",
       "      <td>0</td>\n",
       "      <td>0</td>\n",
       "      <td>0</td>\n",
       "      <td>1</td>\n",
       "      <td>0</td>\n",
       "      <td>1</td>\n",
       "      <td>0</td>\n",
       "      <td>2</td>\n",
       "      <td>0</td>\n",
       "      <td>...</td>\n",
       "      <td>5090.4</td>\n",
       "      <td>1560.6</td>\n",
       "      <td>189.3</td>\n",
       "      <td>11.76</td>\n",
       "      <td>70.93</td>\n",
       "      <td>25</td>\n",
       "      <td>519</td>\n",
       "      <td>7</td>\n",
       "      <td>10</td>\n",
       "      <td>0</td>\n",
       "    </tr>\n",
       "    <tr>\n",
       "      <th>5</th>\n",
       "      <td>0</td>\n",
       "      <td>0</td>\n",
       "      <td>0</td>\n",
       "      <td>0</td>\n",
       "      <td>0</td>\n",
       "      <td>1</td>\n",
       "      <td>0</td>\n",
       "      <td>1</td>\n",
       "      <td>0</td>\n",
       "      <td>0</td>\n",
       "      <td>...</td>\n",
       "      <td>5090.4</td>\n",
       "      <td>1560.6</td>\n",
       "      <td>189.3</td>\n",
       "      <td>11.76</td>\n",
       "      <td>70.93</td>\n",
       "      <td>29</td>\n",
       "      <td>519</td>\n",
       "      <td>5</td>\n",
       "      <td>17</td>\n",
       "      <td>29</td>\n",
       "    </tr>\n",
       "  </tbody>\n",
       "</table>\n",
       "<p>5 rows × 24 columns</p>\n",
       "</div>"
      ],
      "text/plain": [
       "   PermanentIncomeSupport_1  PermanentIncomeSupport_2  \\\n",
       "0                         0                         0   \n",
       "2                         0                         0   \n",
       "3                         0                         1   \n",
       "4                         1                         0   \n",
       "5                         0                         0   \n",
       "\n",
       "   PermanentIncomeSupport_3  Scholarship_1  Scholarship_2  Gender_M  \\\n",
       "0                         0              0              0         0   \n",
       "2                         0              0              0         1   \n",
       "3                         0              1              0         0   \n",
       "4                         0              0              1         0   \n",
       "5                         0              0              0         1   \n",
       "\n",
       "   AcYear_11  AcYear_12  N_NoApprovals  Nationality  ...  UrbanIndex  \\\n",
       "0          1          0              0            0  ...       138.4   \n",
       "2          0          1              0            0  ...      5090.4   \n",
       "3          0          1              0            0  ...      5090.4   \n",
       "4          1          0              2            0  ...      5090.4   \n",
       "5          0          1              0            0  ...      5090.4   \n",
       "\n",
       "   IncomeIndex  AgingIndex UnemploymentIndex  CulturalLevelIndex  ClassSize  \\\n",
       "0        875.1       146.2              9.73               12.77         23   \n",
       "2       1560.6       189.3             11.76               70.93         29   \n",
       "3       1560.6       189.3             11.76               70.93         29   \n",
       "4       1560.6       189.3             11.76               70.93         25   \n",
       "5       1560.6       189.3             11.76               70.93         29   \n",
       "\n",
       "   SchoolSize  N_SubjectsEnrolled  FinalMark  Gender_M__ClassSize  \n",
       "0         193                   7         10                    0  \n",
       "2         519                   5         19                   29  \n",
       "3         519                   5         16                    0  \n",
       "4         519                   7         10                    0  \n",
       "5         519                   5         17                   29  \n",
       "\n",
       "[5 rows x 24 columns]"
      ]
     },
     "execution_count": 99,
     "metadata": {},
     "output_type": "execute_result"
    }
   ],
   "source": [
    "df['Gender_M__ClassSize'] = df['Gender_M'] * df['ClassSize']\n",
    "df.head()"
   ]
  },
  {
   "cell_type": "code",
   "execution_count": 100,
   "metadata": {},
   "outputs": [
    {
     "name": "stdout",
     "output_type": "stream",
     "text": [
      "<class 'pandas.core.frame.DataFrame'>\n",
      "Int64Index: 362127 entries, 0 to 542807\n",
      "Data columns (total 24 columns):\n",
      "PermanentIncomeSupport_1    362127 non-null uint8\n",
      "PermanentIncomeSupport_2    362127 non-null uint8\n",
      "PermanentIncomeSupport_3    362127 non-null uint8\n",
      "Scholarship_1               362127 non-null uint8\n",
      "Scholarship_2               362127 non-null uint8\n",
      "Gender_M                    362127 non-null uint8\n",
      "AcYear_11                   362127 non-null uint8\n",
      "AcYear_12                   362127 non-null uint8\n",
      "N_NoApprovals               362127 non-null int32\n",
      "Nationality                 362127 non-null int64\n",
      "N_Enrollments               362127 non-null int64\n",
      "Computer                    362127 non-null int32\n",
      "InternetAccess              362127 non-null int32\n",
      "CourseSubject               362127 non-null object\n",
      "UrbanIndex                  362127 non-null float64\n",
      "IncomeIndex                 362127 non-null float64\n",
      "AgingIndex                  362127 non-null float64\n",
      "UnemploymentIndex           362127 non-null float64\n",
      "CulturalLevelIndex          362127 non-null float64\n",
      "ClassSize                   362127 non-null int64\n",
      "SchoolSize                  362127 non-null int64\n",
      "N_SubjectsEnrolled          362127 non-null int64\n",
      "FinalMark                   362127 non-null int64\n",
      "Gender_M__ClassSize         362127 non-null int64\n",
      "dtypes: float64(5), int32(3), int64(7), object(1), uint8(8)\n",
      "memory usage: 45.6+ MB\n"
     ]
    }
   ],
   "source": [
    "df.info()"
   ]
  },
  {
   "cell_type": "code",
   "execution_count": 101,
   "metadata": {},
   "outputs": [
    {
     "data": {
      "text/plain": [
       "array(['PermanentIncomeSupport_1', 'PermanentIncomeSupport_2',\n",
       "       'PermanentIncomeSupport_3', 'Scholarship_1', 'Scholarship_2',\n",
       "       'Gender_M', 'AcYear_11', 'AcYear_12', 'N_NoApprovals',\n",
       "       'Nationality', 'N_Enrollments', 'Computer', 'InternetAccess',\n",
       "       'CourseSubject', 'UrbanIndex', 'IncomeIndex', 'AgingIndex',\n",
       "       'UnemploymentIndex', 'CulturalLevelIndex', 'ClassSize',\n",
       "       'SchoolSize', 'N_SubjectsEnrolled', 'FinalMark',\n",
       "       'Gender_M__ClassSize'], dtype=object)"
      ]
     },
     "execution_count": 101,
     "metadata": {},
     "output_type": "execute_result"
    }
   ],
   "source": [
    "df.columns.values"
   ]
  },
  {
   "cell_type": "code",
   "execution_count": 102,
   "metadata": {},
   "outputs": [],
   "source": [
    "df = df[['PermanentIncomeSupport_1', 'PermanentIncomeSupport_2',\n",
    "       'PermanentIncomeSupport_3', 'Scholarship_1', 'Scholarship_2',\n",
    "       'Gender_M', 'AcYear_11', 'AcYear_12', 'N_NoApprovals',\n",
    "       'Nationality', 'N_Enrollments', 'Computer', 'InternetAccess',\n",
    "       'CourseSubject', 'UrbanIndex', 'IncomeIndex', 'AgingIndex',\n",
    "       'UnemploymentIndex', 'CulturalLevelIndex', 'ClassSize',\n",
    "       'SchoolSize', 'N_SubjectsEnrolled', 'Gender_M__ClassSize', 'FinalMark']]"
   ]
  },
  {
   "cell_type": "code",
   "execution_count": 103,
   "metadata": {},
   "outputs": [],
   "source": [
    "df.to_excel(\"PREPARED_DS_V1.xlsx\", sheet_name='DATASET')"
   ]
  },
  {
   "cell_type": "code",
   "execution_count": 104,
   "metadata": {},
   "outputs": [
    {
     "data": {
      "text/plain": [
       "array(['PermanentIncomeSupport_1', 'PermanentIncomeSupport_2',\n",
       "       'PermanentIncomeSupport_3', 'Scholarship_1', 'Scholarship_2',\n",
       "       'Gender_M', 'AcYear_11', 'AcYear_12', 'N_NoApprovals',\n",
       "       'Nationality', 'N_Enrollments', 'Computer', 'InternetAccess',\n",
       "       'CourseSubject', 'UrbanIndex', 'IncomeIndex', 'AgingIndex',\n",
       "       'UnemploymentIndex', 'CulturalLevelIndex', 'ClassSize',\n",
       "       'SchoolSize', 'N_SubjectsEnrolled', 'Gender_M__ClassSize'],\n",
       "      dtype=object)"
      ]
     },
     "execution_count": 104,
     "metadata": {},
     "output_type": "execute_result"
    }
   ],
   "source": [
    "df1 = df.iloc[:, :23]\n",
    "df1.columns.values"
   ]
  },
  {
   "cell_type": "code",
   "execution_count": 105,
   "metadata": {},
   "outputs": [
    {
     "data": {
      "text/plain": [
       "0    10\n",
       "2    19\n",
       "3    16\n",
       "4    10\n",
       "5    17\n",
       "Name: FinalMark, dtype: int64"
      ]
     },
     "execution_count": 105,
     "metadata": {},
     "output_type": "execute_result"
    }
   ],
   "source": [
    "df1 = df.iloc[:, -1]\n",
    "df1.head()"
   ]
  },
  {
   "cell_type": "code",
   "execution_count": null,
   "metadata": {},
   "outputs": [],
   "source": []
  },
  {
   "cell_type": "code",
   "execution_count": null,
   "metadata": {},
   "outputs": [],
   "source": []
  }
 ],
 "metadata": {
  "kernelspec": {
   "display_name": "Python 3",
   "language": "python",
   "name": "python3"
  },
  "language_info": {
   "codemirror_mode": {
    "name": "ipython",
    "version": 3
   },
   "file_extension": ".py",
   "mimetype": "text/x-python",
   "name": "python",
   "nbconvert_exporter": "python",
   "pygments_lexer": "ipython3",
   "version": "3.7.7"
  }
 },
 "nbformat": 4,
 "nbformat_minor": 2
}
