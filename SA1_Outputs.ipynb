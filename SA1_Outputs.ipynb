{
 "cells": [
  {
   "cell_type": "markdown",
   "metadata": {},
   "source": [
    "# High School Academic Achievement\n",
    "## English\n",
    "Multiple Linear Regression, Random Forest, Support Vector Machines, Artificial Neural Network, and XDBoost\n",
    "\n",
    "\n",
    "\n"
   ]
  },
  {
   "cell_type": "markdown",
   "metadata": {},
   "source": [
    "## Multiple Linear Regression"
   ]
  },
  {
   "cell_type": "code",
   "execution_count": 425,
   "metadata": {},
   "outputs": [],
   "source": [
    "import numpy as np\n",
    "import pandas as pd\n",
    "import matplotlib.pyplot as plt\n",
    "%matplotlib inline\n",
    "import seaborn as sns\n",
    "subject='ExactSciences'"
   ]
  },
  {
   "cell_type": "code",
   "execution_count": 426,
   "metadata": {},
   "outputs": [],
   "source": [
    "df = pd.read_excel(\"PREPARED_ExactSciences_DS_V1.xlsx\")"
   ]
  },
  {
   "cell_type": "code",
   "execution_count": 427,
   "metadata": {},
   "outputs": [
    {
     "data": {
      "text/html": [
       "<div>\n",
       "<style scoped>\n",
       "    .dataframe tbody tr th:only-of-type {\n",
       "        vertical-align: middle;\n",
       "    }\n",
       "\n",
       "    .dataframe tbody tr th {\n",
       "        vertical-align: top;\n",
       "    }\n",
       "\n",
       "    .dataframe thead th {\n",
       "        text-align: right;\n",
       "    }\n",
       "</style>\n",
       "<table border=\"1\" class=\"dataframe\">\n",
       "  <thead>\n",
       "    <tr style=\"text-align: right;\">\n",
       "      <th></th>\n",
       "      <th>PermanentIncomeSupport_2</th>\n",
       "      <th>Scholarship_1</th>\n",
       "      <th>Scholarship_2</th>\n",
       "      <th>Gender_M</th>\n",
       "      <th>AcYear_12</th>\n",
       "      <th>N_NoApprovals</th>\n",
       "      <th>N_Enrollments</th>\n",
       "      <th>Computer</th>\n",
       "      <th>UnemploymentIndex</th>\n",
       "      <th>SchoolSize</th>\n",
       "      <th>N_SubjectsEnrolled</th>\n",
       "      <th>FinalMark</th>\n",
       "    </tr>\n",
       "  </thead>\n",
       "  <tbody>\n",
       "    <tr>\n",
       "      <th>0</th>\n",
       "      <td>0</td>\n",
       "      <td>0</td>\n",
       "      <td>0</td>\n",
       "      <td>1</td>\n",
       "      <td>1</td>\n",
       "      <td>0</td>\n",
       "      <td>1</td>\n",
       "      <td>0</td>\n",
       "      <td>11.76</td>\n",
       "      <td>519</td>\n",
       "      <td>5</td>\n",
       "      <td>19</td>\n",
       "    </tr>\n",
       "    <tr>\n",
       "      <th>1</th>\n",
       "      <td>1</td>\n",
       "      <td>1</td>\n",
       "      <td>0</td>\n",
       "      <td>0</td>\n",
       "      <td>1</td>\n",
       "      <td>0</td>\n",
       "      <td>1</td>\n",
       "      <td>0</td>\n",
       "      <td>11.76</td>\n",
       "      <td>519</td>\n",
       "      <td>5</td>\n",
       "      <td>16</td>\n",
       "    </tr>\n",
       "    <tr>\n",
       "      <th>2</th>\n",
       "      <td>0</td>\n",
       "      <td>0</td>\n",
       "      <td>0</td>\n",
       "      <td>1</td>\n",
       "      <td>1</td>\n",
       "      <td>0</td>\n",
       "      <td>1</td>\n",
       "      <td>0</td>\n",
       "      <td>11.76</td>\n",
       "      <td>519</td>\n",
       "      <td>5</td>\n",
       "      <td>17</td>\n",
       "    </tr>\n",
       "    <tr>\n",
       "      <th>3</th>\n",
       "      <td>0</td>\n",
       "      <td>0</td>\n",
       "      <td>0</td>\n",
       "      <td>1</td>\n",
       "      <td>0</td>\n",
       "      <td>0</td>\n",
       "      <td>1</td>\n",
       "      <td>0</td>\n",
       "      <td>11.76</td>\n",
       "      <td>519</td>\n",
       "      <td>7</td>\n",
       "      <td>16</td>\n",
       "    </tr>\n",
       "    <tr>\n",
       "      <th>4</th>\n",
       "      <td>0</td>\n",
       "      <td>0</td>\n",
       "      <td>0</td>\n",
       "      <td>1</td>\n",
       "      <td>0</td>\n",
       "      <td>0</td>\n",
       "      <td>1</td>\n",
       "      <td>0</td>\n",
       "      <td>11.76</td>\n",
       "      <td>519</td>\n",
       "      <td>7</td>\n",
       "      <td>16</td>\n",
       "    </tr>\n",
       "  </tbody>\n",
       "</table>\n",
       "</div>"
      ],
      "text/plain": [
       "   PermanentIncomeSupport_2  Scholarship_1  Scholarship_2  Gender_M  \\\n",
       "0                         0              0              0         1   \n",
       "1                         1              1              0         0   \n",
       "2                         0              0              0         1   \n",
       "3                         0              0              0         1   \n",
       "4                         0              0              0         1   \n",
       "\n",
       "   AcYear_12  N_NoApprovals  N_Enrollments  Computer  UnemploymentIndex  \\\n",
       "0          1              0              1         0              11.76   \n",
       "1          1              0              1         0              11.76   \n",
       "2          1              0              1         0              11.76   \n",
       "3          0              0              1         0              11.76   \n",
       "4          0              0              1         0              11.76   \n",
       "\n",
       "   SchoolSize  N_SubjectsEnrolled  FinalMark  \n",
       "0         519                   5         19  \n",
       "1         519                   5         16  \n",
       "2         519                   5         17  \n",
       "3         519                   7         16  \n",
       "4         519                   7         16  "
      ]
     },
     "execution_count": 427,
     "metadata": {},
     "output_type": "execute_result"
    }
   ],
   "source": [
    "df.head()"
   ]
  },
  {
   "cell_type": "code",
   "execution_count": 428,
   "metadata": {},
   "outputs": [
    {
     "data": {
      "text/plain": [
       "(139005, 12)"
      ]
     },
     "execution_count": 428,
     "metadata": {},
     "output_type": "execute_result"
    }
   ],
   "source": [
    "df.shape"
   ]
  },
  {
   "cell_type": "code",
   "execution_count": 429,
   "metadata": {},
   "outputs": [],
   "source": [
    "from sklearn.model_selection import train_test_split\n",
    "from sklearn.preprocessing import StandardScaler"
   ]
  },
  {
   "cell_type": "code",
   "execution_count": 430,
   "metadata": {},
   "outputs": [],
   "source": [
    "l=len(df.columns)-1\n",
    "X = df.iloc[:, :l]\n",
    "X.columns\n",
    "y = df.iloc[:, -1]\n",
    "# X = X.to_numpy()\n",
    "y = y.to_numpy()\n",
    "y=y.reshape(-1,1)"
   ]
  },
  {
   "cell_type": "code",
   "execution_count": 431,
   "metadata": {},
   "outputs": [],
   "source": [
    "X_train, X_test, y_train, y_test = train_test_split(X, y, test_size=0.30, random_state=22)"
   ]
  },
  {
   "cell_type": "code",
   "execution_count": 432,
   "metadata": {},
   "outputs": [],
   "source": [
    "sc = StandardScaler()\n",
    "\n",
    "X_std = sc.fit(X_train)\n",
    "# y_std = sc.fit(y_train.reshape(-1,1))\n",
    "\n",
    "X_train_std = X_std.transform(X_train)\n",
    "# y_train_std = y_std.transform(y_train.reshape(-1, 1))\n",
    "\n",
    "X_test_std = X_std.transform(X_test)\n",
    "# y_test_std = y_std.transform(y_test.reshape(-1, 1))"
   ]
  },
  {
   "cell_type": "code",
   "execution_count": 433,
   "metadata": {},
   "outputs": [],
   "source": [
    "from sklearn.model_selection import cross_val_score\n",
    "from sklearn import metrics\n",
    "from sklearn.linear_model import LinearRegression\n",
    "import statsmodels.api as sm"
   ]
  },
  {
   "cell_type": "code",
   "execution_count": 434,
   "metadata": {},
   "outputs": [
    {
     "name": "stderr",
     "output_type": "stream",
     "text": [
      "C:\\Users\\rmendes\\AppData\\Local\\Continuum\\anaconda3\\lib\\site-packages\\numpy\\core\\fromnumeric.py:2389: FutureWarning: Method .ptp is deprecated and will be removed in a future version. Use numpy.ptp instead.\n",
      "  return ptp(axis=axis, out=out, **kwargs)\n"
     ]
    }
   ],
   "source": [
    "X_constant = sm.add_constant(X)\n",
    "X_train_constant = sm.add_constant(X_train)\n",
    "X_test_constant = sm.add_constant(X_test)"
   ]
  },
  {
   "cell_type": "code",
   "execution_count": 435,
   "metadata": {},
   "outputs": [],
   "source": [
    "# pd.DataFrame(X_constant)"
   ]
  },
  {
   "cell_type": "code",
   "execution_count": 436,
   "metadata": {},
   "outputs": [],
   "source": [
    "OLS_rgr = LinearRegression(fit_intercept=True, normalize=False, copy_X=True, n_jobs=None)"
   ]
  },
  {
   "cell_type": "code",
   "execution_count": 437,
   "metadata": {},
   "outputs": [
    {
     "data": {
      "text/plain": [
       "LinearRegression(copy_X=True, fit_intercept=True, n_jobs=None, normalize=False)"
      ]
     },
     "execution_count": 437,
     "metadata": {},
     "output_type": "execute_result"
    }
   ],
   "source": [
    "OLS_rgr.fit(X_train, y_train)\n"
   ]
  },
  {
   "cell_type": "code",
   "execution_count": 438,
   "metadata": {},
   "outputs": [
    {
     "data": {
      "text/plain": [
       "0.13357929287733994"
      ]
     },
     "execution_count": 438,
     "metadata": {},
     "output_type": "execute_result"
    }
   ],
   "source": [
    "OLS_rgr.score(X_train, y_train)"
   ]
  },
  {
   "cell_type": "code",
   "execution_count": 439,
   "metadata": {},
   "outputs": [
    {
     "data": {
      "text/plain": [
       "array([[-1.32427733e-01, -3.70065426e-01, -6.44673599e-01,\n",
       "        -4.92241972e-01,  1.99309122e+00, -1.23823377e+00,\n",
       "        -3.43272233e-01, -1.91234363e-01, -2.58307520e-02,\n",
       "         3.64673748e-04,  2.53765064e-01]])"
      ]
     },
     "execution_count": 439,
     "metadata": {},
     "output_type": "execute_result"
    }
   ],
   "source": [
    "OLS_rgr.coef_"
   ]
  },
  {
   "cell_type": "code",
   "execution_count": 440,
   "metadata": {},
   "outputs": [
    {
     "data": {
      "text/plain": [
       "array([12.19585272])"
      ]
     },
     "execution_count": 440,
     "metadata": {},
     "output_type": "execute_result"
    }
   ],
   "source": [
    "OLS_rgr.intercept_"
   ]
  },
  {
   "cell_type": "code",
   "execution_count": 441,
   "metadata": {},
   "outputs": [
    {
     "data": {
      "text/plain": [
       "array([-2.43455346, -2.44553208, -2.45503022, -2.43833504, -2.42794388])"
      ]
     },
     "execution_count": 441,
     "metadata": {},
     "output_type": "execute_result"
    }
   ],
   "source": [
    "scores = cross_val_score(OLS_rgr, X_train, y_train, cv=5, scoring= 'neg_mean_absolute_error')\n",
    "scores #R^2"
   ]
  },
  {
   "cell_type": "code",
   "execution_count": 442,
   "metadata": {},
   "outputs": [
    {
     "name": "stdout",
     "output_type": "stream",
     "text": [
      "MAE: 2.44 (+/- 0.02)\n"
     ]
    }
   ],
   "source": [
    "print(\"MAE: %0.2f (+/- %0.2f)\" % (-scores.mean(), scores.std() * 2))"
   ]
  },
  {
   "cell_type": "code",
   "execution_count": 443,
   "metadata": {},
   "outputs": [],
   "source": [
    "mae_OLS_rgr_cv = -scores.mean()\n",
    "std_OLS_rgr_cv = scores.std() "
   ]
  },
  {
   "cell_type": "code",
   "execution_count": 444,
   "metadata": {},
   "outputs": [],
   "source": [
    "y_train_pred=OLS_rgr.predict(X_train)\n",
    "y_test_pred=OLS_rgr.predict(X_test)"
   ]
  },
  {
   "cell_type": "code",
   "execution_count": 445,
   "metadata": {},
   "outputs": [],
   "source": [
    "mse_OLS_rgr_train = metrics.mean_squared_error(y_train, y_train_pred) \n",
    "mse_OLS_rgr_test = metrics.mean_squared_error(y_test, y_test_pred)\n",
    "\n",
    "mae_OLS_rgr_train = metrics.mean_absolute_error(y_train, y_train_pred)\n",
    "mae_OLS_rgr_test = metrics.mean_absolute_error(y_test, y_test_pred)\n",
    "\n",
    "r2_OLS_rgr_train = metrics.r2_score(y_train, y_train_pred)\n",
    "r2_OLS_rgr_test = metrics.r2_score(y_test, y_test_pred)"
   ]
  },
  {
   "cell_type": "code",
   "execution_count": 446,
   "metadata": {},
   "outputs": [],
   "source": [
    "columns = ['MAE_cv','std_cv','MSE_train','MSE_test', 'MAE_train','MAE_test' ,'R2_train', 'R2_test']"
   ]
  },
  {
   "cell_type": "code",
   "execution_count": 447,
   "metadata": {},
   "outputs": [],
   "source": [
    "df_results= pd.DataFrame(columns=columns)"
   ]
  },
  {
   "cell_type": "code",
   "execution_count": 448,
   "metadata": {},
   "outputs": [],
   "source": [
    "new_results_dic = {'MAE_cv': mae_OLS_rgr_cv ,'std_cv': std_OLS_rgr_cv,'MSE_train': mse_OLS_rgr_train,\n",
    "                   'MSE_test': mse_OLS_rgr_test,'MAE_train': mae_OLS_rgr_train,\n",
    "                   'MAE_test': mae_OLS_rgr_test, 'R2_train': r2_OLS_rgr_train, 'R2_test': r2_OLS_rgr_test}\n",
    "df_results.loc[len(df_results)] = new_results_dic\n"
   ]
  },
  {
   "cell_type": "code",
   "execution_count": 449,
   "metadata": {},
   "outputs": [
    {
     "data": {
      "text/html": [
       "<div>\n",
       "<style scoped>\n",
       "    .dataframe tbody tr th:only-of-type {\n",
       "        vertical-align: middle;\n",
       "    }\n",
       "\n",
       "    .dataframe tbody tr th {\n",
       "        vertical-align: top;\n",
       "    }\n",
       "\n",
       "    .dataframe thead th {\n",
       "        text-align: right;\n",
       "    }\n",
       "</style>\n",
       "<table border=\"1\" class=\"dataframe\">\n",
       "  <thead>\n",
       "    <tr style=\"text-align: right;\">\n",
       "      <th></th>\n",
       "      <th>MAE_cv</th>\n",
       "      <th>std_cv</th>\n",
       "      <th>MSE_train</th>\n",
       "      <th>MSE_test</th>\n",
       "      <th>MAE_train</th>\n",
       "      <th>MAE_test</th>\n",
       "      <th>R2_train</th>\n",
       "      <th>R2_test</th>\n",
       "    </tr>\n",
       "  </thead>\n",
       "  <tbody>\n",
       "    <tr>\n",
       "      <th>OLS</th>\n",
       "      <td>2.440279</td>\n",
       "      <td>0.009316</td>\n",
       "      <td>9.18721</td>\n",
       "      <td>9.163015</td>\n",
       "      <td>2.439889</td>\n",
       "      <td>2.436146</td>\n",
       "      <td>0.133579</td>\n",
       "      <td>0.137669</td>\n",
       "    </tr>\n",
       "  </tbody>\n",
       "</table>\n",
       "</div>"
      ],
      "text/plain": [
       "       MAE_cv    std_cv  MSE_train  MSE_test  MAE_train  MAE_test  R2_train  \\\n",
       "OLS  2.440279  0.009316    9.18721  9.163015   2.439889  2.436146  0.133579   \n",
       "\n",
       "      R2_test  \n",
       "OLS  0.137669  "
      ]
     },
     "execution_count": 449,
     "metadata": {},
     "output_type": "execute_result"
    }
   ],
   "source": [
    "indexNamesArr = df_results.index.values\n",
    "i = indexNamesArr[-1]\n",
    "df_results.rename(index={i:'OLS'}, inplace=True)\n",
    "df_results.head()\n"
   ]
  },
  {
   "cell_type": "code",
   "execution_count": 450,
   "metadata": {},
   "outputs": [
    {
     "name": "stdout",
     "output_type": "stream",
     "text": [
      "R2: 0.14\n"
     ]
    }
   ],
   "source": [
    "print(\"R2: %0.2f\" % (r2_OLS_rgr_test))"
   ]
  },
  {
   "cell_type": "code",
   "execution_count": 451,
   "metadata": {},
   "outputs": [],
   "source": [
    "df_y_train = pd.DataFrame()\n",
    "df_y_test = pd.DataFrame()"
   ]
  },
  {
   "cell_type": "code",
   "execution_count": 452,
   "metadata": {},
   "outputs": [
    {
     "data": {
      "text/plain": [
       "(97303, 1)"
      ]
     },
     "execution_count": 452,
     "metadata": {},
     "output_type": "execute_result"
    }
   ],
   "source": [
    "df_y_train.loc[:,'OLS'] = pd.Series(y_train_pred.ravel())\n",
    "df_y_train.shape"
   ]
  },
  {
   "cell_type": "code",
   "execution_count": 453,
   "metadata": {},
   "outputs": [
    {
     "data": {
      "text/plain": [
       "(41702, 1)"
      ]
     },
     "execution_count": 453,
     "metadata": {},
     "output_type": "execute_result"
    }
   ],
   "source": [
    "df_y_test.loc[:,'OLS'] = pd.Series(y_test_pred.ravel())\n",
    "df_y_test.shape"
   ]
  },
  {
   "cell_type": "code",
   "execution_count": 454,
   "metadata": {},
   "outputs": [
    {
     "data": {
      "text/html": [
       "<div>\n",
       "<style scoped>\n",
       "    .dataframe tbody tr th:only-of-type {\n",
       "        vertical-align: middle;\n",
       "    }\n",
       "\n",
       "    .dataframe tbody tr th {\n",
       "        vertical-align: top;\n",
       "    }\n",
       "\n",
       "    .dataframe thead th {\n",
       "        text-align: right;\n",
       "    }\n",
       "</style>\n",
       "<table border=\"1\" class=\"dataframe\">\n",
       "  <thead>\n",
       "    <tr style=\"text-align: right;\">\n",
       "      <th></th>\n",
       "      <th>OLS</th>\n",
       "    </tr>\n",
       "  </thead>\n",
       "  <tbody>\n",
       "    <tr>\n",
       "      <th>0</th>\n",
       "      <td>12.620191</td>\n",
       "    </tr>\n",
       "    <tr>\n",
       "      <th>1</th>\n",
       "      <td>12.699633</td>\n",
       "    </tr>\n",
       "    <tr>\n",
       "      <th>2</th>\n",
       "      <td>12.524009</td>\n",
       "    </tr>\n",
       "    <tr>\n",
       "      <th>3</th>\n",
       "      <td>13.709681</td>\n",
       "    </tr>\n",
       "    <tr>\n",
       "      <th>4</th>\n",
       "      <td>13.430382</td>\n",
       "    </tr>\n",
       "  </tbody>\n",
       "</table>\n",
       "</div>"
      ],
      "text/plain": [
       "         OLS\n",
       "0  12.620191\n",
       "1  12.699633\n",
       "2  12.524009\n",
       "3  13.709681\n",
       "4  13.430382"
      ]
     },
     "execution_count": 454,
     "metadata": {},
     "output_type": "execute_result"
    }
   ],
   "source": [
    "df_y_train.head()"
   ]
  },
  {
   "cell_type": "code",
   "execution_count": 455,
   "metadata": {},
   "outputs": [
    {
     "data": {
      "text/html": [
       "<div>\n",
       "<style scoped>\n",
       "    .dataframe tbody tr th:only-of-type {\n",
       "        vertical-align: middle;\n",
       "    }\n",
       "\n",
       "    .dataframe tbody tr th {\n",
       "        vertical-align: top;\n",
       "    }\n",
       "\n",
       "    .dataframe thead th {\n",
       "        text-align: right;\n",
       "    }\n",
       "</style>\n",
       "<table border=\"1\" class=\"dataframe\">\n",
       "  <thead>\n",
       "    <tr style=\"text-align: right;\">\n",
       "      <th></th>\n",
       "      <th>OLS</th>\n",
       "    </tr>\n",
       "  </thead>\n",
       "  <tbody>\n",
       "    <tr>\n",
       "      <th>0</th>\n",
       "      <td>12.397605</td>\n",
       "    </tr>\n",
       "    <tr>\n",
       "      <th>1</th>\n",
       "      <td>11.242200</td>\n",
       "    </tr>\n",
       "    <tr>\n",
       "      <th>2</th>\n",
       "      <td>11.697610</td>\n",
       "    </tr>\n",
       "    <tr>\n",
       "      <th>3</th>\n",
       "      <td>12.481905</td>\n",
       "    </tr>\n",
       "    <tr>\n",
       "      <th>4</th>\n",
       "      <td>12.562590</td>\n",
       "    </tr>\n",
       "  </tbody>\n",
       "</table>\n",
       "</div>"
      ],
      "text/plain": [
       "         OLS\n",
       "0  12.397605\n",
       "1  11.242200\n",
       "2  11.697610\n",
       "3  12.481905\n",
       "4  12.562590"
      ]
     },
     "execution_count": 455,
     "metadata": {},
     "output_type": "execute_result"
    }
   ],
   "source": [
    "df_y_test.head()"
   ]
  },
  {
   "cell_type": "code",
   "execution_count": 456,
   "metadata": {},
   "outputs": [
    {
     "data": {
      "text/html": [
       "<table class=\"simpletable\">\n",
       "<caption>OLS Regression Results</caption>\n",
       "<tr>\n",
       "  <th>Dep. Variable:</th>            <td>y</td>        <th>  R-squared:         </th>  <td>   0.134</td>  \n",
       "</tr>\n",
       "<tr>\n",
       "  <th>Model:</th>                   <td>OLS</td>       <th>  Adj. R-squared:    </th>  <td>   0.133</td>  \n",
       "</tr>\n",
       "<tr>\n",
       "  <th>Method:</th>             <td>Least Squares</td>  <th>  F-statistic:       </th>  <td>   1364.</td>  \n",
       "</tr>\n",
       "<tr>\n",
       "  <th>Date:</th>             <td>Wed, 02 Oct 2019</td> <th>  Prob (F-statistic):</th>   <td>  0.00</td>   \n",
       "</tr>\n",
       "<tr>\n",
       "  <th>Time:</th>                 <td>15:46:58</td>     <th>  Log-Likelihood:    </th> <td>-2.4597e+05</td>\n",
       "</tr>\n",
       "<tr>\n",
       "  <th>No. Observations:</th>      <td> 97303</td>      <th>  AIC:               </th>  <td>4.920e+05</td> \n",
       "</tr>\n",
       "<tr>\n",
       "  <th>Df Residuals:</th>          <td> 97291</td>      <th>  BIC:               </th>  <td>4.921e+05</td> \n",
       "</tr>\n",
       "<tr>\n",
       "  <th>Df Model:</th>              <td>    11</td>      <th>                     </th>      <td> </td>     \n",
       "</tr>\n",
       "<tr>\n",
       "  <th>Covariance Type:</th>      <td>nonrobust</td>    <th>                     </th>      <td> </td>     \n",
       "</tr>\n",
       "</table>\n",
       "<table class=\"simpletable\">\n",
       "<tr>\n",
       "              <td></td>                <th>coef</th>     <th>std err</th>      <th>t</th>      <th>P>|t|</th>  <th>[0.025</th>    <th>0.975]</th>  \n",
       "</tr>\n",
       "<tr>\n",
       "  <th>const</th>                    <td>   12.1959</td> <td>    0.122</td> <td>   99.897</td> <td> 0.000</td> <td>   11.957</td> <td>   12.435</td>\n",
       "</tr>\n",
       "<tr>\n",
       "  <th>PermanentIncomeSupport_2</th> <td>   -0.1324</td> <td>    0.077</td> <td>   -1.718</td> <td> 0.086</td> <td>   -0.283</td> <td>    0.019</td>\n",
       "</tr>\n",
       "<tr>\n",
       "  <th>Scholarship_1</th>            <td>   -0.3701</td> <td>    0.077</td> <td>   -4.782</td> <td> 0.000</td> <td>   -0.522</td> <td>   -0.218</td>\n",
       "</tr>\n",
       "<tr>\n",
       "  <th>Scholarship_2</th>            <td>   -0.6447</td> <td>    0.031</td> <td>  -20.616</td> <td> 0.000</td> <td>   -0.706</td> <td>   -0.583</td>\n",
       "</tr>\n",
       "<tr>\n",
       "  <th>Gender_M</th>                 <td>   -0.4922</td> <td>    0.020</td> <td>  -25.174</td> <td> 0.000</td> <td>   -0.531</td> <td>   -0.454</td>\n",
       "</tr>\n",
       "<tr>\n",
       "  <th>AcYear_12</th>                <td>    1.9931</td> <td>    0.034</td> <td>   58.546</td> <td> 0.000</td> <td>    1.926</td> <td>    2.060</td>\n",
       "</tr>\n",
       "<tr>\n",
       "  <th>N_NoApprovals</th>            <td>   -1.2382</td> <td>    0.021</td> <td>  -60.119</td> <td> 0.000</td> <td>   -1.279</td> <td>   -1.198</td>\n",
       "</tr>\n",
       "<tr>\n",
       "  <th>N_Enrollments</th>            <td>   -0.3433</td> <td>    0.038</td> <td>   -8.940</td> <td> 0.000</td> <td>   -0.419</td> <td>   -0.268</td>\n",
       "</tr>\n",
       "<tr>\n",
       "  <th>Computer</th>                 <td>   -0.1912</td> <td>    0.022</td> <td>   -8.739</td> <td> 0.000</td> <td>   -0.234</td> <td>   -0.148</td>\n",
       "</tr>\n",
       "<tr>\n",
       "  <th>UnemploymentIndex</th>        <td>   -0.0258</td> <td>    0.004</td> <td>   -6.434</td> <td> 0.000</td> <td>   -0.034</td> <td>   -0.018</td>\n",
       "</tr>\n",
       "<tr>\n",
       "  <th>SchoolSize</th>               <td>    0.0004</td> <td> 2.55e-05</td> <td>   14.301</td> <td> 0.000</td> <td>    0.000</td> <td>    0.000</td>\n",
       "</tr>\n",
       "<tr>\n",
       "  <th>N_SubjectsEnrolled</th>       <td>    0.2538</td> <td>    0.012</td> <td>   20.939</td> <td> 0.000</td> <td>    0.230</td> <td>    0.278</td>\n",
       "</tr>\n",
       "</table>\n",
       "<table class=\"simpletable\">\n",
       "<tr>\n",
       "  <th>Omnibus:</th>       <td>606.083</td> <th>  Durbin-Watson:     </th> <td>   2.010</td> \n",
       "</tr>\n",
       "<tr>\n",
       "  <th>Prob(Omnibus):</th> <td> 0.000</td>  <th>  Jarque-Bera (JB):  </th> <td> 629.942</td> \n",
       "</tr>\n",
       "<tr>\n",
       "  <th>Skew:</th>          <td>-0.179</td>  <th>  Prob(JB):          </th> <td>1.62e-137</td>\n",
       "</tr>\n",
       "<tr>\n",
       "  <th>Kurtosis:</th>      <td> 3.165</td>  <th>  Cond. No.          </th> <td>9.66e+03</td> \n",
       "</tr>\n",
       "</table><br/><br/>Warnings:<br/>[1] Standard Errors assume that the covariance matrix of the errors is correctly specified.<br/>[2] The condition number is large, 9.66e+03. This might indicate that there are<br/>strong multicollinearity or other numerical problems."
      ],
      "text/plain": [
       "<class 'statsmodels.iolib.summary.Summary'>\n",
       "\"\"\"\n",
       "                            OLS Regression Results                            \n",
       "==============================================================================\n",
       "Dep. Variable:                      y   R-squared:                       0.134\n",
       "Model:                            OLS   Adj. R-squared:                  0.133\n",
       "Method:                 Least Squares   F-statistic:                     1364.\n",
       "Date:                Wed, 02 Oct 2019   Prob (F-statistic):               0.00\n",
       "Time:                        15:46:58   Log-Likelihood:            -2.4597e+05\n",
       "No. Observations:               97303   AIC:                         4.920e+05\n",
       "Df Residuals:                   97291   BIC:                         4.921e+05\n",
       "Df Model:                          11                                         \n",
       "Covariance Type:            nonrobust                                         \n",
       "============================================================================================\n",
       "                               coef    std err          t      P>|t|      [0.025      0.975]\n",
       "--------------------------------------------------------------------------------------------\n",
       "const                       12.1959      0.122     99.897      0.000      11.957      12.435\n",
       "PermanentIncomeSupport_2    -0.1324      0.077     -1.718      0.086      -0.283       0.019\n",
       "Scholarship_1               -0.3701      0.077     -4.782      0.000      -0.522      -0.218\n",
       "Scholarship_2               -0.6447      0.031    -20.616      0.000      -0.706      -0.583\n",
       "Gender_M                    -0.4922      0.020    -25.174      0.000      -0.531      -0.454\n",
       "AcYear_12                    1.9931      0.034     58.546      0.000       1.926       2.060\n",
       "N_NoApprovals               -1.2382      0.021    -60.119      0.000      -1.279      -1.198\n",
       "N_Enrollments               -0.3433      0.038     -8.940      0.000      -0.419      -0.268\n",
       "Computer                    -0.1912      0.022     -8.739      0.000      -0.234      -0.148\n",
       "UnemploymentIndex           -0.0258      0.004     -6.434      0.000      -0.034      -0.018\n",
       "SchoolSize                   0.0004   2.55e-05     14.301      0.000       0.000       0.000\n",
       "N_SubjectsEnrolled           0.2538      0.012     20.939      0.000       0.230       0.278\n",
       "==============================================================================\n",
       "Omnibus:                      606.083   Durbin-Watson:                   2.010\n",
       "Prob(Omnibus):                  0.000   Jarque-Bera (JB):              629.942\n",
       "Skew:                          -0.179   Prob(JB):                    1.62e-137\n",
       "Kurtosis:                       3.165   Cond. No.                     9.66e+03\n",
       "==============================================================================\n",
       "\n",
       "Warnings:\n",
       "[1] Standard Errors assume that the covariance matrix of the errors is correctly specified.\n",
       "[2] The condition number is large, 9.66e+03. This might indicate that there are\n",
       "strong multicollinearity or other numerical problems.\n",
       "\"\"\""
      ]
     },
     "execution_count": 456,
     "metadata": {},
     "output_type": "execute_result"
    }
   ],
   "source": [
    "OLS_model = sm.OLS(y_train, X_train_constant)\n",
    "lr = OLS_model.fit()\n",
    "lr.summary()"
   ]
  },
  {
   "cell_type": "raw",
   "metadata": {},
   "source": [
    "OLS_params= pd.DataFrame(lr.params)\n",
    "OLS_params"
   ]
  },
  {
   "cell_type": "raw",
   "metadata": {},
   "source": [
    "OLS_pvalues=pd.DataFrame(lr.pvalues)\n",
    "OLS_pvalues"
   ]
  },
  {
   "cell_type": "raw",
   "metadata": {},
   "source": [
    "# OLS_params.to_excel('OLS_params.xlsx', sheet_name=subject)\n",
    "\n",
    "#with pd.ExcelWriter('OLS_params.xlsx',engine='openpyxl', mode='a') as writer:\n",
    " #    OLS_params.to_excel(writer, sheet_name=subject)"
   ]
  },
  {
   "cell_type": "raw",
   "metadata": {},
   "source": [
    "# OLS_pvalues.to_excel('OLS_pvalues.xlsx', sheet_name=subject)\n",
    "\n",
    "#with pd.ExcelWriter('OLS_pvalues.xlsx',engine='openpyxl', mode='a') as writer:\n",
    " #    OLS_pvalues.to_excel(writer, sheet_name=subject)"
   ]
  },
  {
   "cell_type": "markdown",
   "metadata": {},
   "source": [
    "## Random Forest"
   ]
  },
  {
   "cell_type": "code",
   "execution_count": 457,
   "metadata": {},
   "outputs": [],
   "source": [
    "from sklearn.ensemble import RandomForestRegressor\n",
    "from sklearn.model_selection import GridSearchCV\n",
    "from sklearn.metrics import mean_squared_error, r2_score"
   ]
  },
  {
   "cell_type": "raw",
   "metadata": {},
   "source": [
    "rf_rgr = RandomForestRegressor(n_estimators = 10, criterion=\"mse\", min_samples_leaf=0.001,\n",
    "                               min_samples_split=0.001 , random_state=42)"
   ]
  },
  {
   "cell_type": "raw",
   "metadata": {},
   "source": [
    "params_rf = {\"n_estimators\": [10, 20, 50, 100, 150, 200], # number of trees in the forest\n",
    "             \"min_samples_leaf\": [0.001,0.002,0.003,0.004,0.005,0.006,0.007,0.008,0.009,0.01], # minimum number of samples\n",
    "              #required to be at a leaf \n",
    "              \"min_samples_split\": [0.001,0.002,0.003,0.004,0.005,0.006,0.007,0.008,0.009,0.01, # The minimum number of samples\n",
    "              #required to split an internal node\n",
    "                0.011,0.012, 0.013,0.014, 0.015, 0.016, 0.017, 0.018, 0.019, 0.02],\n",
    "                \"bootstrap\": [True, False]} #bootstrap samples are used when building trees"
   ]
  },
  {
   "cell_type": "raw",
   "metadata": {},
   "source": [
    "rf_grid = GridSearchCV(rf_rgr, params_rf,\n",
    "                           n_jobs=-1, cv=5,\n",
    "                           verbose=1)"
   ]
  },
  {
   "cell_type": "raw",
   "metadata": {},
   "source": [
    "rf_grid.fit(X_train_std, y_train)\n",
    "rf_grid.best_score_\n",
    "Out: 0.16143538998252474\n",
    "Verbose: Fitting 5 folds for each of 2400 candidates, totalling 12000 fits\n",
    "[Parallel(n_jobs=-1)]: Done 12000 out of 12000 | elapsed: 194.5min finished"
   ]
  },
  {
   "cell_type": "raw",
   "metadata": {},
   "source": [
    "rf_grid.best_estimator_.get_params()\n",
    "Out:{'bootstrap': True,\n",
    " 'criterion': 'mse',\n",
    " 'max_depth': None,\n",
    " 'max_features': 'auto',\n",
    " 'max_leaf_nodes': None,\n",
    " 'min_impurity_decrease': 0.0,\n",
    " 'min_impurity_split': None,\n",
    " 'min_samples_leaf': 0.001,\n",
    " 'min_samples_split': 0.001,\n",
    " 'min_weight_fraction_leaf': 0.0,\n",
    " 'n_estimators': 200,\n",
    " 'n_jobs': None,\n",
    " 'oob_score': False,\n",
    " 'random_state': 42,\n",
    " 'verbose': 0,\n",
    " 'warm_start': False}"
   ]
  },
  {
   "cell_type": "raw",
   "metadata": {},
   "source": [
    "y_train_pred = rf_grid.predict(X_train_std)\n",
    "y_test_pred = rf_grid.predict(X_test_std)\n",
    "print(\"MSE train: {0:.4f}, test: {1:.4f}\".\\\n",
    "       format(mean_squared_error(y_train, y_train_pred), \n",
    "            mean_squared_error(y_test, y_test_pred)))\n",
    "\n",
    "print(\"R^2 train: {0:.4f}, test: {1:.4f}\".\\\n",
    "      format(r2_score(y_train, y_train_pred),\n",
    "             r2_score(y_test, y_test_pred)))      "
   ]
  },
  {
   "cell_type": "code",
   "execution_count": 458,
   "metadata": {},
   "outputs": [
    {
     "name": "stderr",
     "output_type": "stream",
     "text": [
      "C:\\Users\\rmendes\\AppData\\Local\\Continuum\\anaconda3\\lib\\site-packages\\ipykernel_launcher.py:18: DataConversionWarning: A column-vector y was passed when a 1d array was expected. Please change the shape of y to (n_samples,), for example using ravel().\n"
     ]
    },
    {
     "data": {
      "text/plain": [
       "RandomForestRegressor(bootstrap=True, criterion='mse', max_depth=None,\n",
       "                      max_features='auto', max_leaf_nodes=None,\n",
       "                      min_impurity_decrease=0.0, min_impurity_split=None,\n",
       "                      min_samples_leaf=0.001, min_samples_split=0.001,\n",
       "                      min_weight_fraction_leaf=0.0, n_estimators=200,\n",
       "                      n_jobs=None, oob_score=False, random_state=42, verbose=0,\n",
       "                      warm_start=False)"
      ]
     },
     "execution_count": 458,
     "metadata": {},
     "output_type": "execute_result"
    }
   ],
   "source": [
    "rf_rgr = RandomForestRegressor(bootstrap = True, #Best estimator\n",
    " criterion = 'mse',\n",
    " max_depth = None,\n",
    " max_features = 'auto',\n",
    " max_leaf_nodes = None,\n",
    " min_impurity_decrease = 0.0,\n",
    " min_impurity_split = None,\n",
    " min_samples_leaf = 0.001,\n",
    " min_samples_split = 0.001,\n",
    " min_weight_fraction_leaf = 0.0,\n",
    " n_estimators = 200,\n",
    " n_jobs = None,\n",
    " oob_score = False,\n",
    " random_state = 42,\n",
    " verbose = 0,\n",
    " warm_start = False)\n",
    "\n",
    "rf_rgr.fit(X_train_std, y_train)"
   ]
  },
  {
   "cell_type": "code",
   "execution_count": 459,
   "metadata": {},
   "outputs": [],
   "source": [
    "y_train_pred = rf_rgr.predict(X_train_std)\n",
    "y_test_pred = rf_rgr.predict(X_test_std)\n",
    "\n",
    "scores = cross_val_score(rf_rgr, X_train_std, y_train.ravel(), cv=5, scoring='neg_mean_absolute_error')\n",
    " \n",
    "mae_rf_rgr_cv = -scores.mean()\n",
    "std_rf_rgr_cv = scores.std() \n",
    "\n",
    "mse_rf_rgr_train = metrics.mean_squared_error(y_train.ravel(), y_train_pred.ravel()) \n",
    "mse_rf_rgr_test = metrics.mean_squared_error(y_test.ravel(), y_test_pred.ravel())\n",
    "\n",
    "mae_rf_rgr_train = metrics.mean_absolute_error(y_train.ravel(), y_train_pred.ravel()) \n",
    "mae_rf_rgr_test = metrics.mean_absolute_error(y_test.ravel(), y_test_pred.ravel())\n",
    "\n",
    "r2_rf_rgr_train = metrics.r2_score(y_train.ravel(), y_train_pred.ravel())\n",
    "r2_rf_rgr_test = metrics.r2_score(y_test.ravel(), y_test_pred.ravel())\n"
   ]
  },
  {
   "cell_type": "code",
   "execution_count": 460,
   "metadata": {},
   "outputs": [
    {
     "name": "stdout",
     "output_type": "stream",
     "text": [
      "MSE train: 8.5932, test: 8.7500\n",
      "R^2 train: 0.1896, test: 0.1765\n"
     ]
    }
   ],
   "source": [
    "print(\"MSE train: {0:.4f}, test: {1:.4f}\".\\\n",
    "     format(mean_squared_error(y_train, y_train_pred), \n",
    "            mean_squared_error(y_test, y_test_pred)))\n",
    "\n",
    "print(\"R^2 train: {0:.4f}, test: {1:.4f}\".\\\n",
    "      format(r2_score(y_train, y_train_pred),\n",
    "             r2_score(y_test, y_test_pred)))      "
   ]
  },
  {
   "cell_type": "code",
   "execution_count": 461,
   "metadata": {},
   "outputs": [],
   "source": [
    "new_results_dic = {'MAE_cv': mae_rf_rgr_cv ,'std_cv': std_rf_rgr_cv,'MSE_train': mse_rf_rgr_train,\n",
    "                   'MSE_test': mse_rf_rgr_test,'MAE_train': mae_rf_rgr_train,\n",
    "                   'MAE_test': mae_rf_rgr_test, 'R2_train': r2_rf_rgr_train, 'R2_test': r2_rf_rgr_test}\n",
    "df_results.loc[len(df_results)] = new_results_dic"
   ]
  },
  {
   "cell_type": "code",
   "execution_count": 462,
   "metadata": {},
   "outputs": [
    {
     "data": {
      "text/html": [
       "<div>\n",
       "<style scoped>\n",
       "    .dataframe tbody tr th:only-of-type {\n",
       "        vertical-align: middle;\n",
       "    }\n",
       "\n",
       "    .dataframe tbody tr th {\n",
       "        vertical-align: top;\n",
       "    }\n",
       "\n",
       "    .dataframe thead th {\n",
       "        text-align: right;\n",
       "    }\n",
       "</style>\n",
       "<table border=\"1\" class=\"dataframe\">\n",
       "  <thead>\n",
       "    <tr style=\"text-align: right;\">\n",
       "      <th></th>\n",
       "      <th>MAE_cv</th>\n",
       "      <th>std_cv</th>\n",
       "      <th>MSE_train</th>\n",
       "      <th>MSE_test</th>\n",
       "      <th>MAE_train</th>\n",
       "      <th>MAE_test</th>\n",
       "      <th>R2_train</th>\n",
       "      <th>R2_test</th>\n",
       "    </tr>\n",
       "  </thead>\n",
       "  <tbody>\n",
       "    <tr>\n",
       "      <th>OLS</th>\n",
       "      <td>2.440279</td>\n",
       "      <td>0.009316</td>\n",
       "      <td>9.187210</td>\n",
       "      <td>9.163015</td>\n",
       "      <td>2.439889</td>\n",
       "      <td>2.436146</td>\n",
       "      <td>0.133579</td>\n",
       "      <td>0.137669</td>\n",
       "    </tr>\n",
       "    <tr>\n",
       "      <th>RF</th>\n",
       "      <td>2.368176</td>\n",
       "      <td>0.011896</td>\n",
       "      <td>8.593212</td>\n",
       "      <td>8.750002</td>\n",
       "      <td>2.339825</td>\n",
       "      <td>2.363012</td>\n",
       "      <td>0.189598</td>\n",
       "      <td>0.176538</td>\n",
       "    </tr>\n",
       "  </tbody>\n",
       "</table>\n",
       "</div>"
      ],
      "text/plain": [
       "       MAE_cv    std_cv  MSE_train  MSE_test  MAE_train  MAE_test  R2_train  \\\n",
       "OLS  2.440279  0.009316   9.187210  9.163015   2.439889  2.436146  0.133579   \n",
       "RF   2.368176  0.011896   8.593212  8.750002   2.339825  2.363012  0.189598   \n",
       "\n",
       "      R2_test  \n",
       "OLS  0.137669  \n",
       "RF   0.176538  "
      ]
     },
     "execution_count": 462,
     "metadata": {},
     "output_type": "execute_result"
    }
   ],
   "source": [
    "indexNamesArr = df_results.index.values\n",
    "i = indexNamesArr[-1]\n",
    "df_results.rename(index={i:'RF'}, inplace=True)\n",
    "df_results.head()"
   ]
  },
  {
   "cell_type": "code",
   "execution_count": 463,
   "metadata": {},
   "outputs": [
    {
     "data": {
      "text/plain": [
       "(97303, 2)"
      ]
     },
     "execution_count": 463,
     "metadata": {},
     "output_type": "execute_result"
    }
   ],
   "source": [
    "df_y_train.loc[:,'RF'] = pd.Series(y_train_pred)\n",
    "df_y_train.shape"
   ]
  },
  {
   "cell_type": "code",
   "execution_count": 464,
   "metadata": {},
   "outputs": [
    {
     "data": {
      "text/plain": [
       "(41702, 2)"
      ]
     },
     "execution_count": 464,
     "metadata": {},
     "output_type": "execute_result"
    }
   ],
   "source": [
    "df_y_test.loc[:,'RF'] = pd.Series(y_test_pred)\n",
    "df_y_test.shape"
   ]
  },
  {
   "cell_type": "code",
   "execution_count": 465,
   "metadata": {},
   "outputs": [
    {
     "data": {
      "text/html": [
       "<div>\n",
       "<style scoped>\n",
       "    .dataframe tbody tr th:only-of-type {\n",
       "        vertical-align: middle;\n",
       "    }\n",
       "\n",
       "    .dataframe tbody tr th {\n",
       "        vertical-align: top;\n",
       "    }\n",
       "\n",
       "    .dataframe thead th {\n",
       "        text-align: right;\n",
       "    }\n",
       "</style>\n",
       "<table border=\"1\" class=\"dataframe\">\n",
       "  <thead>\n",
       "    <tr style=\"text-align: right;\">\n",
       "      <th></th>\n",
       "      <th>OLS</th>\n",
       "      <th>RF</th>\n",
       "    </tr>\n",
       "  </thead>\n",
       "  <tbody>\n",
       "    <tr>\n",
       "      <th>0</th>\n",
       "      <td>12.620191</td>\n",
       "      <td>13.242765</td>\n",
       "    </tr>\n",
       "    <tr>\n",
       "      <th>1</th>\n",
       "      <td>12.699633</td>\n",
       "      <td>13.166908</td>\n",
       "    </tr>\n",
       "    <tr>\n",
       "      <th>2</th>\n",
       "      <td>12.524009</td>\n",
       "      <td>12.671385</td>\n",
       "    </tr>\n",
       "    <tr>\n",
       "      <th>3</th>\n",
       "      <td>13.709681</td>\n",
       "      <td>13.719343</td>\n",
       "    </tr>\n",
       "    <tr>\n",
       "      <th>4</th>\n",
       "      <td>13.430382</td>\n",
       "      <td>12.805789</td>\n",
       "    </tr>\n",
       "  </tbody>\n",
       "</table>\n",
       "</div>"
      ],
      "text/plain": [
       "         OLS         RF\n",
       "0  12.620191  13.242765\n",
       "1  12.699633  13.166908\n",
       "2  12.524009  12.671385\n",
       "3  13.709681  13.719343\n",
       "4  13.430382  12.805789"
      ]
     },
     "execution_count": 465,
     "metadata": {},
     "output_type": "execute_result"
    }
   ],
   "source": [
    "df_y_train.head()"
   ]
  },
  {
   "cell_type": "code",
   "execution_count": 466,
   "metadata": {},
   "outputs": [
    {
     "data": {
      "text/html": [
       "<div>\n",
       "<style scoped>\n",
       "    .dataframe tbody tr th:only-of-type {\n",
       "        vertical-align: middle;\n",
       "    }\n",
       "\n",
       "    .dataframe tbody tr th {\n",
       "        vertical-align: top;\n",
       "    }\n",
       "\n",
       "    .dataframe thead th {\n",
       "        text-align: right;\n",
       "    }\n",
       "</style>\n",
       "<table border=\"1\" class=\"dataframe\">\n",
       "  <thead>\n",
       "    <tr style=\"text-align: right;\">\n",
       "      <th></th>\n",
       "      <th>OLS</th>\n",
       "      <th>RF</th>\n",
       "    </tr>\n",
       "  </thead>\n",
       "  <tbody>\n",
       "    <tr>\n",
       "      <th>0</th>\n",
       "      <td>12.397605</td>\n",
       "      <td>11.804360</td>\n",
       "    </tr>\n",
       "    <tr>\n",
       "      <th>1</th>\n",
       "      <td>11.242200</td>\n",
       "      <td>10.752587</td>\n",
       "    </tr>\n",
       "    <tr>\n",
       "      <th>2</th>\n",
       "      <td>11.697610</td>\n",
       "      <td>11.998163</td>\n",
       "    </tr>\n",
       "    <tr>\n",
       "      <th>3</th>\n",
       "      <td>12.481905</td>\n",
       "      <td>12.223653</td>\n",
       "    </tr>\n",
       "    <tr>\n",
       "      <th>4</th>\n",
       "      <td>12.562590</td>\n",
       "      <td>13.310348</td>\n",
       "    </tr>\n",
       "  </tbody>\n",
       "</table>\n",
       "</div>"
      ],
      "text/plain": [
       "         OLS         RF\n",
       "0  12.397605  11.804360\n",
       "1  11.242200  10.752587\n",
       "2  11.697610  11.998163\n",
       "3  12.481905  12.223653\n",
       "4  12.562590  13.310348"
      ]
     },
     "execution_count": 466,
     "metadata": {},
     "output_type": "execute_result"
    }
   ],
   "source": [
    "df_y_test.head()"
   ]
  },
  {
   "cell_type": "code",
   "execution_count": 467,
   "metadata": {},
   "outputs": [
    {
     "data": {
      "image/png": "[encoded data removed]",
      "text/plain": [
       "<Figure size 864x432 with 1 Axes>"
      ]
     },
     "metadata": {
      "needs_background": "light"
     },
     "output_type": "display_data"
    }
   ],
   "source": [
    "pd.Series(rf_rgr.feature_importances_, \n",
    "         index=X_train.columns).sort_values(ascending=False).plot(kind='bar', title= subject, figsize=(12,6));"
   ]
  },
  {
   "cell_type": "raw",
   "metadata": {},
   "source": [
    "std = np.std([tree.feature_importances_ for tree in rf_rgr.estimators_], axis=0)\n",
    "\n",
    "feature_importances = pd.DataFrame({'importance': rf_rgr.feature_importances_,'std': std },\n",
    "                                   index = X_train.columns).sort_values('importance', ascending=False)\n",
    "feature_importances\n",
    "\n",
    "#df = pd.DataFrame({'A': range(3), 'B': range(1, 4)})\n",
    "#std = np.std([tree.feature_importances_ for tree in rf_rgr.estimators_],\n",
    "#             axis=0)\n",
    "#indices = np.argsort(importances)[::-1]\n",
    "\n",
    "# Print the feature ranking\n",
    "#print(\"Feature ranking:\")\n",
    "\n",
    "#for f in range(X_train.shape[1]):\n",
    "#    print(\"%d. feature %d (%f)\" % (f + 1, indices[f], importances[indices[f]]))"
   ]
  },
  {
   "cell_type": "raw",
   "metadata": {},
   "source": [
    "#feature_importances.to_excel('FeatureImportances.xlsx', sheet_name=subject)\n",
    "\n",
    "with pd.ExcelWriter('FeatureImportances.xlsx',engine='openpyxl', mode='a') as writer:\n",
    "     feature_importances.to_excel(writer, sheet_name=subject)"
   ]
  },
  {
   "cell_type": "markdown",
   "metadata": {},
   "source": [
    "## Support Vector Machine"
   ]
  },
  {
   "cell_type": "code",
   "execution_count": 468,
   "metadata": {},
   "outputs": [],
   "source": [
    "from sklearn.svm import SVR\n",
    "from sklearn.ensemble import BaggingRegressor\n",
    "from sklearn.pipeline import Pipeline\n",
    "import math"
   ]
  },
  {
   "cell_type": "code",
   "execution_count": 469,
   "metadata": {},
   "outputs": [],
   "source": [
    "samples_limit=7500"
   ]
  },
  {
   "cell_type": "code",
   "execution_count": 470,
   "metadata": {},
   "outputs": [
    {
     "data": {
      "text/plain": [
       "13"
      ]
     },
     "execution_count": 470,
     "metadata": {},
     "output_type": "execute_result"
    }
   ],
   "source": [
    "n_estimators=math.ceil(len(X_train)/samples_limit)\n",
    "n_estimators"
   ]
  },
  {
   "cell_type": "code",
   "execution_count": 471,
   "metadata": {},
   "outputs": [
    {
     "data": {
      "text/plain": [
       "7484"
      ]
     },
     "execution_count": 471,
     "metadata": {},
     "output_type": "execute_result"
    }
   ],
   "source": [
    "max_samples= math.floor(len(X_train)/n_estimators)\n",
    "max_samples"
   ]
  },
  {
   "cell_type": "code",
   "execution_count": 472,
   "metadata": {},
   "outputs": [
    {
     "data": {
      "text/plain": [
       "11"
      ]
     },
     "execution_count": 472,
     "metadata": {},
     "output_type": "execute_result"
    }
   ],
   "source": [
    "len(X_train)-(n_estimators*max_samples)"
   ]
  },
  {
   "cell_type": "raw",
   "metadata": {},
   "source": [
    "svm_rgr= SVR(C=1.0, cache_size=400, coef0=0.0, degree=3, epsilon=0.2, gamma='scale',\n",
    "    kernel='rbf', max_iter=-1, shrinking=True, tol=0.001, verbose=True)\n",
    "svr_bagging = BaggingRegressor(base_estimator=svm_rgr, n_estimators=n_estimators, max_samples=max_samples,\n",
    "                               max_features=1.0, bootstrap=False, bootstrap_features=False,\n",
    "                               oob_score=False, warm_start=False, n_jobs=-1, random_state=42,\n",
    "                               verbose=0)\n",
    "\n"
   ]
  },
  {
   "cell_type": "raw",
   "metadata": {},
   "source": [
    "svr_bagging.get_params().keys()"
   ]
  },
  {
   "cell_type": "raw",
   "metadata": {},
   "source": [
    "When training an SVM with the Radial Basis Function (RBF) kernel, two parameters must be considered: C and gamma. The parameter C, common to all SVM kernels, trades off misclassification of training examples against simplicity of the decision surface. A low C makes the decision surface smooth, while a high C aims at classifying all training examples correctly. gamma defines how much influence a single training example has. The larger gamma is, the closer other examples must be to be affected.\n",
    "Proper choice of C and gamma is critical to the SVM’s performance. One is advised to use sklearn.model_selection.GridSearchCV with C and gamma spaced exponentially far apart to choose good values."
   ]
  },
  {
   "cell_type": "raw",
   "metadata": {},
   "source": [
    "#Penalty parameter C for the error term when it stays outside the insensitive chanel.\n",
    "C_range = np.logspace(-3, 2, 15) # [0.0001 : 100]\n",
    "#The gamma parameter can be seen as the inverse of the radius of influence of samples\n",
    "#selected by the model as support vectors.\n",
    "gamma_range = np.logspace(-3, 2, 15)\n",
    "params_pipe = dict(base_estimator__gamma= gamma_range, base_estimator__C= C_range)"
   ]
  },
  {
   "cell_type": "raw",
   "metadata": {},
   "source": [
    "pipe_grid = GridSearchCV(svr_bagging, params_pipe,\n",
    "                           n_jobs=-1, cv=5,\n",
    "                          verbose=1)"
   ]
  },
  {
   "cell_type": "raw",
   "metadata": {},
   "source": [
    "pipe_grid.fit(X_train_std, y_train.ravel())\n",
    "pipe_grid.best_score_\n",
    "\n",
    "verbose:\n",
    "Fitting 5 folds for each of 225 candidates, totalling 1125 fits\n",
    "\n",
    "[Parallel(n_jobs=-1)]: Using backend LokyBackend with 12 concurrent workers.\n",
    "[Parallel(n_jobs=-1)]: Done  26 tasks      | elapsed:  6.6min\n",
    "[Parallel(n_jobs=-1)]: Done 176 tasks      | elapsed: 33.2min\n",
    "[Parallel(n_jobs=-1)]: Done 426 tasks      | elapsed: 78.8min\n",
    "[Parallel(n_jobs=-1)]: Done 776 tasks      | elapsed: 141.4min\n",
    "[Parallel(n_jobs=-1)]: Done 1125 out of 1125 | elapsed: 219.8min finished\n",
    "C:\\Users\\rmendes\\AppData\\Local\\Continuum\\anaconda3\\lib\\site-packages\\sklearn\\ensemble\\bagging.py:398: DataConversionWarning: A column-vector y was passed when a 1d array was expected. Please change the shape of y to (n_samples, ), for example using ravel().\n",
    "  return column_or_1d(y, warn=True)\n",
    "Out: 0.13384515550088605"
   ]
  },
  {
   "cell_type": "raw",
   "metadata": {},
   "source": [
    "pipe_grid.best_estimator_.get_params()\n",
    "Out:{'base_estimator__C': 1.6378937069540647,\n",
    " 'base_estimator__cache_size': 400,\n",
    " 'base_estimator__coef0': 0.0,\n",
    " 'base_estimator__degree': 3,\n",
    " 'base_estimator__epsilon': 0.2,\n",
    " 'base_estimator__gamma': 0.011787686347935873,\n",
    " 'base_estimator__kernel': 'rbf',\n",
    " 'base_estimator__max_iter': -1,\n",
    " 'base_estimator__shrinking': True,\n",
    " 'base_estimator__tol': 0.001,\n",
    " 'base_estimator__verbose': False,\n",
    " 'base_estimator': SVR(C=1.6378937069540647, cache_size=400, coef0=0.0, degree=3, epsilon=0.2,\n",
    "     gamma=0.011787686347935873, kernel='rbf', max_iter=-1, shrinking=True,\n",
    "     tol=0.001, verbose=False),\n",
    " 'bootstrap': False,\n",
    " 'bootstrap_features': False,\n",
    " 'max_features': 1.0,\n",
    " 'max_samples': 9147,\n",
    " 'n_estimators': 6,\n",
    " 'n_jobs': -1,\n",
    " 'oob_score': False,\n",
    " 'random_state': 42,\n",
    " 'verbose': 0,\n",
    " 'warm_start': False}"
   ]
  },
  {
   "cell_type": "raw",
   "metadata": {},
   "source": [
    "y_train_pred = pipe_grid.predict(X_train_std)\n",
    "y_test_pred = pipe_grid.predict(X_test_std)"
   ]
  },
  {
   "cell_type": "raw",
   "metadata": {},
   "source": [
    "print(\"MSE train: {0:.4f}, test: {1:.4f}\".\\\n",
    "       format(mean_squared_error(y_train, y_train_pred), \n",
    "            mean_squared_error(y_test, y_test_pred)))\n",
    "\n",
    "print(\"R^2 train: {0:.4f}, test: {1:.4f}\".\\\n",
    "      format(r2_score(y_train, y_train_pred),\n",
    "             r2_score(y_test, y_test_pred)))      "
   ]
  },
  {
   "cell_type": "raw",
   "metadata": {},
   "source": [
    "df_cvres= pd.DataFrame(pipe_grid.cv_results_)\n",
    "df_cvres"
   ]
  },
  {
   "cell_type": "raw",
   "metadata": {},
   "source": [
    "params_svr = dict(gamma= gamma_range, C= C_range)\n",
    "pipe_grid = GridSearchCV(svm_rgr, params_svr,\n",
    "                           n_jobs=-1, cv=5,\n",
    "                           verbose=1)\n",
    "pipe_grid.fit(X_train_std, y_train.ravel())\n",
    "pipe_grid.best_score_\n",
    "Verbose:\n",
    "Fitting 5 folds for each of 225 candidates, totalling 1125 fits\n",
    "\n",
    "[Parallel(n_jobs=-1)]: Using backend LokyBackend with 12 concurrent workers.\n",
    "[Parallel(n_jobs=-1)]: Done  26 tasks      | elapsed:  6.5min\n",
    "[Parallel(n_jobs=-1)]: Done 176 tasks      | elapsed: 33.0min\n",
    "[Parallel(n_jobs=-1)]: Done 426 tasks      | elapsed: 78.7min\n",
    "C:\\Users\\rmendes\\AppData\\Local\\Continuum\\anaconda3\\lib\\site-packages\\joblib\\externals\\loky\\process_executor.py:706: UserWarning: A worker stopped while some jobs were given to the executor. This can be caused by a too short worker timeout or by a memory leak.\n",
    "  \"timeout or by a memory leak.\", UserWarning\n",
    "[Parallel(n_jobs=-1)]: Done 776 tasks      | elapsed: 145.6min\n",
    "C:\\Users\\rmendes\\AppData\\Local\\Continuum\\anaconda3\\lib\\site-packages\\joblib\\externals\\loky\\process_executor.py:706: UserWarning: A worker stopped while some jobs were given to the executor. This can be caused by a too short worker timeout or by a memory leak.\n",
    "  \"timeout or by a memory leak.\", UserWarning"
   ]
  },
  {
   "cell_type": "code",
   "execution_count": 473,
   "metadata": {},
   "outputs": [],
   "source": [
    "sv_rgr = SVR(C=1.6378937069540647, cache_size=400, coef0=0.0, degree=3, epsilon=0.2,\n",
    "     gamma=0.011787686347935873, kernel='rbf', max_iter=-1, shrinking=True,\n",
    "     tol=0.001, verbose=True)"
   ]
  },
  {
   "cell_type": "raw",
   "metadata": {},
   "source": [
    "sv_rgr.fit(X_train_std,y_train.ravel())"
   ]
  },
  {
   "cell_type": "raw",
   "metadata": {},
   "source": [
    "y_train_pred = sv_rgr.predict(X_train_std)\n",
    "y_test_pred = sv_rgr.predict(X_test_std)\n",
    "\n",
    "scores = cross_val_score(sv_rgr, X_train_std, y_train.ravel(), cv=5, scoring='neg_mean_absolute_error')\n",
    " \n",
    "mae_sv_rgr_cv = -scores.mean()\n",
    "std_sv_rgr_cv = scores.std() \n",
    "\n",
    "mse_sv_rgr_train = metrics.mean_squared_error(y_train.ravel(), y_train_pred.ravel()) \n",
    "mse_sv_rgr_test = metrics.mean_squared_error(y_test.ravel(), y_test_pred.ravel())\n",
    "\n",
    "mae_sv_rgr_train = metrics.mean_absolute_error(y_train.ravel(), y_train_pred.ravel()) \n",
    "mae_sv_rgr_test = metrics.mean_absolute_error(y_test.ravel(), y_test_pred.ravel())\n",
    "\n",
    "r2_sv_rgr_train = metrics.r2_score(y_train.ravel(), y_train_pred.ravel())\n",
    "r2_sv_rgr_test = metrics.r2_score(y_test.ravel(), y_test_pred.ravel())"
   ]
  },
  {
   "cell_type": "raw",
   "metadata": {},
   "source": [
    "print(\"MSE train: {0:.4f}, test: {1:.4f}\".\\\n",
    "       format(mean_squared_error(y_train, y_train_pred), \n",
    "            mean_squared_error(y_test, y_test_pred)))\n",
    "\n",
    "print(\"R^2 train: {0:.4f}, test: {1:.4f}\".\\\n",
    "      format(r2_score(y_train, y_train_pred),\n",
    "             r2_score(y_test, y_test_pred))) "
   ]
  },
  {
   "cell_type": "raw",
   "metadata": {},
   "source": [
    "new_results_dic = {'MAE_cv': mae_sv_rgr_cv ,'std_cv': std_sv_rgr_cv,'MSE_train': mse_sv_rgr_train,\n",
    "                   'MSE_test': mse_sv_rgr_test,'MAE_train': mae_sv_rgr_train,\n",
    "                   'MAE_test': mae_sv_rgr_test, 'R2_train': r2_sv_rgr_train, 'R2_test': r2_sv_rgr_test}\n",
    "df_results.loc[len(df_results)] = new_results_dic"
   ]
  },
  {
   "cell_type": "raw",
   "metadata": {},
   "source": [
    "indexNamesArr = df_results.index.values\n",
    "i = indexNamesArr[-1]\n",
    "df_results.rename(index={i:'SV'}, inplace=True)\n",
    "df_results.head()"
   ]
  },
  {
   "cell_type": "raw",
   "metadata": {},
   "source": [
    "df_y_train.loc[:,'SV'] = pd.Series(y_train_pred)\n",
    "df_y_train.shape"
   ]
  },
  {
   "cell_type": "raw",
   "metadata": {},
   "source": [
    "df_y_test.loc[:,'SV'] = pd.Series(y_test_pred)\n",
    "df_y_test.shape"
   ]
  },
  {
   "cell_type": "raw",
   "metadata": {},
   "source": [
    "df_y_train.head()"
   ]
  },
  {
   "cell_type": "raw",
   "metadata": {},
   "source": [
    "df_y_test.head()"
   ]
  },
  {
   "cell_type": "code",
   "execution_count": 474,
   "metadata": {},
   "outputs": [],
   "source": [
    "bsv_rgr = BaggingRegressor(base_estimator=sv_rgr, n_estimators=n_estimators, max_samples=max_samples,\n",
    "                               max_features=1.0, bootstrap=False, bootstrap_features=False,\n",
    "                               oob_score=False, warm_start=False, n_jobs=-1, random_state=42,\n",
    "                               verbose=0)"
   ]
  },
  {
   "cell_type": "code",
   "execution_count": 475,
   "metadata": {},
   "outputs": [
    {
     "data": {
      "text/plain": [
       "BaggingRegressor(base_estimator=SVR(C=1.6378937069540647, cache_size=400,\n",
       "                                    coef0=0.0, degree=3, epsilon=0.2,\n",
       "                                    gamma=0.011787686347935873, kernel='rbf',\n",
       "                                    max_iter=-1, shrinking=True, tol=0.001,\n",
       "                                    verbose=True),\n",
       "                 bootstrap=False, bootstrap_features=False, max_features=1.0,\n",
       "                 max_samples=7484, n_estimators=13, n_jobs=-1, oob_score=False,\n",
       "                 random_state=42, verbose=0, warm_start=False)"
      ]
     },
     "execution_count": 475,
     "metadata": {},
     "output_type": "execute_result"
    }
   ],
   "source": [
    "bsv_rgr.fit(X_train_std,y_train.ravel())"
   ]
  },
  {
   "cell_type": "code",
   "execution_count": 476,
   "metadata": {},
   "outputs": [],
   "source": [
    "y_train_pred = bsv_rgr.predict(X_train_std)\n",
    "y_test_pred = bsv_rgr.predict(X_test_std)\n",
    "\n",
    "scores = cross_val_score(bsv_rgr, X_train_std, y_train.ravel(), cv=5, scoring='neg_mean_absolute_error')\n",
    " \n",
    "mae_bsv_rgr_cv = -scores.mean()\n",
    "std_bsv_rgr_cv = scores.std() \n",
    "\n",
    "mse_bsv_rgr_train = metrics.mean_squared_error(y_train.ravel(), y_train_pred.ravel()) \n",
    "mse_bsv_rgr_test = metrics.mean_squared_error(y_test.ravel(), y_test_pred.ravel())\n",
    "\n",
    "mae_bsv_rgr_train = metrics.mean_absolute_error(y_train.ravel(), y_train_pred.ravel()) \n",
    "mae_bsv_rgr_test = metrics.mean_absolute_error(y_test.ravel(), y_test_pred.ravel())\n",
    "\n",
    "r2_bsv_rgr_train = metrics.r2_score(y_train.ravel(), y_train_pred.ravel())\n",
    "r2_bsv_rgr_test = metrics.r2_score(y_test.ravel(), y_test_pred.ravel())\n",
    "\n"
   ]
  },
  {
   "cell_type": "code",
   "execution_count": 477,
   "metadata": {},
   "outputs": [
    {
     "name": "stdout",
     "output_type": "stream",
     "text": [
      "MSE train: 9.0849, test: 9.0472\n",
      "R^2 train: 0.1432, test: 0.1486\n"
     ]
    }
   ],
   "source": [
    "print(\"MSE train: {0:.4f}, test: {1:.4f}\".\\\n",
    "       format(mean_squared_error(y_train, y_train_pred), \n",
    "            mean_squared_error(y_test, y_test_pred)))\n",
    "\n",
    "print(\"R^2 train: {0:.4f}, test: {1:.4f}\".\\\n",
    "      format(r2_score(y_train, y_train_pred),\n",
    "             r2_score(y_test, y_test_pred)))"
   ]
  },
  {
   "cell_type": "code",
   "execution_count": 478,
   "metadata": {},
   "outputs": [],
   "source": [
    "new_results_dic = {'MAE_cv': mae_bsv_rgr_cv ,'std_cv': std_bsv_rgr_cv,'MSE_train': mse_bsv_rgr_train,\n",
    "                   'MSE_test': mse_bsv_rgr_test,'MAE_train': mae_bsv_rgr_train,\n",
    "                   'MAE_test': mae_bsv_rgr_test, 'R2_train': r2_bsv_rgr_train, 'R2_test': r2_bsv_rgr_test}\n",
    "df_results.loc[len(df_results)] = new_results_dic"
   ]
  },
  {
   "cell_type": "code",
   "execution_count": 479,
   "metadata": {},
   "outputs": [
    {
     "data": {
      "text/html": [
       "<div>\n",
       "<style scoped>\n",
       "    .dataframe tbody tr th:only-of-type {\n",
       "        vertical-align: middle;\n",
       "    }\n",
       "\n",
       "    .dataframe tbody tr th {\n",
       "        vertical-align: top;\n",
       "    }\n",
       "\n",
       "    .dataframe thead th {\n",
       "        text-align: right;\n",
       "    }\n",
       "</style>\n",
       "<table border=\"1\" class=\"dataframe\">\n",
       "  <thead>\n",
       "    <tr style=\"text-align: right;\">\n",
       "      <th></th>\n",
       "      <th>MAE_cv</th>\n",
       "      <th>std_cv</th>\n",
       "      <th>MSE_train</th>\n",
       "      <th>MSE_test</th>\n",
       "      <th>MAE_train</th>\n",
       "      <th>MAE_test</th>\n",
       "      <th>R2_train</th>\n",
       "      <th>R2_test</th>\n",
       "    </tr>\n",
       "  </thead>\n",
       "  <tbody>\n",
       "    <tr>\n",
       "      <th>OLS</th>\n",
       "      <td>2.440279</td>\n",
       "      <td>0.009316</td>\n",
       "      <td>9.187210</td>\n",
       "      <td>9.163015</td>\n",
       "      <td>2.439889</td>\n",
       "      <td>2.436146</td>\n",
       "      <td>0.133579</td>\n",
       "      <td>0.137669</td>\n",
       "    </tr>\n",
       "    <tr>\n",
       "      <th>RF</th>\n",
       "      <td>2.368176</td>\n",
       "      <td>0.011896</td>\n",
       "      <td>8.593212</td>\n",
       "      <td>8.750002</td>\n",
       "      <td>2.339825</td>\n",
       "      <td>2.363012</td>\n",
       "      <td>0.189598</td>\n",
       "      <td>0.176538</td>\n",
       "    </tr>\n",
       "    <tr>\n",
       "      <th>BSV</th>\n",
       "      <td>2.402379</td>\n",
       "      <td>0.011579</td>\n",
       "      <td>9.084917</td>\n",
       "      <td>9.047165</td>\n",
       "      <td>2.401104</td>\n",
       "      <td>2.397122</td>\n",
       "      <td>0.143226</td>\n",
       "      <td>0.148572</td>\n",
       "    </tr>\n",
       "  </tbody>\n",
       "</table>\n",
       "</div>"
      ],
      "text/plain": [
       "       MAE_cv    std_cv  MSE_train  MSE_test  MAE_train  MAE_test  R2_train  \\\n",
       "OLS  2.440279  0.009316   9.187210  9.163015   2.439889  2.436146  0.133579   \n",
       "RF   2.368176  0.011896   8.593212  8.750002   2.339825  2.363012  0.189598   \n",
       "BSV  2.402379  0.011579   9.084917  9.047165   2.401104  2.397122  0.143226   \n",
       "\n",
       "      R2_test  \n",
       "OLS  0.137669  \n",
       "RF   0.176538  \n",
       "BSV  0.148572  "
      ]
     },
     "execution_count": 479,
     "metadata": {},
     "output_type": "execute_result"
    }
   ],
   "source": [
    "indexNamesArr = df_results.index.values\n",
    "i = indexNamesArr[-1]\n",
    "df_results.rename(index={i:'BSV'}, inplace=True)\n",
    "df_results.head()"
   ]
  },
  {
   "cell_type": "code",
   "execution_count": 480,
   "metadata": {},
   "outputs": [
    {
     "data": {
      "text/plain": [
       "(97303, 3)"
      ]
     },
     "execution_count": 480,
     "metadata": {},
     "output_type": "execute_result"
    }
   ],
   "source": [
    "df_y_train.loc[:,'BSV'] = pd.Series(y_train_pred)\n",
    "df_y_train.shape"
   ]
  },
  {
   "cell_type": "code",
   "execution_count": 481,
   "metadata": {},
   "outputs": [
    {
     "data": {
      "text/plain": [
       "(41702, 3)"
      ]
     },
     "execution_count": 481,
     "metadata": {},
     "output_type": "execute_result"
    }
   ],
   "source": [
    "df_y_test.loc[:,'BSV'] = pd.Series(y_test_pred)\n",
    "df_y_test.shape"
   ]
  },
  {
   "cell_type": "code",
   "execution_count": 482,
   "metadata": {},
   "outputs": [
    {
     "data": {
      "text/html": [
       "<div>\n",
       "<style scoped>\n",
       "    .dataframe tbody tr th:only-of-type {\n",
       "        vertical-align: middle;\n",
       "    }\n",
       "\n",
       "    .dataframe tbody tr th {\n",
       "        vertical-align: top;\n",
       "    }\n",
       "\n",
       "    .dataframe thead th {\n",
       "        text-align: right;\n",
       "    }\n",
       "</style>\n",
       "<table border=\"1\" class=\"dataframe\">\n",
       "  <thead>\n",
       "    <tr style=\"text-align: right;\">\n",
       "      <th></th>\n",
       "      <th>OLS</th>\n",
       "      <th>RF</th>\n",
       "      <th>BSV</th>\n",
       "    </tr>\n",
       "  </thead>\n",
       "  <tbody>\n",
       "    <tr>\n",
       "      <th>0</th>\n",
       "      <td>12.620191</td>\n",
       "      <td>13.242765</td>\n",
       "      <td>12.534775</td>\n",
       "    </tr>\n",
       "    <tr>\n",
       "      <th>1</th>\n",
       "      <td>12.699633</td>\n",
       "      <td>13.166908</td>\n",
       "      <td>12.260431</td>\n",
       "    </tr>\n",
       "    <tr>\n",
       "      <th>2</th>\n",
       "      <td>12.524009</td>\n",
       "      <td>12.671385</td>\n",
       "      <td>12.475266</td>\n",
       "    </tr>\n",
       "    <tr>\n",
       "      <th>3</th>\n",
       "      <td>13.709681</td>\n",
       "      <td>13.719343</td>\n",
       "      <td>14.113602</td>\n",
       "    </tr>\n",
       "    <tr>\n",
       "      <th>4</th>\n",
       "      <td>13.430382</td>\n",
       "      <td>12.805789</td>\n",
       "      <td>13.369796</td>\n",
       "    </tr>\n",
       "  </tbody>\n",
       "</table>\n",
       "</div>"
      ],
      "text/plain": [
       "         OLS         RF        BSV\n",
       "0  12.620191  13.242765  12.534775\n",
       "1  12.699633  13.166908  12.260431\n",
       "2  12.524009  12.671385  12.475266\n",
       "3  13.709681  13.719343  14.113602\n",
       "4  13.430382  12.805789  13.369796"
      ]
     },
     "execution_count": 482,
     "metadata": {},
     "output_type": "execute_result"
    }
   ],
   "source": [
    "df_y_train.head()"
   ]
  },
  {
   "cell_type": "code",
   "execution_count": 483,
   "metadata": {},
   "outputs": [
    {
     "data": {
      "text/html": [
       "<div>\n",
       "<style scoped>\n",
       "    .dataframe tbody tr th:only-of-type {\n",
       "        vertical-align: middle;\n",
       "    }\n",
       "\n",
       "    .dataframe tbody tr th {\n",
       "        vertical-align: top;\n",
       "    }\n",
       "\n",
       "    .dataframe thead th {\n",
       "        text-align: right;\n",
       "    }\n",
       "</style>\n",
       "<table border=\"1\" class=\"dataframe\">\n",
       "  <thead>\n",
       "    <tr style=\"text-align: right;\">\n",
       "      <th></th>\n",
       "      <th>OLS</th>\n",
       "      <th>RF</th>\n",
       "      <th>BSV</th>\n",
       "    </tr>\n",
       "  </thead>\n",
       "  <tbody>\n",
       "    <tr>\n",
       "      <th>0</th>\n",
       "      <td>12.397605</td>\n",
       "      <td>11.804360</td>\n",
       "      <td>12.018406</td>\n",
       "    </tr>\n",
       "    <tr>\n",
       "      <th>1</th>\n",
       "      <td>11.242200</td>\n",
       "      <td>10.752587</td>\n",
       "      <td>10.727977</td>\n",
       "    </tr>\n",
       "    <tr>\n",
       "      <th>2</th>\n",
       "      <td>11.697610</td>\n",
       "      <td>11.998163</td>\n",
       "      <td>11.310787</td>\n",
       "    </tr>\n",
       "    <tr>\n",
       "      <th>3</th>\n",
       "      <td>12.481905</td>\n",
       "      <td>12.223653</td>\n",
       "      <td>12.251571</td>\n",
       "    </tr>\n",
       "    <tr>\n",
       "      <th>4</th>\n",
       "      <td>12.562590</td>\n",
       "      <td>13.310348</td>\n",
       "      <td>12.363082</td>\n",
       "    </tr>\n",
       "  </tbody>\n",
       "</table>\n",
       "</div>"
      ],
      "text/plain": [
       "         OLS         RF        BSV\n",
       "0  12.397605  11.804360  12.018406\n",
       "1  11.242200  10.752587  10.727977\n",
       "2  11.697610  11.998163  11.310787\n",
       "3  12.481905  12.223653  12.251571\n",
       "4  12.562590  13.310348  12.363082"
      ]
     },
     "execution_count": 483,
     "metadata": {},
     "output_type": "execute_result"
    }
   ],
   "source": [
    "df_y_test.head()"
   ]
  },
  {
   "cell_type": "raw",
   "metadata": {},
   "source": [
    "params_svr = dict(gamma= gamma_range, C= C_range)\n",
    "pipe_grid = GridSearchCV(svm_rgr, params_svr,\n",
    "                           n_jobs=-1, cv=5,\n",
    "                           verbose=1)\n",
    "pipe_grid.fit(X_train_std, y_train.ravel())\n",
    "pipe_grid.best_score_\n",
    "Verbose:\n",
    "Fitting 5 folds for each of 225 candidates, totalling 1125 fits\n",
    "\n",
    "[Parallel(n_jobs=-1)]: Using backend LokyBackend with 12 concurrent workers.\n",
    "[Parallel(n_jobs=-1)]: Done  26 tasks      | elapsed:  6.5min\n",
    "[Parallel(n_jobs=-1)]: Done 176 tasks      | elapsed: 33.0min\n",
    "[Parallel(n_jobs=-1)]: Done 426 tasks      | elapsed: 78.7min\n",
    "C:\\Users\\rmendes\\AppData\\Local\\Continuum\\anaconda3\\lib\\site-packages\\joblib\\externals\\loky\\process_executor.py:706: UserWarning: A worker stopped while some jobs were given to the executor. This can be caused by a too short worker timeout or by a memory leak.\n",
    "  \"timeout or by a memory leak.\", UserWarning\n",
    "[Parallel(n_jobs=-1)]: Done 776 tasks      | elapsed: 145.6min\n",
    "C:\\Users\\rmendes\\AppData\\Local\\Continuum\\anaconda3\\lib\\site-packages\\joblib\\externals\\loky\\process_executor.py:706: UserWarning: A worker stopped while some jobs were given to the executor. This can be caused by a too short worker timeout or by a memory leak.\n",
    "  \"timeout or by a memory leak.\", UserWarning"
   ]
  },
  {
   "cell_type": "markdown",
   "metadata": {},
   "source": [
    "# Multilayer Perceptron"
   ]
  },
  {
   "cell_type": "code",
   "execution_count": 484,
   "metadata": {},
   "outputs": [],
   "source": [
    "from sklearn.neural_network import MLPRegressor\n",
    "from itertools import product"
   ]
  },
  {
   "cell_type": "raw",
   "metadata": {},
   "source": [
    "mlp_rgr = MLPRegressor(hidden_layer_sizes=(100,),\n",
    "                       activation=\"relu\",#‘logistic’, the logistic sigmoid function, returns f(x) = 1 / (1 + exp(-x)).\n",
    "                                        #‘tanh’, the hyperbolic tan function, returns f(x) = tanh(x).\n",
    "                                        #‘relu’, the rectified linear unit function, returns f(x) = max(0, x)\n",
    "                       solver=\"adam\",\n",
    "                       #the solver for weight optimization\n",
    "                       #The default solver ‘adam’ works pretty well on relatively\n",
    "                       #large datasets (with thousands of training samples or more)\n",
    "                       #in terms of both training time and validation score.\n",
    "                       #For small datasets, however, ‘lbfgs’ can converge faster and perform better.\n",
    "                       alpha=0.0001,\n",
    "                       #L2 penalty (regularization term) parameter.\n",
    "                       batch_size=\"auto\",\n",
    "                       learning_rate=\"constant\", learning_rate_init=0.001,\n",
    "                       power_t=0.5,\n",
    "                       #Learning rate schedule for weight updates.\n",
    "                       #‘constant’ is a constant learning rate given by ‘learning_rate_init’.\n",
    "                       #‘invscaling’ gradually decreases the learning rate learning_rate_ at each time step ‘t’\n",
    "                       #using an inverse scaling exponent of ‘power_t’.\n",
    "                       #effective_learning_rate = learning_rate_init / pow(t, power_t)\n",
    "                       #‘adaptive’ keeps the learning rate constant to ‘learning_rate_init’\n",
    "                       #as long as training loss keeps decreasing. Each time two consecutive\n",
    "                       #epochs fail to decrease training loss by at least tol, or fail to increase#\n",
    "                       #validation score by at least tol if ‘early_stopping’ is on, the current\n",
    "                       #learning rate is divided by 5.\n",
    "                       #Only used when solver=’sgd’.\n",
    "                       max_iter=200, shuffle=True,\n",
    "                       random_state=42,\n",
    "                       tol=0.0001,\n",
    "                       #The exponent for inverse scaling learning rate. It is used in updating effective\n",
    "                       #learning rate when the learning_rate is set to ‘invscaling’. Only used when solver=’sgd’.\n",
    "                       verbose=False,\n",
    "                       warm_start=False,\n",
    "                       momentum=0.9,\n",
    "                       #Momentum for gradient descent update. Should be between 0 and 1. Only used when solver=’sgd’.\n",
    "                       nesterovs_momentum=True,\n",
    "                       #Only used when solver=’sgd’ and momentum > 0\n",
    "                       early_stopping=False,\n",
    "                       #Whether to use early stopping to terminate training when validation score is not improving.\n",
    "                       #If set to true, it will automatically set aside 10% of training data as validation and terminate\n",
    "                       #training when validation score is not improving by at least tol for n_iter_no_change\n",
    "                       #consecutive epochs. Only effective when solver=’sgd’ or ‘adam’\n",
    "                       validation_fraction=0.1,\n",
    "                       #The proportion of training data to set aside as validation set for early stopping.\n",
    "                       #Must be between 0 and 1. Only used if early_stopping is True\n",
    "                       beta_1=0.9,\n",
    "                       #Exponential decay rate for estimates of first moment vector in adam, should be in [0, 1).\n",
    "                       #Only used when solver=’adam’\n",
    "                       beta_2=0.999,\n",
    "                       #Exponential decay rate for estimates of second moment vector in adam, should be in [0, 1).\n",
    "                       #Only used when solver=’adam’\n",
    "                       epsilon=1e-08,\n",
    "                       #Value for numerical stability in adam. Only used when solver=’adam’\n",
    "                       n_iter_no_change=10)\n",
    "                       #Maximum number of epochs to not meet tol improvement. Only effective when solver=’sgd’ or ‘adam’\n",
    "mlp_rgr.get_params().keys()"
   ]
  },
  {
   "cell_type": "raw",
   "metadata": {},
   "source": [
    "df.shape[1]-1"
   ]
  },
  {
   "cell_type": "raw",
   "metadata": {},
   "source": [
    "hls=list(product(range(1,16),repeat=2))\n",
    "hls"
   ]
  },
  {
   "cell_type": "raw",
   "metadata": {},
   "source": [
    "alfa1=list(10.0**-np.arange(1, 7))\n",
    "alfa1"
   ]
  },
  {
   "cell_type": "raw",
   "metadata": {},
   "source": [
    "params_mlp = [{'hidden_layer_sizes': hls, 'activation': ['relu','logistic'],\n",
    "'alpha':alfa1,\n",
    "'learning_rate_init': [0.05, 0.01, 0.005, 0.001]}]"
   ]
  },
  {
   "cell_type": "raw",
   "metadata": {},
   "source": [
    "mlp_rgr_grid = GridSearchCV(mlp_rgr, params_mlp,\n",
    "                           n_jobs=-1, cv=5,\n",
    "                          verbose=1)\n"
   ]
  },
  {
   "cell_type": "raw",
   "metadata": {},
   "source": [
    "mlp_rgr_grid.fit(X_train_std, y_train.ravel())\n",
    "mlp_rgr_grid.best_score_\n",
    "\n",
    "verbose:\n",
    "Fitting 5 folds for each of 10800 candidates, totalling 54000 fits\n",
    "[Parallel(n_jobs=-1)]: Done 54000 out of 54000 | elapsed: 728.3min finished\n",
    "\n",
    "0.14132705739021506"
   ]
  },
  {
   "cell_type": "raw",
   "metadata": {},
   "source": [
    "mlp_rgr_grid.best_estimator_.get_params()\n",
    "Out:\n",
    "{'activation': 'logistic',\n",
    " 'alpha': 0.1,\n",
    " 'batch_size': 'auto',\n",
    " 'beta_1': 0.9,\n",
    " 'beta_2': 0.999,\n",
    " 'early_stopping': False,\n",
    " 'epsilon': 1e-08,\n",
    " 'hidden_layer_sizes': (14, 5),\n",
    " 'learning_rate': 'constant',\n",
    " 'learning_rate_init': 0.005,\n",
    " 'max_iter': 200,\n",
    " 'momentum': 0.9,\n",
    " 'n_iter_no_change': 10,\n",
    " 'nesterovs_momentum': True,\n",
    " 'power_t': 0.5,\n",
    " 'random_state': 42,\n",
    " 'shuffle': True,\n",
    " 'solver': 'adam',\n",
    " 'tol': 0.0001,\n",
    " 'validation_fraction': 0.1,\n",
    " 'verbose': False,\n",
    " 'warm_start': False}"
   ]
  },
  {
   "cell_type": "raw",
   "metadata": {},
   "source": [
    "y_train_pred = mlp_rgr_grid.predict(X_train_std)\n",
    "y_test_pred = mlp_rgr_grid.predict(X_test_std)"
   ]
  },
  {
   "cell_type": "raw",
   "metadata": {},
   "source": [
    "print(\"MSE train: {0:.4f}, test: {1:.4f}\".\\\n",
    "       format(mean_squared_error(y_train, y_train_pred), \n",
    "            mean_squared_error(y_test, y_test_pred)))\n",
    "\n",
    "print(\"R^2 train: {0:.4f}, test: {1:.4f}\".\\\n",
    "      format(r2_score(y_train, y_train_pred),\n",
    "             r2_score(y_test, y_test_pred)))"
   ]
  },
  {
   "cell_type": "code",
   "execution_count": 485,
   "metadata": {},
   "outputs": [],
   "source": [
    "mlp_rgr=MLPRegressor(activation= 'logistic',\n",
    " alpha = 0.1,\n",
    " hidden_layer_sizes = (14, 5),\n",
    " learning_rate_init = 0.005,\n",
    " random_state = 42)"
   ]
  },
  {
   "cell_type": "code",
   "execution_count": 486,
   "metadata": {},
   "outputs": [
    {
     "data": {
      "text/plain": [
       "MLPRegressor(activation='logistic', alpha=0.1, batch_size='auto', beta_1=0.9,\n",
       "             beta_2=0.999, early_stopping=False, epsilon=1e-08,\n",
       "             hidden_layer_sizes=(14, 5), learning_rate='constant',\n",
       "             learning_rate_init=0.005, max_iter=200, momentum=0.9,\n",
       "             n_iter_no_change=10, nesterovs_momentum=True, power_t=0.5,\n",
       "             random_state=42, shuffle=True, solver='adam', tol=0.0001,\n",
       "             validation_fraction=0.1, verbose=False, warm_start=False)"
      ]
     },
     "execution_count": 486,
     "metadata": {},
     "output_type": "execute_result"
    }
   ],
   "source": [
    "mlp_rgr.fit(X_train_std,y_train.ravel())"
   ]
  },
  {
   "cell_type": "code",
   "execution_count": 487,
   "metadata": {},
   "outputs": [],
   "source": [
    "y_train_pred = mlp_rgr.predict(X_train_std)\n",
    "y_test_pred = mlp_rgr.predict(X_test_std)\n",
    "\n",
    "scores = cross_val_score(mlp_rgr, X_train_std, y_train.ravel(), cv=5, scoring='neg_mean_absolute_error')\n",
    " \n",
    "mae_mlp_rgr_cv = -scores.mean()\n",
    "std_mlp_rgr_cv = scores.std() \n",
    "\n",
    "mse_mlp_rgr_train = metrics.mean_squared_error(y_train.ravel(), y_train_pred.ravel()) \n",
    "mse_mlp_rgr_test = metrics.mean_squared_error(y_test.ravel(), y_test_pred.ravel())\n",
    "\n",
    "mae_mlp_rgr_train = metrics.mean_absolute_error(y_train.ravel(), y_train_pred.ravel()) \n",
    "mae_mlp_rgr_test = metrics.mean_absolute_error(y_test.ravel(), y_test_pred.ravel())\n",
    "\n",
    "r2_mlp_rgr_train = metrics.r2_score(y_train.ravel(), y_train_pred.ravel())\n",
    "r2_mlp_rgr_test = metrics.r2_score(y_test.ravel(), y_test_pred.ravel())"
   ]
  },
  {
   "cell_type": "code",
   "execution_count": 488,
   "metadata": {},
   "outputs": [
    {
     "name": "stdout",
     "output_type": "stream",
     "text": [
      "MSE train: 8.9888, test: 8.9648\n",
      "R^2 train: 0.1523, test: 0.1563\n"
     ]
    }
   ],
   "source": [
    "print(\"MSE train: {0:.4f}, test: {1:.4f}\".\\\n",
    "       format(mean_squared_error(y_train, y_train_pred), \n",
    "            mean_squared_error(y_test, y_test_pred)))\n",
    "\n",
    "print(\"R^2 train: {0:.4f}, test: {1:.4f}\".\\\n",
    "      format(r2_score(y_train, y_train_pred),\n",
    "             r2_score(y_test, y_test_pred))) "
   ]
  },
  {
   "cell_type": "code",
   "execution_count": 489,
   "metadata": {},
   "outputs": [],
   "source": [
    "new_results_dic = {'MAE_cv': mae_mlp_rgr_cv ,'std_cv': std_mlp_rgr_cv,'MSE_train': mse_mlp_rgr_train,\n",
    "                   'MSE_test': mse_mlp_rgr_test,'MAE_train': mae_mlp_rgr_train,\n",
    "                   'MAE_test': mae_mlp_rgr_test, 'R2_train': r2_mlp_rgr_train, 'R2_test': r2_mlp_rgr_test}\n",
    "df_results.loc[len(df_results)] = new_results_dic"
   ]
  },
  {
   "cell_type": "code",
   "execution_count": 490,
   "metadata": {
    "scrolled": true
   },
   "outputs": [
    {
     "data": {
      "text/html": [
       "<div>\n",
       "<style scoped>\n",
       "    .dataframe tbody tr th:only-of-type {\n",
       "        vertical-align: middle;\n",
       "    }\n",
       "\n",
       "    .dataframe tbody tr th {\n",
       "        vertical-align: top;\n",
       "    }\n",
       "\n",
       "    .dataframe thead th {\n",
       "        text-align: right;\n",
       "    }\n",
       "</style>\n",
       "<table border=\"1\" class=\"dataframe\">\n",
       "  <thead>\n",
       "    <tr style=\"text-align: right;\">\n",
       "      <th></th>\n",
       "      <th>MAE_cv</th>\n",
       "      <th>std_cv</th>\n",
       "      <th>MSE_train</th>\n",
       "      <th>MSE_test</th>\n",
       "      <th>MAE_train</th>\n",
       "      <th>MAE_test</th>\n",
       "      <th>R2_train</th>\n",
       "      <th>R2_test</th>\n",
       "    </tr>\n",
       "  </thead>\n",
       "  <tbody>\n",
       "    <tr>\n",
       "      <th>OLS</th>\n",
       "      <td>2.440279</td>\n",
       "      <td>0.009316</td>\n",
       "      <td>9.187210</td>\n",
       "      <td>9.163015</td>\n",
       "      <td>2.439889</td>\n",
       "      <td>2.436146</td>\n",
       "      <td>0.133579</td>\n",
       "      <td>0.137669</td>\n",
       "    </tr>\n",
       "    <tr>\n",
       "      <th>RF</th>\n",
       "      <td>2.368176</td>\n",
       "      <td>0.011896</td>\n",
       "      <td>8.593212</td>\n",
       "      <td>8.750002</td>\n",
       "      <td>2.339825</td>\n",
       "      <td>2.363012</td>\n",
       "      <td>0.189598</td>\n",
       "      <td>0.176538</td>\n",
       "    </tr>\n",
       "    <tr>\n",
       "      <th>BSV</th>\n",
       "      <td>2.402379</td>\n",
       "      <td>0.011579</td>\n",
       "      <td>9.084917</td>\n",
       "      <td>9.047165</td>\n",
       "      <td>2.401104</td>\n",
       "      <td>2.397122</td>\n",
       "      <td>0.143226</td>\n",
       "      <td>0.148572</td>\n",
       "    </tr>\n",
       "    <tr>\n",
       "      <th>NN</th>\n",
       "      <td>2.399772</td>\n",
       "      <td>0.010152</td>\n",
       "      <td>8.988805</td>\n",
       "      <td>8.964754</td>\n",
       "      <td>2.398000</td>\n",
       "      <td>2.395309</td>\n",
       "      <td>0.152290</td>\n",
       "      <td>0.156328</td>\n",
       "    </tr>\n",
       "  </tbody>\n",
       "</table>\n",
       "</div>"
      ],
      "text/plain": [
       "       MAE_cv    std_cv  MSE_train  MSE_test  MAE_train  MAE_test  R2_train  \\\n",
       "OLS  2.440279  0.009316   9.187210  9.163015   2.439889  2.436146  0.133579   \n",
       "RF   2.368176  0.011896   8.593212  8.750002   2.339825  2.363012  0.189598   \n",
       "BSV  2.402379  0.011579   9.084917  9.047165   2.401104  2.397122  0.143226   \n",
       "NN   2.399772  0.010152   8.988805  8.964754   2.398000  2.395309  0.152290   \n",
       "\n",
       "      R2_test  \n",
       "OLS  0.137669  \n",
       "RF   0.176538  \n",
       "BSV  0.148572  \n",
       "NN   0.156328  "
      ]
     },
     "execution_count": 490,
     "metadata": {},
     "output_type": "execute_result"
    }
   ],
   "source": [
    "indexNamesArr = df_results.index.values\n",
    "i = indexNamesArr[-1]\n",
    "df_results.rename(index={i:'NN'}, inplace=True)\n",
    "df_results.head()"
   ]
  },
  {
   "cell_type": "code",
   "execution_count": 491,
   "metadata": {},
   "outputs": [
    {
     "data": {
      "text/plain": [
       "(97303, 4)"
      ]
     },
     "execution_count": 491,
     "metadata": {},
     "output_type": "execute_result"
    }
   ],
   "source": [
    "df_y_train.loc[:,'NN'] = pd.Series(y_train_pred)\n",
    "df_y_train.shape"
   ]
  },
  {
   "cell_type": "code",
   "execution_count": 492,
   "metadata": {},
   "outputs": [
    {
     "data": {
      "text/plain": [
       "(41702, 4)"
      ]
     },
     "execution_count": 492,
     "metadata": {},
     "output_type": "execute_result"
    }
   ],
   "source": [
    "df_y_test.loc[:,'NN'] = pd.Series(y_test_pred)\n",
    "df_y_test.shape"
   ]
  },
  {
   "cell_type": "code",
   "execution_count": 493,
   "metadata": {},
   "outputs": [
    {
     "data": {
      "text/html": [
       "<div>\n",
       "<style scoped>\n",
       "    .dataframe tbody tr th:only-of-type {\n",
       "        vertical-align: middle;\n",
       "    }\n",
       "\n",
       "    .dataframe tbody tr th {\n",
       "        vertical-align: top;\n",
       "    }\n",
       "\n",
       "    .dataframe thead th {\n",
       "        text-align: right;\n",
       "    }\n",
       "</style>\n",
       "<table border=\"1\" class=\"dataframe\">\n",
       "  <thead>\n",
       "    <tr style=\"text-align: right;\">\n",
       "      <th></th>\n",
       "      <th>OLS</th>\n",
       "      <th>RF</th>\n",
       "      <th>BSV</th>\n",
       "      <th>NN</th>\n",
       "    </tr>\n",
       "  </thead>\n",
       "  <tbody>\n",
       "    <tr>\n",
       "      <th>0</th>\n",
       "      <td>12.620191</td>\n",
       "      <td>13.242765</td>\n",
       "      <td>12.534775</td>\n",
       "      <td>12.897756</td>\n",
       "    </tr>\n",
       "    <tr>\n",
       "      <th>1</th>\n",
       "      <td>12.699633</td>\n",
       "      <td>13.166908</td>\n",
       "      <td>12.260431</td>\n",
       "      <td>12.764988</td>\n",
       "    </tr>\n",
       "    <tr>\n",
       "      <th>2</th>\n",
       "      <td>12.524009</td>\n",
       "      <td>12.671385</td>\n",
       "      <td>12.475266</td>\n",
       "      <td>12.887505</td>\n",
       "    </tr>\n",
       "    <tr>\n",
       "      <th>3</th>\n",
       "      <td>13.709681</td>\n",
       "      <td>13.719343</td>\n",
       "      <td>14.113602</td>\n",
       "      <td>13.867310</td>\n",
       "    </tr>\n",
       "    <tr>\n",
       "      <th>4</th>\n",
       "      <td>13.430382</td>\n",
       "      <td>12.805789</td>\n",
       "      <td>13.369796</td>\n",
       "      <td>13.468286</td>\n",
       "    </tr>\n",
       "  </tbody>\n",
       "</table>\n",
       "</div>"
      ],
      "text/plain": [
       "         OLS         RF        BSV         NN\n",
       "0  12.620191  13.242765  12.534775  12.897756\n",
       "1  12.699633  13.166908  12.260431  12.764988\n",
       "2  12.524009  12.671385  12.475266  12.887505\n",
       "3  13.709681  13.719343  14.113602  13.867310\n",
       "4  13.430382  12.805789  13.369796  13.468286"
      ]
     },
     "execution_count": 493,
     "metadata": {},
     "output_type": "execute_result"
    }
   ],
   "source": [
    "df_y_train.head()"
   ]
  },
  {
   "cell_type": "code",
   "execution_count": 494,
   "metadata": {},
   "outputs": [
    {
     "data": {
      "text/html": [
       "<div>\n",
       "<style scoped>\n",
       "    .dataframe tbody tr th:only-of-type {\n",
       "        vertical-align: middle;\n",
       "    }\n",
       "\n",
       "    .dataframe tbody tr th {\n",
       "        vertical-align: top;\n",
       "    }\n",
       "\n",
       "    .dataframe thead th {\n",
       "        text-align: right;\n",
       "    }\n",
       "</style>\n",
       "<table border=\"1\" class=\"dataframe\">\n",
       "  <thead>\n",
       "    <tr style=\"text-align: right;\">\n",
       "      <th></th>\n",
       "      <th>OLS</th>\n",
       "      <th>RF</th>\n",
       "      <th>BSV</th>\n",
       "      <th>NN</th>\n",
       "    </tr>\n",
       "  </thead>\n",
       "  <tbody>\n",
       "    <tr>\n",
       "      <th>0</th>\n",
       "      <td>12.397605</td>\n",
       "      <td>11.804360</td>\n",
       "      <td>12.018406</td>\n",
       "      <td>12.268544</td>\n",
       "    </tr>\n",
       "    <tr>\n",
       "      <th>1</th>\n",
       "      <td>11.242200</td>\n",
       "      <td>10.752587</td>\n",
       "      <td>10.727977</td>\n",
       "      <td>10.903086</td>\n",
       "    </tr>\n",
       "    <tr>\n",
       "      <th>2</th>\n",
       "      <td>11.697610</td>\n",
       "      <td>11.998163</td>\n",
       "      <td>11.310787</td>\n",
       "      <td>11.309568</td>\n",
       "    </tr>\n",
       "    <tr>\n",
       "      <th>3</th>\n",
       "      <td>12.481905</td>\n",
       "      <td>12.223653</td>\n",
       "      <td>12.251571</td>\n",
       "      <td>12.271489</td>\n",
       "    </tr>\n",
       "    <tr>\n",
       "      <th>4</th>\n",
       "      <td>12.562590</td>\n",
       "      <td>13.310348</td>\n",
       "      <td>12.363082</td>\n",
       "      <td>12.386617</td>\n",
       "    </tr>\n",
       "  </tbody>\n",
       "</table>\n",
       "</div>"
      ],
      "text/plain": [
       "         OLS         RF        BSV         NN\n",
       "0  12.397605  11.804360  12.018406  12.268544\n",
       "1  11.242200  10.752587  10.727977  10.903086\n",
       "2  11.697610  11.998163  11.310787  11.309568\n",
       "3  12.481905  12.223653  12.251571  12.271489\n",
       "4  12.562590  13.310348  12.363082  12.386617"
      ]
     },
     "execution_count": 494,
     "metadata": {},
     "output_type": "execute_result"
    }
   ],
   "source": [
    "df_y_test.head()"
   ]
  },
  {
   "cell_type": "code",
   "execution_count": 495,
   "metadata": {},
   "outputs": [
    {
     "data": {
      "text/plain": [
       "(97303, 5)"
      ]
     },
     "execution_count": 495,
     "metadata": {},
     "output_type": "execute_result"
    }
   ],
   "source": [
    "df_y_train.loc[:,'Y'] = pd.Series(y_train.ravel())\n",
    "df_y_train.shape"
   ]
  },
  {
   "cell_type": "code",
   "execution_count": 496,
   "metadata": {},
   "outputs": [
    {
     "data": {
      "text/plain": [
       "(41702, 5)"
      ]
     },
     "execution_count": 496,
     "metadata": {},
     "output_type": "execute_result"
    }
   ],
   "source": [
    "df_y_test.loc[:,'Y'] = pd.Series(y_test.ravel())\n",
    "df_y_test.shape"
   ]
  },
  {
   "cell_type": "code",
   "execution_count": 497,
   "metadata": {},
   "outputs": [
    {
     "data": {
      "text/html": [
       "<div>\n",
       "<style scoped>\n",
       "    .dataframe tbody tr th:only-of-type {\n",
       "        vertical-align: middle;\n",
       "    }\n",
       "\n",
       "    .dataframe tbody tr th {\n",
       "        vertical-align: top;\n",
       "    }\n",
       "\n",
       "    .dataframe thead th {\n",
       "        text-align: right;\n",
       "    }\n",
       "</style>\n",
       "<table border=\"1\" class=\"dataframe\">\n",
       "  <thead>\n",
       "    <tr style=\"text-align: right;\">\n",
       "      <th></th>\n",
       "      <th>OLS</th>\n",
       "      <th>RF</th>\n",
       "      <th>BSV</th>\n",
       "      <th>NN</th>\n",
       "      <th>Y</th>\n",
       "    </tr>\n",
       "  </thead>\n",
       "  <tbody>\n",
       "    <tr>\n",
       "      <th>0</th>\n",
       "      <td>12.620191</td>\n",
       "      <td>13.242765</td>\n",
       "      <td>12.534775</td>\n",
       "      <td>12.897756</td>\n",
       "      <td>10</td>\n",
       "    </tr>\n",
       "    <tr>\n",
       "      <th>1</th>\n",
       "      <td>12.699633</td>\n",
       "      <td>13.166908</td>\n",
       "      <td>12.260431</td>\n",
       "      <td>12.764988</td>\n",
       "      <td>10</td>\n",
       "    </tr>\n",
       "    <tr>\n",
       "      <th>2</th>\n",
       "      <td>12.524009</td>\n",
       "      <td>12.671385</td>\n",
       "      <td>12.475266</td>\n",
       "      <td>12.887505</td>\n",
       "      <td>11</td>\n",
       "    </tr>\n",
       "    <tr>\n",
       "      <th>3</th>\n",
       "      <td>13.709681</td>\n",
       "      <td>13.719343</td>\n",
       "      <td>14.113602</td>\n",
       "      <td>13.867310</td>\n",
       "      <td>10</td>\n",
       "    </tr>\n",
       "    <tr>\n",
       "      <th>4</th>\n",
       "      <td>13.430382</td>\n",
       "      <td>12.805789</td>\n",
       "      <td>13.369796</td>\n",
       "      <td>13.468286</td>\n",
       "      <td>13</td>\n",
       "    </tr>\n",
       "  </tbody>\n",
       "</table>\n",
       "</div>"
      ],
      "text/plain": [
       "         OLS         RF        BSV         NN   Y\n",
       "0  12.620191  13.242765  12.534775  12.897756  10\n",
       "1  12.699633  13.166908  12.260431  12.764988  10\n",
       "2  12.524009  12.671385  12.475266  12.887505  11\n",
       "3  13.709681  13.719343  14.113602  13.867310  10\n",
       "4  13.430382  12.805789  13.369796  13.468286  13"
      ]
     },
     "execution_count": 497,
     "metadata": {},
     "output_type": "execute_result"
    }
   ],
   "source": [
    "df_y_train.head()"
   ]
  },
  {
   "cell_type": "code",
   "execution_count": 498,
   "metadata": {},
   "outputs": [
    {
     "data": {
      "text/html": [
       "<div>\n",
       "<style scoped>\n",
       "    .dataframe tbody tr th:only-of-type {\n",
       "        vertical-align: middle;\n",
       "    }\n",
       "\n",
       "    .dataframe tbody tr th {\n",
       "        vertical-align: top;\n",
       "    }\n",
       "\n",
       "    .dataframe thead th {\n",
       "        text-align: right;\n",
       "    }\n",
       "</style>\n",
       "<table border=\"1\" class=\"dataframe\">\n",
       "  <thead>\n",
       "    <tr style=\"text-align: right;\">\n",
       "      <th></th>\n",
       "      <th>OLS</th>\n",
       "      <th>RF</th>\n",
       "      <th>BSV</th>\n",
       "      <th>NN</th>\n",
       "      <th>Y</th>\n",
       "    </tr>\n",
       "  </thead>\n",
       "  <tbody>\n",
       "    <tr>\n",
       "      <th>0</th>\n",
       "      <td>12.397605</td>\n",
       "      <td>11.804360</td>\n",
       "      <td>12.018406</td>\n",
       "      <td>12.268544</td>\n",
       "      <td>13</td>\n",
       "    </tr>\n",
       "    <tr>\n",
       "      <th>1</th>\n",
       "      <td>11.242200</td>\n",
       "      <td>10.752587</td>\n",
       "      <td>10.727977</td>\n",
       "      <td>10.903086</td>\n",
       "      <td>13</td>\n",
       "    </tr>\n",
       "    <tr>\n",
       "      <th>2</th>\n",
       "      <td>11.697610</td>\n",
       "      <td>11.998163</td>\n",
       "      <td>11.310787</td>\n",
       "      <td>11.309568</td>\n",
       "      <td>10</td>\n",
       "    </tr>\n",
       "    <tr>\n",
       "      <th>3</th>\n",
       "      <td>12.481905</td>\n",
       "      <td>12.223653</td>\n",
       "      <td>12.251571</td>\n",
       "      <td>12.271489</td>\n",
       "      <td>11</td>\n",
       "    </tr>\n",
       "    <tr>\n",
       "      <th>4</th>\n",
       "      <td>12.562590</td>\n",
       "      <td>13.310348</td>\n",
       "      <td>12.363082</td>\n",
       "      <td>12.386617</td>\n",
       "      <td>18</td>\n",
       "    </tr>\n",
       "  </tbody>\n",
       "</table>\n",
       "</div>"
      ],
      "text/plain": [
       "         OLS         RF        BSV         NN   Y\n",
       "0  12.397605  11.804360  12.018406  12.268544  13\n",
       "1  11.242200  10.752587  10.727977  10.903086  13\n",
       "2  11.697610  11.998163  11.310787  11.309568  10\n",
       "3  12.481905  12.223653  12.251571  12.271489  11\n",
       "4  12.562590  13.310348  12.363082  12.386617  18"
      ]
     },
     "execution_count": 498,
     "metadata": {},
     "output_type": "execute_result"
    }
   ],
   "source": [
    "df_y_test.head()"
   ]
  },
  {
   "cell_type": "code",
   "execution_count": 499,
   "metadata": {},
   "outputs": [
    {
     "data": {
      "text/html": [
       "<style  type=\"text/css\" >\n",
       "    #T_5af06bc8_e524_11e9_ad64_9cb6d0c3b1c2row0_col0 {\n",
       "            background-color:  #b40426;\n",
       "            color:  #f1f1f1;\n",
       "        }    #T_5af06bc8_e524_11e9_ad64_9cb6d0c3b1c2row0_col1 {\n",
       "            background-color:  #f08a6c;\n",
       "            color:  #000000;\n",
       "        }    #T_5af06bc8_e524_11e9_ad64_9cb6d0c3b1c2row0_col2 {\n",
       "            background-color:  #d0473d;\n",
       "            color:  #f1f1f1;\n",
       "        }    #T_5af06bc8_e524_11e9_ad64_9cb6d0c3b1c2row0_col3 {\n",
       "            background-color:  #d55042;\n",
       "            color:  #000000;\n",
       "        }    #T_5af06bc8_e524_11e9_ad64_9cb6d0c3b1c2row0_col4 {\n",
       "            background-color:  #3b4cc0;\n",
       "            color:  #f1f1f1;\n",
       "        }    #T_5af06bc8_e524_11e9_ad64_9cb6d0c3b1c2row1_col0 {\n",
       "            background-color:  #ec7f63;\n",
       "            color:  #000000;\n",
       "        }    #T_5af06bc8_e524_11e9_ad64_9cb6d0c3b1c2row1_col1 {\n",
       "            background-color:  #b40426;\n",
       "            color:  #f1f1f1;\n",
       "        }    #T_5af06bc8_e524_11e9_ad64_9cb6d0c3b1c2row1_col2 {\n",
       "            background-color:  #e0654f;\n",
       "            color:  #000000;\n",
       "        }    #T_5af06bc8_e524_11e9_ad64_9cb6d0c3b1c2row1_col3 {\n",
       "            background-color:  #d75445;\n",
       "            color:  #000000;\n",
       "        }    #T_5af06bc8_e524_11e9_ad64_9cb6d0c3b1c2row1_col4 {\n",
       "            background-color:  #5d7ce6;\n",
       "            color:  #000000;\n",
       "        }    #T_5af06bc8_e524_11e9_ad64_9cb6d0c3b1c2row2_col0 {\n",
       "            background-color:  #cf453c;\n",
       "            color:  #f1f1f1;\n",
       "        }    #T_5af06bc8_e524_11e9_ad64_9cb6d0c3b1c2row2_col1 {\n",
       "            background-color:  #e36b54;\n",
       "            color:  #000000;\n",
       "        }    #T_5af06bc8_e524_11e9_ad64_9cb6d0c3b1c2row2_col2 {\n",
       "            background-color:  #b40426;\n",
       "            color:  #f1f1f1;\n",
       "        }    #T_5af06bc8_e524_11e9_ad64_9cb6d0c3b1c2row2_col3 {\n",
       "            background-color:  #c12b30;\n",
       "            color:  #f1f1f1;\n",
       "        }    #T_5af06bc8_e524_11e9_ad64_9cb6d0c3b1c2row2_col4 {\n",
       "            background-color:  #4055c8;\n",
       "            color:  #f1f1f1;\n",
       "        }    #T_5af06bc8_e524_11e9_ad64_9cb6d0c3b1c2row3_col0 {\n",
       "            background-color:  #d44e41;\n",
       "            color:  #000000;\n",
       "        }    #T_5af06bc8_e524_11e9_ad64_9cb6d0c3b1c2row3_col1 {\n",
       "            background-color:  #d95847;\n",
       "            color:  #000000;\n",
       "        }    #T_5af06bc8_e524_11e9_ad64_9cb6d0c3b1c2row3_col2 {\n",
       "            background-color:  #c12b30;\n",
       "            color:  #f1f1f1;\n",
       "        }    #T_5af06bc8_e524_11e9_ad64_9cb6d0c3b1c2row3_col3 {\n",
       "            background-color:  #b40426;\n",
       "            color:  #f1f1f1;\n",
       "        }    #T_5af06bc8_e524_11e9_ad64_9cb6d0c3b1c2row3_col4 {\n",
       "            background-color:  #465ecf;\n",
       "            color:  #f1f1f1;\n",
       "        }    #T_5af06bc8_e524_11e9_ad64_9cb6d0c3b1c2row4_col0 {\n",
       "            background-color:  #3b4cc0;\n",
       "            color:  #f1f1f1;\n",
       "        }    #T_5af06bc8_e524_11e9_ad64_9cb6d0c3b1c2row4_col1 {\n",
       "            background-color:  #3b4cc0;\n",
       "            color:  #f1f1f1;\n",
       "        }    #T_5af06bc8_e524_11e9_ad64_9cb6d0c3b1c2row4_col2 {\n",
       "            background-color:  #3b4cc0;\n",
       "            color:  #f1f1f1;\n",
       "        }    #T_5af06bc8_e524_11e9_ad64_9cb6d0c3b1c2row4_col3 {\n",
       "            background-color:  #3b4cc0;\n",
       "            color:  #f1f1f1;\n",
       "        }    #T_5af06bc8_e524_11e9_ad64_9cb6d0c3b1c2row4_col4 {\n",
       "            background-color:  #b40426;\n",
       "            color:  #f1f1f1;\n",
       "        }</style><table id=\"T_5af06bc8_e524_11e9_ad64_9cb6d0c3b1c2\" ><thead>    <tr>        <th class=\"blank level0\" ></th>        <th class=\"col_heading level0 col0\" >OLS</th>        <th class=\"col_heading level0 col1\" >RF</th>        <th class=\"col_heading level0 col2\" >BSV</th>        <th class=\"col_heading level0 col3\" >NN</th>        <th class=\"col_heading level0 col4\" >Y</th>    </tr></thead><tbody>\n",
       "                <tr>\n",
       "                        <th id=\"T_5af06bc8_e524_11e9_ad64_9cb6d0c3b1c2level0_row0\" class=\"row_heading level0 row0\" >OLS</th>\n",
       "                        <td id=\"T_5af06bc8_e524_11e9_ad64_9cb6d0c3b1c2row0_col0\" class=\"data row0 col0\" >1</td>\n",
       "                        <td id=\"T_5af06bc8_e524_11e9_ad64_9cb6d0c3b1c2row0_col1\" class=\"data row0 col1\" >0.88</td>\n",
       "                        <td id=\"T_5af06bc8_e524_11e9_ad64_9cb6d0c3b1c2row0_col2\" class=\"data row0 col2\" >0.95</td>\n",
       "                        <td id=\"T_5af06bc8_e524_11e9_ad64_9cb6d0c3b1c2row0_col3\" class=\"data row0 col3\" >0.94</td>\n",
       "                        <td id=\"T_5af06bc8_e524_11e9_ad64_9cb6d0c3b1c2row0_col4\" class=\"data row0 col4\" >0.37</td>\n",
       "            </tr>\n",
       "            <tr>\n",
       "                        <th id=\"T_5af06bc8_e524_11e9_ad64_9cb6d0c3b1c2level0_row1\" class=\"row_heading level0 row1\" >RF</th>\n",
       "                        <td id=\"T_5af06bc8_e524_11e9_ad64_9cb6d0c3b1c2row1_col0\" class=\"data row1 col0\" >0.88</td>\n",
       "                        <td id=\"T_5af06bc8_e524_11e9_ad64_9cb6d0c3b1c2row1_col1\" class=\"data row1 col1\" >1</td>\n",
       "                        <td id=\"T_5af06bc8_e524_11e9_ad64_9cb6d0c3b1c2row1_col2\" class=\"data row1 col2\" >0.92</td>\n",
       "                        <td id=\"T_5af06bc8_e524_11e9_ad64_9cb6d0c3b1c2row1_col3\" class=\"data row1 col3\" >0.94</td>\n",
       "                        <td id=\"T_5af06bc8_e524_11e9_ad64_9cb6d0c3b1c2row1_col4\" class=\"data row1 col4\" >0.44</td>\n",
       "            </tr>\n",
       "            <tr>\n",
       "                        <th id=\"T_5af06bc8_e524_11e9_ad64_9cb6d0c3b1c2level0_row2\" class=\"row_heading level0 row2\" >BSV</th>\n",
       "                        <td id=\"T_5af06bc8_e524_11e9_ad64_9cb6d0c3b1c2row2_col0\" class=\"data row2 col0\" >0.95</td>\n",
       "                        <td id=\"T_5af06bc8_e524_11e9_ad64_9cb6d0c3b1c2row2_col1\" class=\"data row2 col1\" >0.92</td>\n",
       "                        <td id=\"T_5af06bc8_e524_11e9_ad64_9cb6d0c3b1c2row2_col2\" class=\"data row2 col2\" >1</td>\n",
       "                        <td id=\"T_5af06bc8_e524_11e9_ad64_9cb6d0c3b1c2row2_col3\" class=\"data row2 col3\" >0.98</td>\n",
       "                        <td id=\"T_5af06bc8_e524_11e9_ad64_9cb6d0c3b1c2row2_col4\" class=\"data row2 col4\" >0.38</td>\n",
       "            </tr>\n",
       "            <tr>\n",
       "                        <th id=\"T_5af06bc8_e524_11e9_ad64_9cb6d0c3b1c2level0_row3\" class=\"row_heading level0 row3\" >NN</th>\n",
       "                        <td id=\"T_5af06bc8_e524_11e9_ad64_9cb6d0c3b1c2row3_col0\" class=\"data row3 col0\" >0.94</td>\n",
       "                        <td id=\"T_5af06bc8_e524_11e9_ad64_9cb6d0c3b1c2row3_col1\" class=\"data row3 col1\" >0.94</td>\n",
       "                        <td id=\"T_5af06bc8_e524_11e9_ad64_9cb6d0c3b1c2row3_col2\" class=\"data row3 col2\" >0.98</td>\n",
       "                        <td id=\"T_5af06bc8_e524_11e9_ad64_9cb6d0c3b1c2row3_col3\" class=\"data row3 col3\" >1</td>\n",
       "                        <td id=\"T_5af06bc8_e524_11e9_ad64_9cb6d0c3b1c2row3_col4\" class=\"data row3 col4\" >0.39</td>\n",
       "            </tr>\n",
       "            <tr>\n",
       "                        <th id=\"T_5af06bc8_e524_11e9_ad64_9cb6d0c3b1c2level0_row4\" class=\"row_heading level0 row4\" >Y</th>\n",
       "                        <td id=\"T_5af06bc8_e524_11e9_ad64_9cb6d0c3b1c2row4_col0\" class=\"data row4 col0\" >0.37</td>\n",
       "                        <td id=\"T_5af06bc8_e524_11e9_ad64_9cb6d0c3b1c2row4_col1\" class=\"data row4 col1\" >0.44</td>\n",
       "                        <td id=\"T_5af06bc8_e524_11e9_ad64_9cb6d0c3b1c2row4_col2\" class=\"data row4 col2\" >0.38</td>\n",
       "                        <td id=\"T_5af06bc8_e524_11e9_ad64_9cb6d0c3b1c2row4_col3\" class=\"data row4 col3\" >0.39</td>\n",
       "                        <td id=\"T_5af06bc8_e524_11e9_ad64_9cb6d0c3b1c2row4_col4\" class=\"data row4 col4\" >1</td>\n",
       "            </tr>\n",
       "    </tbody></table>"
      ],
      "text/plain": [
       "<pandas.io.formats.style.Styler at 0x2818db210b8>"
      ]
     },
     "execution_count": 499,
     "metadata": {},
     "output_type": "execute_result"
    }
   ],
   "source": [
    "corr= df_y_train.corr()\n",
    "corr.style.background_gradient(cmap='coolwarm', axis=None)\n",
    "corr.style.background_gradient(cmap='coolwarm').set_precision(2)"
   ]
  },
  {
   "cell_type": "code",
   "execution_count": 500,
   "metadata": {},
   "outputs": [
    {
     "data": {
      "text/html": [
       "<style  type=\"text/css\" >\n",
       "    #T_5af5e646_e524_11e9_8ce4_9cb6d0c3b1c2row0_col0 {\n",
       "            background-color:  #b40426;\n",
       "            color:  #f1f1f1;\n",
       "        }    #T_5af5e646_e524_11e9_8ce4_9cb6d0c3b1c2row0_col1 {\n",
       "            background-color:  #ee8669;\n",
       "            color:  #000000;\n",
       "        }    #T_5af5e646_e524_11e9_8ce4_9cb6d0c3b1c2row0_col2 {\n",
       "            background-color:  #d0473d;\n",
       "            color:  #f1f1f1;\n",
       "        }    #T_5af5e646_e524_11e9_8ce4_9cb6d0c3b1c2row0_col3 {\n",
       "            background-color:  #d55042;\n",
       "            color:  #000000;\n",
       "        }    #T_5af5e646_e524_11e9_8ce4_9cb6d0c3b1c2row0_col4 {\n",
       "            background-color:  #3b4cc0;\n",
       "            color:  #f1f1f1;\n",
       "        }    #T_5af5e646_e524_11e9_8ce4_9cb6d0c3b1c2row1_col0 {\n",
       "            background-color:  #ec7f63;\n",
       "            color:  #000000;\n",
       "        }    #T_5af5e646_e524_11e9_8ce4_9cb6d0c3b1c2row1_col1 {\n",
       "            background-color:  #b40426;\n",
       "            color:  #f1f1f1;\n",
       "        }    #T_5af5e646_e524_11e9_8ce4_9cb6d0c3b1c2row1_col2 {\n",
       "            background-color:  #e0654f;\n",
       "            color:  #000000;\n",
       "        }    #T_5af5e646_e524_11e9_8ce4_9cb6d0c3b1c2row1_col3 {\n",
       "            background-color:  #d75445;\n",
       "            color:  #000000;\n",
       "        }    #T_5af5e646_e524_11e9_8ce4_9cb6d0c3b1c2row1_col4 {\n",
       "            background-color:  #536edd;\n",
       "            color:  #000000;\n",
       "        }    #T_5af5e646_e524_11e9_8ce4_9cb6d0c3b1c2row2_col0 {\n",
       "            background-color:  #cf453c;\n",
       "            color:  #f1f1f1;\n",
       "        }    #T_5af5e646_e524_11e9_8ce4_9cb6d0c3b1c2row2_col1 {\n",
       "            background-color:  #e26952;\n",
       "            color:  #000000;\n",
       "        }    #T_5af5e646_e524_11e9_8ce4_9cb6d0c3b1c2row2_col2 {\n",
       "            background-color:  #b40426;\n",
       "            color:  #f1f1f1;\n",
       "        }    #T_5af5e646_e524_11e9_8ce4_9cb6d0c3b1c2row2_col3 {\n",
       "            background-color:  #c12b30;\n",
       "            color:  #f1f1f1;\n",
       "        }    #T_5af5e646_e524_11e9_8ce4_9cb6d0c3b1c2row2_col4 {\n",
       "            background-color:  #4257c9;\n",
       "            color:  #f1f1f1;\n",
       "        }    #T_5af5e646_e524_11e9_8ce4_9cb6d0c3b1c2row3_col0 {\n",
       "            background-color:  #d44e41;\n",
       "            color:  #000000;\n",
       "        }    #T_5af5e646_e524_11e9_8ce4_9cb6d0c3b1c2row3_col1 {\n",
       "            background-color:  #d85646;\n",
       "            color:  #000000;\n",
       "        }    #T_5af5e646_e524_11e9_8ce4_9cb6d0c3b1c2row3_col2 {\n",
       "            background-color:  #c12b30;\n",
       "            color:  #f1f1f1;\n",
       "        }    #T_5af5e646_e524_11e9_8ce4_9cb6d0c3b1c2row3_col3 {\n",
       "            background-color:  #b40426;\n",
       "            color:  #f1f1f1;\n",
       "        }    #T_5af5e646_e524_11e9_8ce4_9cb6d0c3b1c2row3_col4 {\n",
       "            background-color:  #465ecf;\n",
       "            color:  #f1f1f1;\n",
       "        }    #T_5af5e646_e524_11e9_8ce4_9cb6d0c3b1c2row4_col0 {\n",
       "            background-color:  #3b4cc0;\n",
       "            color:  #f1f1f1;\n",
       "        }    #T_5af5e646_e524_11e9_8ce4_9cb6d0c3b1c2row4_col1 {\n",
       "            background-color:  #3b4cc0;\n",
       "            color:  #f1f1f1;\n",
       "        }    #T_5af5e646_e524_11e9_8ce4_9cb6d0c3b1c2row4_col2 {\n",
       "            background-color:  #3b4cc0;\n",
       "            color:  #f1f1f1;\n",
       "        }    #T_5af5e646_e524_11e9_8ce4_9cb6d0c3b1c2row4_col3 {\n",
       "            background-color:  #3b4cc0;\n",
       "            color:  #f1f1f1;\n",
       "        }    #T_5af5e646_e524_11e9_8ce4_9cb6d0c3b1c2row4_col4 {\n",
       "            background-color:  #b40426;\n",
       "            color:  #f1f1f1;\n",
       "        }</style><table id=\"T_5af5e646_e524_11e9_8ce4_9cb6d0c3b1c2\" ><thead>    <tr>        <th class=\"blank level0\" ></th>        <th class=\"col_heading level0 col0\" >OLS</th>        <th class=\"col_heading level0 col1\" >RF</th>        <th class=\"col_heading level0 col2\" >BSV</th>        <th class=\"col_heading level0 col3\" >NN</th>        <th class=\"col_heading level0 col4\" >Y</th>    </tr></thead><tbody>\n",
       "                <tr>\n",
       "                        <th id=\"T_5af5e646_e524_11e9_8ce4_9cb6d0c3b1c2level0_row0\" class=\"row_heading level0 row0\" >OLS</th>\n",
       "                        <td id=\"T_5af5e646_e524_11e9_8ce4_9cb6d0c3b1c2row0_col0\" class=\"data row0 col0\" >1</td>\n",
       "                        <td id=\"T_5af5e646_e524_11e9_8ce4_9cb6d0c3b1c2row0_col1\" class=\"data row0 col1\" >0.88</td>\n",
       "                        <td id=\"T_5af5e646_e524_11e9_8ce4_9cb6d0c3b1c2row0_col2\" class=\"data row0 col2\" >0.95</td>\n",
       "                        <td id=\"T_5af5e646_e524_11e9_8ce4_9cb6d0c3b1c2row0_col3\" class=\"data row0 col3\" >0.94</td>\n",
       "                        <td id=\"T_5af5e646_e524_11e9_8ce4_9cb6d0c3b1c2row0_col4\" class=\"data row0 col4\" >0.37</td>\n",
       "            </tr>\n",
       "            <tr>\n",
       "                        <th id=\"T_5af5e646_e524_11e9_8ce4_9cb6d0c3b1c2level0_row1\" class=\"row_heading level0 row1\" >RF</th>\n",
       "                        <td id=\"T_5af5e646_e524_11e9_8ce4_9cb6d0c3b1c2row1_col0\" class=\"data row1 col0\" >0.88</td>\n",
       "                        <td id=\"T_5af5e646_e524_11e9_8ce4_9cb6d0c3b1c2row1_col1\" class=\"data row1 col1\" >1</td>\n",
       "                        <td id=\"T_5af5e646_e524_11e9_8ce4_9cb6d0c3b1c2row1_col2\" class=\"data row1 col2\" >0.92</td>\n",
       "                        <td id=\"T_5af5e646_e524_11e9_8ce4_9cb6d0c3b1c2row1_col3\" class=\"data row1 col3\" >0.94</td>\n",
       "                        <td id=\"T_5af5e646_e524_11e9_8ce4_9cb6d0c3b1c2row1_col4\" class=\"data row1 col4\" >0.42</td>\n",
       "            </tr>\n",
       "            <tr>\n",
       "                        <th id=\"T_5af5e646_e524_11e9_8ce4_9cb6d0c3b1c2level0_row2\" class=\"row_heading level0 row2\" >BSV</th>\n",
       "                        <td id=\"T_5af5e646_e524_11e9_8ce4_9cb6d0c3b1c2row2_col0\" class=\"data row2 col0\" >0.95</td>\n",
       "                        <td id=\"T_5af5e646_e524_11e9_8ce4_9cb6d0c3b1c2row2_col1\" class=\"data row2 col1\" >0.92</td>\n",
       "                        <td id=\"T_5af5e646_e524_11e9_8ce4_9cb6d0c3b1c2row2_col2\" class=\"data row2 col2\" >1</td>\n",
       "                        <td id=\"T_5af5e646_e524_11e9_8ce4_9cb6d0c3b1c2row2_col3\" class=\"data row2 col3\" >0.98</td>\n",
       "                        <td id=\"T_5af5e646_e524_11e9_8ce4_9cb6d0c3b1c2row2_col4\" class=\"data row2 col4\" >0.39</td>\n",
       "            </tr>\n",
       "            <tr>\n",
       "                        <th id=\"T_5af5e646_e524_11e9_8ce4_9cb6d0c3b1c2level0_row3\" class=\"row_heading level0 row3\" >NN</th>\n",
       "                        <td id=\"T_5af5e646_e524_11e9_8ce4_9cb6d0c3b1c2row3_col0\" class=\"data row3 col0\" >0.94</td>\n",
       "                        <td id=\"T_5af5e646_e524_11e9_8ce4_9cb6d0c3b1c2row3_col1\" class=\"data row3 col1\" >0.94</td>\n",
       "                        <td id=\"T_5af5e646_e524_11e9_8ce4_9cb6d0c3b1c2row3_col2\" class=\"data row3 col2\" >0.98</td>\n",
       "                        <td id=\"T_5af5e646_e524_11e9_8ce4_9cb6d0c3b1c2row3_col3\" class=\"data row3 col3\" >1</td>\n",
       "                        <td id=\"T_5af5e646_e524_11e9_8ce4_9cb6d0c3b1c2row3_col4\" class=\"data row3 col4\" >0.4</td>\n",
       "            </tr>\n",
       "            <tr>\n",
       "                        <th id=\"T_5af5e646_e524_11e9_8ce4_9cb6d0c3b1c2level0_row4\" class=\"row_heading level0 row4\" >Y</th>\n",
       "                        <td id=\"T_5af5e646_e524_11e9_8ce4_9cb6d0c3b1c2row4_col0\" class=\"data row4 col0\" >0.37</td>\n",
       "                        <td id=\"T_5af5e646_e524_11e9_8ce4_9cb6d0c3b1c2row4_col1\" class=\"data row4 col1\" >0.42</td>\n",
       "                        <td id=\"T_5af5e646_e524_11e9_8ce4_9cb6d0c3b1c2row4_col2\" class=\"data row4 col2\" >0.39</td>\n",
       "                        <td id=\"T_5af5e646_e524_11e9_8ce4_9cb6d0c3b1c2row4_col3\" class=\"data row4 col3\" >0.4</td>\n",
       "                        <td id=\"T_5af5e646_e524_11e9_8ce4_9cb6d0c3b1c2row4_col4\" class=\"data row4 col4\" >1</td>\n",
       "            </tr>\n",
       "    </tbody></table>"
      ],
      "text/plain": [
       "<pandas.io.formats.style.Styler at 0x2818f52ab00>"
      ]
     },
     "execution_count": 500,
     "metadata": {},
     "output_type": "execute_result"
    }
   ],
   "source": [
    "corr= df_y_test.corr()\n",
    "corr.style.background_gradient(cmap='coolwarm', axis=None)\n",
    "corr.style.background_gradient(cmap='coolwarm').set_precision(2)"
   ]
  },
  {
   "cell_type": "code",
   "execution_count": 501,
   "metadata": {},
   "outputs": [
    {
     "data": {
      "text/html": [
       "<style  type=\"text/css\" >\n",
       "    #T_5afa7700_e524_11e9_a9e9_9cb6d0c3b1c2row0_col0 {\n",
       "            background-color:  #b40426;\n",
       "            color:  #f1f1f1;\n",
       "        }    #T_5afa7700_e524_11e9_a9e9_9cb6d0c3b1c2row0_col1 {\n",
       "            background-color:  #3b4cc0;\n",
       "            color:  #f1f1f1;\n",
       "        }    #T_5afa7700_e524_11e9_a9e9_9cb6d0c3b1c2row0_col2 {\n",
       "            background-color:  #c3d5f4;\n",
       "            color:  #000000;\n",
       "        }    #T_5afa7700_e524_11e9_a9e9_9cb6d0c3b1c2row0_col3 {\n",
       "            background-color:  #536edd;\n",
       "            color:  #000000;\n",
       "        }    #T_5afa7700_e524_11e9_a9e9_9cb6d0c3b1c2row1_col0 {\n",
       "            background-color:  #3b4cc0;\n",
       "            color:  #f1f1f1;\n",
       "        }    #T_5afa7700_e524_11e9_a9e9_9cb6d0c3b1c2row1_col1 {\n",
       "            background-color:  #b40426;\n",
       "            color:  #f1f1f1;\n",
       "        }    #T_5afa7700_e524_11e9_a9e9_9cb6d0c3b1c2row1_col2 {\n",
       "            background-color:  #3b4cc0;\n",
       "            color:  #f1f1f1;\n",
       "        }    #T_5afa7700_e524_11e9_a9e9_9cb6d0c3b1c2row1_col3 {\n",
       "            background-color:  #3b4cc0;\n",
       "            color:  #f1f1f1;\n",
       "        }    #T_5afa7700_e524_11e9_a9e9_9cb6d0c3b1c2row2_col0 {\n",
       "            background-color:  #f0cdbb;\n",
       "            color:  #000000;\n",
       "        }    #T_5afa7700_e524_11e9_a9e9_9cb6d0c3b1c2row2_col1 {\n",
       "            background-color:  #9ebeff;\n",
       "            color:  #000000;\n",
       "        }    #T_5afa7700_e524_11e9_a9e9_9cb6d0c3b1c2row2_col2 {\n",
       "            background-color:  #b40426;\n",
       "            color:  #f1f1f1;\n",
       "        }    #T_5afa7700_e524_11e9_a9e9_9cb6d0c3b1c2row2_col3 {\n",
       "            background-color:  #f6bda2;\n",
       "            color:  #000000;\n",
       "        }    #T_5afa7700_e524_11e9_a9e9_9cb6d0c3b1c2row3_col0 {\n",
       "            background-color:  #e0dbd8;\n",
       "            color:  #000000;\n",
       "        }    #T_5afa7700_e524_11e9_a9e9_9cb6d0c3b1c2row3_col1 {\n",
       "            background-color:  #d5dbe5;\n",
       "            color:  #000000;\n",
       "        }    #T_5afa7700_e524_11e9_a9e9_9cb6d0c3b1c2row3_col2 {\n",
       "            background-color:  #f59f80;\n",
       "            color:  #000000;\n",
       "        }    #T_5afa7700_e524_11e9_a9e9_9cb6d0c3b1c2row3_col3 {\n",
       "            background-color:  #b40426;\n",
       "            color:  #f1f1f1;\n",
       "        }</style><table id=\"T_5afa7700_e524_11e9_a9e9_9cb6d0c3b1c2\" ><thead>    <tr>        <th class=\"blank level0\" ></th>        <th class=\"col_heading level0 col0\" >OLS</th>        <th class=\"col_heading level0 col1\" >RF</th>        <th class=\"col_heading level0 col2\" >BSV</th>        <th class=\"col_heading level0 col3\" >NN</th>    </tr></thead><tbody>\n",
       "                <tr>\n",
       "                        <th id=\"T_5afa7700_e524_11e9_a9e9_9cb6d0c3b1c2level0_row0\" class=\"row_heading level0 row0\" >OLS</th>\n",
       "                        <td id=\"T_5afa7700_e524_11e9_a9e9_9cb6d0c3b1c2row0_col0\" class=\"data row0 col0\" >1</td>\n",
       "                        <td id=\"T_5afa7700_e524_11e9_a9e9_9cb6d0c3b1c2row0_col1\" class=\"data row0 col1\" >0.88</td>\n",
       "                        <td id=\"T_5afa7700_e524_11e9_a9e9_9cb6d0c3b1c2row0_col2\" class=\"data row0 col2\" >0.95</td>\n",
       "                        <td id=\"T_5afa7700_e524_11e9_a9e9_9cb6d0c3b1c2row0_col3\" class=\"data row0 col3\" >0.94</td>\n",
       "            </tr>\n",
       "            <tr>\n",
       "                        <th id=\"T_5afa7700_e524_11e9_a9e9_9cb6d0c3b1c2level0_row1\" class=\"row_heading level0 row1\" >RF</th>\n",
       "                        <td id=\"T_5afa7700_e524_11e9_a9e9_9cb6d0c3b1c2row1_col0\" class=\"data row1 col0\" >0.88</td>\n",
       "                        <td id=\"T_5afa7700_e524_11e9_a9e9_9cb6d0c3b1c2row1_col1\" class=\"data row1 col1\" >1</td>\n",
       "                        <td id=\"T_5afa7700_e524_11e9_a9e9_9cb6d0c3b1c2row1_col2\" class=\"data row1 col2\" >0.92</td>\n",
       "                        <td id=\"T_5afa7700_e524_11e9_a9e9_9cb6d0c3b1c2row1_col3\" class=\"data row1 col3\" >0.94</td>\n",
       "            </tr>\n",
       "            <tr>\n",
       "                        <th id=\"T_5afa7700_e524_11e9_a9e9_9cb6d0c3b1c2level0_row2\" class=\"row_heading level0 row2\" >BSV</th>\n",
       "                        <td id=\"T_5afa7700_e524_11e9_a9e9_9cb6d0c3b1c2row2_col0\" class=\"data row2 col0\" >0.95</td>\n",
       "                        <td id=\"T_5afa7700_e524_11e9_a9e9_9cb6d0c3b1c2row2_col1\" class=\"data row2 col1\" >0.92</td>\n",
       "                        <td id=\"T_5afa7700_e524_11e9_a9e9_9cb6d0c3b1c2row2_col2\" class=\"data row2 col2\" >1</td>\n",
       "                        <td id=\"T_5afa7700_e524_11e9_a9e9_9cb6d0c3b1c2row2_col3\" class=\"data row2 col3\" >0.98</td>\n",
       "            </tr>\n",
       "            <tr>\n",
       "                        <th id=\"T_5afa7700_e524_11e9_a9e9_9cb6d0c3b1c2level0_row3\" class=\"row_heading level0 row3\" >NN</th>\n",
       "                        <td id=\"T_5afa7700_e524_11e9_a9e9_9cb6d0c3b1c2row3_col0\" class=\"data row3 col0\" >0.94</td>\n",
       "                        <td id=\"T_5afa7700_e524_11e9_a9e9_9cb6d0c3b1c2row3_col1\" class=\"data row3 col1\" >0.94</td>\n",
       "                        <td id=\"T_5afa7700_e524_11e9_a9e9_9cb6d0c3b1c2row3_col2\" class=\"data row3 col2\" >0.98</td>\n",
       "                        <td id=\"T_5afa7700_e524_11e9_a9e9_9cb6d0c3b1c2row3_col3\" class=\"data row3 col3\" >1</td>\n",
       "            </tr>\n",
       "    </tbody></table>"
      ],
      "text/plain": [
       "<pandas.io.formats.style.Styler at 0x2818d2aee80>"
      ]
     },
     "execution_count": 501,
     "metadata": {},
     "output_type": "execute_result"
    }
   ],
   "source": [
    "corrXGB=df_y_train.drop('Y', 1).corr()\n",
    "corrXGB.style.background_gradient(cmap='coolwarm', axis=None)\n",
    "corrXGB.style.background_gradient(cmap='coolwarm').set_precision(2)"
   ]
  },
  {
   "cell_type": "code",
   "execution_count": 502,
   "metadata": {},
   "outputs": [
    {
     "data": {
      "text/plain": [
       "0.0004947926809609883"
      ]
     },
     "execution_count": 502,
     "metadata": {},
     "output_type": "execute_result"
    }
   ],
   "source": [
    "np.linalg.det(corrXGB)"
   ]
  },
  {
   "cell_type": "markdown",
   "metadata": {},
   "source": [
    "## XGBoost from models outputs"
   ]
  },
  {
   "cell_type": "code",
   "execution_count": 503,
   "metadata": {},
   "outputs": [],
   "source": [
    "df_y = pd.concat([df_y_train, df_y_test], axis=0)"
   ]
  },
  {
   "cell_type": "code",
   "execution_count": 504,
   "metadata": {},
   "outputs": [
    {
     "data": {
      "text/html": [
       "<div>\n",
       "<style scoped>\n",
       "    .dataframe tbody tr th:only-of-type {\n",
       "        vertical-align: middle;\n",
       "    }\n",
       "\n",
       "    .dataframe tbody tr th {\n",
       "        vertical-align: top;\n",
       "    }\n",
       "\n",
       "    .dataframe thead th {\n",
       "        text-align: right;\n",
       "    }\n",
       "</style>\n",
       "<table border=\"1\" class=\"dataframe\">\n",
       "  <thead>\n",
       "    <tr style=\"text-align: right;\">\n",
       "      <th></th>\n",
       "      <th>OLS</th>\n",
       "      <th>RF</th>\n",
       "      <th>BSV</th>\n",
       "      <th>NN</th>\n",
       "      <th>Y</th>\n",
       "    </tr>\n",
       "  </thead>\n",
       "  <tbody>\n",
       "    <tr>\n",
       "      <th>0</th>\n",
       "      <td>12.620191</td>\n",
       "      <td>13.242765</td>\n",
       "      <td>12.534775</td>\n",
       "      <td>12.897756</td>\n",
       "      <td>10</td>\n",
       "    </tr>\n",
       "    <tr>\n",
       "      <th>1</th>\n",
       "      <td>12.699633</td>\n",
       "      <td>13.166908</td>\n",
       "      <td>12.260431</td>\n",
       "      <td>12.764988</td>\n",
       "      <td>10</td>\n",
       "    </tr>\n",
       "    <tr>\n",
       "      <th>2</th>\n",
       "      <td>12.524009</td>\n",
       "      <td>12.671385</td>\n",
       "      <td>12.475266</td>\n",
       "      <td>12.887505</td>\n",
       "      <td>11</td>\n",
       "    </tr>\n",
       "    <tr>\n",
       "      <th>3</th>\n",
       "      <td>13.709681</td>\n",
       "      <td>13.719343</td>\n",
       "      <td>14.113602</td>\n",
       "      <td>13.867310</td>\n",
       "      <td>10</td>\n",
       "    </tr>\n",
       "    <tr>\n",
       "      <th>4</th>\n",
       "      <td>13.430382</td>\n",
       "      <td>12.805789</td>\n",
       "      <td>13.369796</td>\n",
       "      <td>13.468286</td>\n",
       "      <td>13</td>\n",
       "    </tr>\n",
       "  </tbody>\n",
       "</table>\n",
       "</div>"
      ],
      "text/plain": [
       "         OLS         RF        BSV         NN   Y\n",
       "0  12.620191  13.242765  12.534775  12.897756  10\n",
       "1  12.699633  13.166908  12.260431  12.764988  10\n",
       "2  12.524009  12.671385  12.475266  12.887505  11\n",
       "3  13.709681  13.719343  14.113602  13.867310  10\n",
       "4  13.430382  12.805789  13.369796  13.468286  13"
      ]
     },
     "execution_count": 504,
     "metadata": {},
     "output_type": "execute_result"
    }
   ],
   "source": [
    "df_y.head()"
   ]
  },
  {
   "cell_type": "code",
   "execution_count": 505,
   "metadata": {},
   "outputs": [
    {
     "data": {
      "text/plain": [
       "(139005, 5)"
      ]
     },
     "execution_count": 505,
     "metadata": {},
     "output_type": "execute_result"
    }
   ],
   "source": [
    "df_y.shape"
   ]
  },
  {
   "cell_type": "code",
   "execution_count": 506,
   "metadata": {},
   "outputs": [],
   "source": [
    "l=df_y.shape[1]-1\n",
    "XY = df_y.iloc[:, :l]\n",
    "XY.columns\n",
    "yy = df_y.iloc[:, -1]\n",
    "yy = yy.to_numpy()\n",
    "yy=yy.reshape(-1,1)"
   ]
  },
  {
   "cell_type": "code",
   "execution_count": 507,
   "metadata": {},
   "outputs": [
    {
     "data": {
      "text/plain": [
       "4"
      ]
     },
     "execution_count": 507,
     "metadata": {},
     "output_type": "execute_result"
    }
   ],
   "source": [
    "len(XY.T)"
   ]
  },
  {
   "cell_type": "code",
   "execution_count": 508,
   "metadata": {},
   "outputs": [],
   "source": [
    "yy_train= yy[0:df_y_train.shape[0]]\n",
    "yy_test=yy[df_y_train.shape[0]:]"
   ]
  },
  {
   "cell_type": "code",
   "execution_count": 509,
   "metadata": {},
   "outputs": [
    {
     "data": {
      "text/plain": [
       "97303"
      ]
     },
     "execution_count": 509,
     "metadata": {},
     "output_type": "execute_result"
    }
   ],
   "source": [
    "len(yy_train)"
   ]
  },
  {
   "cell_type": "code",
   "execution_count": 510,
   "metadata": {},
   "outputs": [
    {
     "data": {
      "text/plain": [
       "41702"
      ]
     },
     "execution_count": 510,
     "metadata": {},
     "output_type": "execute_result"
    }
   ],
   "source": [
    "len(yy_test)"
   ]
  },
  {
   "cell_type": "code",
   "execution_count": 511,
   "metadata": {},
   "outputs": [],
   "source": [
    "XY_train=XY.iloc[0:df_y_train.shape[0],:]\n",
    "XY_test=XY.iloc[df_y_train.shape[0]:,:]"
   ]
  },
  {
   "cell_type": "code",
   "execution_count": 512,
   "metadata": {},
   "outputs": [
    {
     "data": {
      "text/plain": [
       "(97303, 4)"
      ]
     },
     "execution_count": 512,
     "metadata": {},
     "output_type": "execute_result"
    }
   ],
   "source": [
    "XY_train.shape"
   ]
  },
  {
   "cell_type": "code",
   "execution_count": 513,
   "metadata": {},
   "outputs": [
    {
     "data": {
      "text/plain": [
       "(41702, 4)"
      ]
     },
     "execution_count": 513,
     "metadata": {},
     "output_type": "execute_result"
    }
   ],
   "source": [
    "XY_test.shape"
   ]
  },
  {
   "cell_type": "code",
   "execution_count": 514,
   "metadata": {},
   "outputs": [],
   "source": [
    "XY_std = sc.fit(XY_train)"
   ]
  },
  {
   "cell_type": "code",
   "execution_count": 515,
   "metadata": {},
   "outputs": [],
   "source": [
    "XY_train_std = XY_std.transform(XY_train)\n",
    "XY_test_std = XY_std.transform(XY_test)"
   ]
  },
  {
   "cell_type": "code",
   "execution_count": 516,
   "metadata": {},
   "outputs": [],
   "source": [
    "from sklearn.decomposition import PCA"
   ]
  },
  {
   "cell_type": "code",
   "execution_count": 517,
   "metadata": {},
   "outputs": [
    {
     "data": {
      "text/plain": [
       "PCA(copy=True, iterated_power='auto', n_components=None, random_state=None,\n",
       "    svd_solver='auto', tol=0.0, whiten=False)"
      ]
     },
     "execution_count": 517,
     "metadata": {},
     "output_type": "execute_result"
    }
   ],
   "source": [
    "pca_train = PCA()\n",
    "pca_train.fit(XY_train_std)"
   ]
  },
  {
   "cell_type": "code",
   "execution_count": 518,
   "metadata": {},
   "outputs": [
    {
     "name": "stdout",
     "output_type": "stream",
     "text": [
      "[0.95 0.03 0.01 0.  ]\n"
     ]
    }
   ],
   "source": [
    "print(np.round(pca_train.explained_variance_ratio_,2))"
   ]
  },
  {
   "cell_type": "code",
   "execution_count": 519,
   "metadata": {},
   "outputs": [
    {
     "data": {
      "text/plain": [
       "PCA(copy=True, iterated_power='auto', n_components=4, random_state=42,\n",
       "    svd_solver='auto', tol=0.0, whiten=False)"
      ]
     },
     "execution_count": 519,
     "metadata": {},
     "output_type": "execute_result"
    }
   ],
   "source": [
    "pca_train = PCA(n_components=4, random_state=42)\n",
    "pca_train.fit(XY_train_std)"
   ]
  },
  {
   "cell_type": "code",
   "execution_count": 520,
   "metadata": {},
   "outputs": [
    {
     "data": {
      "text/html": [
       "<div>\n",
       "<style scoped>\n",
       "    .dataframe tbody tr th:only-of-type {\n",
       "        vertical-align: middle;\n",
       "    }\n",
       "\n",
       "    .dataframe tbody tr th {\n",
       "        vertical-align: top;\n",
       "    }\n",
       "\n",
       "    .dataframe thead th {\n",
       "        text-align: right;\n",
       "    }\n",
       "</style>\n",
       "<table border=\"1\" class=\"dataframe\">\n",
       "  <thead>\n",
       "    <tr style=\"text-align: right;\">\n",
       "      <th></th>\n",
       "      <th>PC1</th>\n",
       "      <th>PC2</th>\n",
       "      <th>PC3</th>\n",
       "      <th>PC4</th>\n",
       "    </tr>\n",
       "  </thead>\n",
       "  <tbody>\n",
       "    <tr>\n",
       "      <th>0</th>\n",
       "      <td>0.413820</td>\n",
       "      <td>0.395441</td>\n",
       "      <td>-0.065334</td>\n",
       "      <td>-0.085852</td>\n",
       "    </tr>\n",
       "    <tr>\n",
       "      <th>1</th>\n",
       "      <td>0.563674</td>\n",
       "      <td>0.352222</td>\n",
       "      <td>-0.238409</td>\n",
       "      <td>-0.159302</td>\n",
       "    </tr>\n",
       "    <tr>\n",
       "      <th>2</th>\n",
       "      <td>0.690447</td>\n",
       "      <td>0.113395</td>\n",
       "      <td>0.109444</td>\n",
       "      <td>-0.158802</td>\n",
       "    </tr>\n",
       "    <tr>\n",
       "      <th>3</th>\n",
       "      <td>-1.188847</td>\n",
       "      <td>-0.085979</td>\n",
       "      <td>0.159572</td>\n",
       "      <td>0.138344</td>\n",
       "    </tr>\n",
       "    <tr>\n",
       "      <th>4</th>\n",
       "      <td>-0.300583</td>\n",
       "      <td>-0.380472</td>\n",
       "      <td>0.127508</td>\n",
       "      <td>-0.078605</td>\n",
       "    </tr>\n",
       "  </tbody>\n",
       "</table>\n",
       "</div>"
      ],
      "text/plain": [
       "        PC1       PC2       PC3       PC4\n",
       "0  0.413820  0.395441 -0.065334 -0.085852\n",
       "1  0.563674  0.352222 -0.238409 -0.159302\n",
       "2  0.690447  0.113395  0.109444 -0.158802\n",
       "3 -1.188847 -0.085979  0.159572  0.138344\n",
       "4 -0.300583 -0.380472  0.127508 -0.078605"
      ]
     },
     "execution_count": 520,
     "metadata": {},
     "output_type": "execute_result"
    }
   ],
   "source": [
    "pca_XY_train = pca_train.transform(XY_train_std)\n",
    "PCAXY_train = pd.DataFrame(data = pca_XY_train\n",
    "             , columns = ['PC1', 'PC2', 'PC3', 'PC4'])\n",
    "PCAXY_train.head()"
   ]
  },
  {
   "cell_type": "code",
   "execution_count": 521,
   "metadata": {},
   "outputs": [
    {
     "data": {
      "text/html": [
       "<div>\n",
       "<style scoped>\n",
       "    .dataframe tbody tr th:only-of-type {\n",
       "        vertical-align: middle;\n",
       "    }\n",
       "\n",
       "    .dataframe tbody tr th {\n",
       "        vertical-align: top;\n",
       "    }\n",
       "\n",
       "    .dataframe thead th {\n",
       "        text-align: right;\n",
       "    }\n",
       "</style>\n",
       "<table border=\"1\" class=\"dataframe\">\n",
       "  <thead>\n",
       "    <tr style=\"text-align: right;\">\n",
       "      <th></th>\n",
       "      <th>PC1</th>\n",
       "      <th>PC2</th>\n",
       "      <th>PC3</th>\n",
       "      <th>PC4</th>\n",
       "    </tr>\n",
       "  </thead>\n",
       "  <tbody>\n",
       "    <tr>\n",
       "      <th>0</th>\n",
       "      <td>1.476638</td>\n",
       "      <td>-0.271948</td>\n",
       "      <td>0.011093</td>\n",
       "      <td>-0.113101</td>\n",
       "    </tr>\n",
       "    <tr>\n",
       "      <th>1</th>\n",
       "      <td>3.365746</td>\n",
       "      <td>-0.143153</td>\n",
       "      <td>-0.062684</td>\n",
       "      <td>-0.021820</td>\n",
       "    </tr>\n",
       "    <tr>\n",
       "      <th>2</th>\n",
       "      <td>2.339387</td>\n",
       "      <td>0.285773</td>\n",
       "      <td>-0.269497</td>\n",
       "      <td>0.132583</td>\n",
       "    </tr>\n",
       "    <tr>\n",
       "      <th>3</th>\n",
       "      <td>1.198643</td>\n",
       "      <td>-0.099975</td>\n",
       "      <td>-0.055472</td>\n",
       "      <td>0.036578</td>\n",
       "    </tr>\n",
       "    <tr>\n",
       "      <th>4</th>\n",
       "      <td>0.678205</td>\n",
       "      <td>0.486981</td>\n",
       "      <td>-0.299086</td>\n",
       "      <td>0.126329</td>\n",
       "    </tr>\n",
       "  </tbody>\n",
       "</table>\n",
       "</div>"
      ],
      "text/plain": [
       "        PC1       PC2       PC3       PC4\n",
       "0  1.476638 -0.271948  0.011093 -0.113101\n",
       "1  3.365746 -0.143153 -0.062684 -0.021820\n",
       "2  2.339387  0.285773 -0.269497  0.132583\n",
       "3  1.198643 -0.099975 -0.055472  0.036578\n",
       "4  0.678205  0.486981 -0.299086  0.126329"
      ]
     },
     "execution_count": 521,
     "metadata": {},
     "output_type": "execute_result"
    }
   ],
   "source": [
    "pca_XY_test = pca_train.transform(XY_test_std)\n",
    "PCAXY_test = pd.DataFrame(data = pca_XY_test\n",
    "             , columns = ['PC1', 'PC2', 'PC3', 'PC4'])\n",
    "PCAXY_test.head()"
   ]
  },
  {
   "cell_type": "code",
   "execution_count": 522,
   "metadata": {},
   "outputs": [],
   "source": [
    "import xgboost as xgb"
   ]
  },
  {
   "cell_type": "raw",
   "metadata": {},
   "source": [
    "Implementation of the scikit-learn API for XGBoost regression.\n",
    "ParametersXGBoost regression\n",
    "max_depth (int) – Maximum tree depth for base learners.\n",
    "learning_rate (float) – Boosting learning rate (xgb’s “eta”)\n",
    "n_estimators (int) – Number of trees to fit.\n",
    "verbosity (int) – The degree of verbosity. Valid values are 0 (silent) - 3 (debug).\n",
    "silent (boolean) – Whether to print messages while running boosting. Deprecated. Use verbosity instead.\n",
    "objective (string or callable) – Specify the learning task and the corresponding learning objective or a custom objective function to be used (see note below).\n",
    "booster (string) – Specify which booster to use: gbtree, gblinear or dart.\n",
    "n_jobs (int) – Number of parallel threads used to run xgboost. (replaces nthread)\n",
    "gamma (float) – Minimum loss reduction required to make a further partition on a leaf node of the tree.\n",
    "min_child_weight (int) – Minimum sum of instance weight(hessian) needed in a child.\n",
    "max_delta_step (int) – Maximum delta step we allow each tree’s weight estimation to be.\n",
    "subsample (float) – Subsample ratio of the training instance.\n",
    "colsample_bytree (float) – Subsample ratio of columns when constructing each tree.\n",
    "colsample_bylevel (float) – Subsample ratio of columns for each level.\n",
    "colsample_bynode (float) – Subsample ratio of columns for each split.\n",
    "reg_alpha (float (xgb's alpha)) – L1 regularization term on weights\n",
    "reg_lambda (float (xgb's lambda)) – L2 regularization term on weights\n",
    "scale_pos_weight (float) – Balancing of positive and negative weights.\n",
    "base_score – The initial prediction score of all instances, global bias.\n",
    "random_state (int) – Random number seed. (replaces seed)\n",
    "missing (float, optional) – Value in the data which needs to be present as a missing value. If None, defaults to np.nan.\n",
    "importance_type (string, default \"gain\") – The feature importance type for the feature_importances_ property: either “gain”, “weight”, “cover”, “total_gain” or “total_cover”."
   ]
  },
  {
   "cell_type": "raw",
   "metadata": {},
   "source": [
    "Parameters chosen for gridsearchcv:\n",
    "max_depth (int) – Maximum tree depth for base learners.\n",
    "learning_rate (float) – Boosting learning rate (xgb’s “eta”)\n",
    "n_estimators (int) – Number of trees to fit.\n",
    "reg_lambda (float (xgb's lambda)) – L2 regularization term on weights."
   ]
  },
  {
   "cell_type": "raw",
   "metadata": {},
   "source": [
    "xgb_rgr = xgb.XGBRegressor(max_depth=4, learning_rate=0.05, n_estimators=200,\n",
    "                           verbosity=1, objective='reg:squarederror',\n",
    "                           booster='gbtree', n_jobs=-1, gamma=0,\n",
    "                           min_child_weight=1, max_delta_step=0, subsample=0.6,\n",
    "                           colsample_bytree=1, colsample_bylevel=1, colsample_bynode=1,\n",
    "                           reg_alpha=0, reg_lambda=1.5, scale_pos_weight=1, base_score=0.5,\n",
    "                           random_state=42, seed=None, missing=None, importance_type='gain')\n"
   ]
  },
  {
   "cell_type": "raw",
   "metadata": {},
   "source": [
    "md=[2,4,6,8,10]\n",
    "lr=[0.01, 0.05, 0.1, 0.5, 0.9]\n",
    "ne=[20, 50,100,200,500]\n",
    "rl=[0.1,0.5,1,1.5,2.5,5,10,15]\n",
    "ss=[0.5,0.6,0.7,0.8,0.9,1]\n",
    "params_xgb = [{'max_depth': md,'learning_rate': lr, 'n_estimators': ne, 'reg_lambda': rl, 'subsample': ss}]\n",
    "#params_xgb = [{'max_depth': md,'learning_rate': lr, 'n_estimators': ne, 'reg_lambda': rl, 'subsample': ss}]\n",
    "#min_child_weight=0.02*df.shape[0]"
   ]
  },
  {
   "cell_type": "raw",
   "metadata": {},
   "source": [
    "xgb_rgr_grid = GridSearchCV(xgb_rgr, params_xgb,\n",
    "                           n_jobs=-1, cv=5,\n",
    "                          verbose=1, scoring='r2', return_train_score=True)\n"
   ]
  },
  {
   "cell_type": "raw",
   "metadata": {},
   "source": [
    "xgb_rgr_grid.fit(PCAXY_train, yy_train.ravel())\n",
    "xgb_rgr_grid.best_score_\n",
    "Verbose:\n",
    "Fitting 5 folds for each of 6000 candidates, totalling 30000 fits\n",
    "[Parallel(n_jobs=-1)]: Done 30000 out of 30000 | elapsed: 263.6min finished\n",
    "0.2426566288833661"
   ]
  },
  {
   "cell_type": "raw",
   "metadata": {},
   "source": [
    "xgb_rgr_grid.best_estimator_.get_params()\n",
    "{'base_score': 0.5,\n",
    " 'booster': 'gbtree',\n",
    " 'colsample_bylevel': 1,\n",
    " 'colsample_bynode': 1,\n",
    " 'colsample_bytree': 1,\n",
    " 'gamma': 0,\n",
    " 'importance_type': 'gain',\n",
    " 'learning_rate': 0.05,\n",
    " 'max_delta_step': 0,\n",
    " 'max_depth': 4,\n",
    " 'min_child_weight': 1,\n",
    " 'missing': None,\n",
    " 'n_estimators': 200,\n",
    " 'n_jobs': -1,\n",
    " 'nthread': None,\n",
    " 'objective': 'reg:squarederror',\n",
    " 'random_state': 42,\n",
    " 'reg_alpha': 0,\n",
    " 'reg_lambda': 1.5,\n",
    " 'scale_pos_weight': 1,\n",
    " 'seed': None,\n",
    " 'silent': None,\n",
    " 'subsample': 0.6,\n",
    " 'verbosity': 1}"
   ]
  },
  {
   "cell_type": "raw",
   "metadata": {},
   "source": [
    "xgb_rgr_grid.cv_results_"
   ]
  },
  {
   "cell_type": "raw",
   "metadata": {},
   "source": [
    "sorted(xgb_rgr_grid.cv_results_.keys())"
   ]
  },
  {
   "cell_type": "raw",
   "metadata": {},
   "source": [
    "yy_train_pred = xgb_rgr_grid.predict(PCAXY_train)\n",
    "yy_test_pred = xgb_rgr_grid.predict(PCAXY_test)"
   ]
  },
  {
   "cell_type": "raw",
   "metadata": {},
   "source": [
    "print(\"MSE train: {0:.4f}, test: {1:.4f}\".\\\n",
    "       format(mean_squared_error(yy_train, yy_train_pred), \n",
    "            mean_squared_error(yy_test, yy_test_pred)))\n",
    "\n",
    "print(\"R^2 train: {0:.4f}, test: {1:.4f}\".\\\n",
    "      format(r2_score(yy_train, yy_train_pred),\n",
    "             r2_score(yy_test, yy_test_pred)))\n",
    "MSE train: 6.8843, test: 8.1478\n",
    "R^2 train: 0.2685, test: 0.1501"
   ]
  },
  {
   "cell_type": "raw",
   "metadata": {},
   "source": [
    "dtrain = xgb.DMatrix(PCAXY_train, label=yy_train)\n",
    "dtest = xgb.DMatrix(PCAXY_test, label=yy_test)"
   ]
  },
  {
   "cell_type": "raw",
   "metadata": {},
   "source": [
    "params = {\n",
    "    # Parameters that we are going to tune.\n",
    "    'eta':.3,\n",
    "    'max_depth':6,\n",
    "    'min_child_weight': 1,\n",
    "    'subsample': 1,\n",
    "    'colsample_bytree': 1,\n",
    "    'lambda': 1,\n",
    "    # Other parameters\n",
    "    'objective':'reg:squarederror'\n",
    "}"
   ]
  },
  {
   "cell_type": "raw",
   "metadata": {},
   "source": [
    "params['eval_metric'] = \"rmse\""
   ]
  },
  {
   "cell_type": "raw",
   "metadata": {},
   "source": [
    "num_boost_round = 999\n",
    "#maximum number of boosting rounds allowed"
   ]
  },
  {
   "cell_type": "raw",
   "metadata": {},
   "source": [
    "model = xgb.train(\n",
    "    params,\n",
    "    dtrain,\n",
    "    num_boost_round=num_boost_round,\n",
    "    evals=[(dtest, \"Test\")],\n",
    "    early_stopping_rounds=10)\n",
    "\n",
    "#evals: a list of pairs (test_dmatrix, name_of_test). Here we will use our dtest DMatrix.\n",
    "#early_stopping_rounds: The number of rounds without improvements after which we should stop, here we set it to 10"
   ]
  },
  {
   "cell_type": "raw",
   "metadata": {},
   "source": [
    "cv_results = xgb.cv(\n",
    "    params,\n",
    "    dtrain,\n",
    "    num_boost_round=num_boost_round,\n",
    "    seed=42,\n",
    "    nfold=5,\n",
    "    metrics={'rmse'},\n",
    "    early_stopping_rounds=10\n",
    ")\n",
    "cv_results\n",
    "\n",
    "\n",
    "train-rmse-mean\n",
    "train-rmse-std\n",
    "test-rmse-mean\n",
    "test-rmse-std\n",
    "0\n",
    "10.184550\n",
    "0.003199\n",
    "10.186716\n",
    "0.022820\n",
    "1\n",
    "7.380453\n",
    "0.001910\n",
    "7.386719\n",
    "0.024670\n",
    "2\n",
    "5.503018\n",
    "0.001418\n",
    "5.515585\n",
    "0.025147\n",
    "3\n",
    "4.288846\n",
    "0.001257\n",
    "4.309225\n",
    "0.023591\n",
    "4\n",
    "3.541540\n",
    "0.001344\n",
    "3.571218\n",
    "0.021111\n",
    "5\n",
    "3.107558\n",
    "0.001850\n",
    "3.146844\n",
    "0.017992\n",
    "6\n",
    "2.867998\n",
    "0.002358\n",
    "2.916259\n",
    "0.015381\n",
    "7\n",
    "2.739993\n",
    "0.003070\n",
    "2.795933\n",
    "0.013648\n",
    "8\n",
    "2.672886\n",
    "0.003364\n",
    "2.734975\n",
    "0.012342\n",
    "9\n",
    "2.637644\n",
    "0.003359\n",
    "2.705136\n",
    "0.011755\n",
    "10\n",
    "2.618228\n",
    "0.003334\n",
    "2.690842\n",
    "0.011258\n",
    "11\n",
    "2.606832\n",
    "0.003803\n",
    "2.683162\n",
    "0.010207\n",
    "12\n",
    "2.600146\n",
    "0.003658\n",
    "2.679548\n",
    "0.010415\n",
    "13\n",
    "2.595041\n",
    "0.003676\n",
    "2.678269\n",
    "0.010689\n",
    "14\n",
    "2.592010\n",
    "0.003517\n",
    "2.677481\n",
    "0.010618\n",
    "15\n",
    "2.589280\n",
    "0.003907\n",
    "2.677225\n",
    "0.010661\n",
    "16\n",
    "2.586220\n",
    "0.003980\n",
    "2.677059\n",
    "0.010693"
   ]
  },
  {
   "cell_type": "raw",
   "metadata": {},
   "source": [
    "cv_results['test-rmse-mean'].min()\n",
    "2.6770587999999997"
   ]
  },
  {
   "cell_type": "raw",
   "metadata": {},
   "source": [
    "max_depth is the maximum number of nodes allowed from the root to the farthest leaf of a tree.\n",
    "Deeper trees can model more complex relationships by adding more nodes, but as we go deeper, \n",
    "splits become less relevant and are sometimes only due to noise, causing the model to overfit.\n",
    "\n",
    "min_child_weight is the minimum weight (or number of samples if all samples have a weight of 1)\n",
    "required in order to create a new node in the tree. A smaller min_child_weight allows the algorithm\n",
    "to create children that correspond to fewer samples, thus allowing for more complex trees,\n",
    "but again, more likely to overfit.\n",
    "\n",
    "It is important to tune them together in order to find a good trade-off between model bias and variance"
   ]
  },
  {
   "cell_type": "raw",
   "metadata": {},
   "source": [
    "# You can try wider intervals with a larger step between\n",
    "# each value and then narrow it down.\n",
    "d = len(df.index)\n",
    "cw=[0, 0.0005,0.001, 0.005, 0.01, 0.015, 0.02]\n",
    "mcw = np.round(d*np.array(cw),0)\n",
    "gridsearch_params = [\n",
    "    (max_depth, min_child_weight)\n",
    "    for max_depth in [2,4,6,8,10]\n",
    "    for min_child_weight in mcw]"
   ]
  },
  {
   "cell_type": "raw",
   "metadata": {},
   "source": [
    "# Define initial best params and MAE\n",
    "min_rmse = float(\"Inf\")\n",
    "best_params = None\n",
    "for max_depth, min_child_weight in gridsearch_params:\n",
    "    print(\"CV with max_depth={}, min_child_weight={}\".format(\n",
    "                             max_depth,\n",
    "                             min_child_weight))\n",
    "    # Update our parameters\n",
    "    params['max_depth'] = max_depth\n",
    "    params['min_child_weight'] = min_child_weight\n",
    "    # Run CV\n",
    "    cv_results = xgb.cv(\n",
    "        params,\n",
    "        dtrain,\n",
    "        num_boost_round=num_boost_round,\n",
    "        seed=42,\n",
    "        nfold=5,\n",
    "        metrics={'rmse'},\n",
    "        early_stopping_rounds=10\n",
    "    )\n",
    "    # Update best rmse\n",
    "    mean_rmse = cv_results['test-rmse-mean'].min()\n",
    "    boost_rounds = cv_results['test-rmse-mean'].argmin()\n",
    "    print(\"\\tRMSE {} for {} rounds\".format(mean_rmse, boost_rounds))\n",
    "    if mean_rmse < min_rmse:\n",
    "        min_rmse = mean_rmse\n",
    "        best_params = (max_depth,min_child_weight)\n",
    "print(\"Best params: {}, {}, RMSE: {}\".format(best_params[0], best_params[1], min_rmse))\n",
    "\n",
    "\n",
    "Out:\n",
    "CV with max_depth=2, min_child_weight=0.0\n",
    "RMSE 2.6760954 for 54 rounds\n",
    "CV with max_depth=2, min_child_weight=27.0\n",
    "\tRMSE 2.674586 for 66 rounds\n",
    "CV with max_depth=2, min_child_weight=55.0\n",
    "\tRMSE 2.6747706 for 55 rounds\n",
    "CV with max_depth=2, min_child_weight=274.0\n",
    "\tRMSE 2.6749806 for 75 rounds\n",
    "CV with max_depth=2, min_child_weight=549.0\n",
    "\tRMSE 2.6747975999999998 for 67 rounds\n",
    "CV with max_depth=2, min_child_weight=823.0\n",
    "\tRMSE 2.6766145999999997 for 86 rounds\n",
    "CV with max_depth=2, min_child_weight=1098.0\n",
    "\tRMSE 2.6785276 for 92 rounds\n",
    "CV with max_depth=4, min_child_weight=0.0\n",
    "\tRMSE 2.6730218 for 15 rounds\n",
    "CV with max_depth=4, min_child_weight=27.0\n",
    "\tRMSE 2.6733664 for 16 rounds\n",
    "CV with max_depth=4, min_child_weight=55.0\n",
    "\tRMSE 2.6716168000000002 for 20 rounds\n",
    "CV with max_depth=4, min_child_weight=274.0\n",
    "\tRMSE 2.6715518000000005 for 18 rounds\n",
    "CV with max_depth=4, min_child_weight=549.0\n",
    "\tRMSE 2.6736052 for 22 rounds\n",
    "CV with max_depth=4, min_child_weight=823.0\n",
    "\tRMSE 2.6755408000000003 for 53 rounds\n",
    "CV with max_depth=4, min_child_weight=1098.0\n",
    "\tRMSE 2.6773512 for 26 rounds\n",
    "CV with max_depth=6, min_child_weight=0.0\n",
    "\tRMSE 2.6770587999999997 for 16 rounds\n",
    "CV with max_depth=6, min_child_weight=27.0\n",
    "\tRMSE 2.6756658 for 15 rounds\n",
    "CV with max_depth=6, min_child_weight=55.0\n",
    "\tRMSE 2.6742353999999997 for 17 rounds\n",
    "CV with max_depth=6, min_child_weight=274.0\n",
    "\tRMSE 2.6728482 for 17 rounds\n",
    "CV with max_depth=6, min_child_weight=549.0\n",
    "\tRMSE 2.6752654 for 16 rounds\n",
    "CV with max_depth=6, min_child_weight=823.0\n",
    "\tRMSE 2.6772438 for 21 rounds\n",
    "CV with max_depth=6, min_child_weight=1098.0\n",
    "\tRMSE 2.677647 for 28 rounds\n",
    "CV with max_depth=8, min_child_weight=0.0\n",
    "\tRMSE 2.6909358000000005 for 13 rounds\n",
    "CV with max_depth=8, min_child_weight=27.0\n",
    "\tRMSE 2.6833544 for 15 rounds\n",
    "CV with max_depth=8, min_child_weight=55.0\n",
    "\tRMSE 2.6827487999999997 for 14 rounds\n",
    "CV with max_depth=8, min_child_weight=274.0\n",
    "\tRMSE 2.6750068000000002 for 17 rounds\n",
    "CV with max_depth=8, min_child_weight=549.0\n",
    "\tRMSE 2.6762661999999997 for 22 rounds\n",
    "CV with max_depth=8, min_child_weight=823.0\n",
    "\tRMSE 2.6785932 for 17 rounds\n",
    "CV with max_depth=8, min_child_weight=1098.0\n",
    "\tRMSE 2.6787330000000003 for 19 rounds\n",
    "CV with max_depth=10, min_child_weight=0.0\n",
    "\tRMSE 2.7069952 for 13 rounds\n",
    "CV with max_depth=10, min_child_weight=27.0\n",
    "\tRMSE 2.6955608 for 14 rounds\n",
    "CV with max_depth=10, min_child_weight=55.0\n",
    "\tRMSE 2.6904814000000004 for 15 rounds\n",
    "CV with max_depth=10, min_child_weight=274.0\n",
    "\tRMSE 2.6772848 for 17 rounds\n",
    "CV with max_depth=10, min_child_weight=549.0\n",
    "\tRMSE 2.6769816 for 15 rounds\n",
    "CV with max_depth=10, min_child_weight=823.0\n",
    "\tRMSE 2.6791892 for 16 rounds\n",
    "CV with max_depth=10, min_child_weight=1098.0\n",
    "\tRMSE 2.6791626 for 18 rounds\n",
    "Best params: 4, 274.0, RMSE: 2.6715518000000005"
   ]
  },
  {
   "cell_type": "raw",
   "metadata": {},
   "source": [
    "CV with max_depth=4, min_child_weight=274.0\n",
    "\tRMSE 2.6715518000000005 for 18 rounds"
   ]
  },
  {
   "cell_type": "raw",
   "metadata": {},
   "source": [
    "Parameters subsample and colsample_bytree\n",
    "Those parameters control the sampling of the dataset that is done at each boosting round.\n",
    "Instead of using the whole training set every time, we can build a tree on slightly different data at each step, which makes it less likely to overfit to a single sample or feature.\n",
    "subsample corresponds to the fraction of observations (the rows) to subsample at each step. By default it is set to 1 meaning that we use all rows.\n",
    "colsample_bytree corresponds to the fraction of features (the columns) to use. By default it is set to 1 meaning that we will use all features."
   ]
  },
  {
   "cell_type": "raw",
   "metadata": {},
   "source": [
    "gridsearch_params = [\n",
    "    (subsample, colsample)\n",
    "    for subsample in [i/10. for i in range(4,11)]\n",
    "    for colsample in [i/10. for i in range(4,11)]\n",
    "]"
   ]
  },
  {
   "cell_type": "raw",
   "metadata": {},
   "source": [
    "min_rmse = float(\"Inf\")\n",
    "best_params = None\n",
    "# We start by the largest values and go down to the smallest\n",
    "for subsample, colsample in reversed(gridsearch_params):\n",
    "    print(\"CV with subsample={}, colsample={}\".format(\n",
    "                             subsample,\n",
    "                             colsample))\n",
    "    # We update our parameters\n",
    "    params['subsample'] = subsample\n",
    "    params['colsample_bytree'] = colsample\n",
    "    # Run CV\n",
    "    cv_results = xgb.cv(\n",
    "        params,\n",
    "        dtrain,\n",
    "        num_boost_round=num_boost_round,\n",
    "        seed=42,\n",
    "        nfold=5,\n",
    "        metrics={'rmse'},\n",
    "        early_stopping_rounds=10\n",
    "    )\n",
    "    # Update best score\n",
    "    mean_rmse = cv_results['test-rmse-mean'].min()\n",
    "    boost_rounds = cv_results['test-rmse-mean'].argmin()\n",
    "    print(\"\\tRMSE {} for {} rounds\".format(mean_rmse, boost_rounds))\n",
    "    if mean_rmse < min_rmse:\n",
    "        min_rmse = mean_rmse\n",
    "        best_params = (subsample,colsample)\n",
    "print(\"Best params: {}, {}, RMSE: {}\".format(best_params[0], best_params[1], min_rmse))\n",
    "\n",
    "Out: CV with subsample=1.0, colsample=1.0\n",
    "\n",
    "C:\\Users\\rmendes\\AppData\\Local\\Continuum\\anaconda3\\lib\\site-packages\\ipykernel_launcher.py:23: FutureWarning: \n",
    "The current behaviour of 'Series.argmin' is deprecated, use 'idxmin'\n",
    "instead.\n",
    "The behavior of 'argmin' will be corrected to return the positional\n",
    "minimum in the future. For now, use 'series.values.argmin' or\n",
    "'np.argmin(np.array(values))' to get the position of the minimum\n",
    "row.\n",
    "\n",
    "\tRMSE 2.6715518000000005 for 18 rounds\n",
    "CV with subsample=1.0, colsample=0.9\n",
    "\tRMSE 2.674294 for 28 rounds\n",
    "CV with subsample=1.0, colsample=0.8\n",
    "\tRMSE 2.674294 for 28 rounds\n",
    "CV with subsample=1.0, colsample=0.7\n",
    "\tRMSE 2.6745512 for 35 rounds\n",
    "CV with subsample=1.0, colsample=0.6\n",
    "\tRMSE 2.6745512 for 35 rounds\n",
    "CV with subsample=1.0, colsample=0.5\n",
    "\tRMSE 2.6745512 for 35 rounds\n",
    "CV with subsample=1.0, colsample=0.4\n",
    "\tRMSE 2.6778250000000003 for 46 rounds\n",
    "CV with subsample=0.9, colsample=1.0\n",
    "\tRMSE 2.6715285999999994 for 19 rounds\n",
    "CV with subsample=0.9, colsample=0.9\n",
    "\tRMSE 2.6732576000000003 for 33 rounds\n",
    "CV with subsample=0.9, colsample=0.8\n",
    "\tRMSE 2.6732576000000003 for 33 rounds\n",
    "CV with subsample=0.9, colsample=0.7\n",
    "\tRMSE 2.6742098000000003 for 25 rounds\n",
    "CV with subsample=0.9, colsample=0.6\n",
    "\tRMSE 2.6742098000000003 for 25 rounds\n",
    "CV with subsample=0.9, colsample=0.5\n",
    "\tRMSE 2.6742098000000003 for 25 rounds\n",
    "CV with subsample=0.9, colsample=0.4\n",
    "\tRMSE 2.6787792 for 61 rounds\n",
    "CV with subsample=0.8, colsample=1.0\n",
    "\tRMSE 2.6735826000000005 for 16 rounds\n",
    "CV with subsample=0.8, colsample=0.9\n",
    "\tRMSE 2.6743436000000003 for 33 rounds\n",
    "CV with subsample=0.8, colsample=0.8\n",
    "\tRMSE 2.6743434 for 33 rounds\n",
    "CV with subsample=0.8, colsample=0.7\n",
    "\tRMSE 2.6766432 for 25 rounds\n",
    "CV with subsample=0.8, colsample=0.6\n",
    "\tRMSE 2.6766432 for 25 rounds\n",
    "CV with subsample=0.8, colsample=0.5\n",
    "\tRMSE 2.6766432 for 25 rounds\n",
    "CV with subsample=0.8, colsample=0.4\n",
    "\tRMSE 2.6786084 for 55 rounds\n",
    "CV with subsample=0.7, colsample=1.0\n",
    "\tRMSE 2.673366 for 16 rounds\n",
    "CV with subsample=0.7, colsample=0.9\n",
    "\tRMSE 2.6749976 for 20 rounds\n",
    "CV with subsample=0.7, colsample=0.8\n",
    "\tRMSE 2.6749976 for 20 rounds\n",
    "CV with subsample=0.7, colsample=0.7\n",
    "\tRMSE 2.677032 for 31 rounds\n",
    "CV with subsample=0.7, colsample=0.6\n",
    "\tRMSE 2.677032 for 31 rounds\n",
    "CV with subsample=0.7, colsample=0.5\n",
    "\tRMSE 2.677032 for 31 rounds\n",
    "CV with subsample=0.7, colsample=0.4\n",
    "\tRMSE 2.6783241999999996 for 54 rounds\n",
    "CV with subsample=0.6, colsample=1.0\n",
    "\tRMSE 2.6754232 for 18 rounds\n",
    "CV with subsample=0.6, colsample=0.9\n",
    "\tRMSE 2.6756808 for 22 rounds\n",
    "CV with subsample=0.6, colsample=0.8\n",
    "\tRMSE 2.675681 for 22 rounds\n",
    "CV with subsample=0.6, colsample=0.7\n",
    "\tRMSE 2.6756833999999996 for 25 rounds\n",
    "CV with subsample=0.6, colsample=0.6\n",
    "\tRMSE 2.6756833999999996 for 25 rounds\n",
    "CV with subsample=0.6, colsample=0.5\n",
    "\tRMSE 2.6756831999999995 for 25 rounds\n",
    "CV with subsample=0.6, colsample=0.4\n",
    "\tRMSE 2.679436 for 52 rounds\n",
    "CV with subsample=0.5, colsample=1.0\n",
    "\tRMSE 2.6761732 for 18 rounds\n",
    "CV with subsample=0.5, colsample=0.9\n",
    "\tRMSE 2.6760336 for 16 rounds\n",
    "CV with subsample=0.5, colsample=0.8\n",
    "\tRMSE 2.6760336 for 16 rounds\n",
    "CV with subsample=0.5, colsample=0.7\n",
    "\tRMSE 2.6779692000000006 for 27 rounds\n",
    "CV with subsample=0.5, colsample=0.6\n",
    "\tRMSE 2.6779692000000006 for 27 rounds\n",
    "CV with subsample=0.5, colsample=0.5\n",
    "\tRMSE 2.6779692 for 27 rounds\n",
    "CV with subsample=0.5, colsample=0.4\n",
    "\tRMSE 2.6814215999999997 for 48 rounds\n",
    "CV with subsample=0.4, colsample=1.0\n",
    "\tRMSE 2.6746412 for 17 rounds\n",
    "CV with subsample=0.4, colsample=0.9\n",
    "\tRMSE 2.6779787999999995 for 18 rounds\n",
    "CV with subsample=0.4, colsample=0.8\n",
    "\tRMSE 2.6779787999999995 for 18 rounds\n",
    "CV with subsample=0.4, colsample=0.7\n",
    "\tRMSE 2.6786192 for 28 rounds\n",
    "CV with subsample=0.4, colsample=0.6\n",
    "\tRMSE 2.6786190000000003 for 28 rounds\n",
    "CV with subsample=0.4, colsample=0.5\n",
    "\tRMSE 2.6786188 for 28 rounds\n",
    "CV with subsample=0.4, colsample=0.4\n",
    "\tRMSE 2.681426 for 48 rounds\n",
    "Best params: 0.9, 1.0, RMSE: 2.6715285999999994"
   ]
  },
  {
   "cell_type": "raw",
   "metadata": {},
   "source": [
    "CV with subsample=0.9, colsample=1.0\n",
    "\tRMSE 2.6715285999999994 for 19 rounds"
   ]
  },
  {
   "cell_type": "raw",
   "metadata": {},
   "source": [
    "params['subsample'] = 0.9\n",
    "params['colsample_bytree'] = 1.0"
   ]
  },
  {
   "cell_type": "raw",
   "metadata": {},
   "source": [
    "Parameter ETA\n",
    "The ETA parameter controls the learning rate. It corresponds to the shrinkage of the weights associated to features after each round, in other words it defines the amount of \"correction\" we make at each step (remember how each boosting round is correcting the errors of the previous? if not, check our first tutorial here).\n",
    "In practice, having a lower eta makes our model more robust to overfitting thus, usually, the lower the learning rate, the best. But with a lower eta, we need more boosting rounds, which takes more time to train, sometimes for only marginal improvements. Let's try a couple of values here, and time them with the notebook command:"
   ]
  },
  {
   "cell_type": "raw",
   "metadata": {},
   "source": [
    "\n",
    "min_rmse = float(\"Inf\")\n",
    "best_params = None\n",
    "for eta in [.3, .2, .1, .05, .01, .005]:\n",
    "    print(\"CV with eta={}\".format(eta))\n",
    "    # We update our parameters\n",
    "    params['eta'] = eta\n",
    "    # Run and time CV\n",
    "    cv_results = xgb.cv(\n",
    "            params,\n",
    "            dtrain,\n",
    "            num_boost_round=num_boost_round,\n",
    "            seed=42,\n",
    "            nfold=5,\n",
    "            metrics=['rmse'],\n",
    "            early_stopping_rounds=10)\n",
    "    # Update best score\n",
    "    mean_rmse = cv_results['test-rmse-mean'].min()\n",
    "    boost_rounds = cv_results['test-rmse-mean'].argmin()\n",
    "    print(\"\\tRMSE {} for {} rounds\\n\".format(mean_rmse, boost_rounds))\n",
    "    if mean_rmse < min_rmse:\n",
    "        min_rmse = mean_rmse\n",
    "        best_params = eta\n",
    "print(\"Best params: {}, RMSE: {}\".format(best_params, min_rmse))\n",
    "\n",
    "CV with eta=0.3\n",
    "\n",
    "C:\\Users\\rmendes\\AppData\\Local\\Continuum\\anaconda3\\lib\\site-packages\\ipykernel_launcher.py:18: FutureWarning: \n",
    "The current behaviour of 'Series.argmin' is deprecated, use 'idxmin'\n",
    "instead.\n",
    "The behavior of 'argmin' will be corrected to return the positional\n",
    "minimum in the future. For now, use 'series.values.argmin' or\n",
    "'np.argmin(np.array(values))' to get the position of the minimum\n",
    "row.\n",
    "\n",
    "\tRMSE 2.6715285999999994 for 19 rounds\n",
    "\n",
    "CV with eta=0.2\n",
    "\tRMSE 2.6719573999999997 for 31 rounds\n",
    "\n",
    "CV with eta=0.1\n",
    "\tRMSE 2.6697628 for 75 rounds\n",
    "\n",
    "CV with eta=0.05\n",
    "\tRMSE 2.6694763999999997 for 144 rounds\n",
    "\n",
    "CV with eta=0.01\n",
    "\tRMSE 2.6693469999999997 for 655 rounds\n",
    "\n",
    "CV with eta=0.005\n",
    "\tRMSE 2.6712786 for 998 rounds\n",
    "\n",
    "Best params: 0.01, RMSE: 2.6693469999999997\n"
   ]
  },
  {
   "cell_type": "raw",
   "metadata": {},
   "source": [
    "params['eta'] = .01"
   ]
  },
  {
   "cell_type": "raw",
   "metadata": {},
   "source": [
    "Parameter lambda\n",
    "lambda [default=1, alias: reg_lambda]\n",
    "L2 regularization term on weights. Increasing this value will make model more conservative."
   ]
  },
  {
   "cell_type": "raw",
   "metadata": {},
   "source": [
    "min_rmse = float(\"Inf\")\n",
    "best_params = None\n",
    "for lamb in [0.1,0.5,1,1.5,2.5,5,10,15]:\n",
    "    print(\"CV with lambda={}\".format(lamb))\n",
    "    # We update our parameters\n",
    "    params['lambda'] = lamb\n",
    "    # Run and time CV\n",
    "    cv_results = xgb.cv(\n",
    "            params,\n",
    "            dtrain,\n",
    "            num_boost_round=num_boost_round,\n",
    "            seed=42,\n",
    "            nfold=5,\n",
    "            metrics=['rmse'],\n",
    "            early_stopping_rounds=10)\n",
    "    # Update best score\n",
    "    mean_rmse = cv_results['test-rmse-mean'].min()\n",
    "    boost_rounds = cv_results['test-rmse-mean'].argmin()\n",
    "    print(\"\\tRMSE {} for {} rounds\\n\".format(mean_rmse, boost_rounds))\n",
    "    if mean_rmse < min_rmse:\n",
    "        min_rmse = mean_rmse\n",
    "        best_params = lamb\n",
    "print(\"Best params: {}, RMSE: {}\".format(best_params, min_rmse))\n",
    "\n",
    "CV with lambda=0.1\n",
    "\n",
    "C:\\Users\\rmendes\\AppData\\Local\\Continuum\\anaconda3\\lib\\site-packages\\ipykernel_launcher.py:18: FutureWarning: \n",
    "The current behaviour of 'Series.argmin' is deprecated, use 'idxmin'\n",
    "instead.\n",
    "The behavior of 'argmin' will be corrected to return the positional\n",
    "minimum in the future. For now, use 'series.values.argmin' or\n",
    "'np.argmin(np.array(values))' to get the position of the minimum\n",
    "row.\n",
    "\n",
    "\tRMSE 2.6692869999999997 for 682 rounds\n",
    "\n",
    "CV with lambda=0.5\n",
    "\tRMSE 2.6693148 for 655 rounds\n",
    "\n",
    "CV with lambda=1\n",
    "\tRMSE 2.6693469999999997 for 655 rounds\n",
    "\n",
    "CV with lambda=1.5\n",
    "\tRMSE 2.6692232000000002 for 682 rounds\n",
    "\n",
    "CV with lambda=2.5\n",
    "\tRMSE 2.6692612 for 655 rounds\n",
    "\n",
    "CV with lambda=5\n",
    "\tRMSE 2.6693431999999997 for 682 rounds\n",
    "\n",
    "CV with lambda=10\n",
    "\tRMSE 2.6691908 for 680 rounds\n",
    "\n",
    "CV with lambda=15\n",
    "\tRMSE 2.6690884000000006 for 698 rounds\n",
    "\n",
    "Best params: 15, RMSE: 2.6690884000000006"
   ]
  },
  {
   "cell_type": "raw",
   "metadata": {},
   "source": [
    "params['lambda'] = 15"
   ]
  },
  {
   "cell_type": "raw",
   "metadata": {},
   "source": [
    "params\n",
    "\n",
    "{'eta': 0.01,\n",
    " 'max_depth': 4,\n",
    " 'min_child_weight': 274,\n",
    " 'subsample': 0.9,\n",
    " 'colsample_bytree': 1.0,\n",
    " 'lambda': 15,\n",
    " 'objective': 'reg:squarederror',\n",
    " 'eval_metric': 'rmse'}"
   ]
  },
  {
   "cell_type": "raw",
   "metadata": {},
   "source": [
    "model = xgb.train(\n",
    "    params,\n",
    "    dtrain,\n",
    "    num_boost_round=num_boost_round,\n",
    "    evals=[(dtest, \"Test\")],\n",
    "    early_stopping_rounds=10\n",
    ")\n",
    "[0]\tTest-rmse:14.1002\n",
    "Will train until Test-rmse hasn't improved in 10 rounds.\n",
    "[1]\tTest-rmse:13.9646\n",
    "[2]\tTest-rmse:13.8305\n",
    "[3]\tTest-rmse:13.6977\n",
    "[4]\tTest-rmse:13.5664\n",
    "[5]\tTest-rmse:13.4365\n",
    "[6]\tTest-rmse:13.3079\n",
    "[7]\tTest-rmse:13.1807\n",
    "[8]\tTest-rmse:13.0547\n",
    "[9]\tTest-rmse:12.9302\n",
    "\n",
    "(...)\n",
    "    \n",
    "[460]\tTest-rmse:2.84889\n",
    "[461]\tTest-rmse:2.84889\n",
    "[462]\tTest-rmse:2.84886\n",
    "[463]\tTest-rmse:2.84888\n",
    "[464]\tTest-rmse:2.84888\n",
    "[465]\tTest-rmse:2.84889\n",
    "[466]\tTest-rmse:2.84892\n",
    "[467]\tTest-rmse:2.84888\n",
    "[468]\tTest-rmse:2.84887\n",
    "[469]\tTest-rmse:2.84888\n",
    "[470]\tTest-rmse:2.84886\n",
    "[471]\tTest-rmse:2.84885\n",
    "[472]\tTest-rmse:2.84886\n",
    "[473]\tTest-rmse:2.84889\n",
    "[474]\tTest-rmse:2.84887\n",
    "[475]\tTest-rmse:2.84887\n",
    "[476]\tTest-rmse:2.84885\n",
    "[477]\tTest-rmse:2.84886\n",
    "[478]\tTest-rmse:2.84885\n",
    "[479]\tTest-rmse:2.84885\n",
    "[480]\tTest-rmse:2.84882\n",
    "[481]\tTest-rmse:2.84883\n",
    "[482]\tTest-rmse:2.84885\n",
    "[483]\tTest-rmse:2.84885\n",
    "[484]\tTest-rmse:2.84888\n",
    "[485]\tTest-rmse:2.84888\n",
    "[486]\tTest-rmse:2.84888\n",
    "[487]\tTest-rmse:2.8489\n",
    "[488]\tTest-rmse:2.8489\n",
    "[489]\tTest-rmse:2.84892\n",
    "[490]\tTest-rmse:2.84895\n",
    "Stopping. Best iteration:\n",
    "[480]\tTest-rmse:2.84882"
   ]
  },
  {
   "cell_type": "raw",
   "metadata": {},
   "source": [
    "best nun_boost_round\n",
    "num_boost_round = model.best_iteration + 1 (481)\n",
    "we can now put early_stopping_rounds=0"
   ]
  },
  {
   "cell_type": "code",
   "execution_count": 523,
   "metadata": {},
   "outputs": [],
   "source": [
    "xgb_rgr = xgb.XGBRegressor(max_depth=4, learning_rate=0.01, n_estimators=481,\n",
    "                           verbosity=1, objective='reg:squarederror',\n",
    "                           booster='gbtree', n_jobs=-1, gamma=0,\n",
    "                           min_child_weight=274, max_delta_step=0, subsample=0.9,\n",
    "                           colsample_bytree=1, colsample_bylevel=1, colsample_bynode=1,\n",
    "                           reg_alpha=0, reg_lambda=15, scale_pos_weight=1, base_score=0.5,\n",
    "                           random_state=42, seed=None, missing=None, importance_type='gain')"
   ]
  },
  {
   "cell_type": "code",
   "execution_count": 524,
   "metadata": {},
   "outputs": [],
   "source": [
    "pipeline = Pipeline([('std', XY_std), ('pca', pca_train), ('xgb', xgb_rgr)])"
   ]
  },
  {
   "cell_type": "code",
   "execution_count": 525,
   "metadata": {},
   "outputs": [
    {
     "data": {
      "text/plain": [
       "Pipeline(memory=None,\n",
       "         steps=[('std',\n",
       "                 StandardScaler(copy=True, with_mean=True, with_std=True)),\n",
       "                ('pca',\n",
       "                 PCA(copy=True, iterated_power='auto', n_components=4,\n",
       "                     random_state=42, svd_solver='auto', tol=0.0,\n",
       "                     whiten=False)),\n",
       "                ('xgb',\n",
       "                 XGBRegressor(base_score=0.5, booster='gbtree',\n",
       "                              colsample_bylevel=1, colsample_bynode=1,\n",
       "                              colsample_bytree=1, gamma=0,\n",
       "                              importance_type='gain', learning_rate=0.01,\n",
       "                              max_delta_step=0, max_depth=4,\n",
       "                              min_child_weight=274, missing=None,\n",
       "                              n_estimators=481, n_jobs=-1, nthread=None,\n",
       "                              objective='reg:squarederror', random_state=42,\n",
       "                              reg_alpha=0, reg_lambda=15, scale_pos_weight=1,\n",
       "                              seed=None, silent=None, subsample=0.9,\n",
       "                              verbosity=1))],\n",
       "         verbose=False)"
      ]
     },
     "execution_count": 525,
     "metadata": {},
     "output_type": "execute_result"
    }
   ],
   "source": [
    "pipeline.fit(XY_train,yy_train.ravel())"
   ]
  },
  {
   "cell_type": "raw",
   "metadata": {},
   "source": [
    "#dtrain = xgb.DMatrix(PCAXY_train, label=yy_train)\n",
    "#dtest = xgb.DMatrix(PCAXY_test, label=yy_test)\n",
    "xgb_rgr.fit(PCAXY_train,yy_train.ravel())\n",
    "#xgb_rgr.fit(XY_train,yy_train.ravel())"
   ]
  },
  {
   "cell_type": "code",
   "execution_count": 526,
   "metadata": {},
   "outputs": [],
   "source": [
    "#yy_train_pred = xgb_rgr.predict(PCAXY_train)\n",
    "#yy_test_pred = xgb_rgr.predict(PCAXY_test)\n",
    "yy_train_pred = pipeline.predict(XY_train)\n",
    "yy_test_pred = pipeline.predict(XY_test)\n",
    "\n",
    "scores = cross_val_score(pipeline, XY_train, yy_train.ravel(), cv=5, scoring='neg_mean_absolute_error')\n",
    " \n",
    "mae_xgb_rgr_cv = -scores.mean()\n",
    "std_xgb_rgr_cv = scores.std() \n",
    "\n",
    "mse_xgb_rgr_train = metrics.mean_squared_error(yy_train.ravel(), yy_train_pred.ravel()) \n",
    "mse_xgb_rgr_test = metrics.mean_squared_error(yy_test.ravel(), yy_test_pred.ravel())\n",
    "\n",
    "mae_xgb_rgr_train = metrics.mean_absolute_error(yy_train.ravel(), yy_train_pred.ravel()) \n",
    "mae_xgb_rgr_test = metrics.mean_absolute_error(yy_test.ravel(), yy_test_pred.ravel())\n",
    "\n",
    "\n",
    "r2_xgb_rgr_train = metrics.r2_score(yy_train.ravel(), yy_train_pred.ravel())\n",
    "r2_xgb_rgr_test = metrics.r2_score(yy_test.ravel(), yy_test_pred.ravel())"
   ]
  },
  {
   "cell_type": "code",
   "execution_count": 527,
   "metadata": {},
   "outputs": [
    {
     "name": "stdout",
     "output_type": "stream",
     "text": [
      "MSE train: 8.5048, test: 8.7788\n",
      "R^2 train: 0.1979, test: 0.1738\n"
     ]
    }
   ],
   "source": [
    "print(\"MSE train: {0:.4f}, test: {1:.4f}\".\\\n",
    "       format(mean_squared_error(yy_train, yy_train_pred), \n",
    "            mean_squared_error(yy_test, yy_test_pred)))\n",
    "\n",
    "print(\"R^2 train: {0:.4f}, test: {1:.4f}\".\\\n",
    "      format(r2_score(yy_train, yy_train_pred),\n",
    "             r2_score(yy_test, yy_test_pred))) "
   ]
  },
  {
   "cell_type": "code",
   "execution_count": 528,
   "metadata": {},
   "outputs": [],
   "source": [
    "new_results_dic = {'MAE_cv': mae_xgb_rgr_cv ,'std_cv': std_xgb_rgr_cv,'MSE_train': mse_xgb_rgr_train,\n",
    "                   'MSE_test': mse_xgb_rgr_test, 'MAE_train': mae_xgb_rgr_train,\n",
    "                   'MAE_test': mae_xgb_rgr_test, 'R2_train': r2_xgb_rgr_train, 'R2_test': r2_xgb_rgr_test}\n",
    "df_results.loc[len(df_results)] = new_results_dic"
   ]
  },
  {
   "cell_type": "code",
   "execution_count": 529,
   "metadata": {
    "scrolled": true
   },
   "outputs": [
    {
     "data": {
      "text/html": [
       "<div>\n",
       "<style scoped>\n",
       "    .dataframe tbody tr th:only-of-type {\n",
       "        vertical-align: middle;\n",
       "    }\n",
       "\n",
       "    .dataframe tbody tr th {\n",
       "        vertical-align: top;\n",
       "    }\n",
       "\n",
       "    .dataframe thead th {\n",
       "        text-align: right;\n",
       "    }\n",
       "</style>\n",
       "<table border=\"1\" class=\"dataframe\">\n",
       "  <thead>\n",
       "    <tr style=\"text-align: right;\">\n",
       "      <th></th>\n",
       "      <th>MAE_cv</th>\n",
       "      <th>std_cv</th>\n",
       "      <th>MSE_train</th>\n",
       "      <th>MSE_test</th>\n",
       "      <th>MAE_train</th>\n",
       "      <th>MAE_test</th>\n",
       "      <th>R2_train</th>\n",
       "      <th>R2_test</th>\n",
       "    </tr>\n",
       "  </thead>\n",
       "  <tbody>\n",
       "    <tr>\n",
       "      <th>OLS</th>\n",
       "      <td>2.440279</td>\n",
       "      <td>0.009316</td>\n",
       "      <td>9.187210</td>\n",
       "      <td>9.163015</td>\n",
       "      <td>2.439889</td>\n",
       "      <td>2.436146</td>\n",
       "      <td>0.133579</td>\n",
       "      <td>0.137669</td>\n",
       "    </tr>\n",
       "    <tr>\n",
       "      <th>RF</th>\n",
       "      <td>2.368176</td>\n",
       "      <td>0.011896</td>\n",
       "      <td>8.593212</td>\n",
       "      <td>8.750002</td>\n",
       "      <td>2.339825</td>\n",
       "      <td>2.363012</td>\n",
       "      <td>0.189598</td>\n",
       "      <td>0.176538</td>\n",
       "    </tr>\n",
       "    <tr>\n",
       "      <th>BSV</th>\n",
       "      <td>2.402379</td>\n",
       "      <td>0.011579</td>\n",
       "      <td>9.084917</td>\n",
       "      <td>9.047165</td>\n",
       "      <td>2.401104</td>\n",
       "      <td>2.397122</td>\n",
       "      <td>0.143226</td>\n",
       "      <td>0.148572</td>\n",
       "    </tr>\n",
       "    <tr>\n",
       "      <th>NN</th>\n",
       "      <td>2.399772</td>\n",
       "      <td>0.010152</td>\n",
       "      <td>8.988805</td>\n",
       "      <td>8.964754</td>\n",
       "      <td>2.398000</td>\n",
       "      <td>2.395309</td>\n",
       "      <td>0.152290</td>\n",
       "      <td>0.156328</td>\n",
       "    </tr>\n",
       "    <tr>\n",
       "      <th>XGB</th>\n",
       "      <td>2.332000</td>\n",
       "      <td>0.011829</td>\n",
       "      <td>8.504752</td>\n",
       "      <td>8.778823</td>\n",
       "      <td>2.324447</td>\n",
       "      <td>2.364377</td>\n",
       "      <td>0.197940</td>\n",
       "      <td>0.173826</td>\n",
       "    </tr>\n",
       "  </tbody>\n",
       "</table>\n",
       "</div>"
      ],
      "text/plain": [
       "       MAE_cv    std_cv  MSE_train  MSE_test  MAE_train  MAE_test  R2_train  \\\n",
       "OLS  2.440279  0.009316   9.187210  9.163015   2.439889  2.436146  0.133579   \n",
       "RF   2.368176  0.011896   8.593212  8.750002   2.339825  2.363012  0.189598   \n",
       "BSV  2.402379  0.011579   9.084917  9.047165   2.401104  2.397122  0.143226   \n",
       "NN   2.399772  0.010152   8.988805  8.964754   2.398000  2.395309  0.152290   \n",
       "XGB  2.332000  0.011829   8.504752  8.778823   2.324447  2.364377  0.197940   \n",
       "\n",
       "      R2_test  \n",
       "OLS  0.137669  \n",
       "RF   0.176538  \n",
       "BSV  0.148572  \n",
       "NN   0.156328  \n",
       "XGB  0.173826  "
      ]
     },
     "execution_count": 529,
     "metadata": {},
     "output_type": "execute_result"
    }
   ],
   "source": [
    "indexNamesArr = df_results.index.values\n",
    "i = indexNamesArr[-1]\n",
    "df_results.rename(index={i:'XGB'}, inplace=True)\n",
    "df_results.head(10)"
   ]
  },
  {
   "cell_type": "code",
   "execution_count": 530,
   "metadata": {},
   "outputs": [],
   "source": [
    "# df_results.to_excel('Outputs.xlsx', sheet_name='English')\n",
    "\n",
    "with pd.ExcelWriter('Outputs.xlsx',engine='openpyxl', mode='a') as writer:\n",
    "     df_results.to_excel(writer, sheet_name=subject)"
   ]
  },
  {
   "cell_type": "code",
   "execution_count": null,
   "metadata": {},
   "outputs": [],
   "source": []
  }
 ],
 "metadata": {
  "kernelspec": {
   "display_name": "Python 3",
   "language": "python",
   "name": "python3"
  },
  "language_info": {
   "codemirror_mode": {
    "name": "ipython",
    "version": 3
   },
   "file_extension": ".py",
   "mimetype": "text/x-python",
   "name": "python",
   "nbconvert_exporter": "python",
   "pygments_lexer": "ipython3",
   "version": "3.7.7"
  }
 },
 "nbformat": 4,
 "nbformat_minor": 2
}
