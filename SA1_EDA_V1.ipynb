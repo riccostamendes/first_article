{
 "cells": [
  {
   "cell_type": "markdown",
   "metadata": {},
   "source": [
    "# High School Academic Achievement\n",
    "## English\n",
    "### Exploratory Data Analysis EDA¶\n"
   ]
  },
  {
   "cell_type": "code",
   "execution_count": 27,
   "metadata": {},
   "outputs": [],
   "source": [
    "import pandas as pd\n",
    "import numpy as np\n",
    "import matplotlib.pyplot as plt\n",
    "import seaborn as sns\n",
    "sns.set_style(\"whitegrid\")\n",
    "%matplotlib inline"
   ]
  },
  {
   "cell_type": "code",
   "execution_count": 28,
   "metadata": {},
   "outputs": [],
   "source": [
    "df = pd.read_excel(\"PREPARED_DS_V1.xlsx\")"
   ]
  },
  {
   "cell_type": "code",
   "execution_count": 29,
   "metadata": {},
   "outputs": [
    {
     "data": {
      "text/html": [
       "<div>\n",
       "<style scoped>\n",
       "    .dataframe tbody tr th:only-of-type {\n",
       "        vertical-align: middle;\n",
       "    }\n",
       "\n",
       "    .dataframe tbody tr th {\n",
       "        vertical-align: top;\n",
       "    }\n",
       "\n",
       "    .dataframe thead th {\n",
       "        text-align: right;\n",
       "    }\n",
       "</style>\n",
       "<table border=\"1\" class=\"dataframe\">\n",
       "  <thead>\n",
       "    <tr style=\"text-align: right;\">\n",
       "      <th></th>\n",
       "      <th>PermanentIncomeSupport_1</th>\n",
       "      <th>PermanentIncomeSupport_2</th>\n",
       "      <th>PermanentIncomeSupport_3</th>\n",
       "      <th>Scholarship_1</th>\n",
       "      <th>Scholarship_2</th>\n",
       "      <th>Gender_M</th>\n",
       "      <th>AcYear_11</th>\n",
       "      <th>AcYear_12</th>\n",
       "      <th>N_NoApprovals</th>\n",
       "      <th>Nationality</th>\n",
       "      <th>...</th>\n",
       "      <th>UrbanIndex</th>\n",
       "      <th>IncomeIndex</th>\n",
       "      <th>AgingIndex</th>\n",
       "      <th>UnemploymentIndex</th>\n",
       "      <th>CulturalLevelIndex</th>\n",
       "      <th>ClassSize</th>\n",
       "      <th>SchoolSize</th>\n",
       "      <th>N_SubjectsEnrolled</th>\n",
       "      <th>Gender_M__ClassSize</th>\n",
       "      <th>FinalMark</th>\n",
       "    </tr>\n",
       "  </thead>\n",
       "  <tbody>\n",
       "    <tr>\n",
       "      <th>0</th>\n",
       "      <td>0</td>\n",
       "      <td>0</td>\n",
       "      <td>0</td>\n",
       "      <td>0</td>\n",
       "      <td>0</td>\n",
       "      <td>0</td>\n",
       "      <td>1</td>\n",
       "      <td>0</td>\n",
       "      <td>0</td>\n",
       "      <td>0</td>\n",
       "      <td>...</td>\n",
       "      <td>138.4</td>\n",
       "      <td>875.1</td>\n",
       "      <td>146.2</td>\n",
       "      <td>9.73</td>\n",
       "      <td>12.77</td>\n",
       "      <td>23</td>\n",
       "      <td>193</td>\n",
       "      <td>7</td>\n",
       "      <td>0</td>\n",
       "      <td>10</td>\n",
       "    </tr>\n",
       "    <tr>\n",
       "      <th>1</th>\n",
       "      <td>0</td>\n",
       "      <td>0</td>\n",
       "      <td>0</td>\n",
       "      <td>0</td>\n",
       "      <td>0</td>\n",
       "      <td>1</td>\n",
       "      <td>0</td>\n",
       "      <td>1</td>\n",
       "      <td>0</td>\n",
       "      <td>0</td>\n",
       "      <td>...</td>\n",
       "      <td>5090.4</td>\n",
       "      <td>1560.6</td>\n",
       "      <td>189.3</td>\n",
       "      <td>11.76</td>\n",
       "      <td>70.93</td>\n",
       "      <td>29</td>\n",
       "      <td>519</td>\n",
       "      <td>5</td>\n",
       "      <td>29</td>\n",
       "      <td>19</td>\n",
       "    </tr>\n",
       "    <tr>\n",
       "      <th>2</th>\n",
       "      <td>0</td>\n",
       "      <td>1</td>\n",
       "      <td>0</td>\n",
       "      <td>1</td>\n",
       "      <td>0</td>\n",
       "      <td>0</td>\n",
       "      <td>0</td>\n",
       "      <td>1</td>\n",
       "      <td>0</td>\n",
       "      <td>0</td>\n",
       "      <td>...</td>\n",
       "      <td>5090.4</td>\n",
       "      <td>1560.6</td>\n",
       "      <td>189.3</td>\n",
       "      <td>11.76</td>\n",
       "      <td>70.93</td>\n",
       "      <td>29</td>\n",
       "      <td>519</td>\n",
       "      <td>5</td>\n",
       "      <td>0</td>\n",
       "      <td>16</td>\n",
       "    </tr>\n",
       "    <tr>\n",
       "      <th>3</th>\n",
       "      <td>1</td>\n",
       "      <td>0</td>\n",
       "      <td>0</td>\n",
       "      <td>0</td>\n",
       "      <td>1</td>\n",
       "      <td>0</td>\n",
       "      <td>1</td>\n",
       "      <td>0</td>\n",
       "      <td>2</td>\n",
       "      <td>0</td>\n",
       "      <td>...</td>\n",
       "      <td>5090.4</td>\n",
       "      <td>1560.6</td>\n",
       "      <td>189.3</td>\n",
       "      <td>11.76</td>\n",
       "      <td>70.93</td>\n",
       "      <td>25</td>\n",
       "      <td>519</td>\n",
       "      <td>7</td>\n",
       "      <td>0</td>\n",
       "      <td>10</td>\n",
       "    </tr>\n",
       "    <tr>\n",
       "      <th>4</th>\n",
       "      <td>0</td>\n",
       "      <td>0</td>\n",
       "      <td>0</td>\n",
       "      <td>0</td>\n",
       "      <td>0</td>\n",
       "      <td>1</td>\n",
       "      <td>0</td>\n",
       "      <td>1</td>\n",
       "      <td>0</td>\n",
       "      <td>0</td>\n",
       "      <td>...</td>\n",
       "      <td>5090.4</td>\n",
       "      <td>1560.6</td>\n",
       "      <td>189.3</td>\n",
       "      <td>11.76</td>\n",
       "      <td>70.93</td>\n",
       "      <td>29</td>\n",
       "      <td>519</td>\n",
       "      <td>5</td>\n",
       "      <td>29</td>\n",
       "      <td>17</td>\n",
       "    </tr>\n",
       "  </tbody>\n",
       "</table>\n",
       "<p>5 rows × 24 columns</p>\n",
       "</div>"
      ],
      "text/plain": [
       "   PermanentIncomeSupport_1  PermanentIncomeSupport_2  \\\n",
       "0                         0                         0   \n",
       "1                         0                         0   \n",
       "2                         0                         1   \n",
       "3                         1                         0   \n",
       "4                         0                         0   \n",
       "\n",
       "   PermanentIncomeSupport_3  Scholarship_1  Scholarship_2  Gender_M  \\\n",
       "0                         0              0              0         0   \n",
       "1                         0              0              0         1   \n",
       "2                         0              1              0         0   \n",
       "3                         0              0              1         0   \n",
       "4                         0              0              0         1   \n",
       "\n",
       "   AcYear_11  AcYear_12  N_NoApprovals  Nationality  ...  UrbanIndex  \\\n",
       "0          1          0              0            0  ...       138.4   \n",
       "1          0          1              0            0  ...      5090.4   \n",
       "2          0          1              0            0  ...      5090.4   \n",
       "3          1          0              2            0  ...      5090.4   \n",
       "4          0          1              0            0  ...      5090.4   \n",
       "\n",
       "   IncomeIndex  AgingIndex UnemploymentIndex  CulturalLevelIndex  ClassSize  \\\n",
       "0        875.1       146.2              9.73               12.77         23   \n",
       "1       1560.6       189.3             11.76               70.93         29   \n",
       "2       1560.6       189.3             11.76               70.93         29   \n",
       "3       1560.6       189.3             11.76               70.93         25   \n",
       "4       1560.6       189.3             11.76               70.93         29   \n",
       "\n",
       "   SchoolSize  N_SubjectsEnrolled  Gender_M__ClassSize  FinalMark  \n",
       "0         193                   7                    0         10  \n",
       "1         519                   5                   29         19  \n",
       "2         519                   5                    0         16  \n",
       "3         519                   7                    0         10  \n",
       "4         519                   5                   29         17  \n",
       "\n",
       "[5 rows x 24 columns]"
      ]
     },
     "execution_count": 29,
     "metadata": {},
     "output_type": "execute_result"
    }
   ],
   "source": [
    "df.head()"
   ]
  },
  {
   "cell_type": "code",
   "execution_count": 30,
   "metadata": {},
   "outputs": [
    {
     "data": {
      "text/plain": [
       "(362127, 24)"
      ]
     },
     "execution_count": 30,
     "metadata": {},
     "output_type": "execute_result"
    }
   ],
   "source": [
    "df.shape"
   ]
  },
  {
   "cell_type": "code",
   "execution_count": 31,
   "metadata": {},
   "outputs": [
    {
     "name": "stdout",
     "output_type": "stream",
     "text": [
      "Shape per Course Subject:\n",
      "\n",
      "Língua Estrangeira I - Inglês \t (54885, 24)\n",
      "Matemática A \t (46593, 24)\n",
      "Biologia \t (16451, 24)\n",
      "Psicologia B \t (16197, 24)\n",
      "Português \t (75035, 24)\n",
      "História A \t (19756, 24)\n",
      "Filosofia \t (57249, 24)\n",
      "Geografia A \t (19884, 24)\n",
      "Física e Química A \t (28581, 24)\n",
      "Biologia e Geologia \t (27496, 24)\n"
     ]
    }
   ],
   "source": [
    "Course_Subject = df['CourseSubject'].unique()\n",
    "print(\"Shape per Course Subject:\\n\")\n",
    "for i in Course_Subject:\n",
    "    Subject_i= df[df['CourseSubject']== i]\n",
    "    print(i, '\\t', Subject_i.shape)"
   ]
  },
  {
   "cell_type": "code",
   "execution_count": 32,
   "metadata": {},
   "outputs": [
    {
     "data": {
      "text/plain": [
       "array(['Língua Estrangeira I - Inglês', 'Matemática A', 'Biologia',\n",
       "       'Psicologia B', 'Português', 'História A', 'Filosofia',\n",
       "       'Geografia A', 'Física e Química A', 'Biologia e Geologia'],\n",
       "      dtype=object)"
      ]
     },
     "execution_count": 32,
     "metadata": {},
     "output_type": "execute_result"
    }
   ],
   "source": [
    "df['CourseSubject'].unique()"
   ]
  },
  {
   "cell_type": "code",
   "execution_count": 36,
   "metadata": {},
   "outputs": [],
   "source": [
    "# df=df[df.ClassSize >= 5]\n",
    "# df[(df['A'] < 5) & (df['B'] > 5)]\n",
    "df1=df[(df['CourseSubject'] == \"Língua Estrangeira I - Inglês\") | (df['CourseSubject'] == \"Psicologia B\") |\n",
    "     (df['CourseSubject'] == \"Português\") | (df['CourseSubject'] == \"História A\") |\n",
    "      (df['CourseSubject'] == \"Filosofia\")]\n",
    "\n",
    "# df1=df[(df['CourseSubject'] == \"Matemática A\") | (df['CourseSubject'] == \"Biologia\") |\n",
    "  #   (df['CourseSubject'] == \"Geografia A\") | (df['CourseSubject'] == \"Física e Química A\") |\n",
    "   #    (df['CourseSubject'] == \"Biologia e Geologia\")]\n",
    "\n",
    "\n",
    "# df1=df[(df['CourseSubject'] == \"Matemática A\")]\n",
    "#223122"
   ]
  },
  {
   "cell_type": "code",
   "execution_count": 37,
   "metadata": {},
   "outputs": [
    {
     "data": {
      "text/plain": [
       "(223122, 24)"
      ]
     },
     "execution_count": 37,
     "metadata": {},
     "output_type": "execute_result"
    }
   ],
   "source": [
    "df1.shape"
   ]
  },
  {
   "cell_type": "code",
   "execution_count": 38,
   "metadata": {},
   "outputs": [],
   "source": [
    "df1=df1.drop('CourseSubject', axis=1)"
   ]
  },
  {
   "cell_type": "code",
   "execution_count": 39,
   "metadata": {},
   "outputs": [
    {
     "name": "stdout",
     "output_type": "stream",
     "text": [
      "<class 'pandas.core.frame.DataFrame'>\n",
      "Int64Index: 223122 entries, 0 to 362126\n",
      "Data columns (total 23 columns):\n",
      "PermanentIncomeSupport_1    223122 non-null int64\n",
      "PermanentIncomeSupport_2    223122 non-null int64\n",
      "PermanentIncomeSupport_3    223122 non-null int64\n",
      "Scholarship_1               223122 non-null int64\n",
      "Scholarship_2               223122 non-null int64\n",
      "Gender_M                    223122 non-null int64\n",
      "AcYear_11                   223122 non-null int64\n",
      "AcYear_12                   223122 non-null int64\n",
      "N_NoApprovals               223122 non-null int64\n",
      "Nationality                 223122 non-null int64\n",
      "N_Enrollments               223122 non-null int64\n",
      "Computer                    223122 non-null int64\n",
      "InternetAccess              223122 non-null int64\n",
      "UrbanIndex                  223122 non-null float64\n",
      "IncomeIndex                 223122 non-null float64\n",
      "AgingIndex                  223122 non-null float64\n",
      "UnemploymentIndex           223122 non-null float64\n",
      "CulturalLevelIndex          223122 non-null float64\n",
      "ClassSize                   223122 non-null int64\n",
      "SchoolSize                  223122 non-null int64\n",
      "N_SubjectsEnrolled          223122 non-null int64\n",
      "Gender_M__ClassSize         223122 non-null int64\n",
      "FinalMark                   223122 non-null int64\n",
      "dtypes: float64(5), int64(18)\n",
      "memory usage: 40.9 MB\n"
     ]
    }
   ],
   "source": [
    "df1.info()"
   ]
  },
  {
   "cell_type": "code",
   "execution_count": 42,
   "metadata": {},
   "outputs": [
    {
     "data": {
      "text/html": [
       "<div>\n",
       "<style scoped>\n",
       "    .dataframe tbody tr th:only-of-type {\n",
       "        vertical-align: middle;\n",
       "    }\n",
       "\n",
       "    .dataframe tbody tr th {\n",
       "        vertical-align: top;\n",
       "    }\n",
       "\n",
       "    .dataframe thead th {\n",
       "        text-align: right;\n",
       "    }\n",
       "</style>\n",
       "<table border=\"1\" class=\"dataframe\">\n",
       "  <thead>\n",
       "    <tr style=\"text-align: right;\">\n",
       "      <th></th>\n",
       "      <th>PermanentIncomeSupport_1</th>\n",
       "      <th>PermanentIncomeSupport_2</th>\n",
       "      <th>PermanentIncomeSupport_3</th>\n",
       "      <th>Scholarship_1</th>\n",
       "      <th>Scholarship_2</th>\n",
       "      <th>Gender_M</th>\n",
       "      <th>AcYear_12</th>\n",
       "      <th>N_NoApprovals</th>\n",
       "      <th>Nationality</th>\n",
       "      <th>N_Enrollments</th>\n",
       "      <th>...</th>\n",
       "      <th>UrbanIndex</th>\n",
       "      <th>IncomeIndex</th>\n",
       "      <th>AgingIndex</th>\n",
       "      <th>UnemploymentIndex</th>\n",
       "      <th>CulturalLevelIndex</th>\n",
       "      <th>ClassSize</th>\n",
       "      <th>SchoolSize</th>\n",
       "      <th>N_SubjectsEnrolled</th>\n",
       "      <th>Gender_M__ClassSize</th>\n",
       "      <th>FinalMark</th>\n",
       "    </tr>\n",
       "    <tr>\n",
       "      <th>AcYear_11</th>\n",
       "      <th></th>\n",
       "      <th></th>\n",
       "      <th></th>\n",
       "      <th></th>\n",
       "      <th></th>\n",
       "      <th></th>\n",
       "      <th></th>\n",
       "      <th></th>\n",
       "      <th></th>\n",
       "      <th></th>\n",
       "      <th></th>\n",
       "      <th></th>\n",
       "      <th></th>\n",
       "      <th></th>\n",
       "      <th></th>\n",
       "      <th></th>\n",
       "      <th></th>\n",
       "      <th></th>\n",
       "      <th></th>\n",
       "      <th></th>\n",
       "      <th></th>\n",
       "    </tr>\n",
       "  </thead>\n",
       "  <tbody>\n",
       "    <tr>\n",
       "      <th>0</th>\n",
       "      <td>0.128775</td>\n",
       "      <td>0.145499</td>\n",
       "      <td>0.009845</td>\n",
       "      <td>0.147013</td>\n",
       "      <td>0.138611</td>\n",
       "      <td>0.411514</td>\n",
       "      <td>0.637854</td>\n",
       "      <td>0.327609</td>\n",
       "      <td>0.027100</td>\n",
       "      <td>1.084546</td>\n",
       "      <td>...</td>\n",
       "      <td>1157.998749</td>\n",
       "      <td>1004.315314</td>\n",
       "      <td>142.794171</td>\n",
       "      <td>13.092108</td>\n",
       "      <td>32.186204</td>\n",
       "      <td>26.895296</td>\n",
       "      <td>658.333955</td>\n",
       "      <td>5.712293</td>\n",
       "      <td>11.119769</td>\n",
       "      <td>13.354745</td>\n",
       "    </tr>\n",
       "    <tr>\n",
       "      <th>1</th>\n",
       "      <td>0.128725</td>\n",
       "      <td>0.145241</td>\n",
       "      <td>0.011381</td>\n",
       "      <td>0.145508</td>\n",
       "      <td>0.136827</td>\n",
       "      <td>0.432656</td>\n",
       "      <td>0.000000</td>\n",
       "      <td>0.289822</td>\n",
       "      <td>0.029893</td>\n",
       "      <td>1.058155</td>\n",
       "      <td>...</td>\n",
       "      <td>1235.713018</td>\n",
       "      <td>1022.558147</td>\n",
       "      <td>144.170988</td>\n",
       "      <td>13.131070</td>\n",
       "      <td>32.371464</td>\n",
       "      <td>25.589269</td>\n",
       "      <td>631.775553</td>\n",
       "      <td>6.987228</td>\n",
       "      <td>11.108681</td>\n",
       "      <td>13.712977</td>\n",
       "    </tr>\n",
       "  </tbody>\n",
       "</table>\n",
       "<p>2 rows × 22 columns</p>\n",
       "</div>"
      ],
      "text/plain": [
       "           PermanentIncomeSupport_1  PermanentIncomeSupport_2  \\\n",
       "AcYear_11                                                       \n",
       "0                          0.128775                  0.145499   \n",
       "1                          0.128725                  0.145241   \n",
       "\n",
       "           PermanentIncomeSupport_3  Scholarship_1  Scholarship_2  Gender_M  \\\n",
       "AcYear_11                                                                     \n",
       "0                          0.009845       0.147013       0.138611  0.411514   \n",
       "1                          0.011381       0.145508       0.136827  0.432656   \n",
       "\n",
       "           AcYear_12  N_NoApprovals  Nationality  N_Enrollments  ...  \\\n",
       "AcYear_11                                                        ...   \n",
       "0           0.637854       0.327609     0.027100       1.084546  ...   \n",
       "1           0.000000       0.289822     0.029893       1.058155  ...   \n",
       "\n",
       "            UrbanIndex  IncomeIndex  AgingIndex  UnemploymentIndex  \\\n",
       "AcYear_11                                                            \n",
       "0          1157.998749  1004.315314  142.794171          13.092108   \n",
       "1          1235.713018  1022.558147  144.170988          13.131070   \n",
       "\n",
       "           CulturalLevelIndex  ClassSize  SchoolSize  N_SubjectsEnrolled  \\\n",
       "AcYear_11                                                                  \n",
       "0                   32.186204  26.895296  658.333955            5.712293   \n",
       "1                   32.371464  25.589269  631.775553            6.987228   \n",
       "\n",
       "           Gender_M__ClassSize  FinalMark  \n",
       "AcYear_11                                  \n",
       "0                    11.119769  13.354745  \n",
       "1                    11.108681  13.712977  \n",
       "\n",
       "[2 rows x 22 columns]"
      ]
     },
     "execution_count": 42,
     "metadata": {},
     "output_type": "execute_result"
    }
   ],
   "source": [
    "#df2=df1[(df1['AcYear_12']==0) & (df1['AcYear_11']==0)]\n",
    "#df2.mean()\n",
    "df1.groupby('AcYear_11').mean()"
   ]
  },
  {
   "cell_type": "code",
   "execution_count": null,
   "metadata": {},
   "outputs": [],
   "source": []
  },
  {
   "cell_type": "raw",
   "metadata": {},
   "source": [
    "df1.describe()"
   ]
  },
  {
   "cell_type": "raw",
   "metadata": {},
   "source": [
    "# xs=[\"Gender_M\", \"NEnroll_2\", \"NEnroll_3\",\"NEnroll_4\"]\n",
    "# ys=[\"Gender_M\", \"NEnroll_2\", \"NEnroll_3\",\"NEnroll_4\"]\n",
    "xs=df1.columns[0:6]\n",
    "ys=df1.columns[0:6]\n",
    "sns.pairplot(df1, height=1.5, x_vars = xs,\n",
    "                  y_vars = ys);\n",
    "plt.show()"
   ]
  },
  {
   "cell_type": "raw",
   "metadata": {},
   "source": [
    "xs=df1.columns[0:6]\n",
    "ys=df1.columns[6:12]\n",
    "sns.pairplot(df1, height=1.5, x_vars = xs,\n",
    "                  y_vars = ys);\n",
    "plt.show()"
   ]
  },
  {
   "cell_type": "raw",
   "metadata": {},
   "source": [
    "xs=df1.columns[0:6]\n",
    "ys=df1.columns[12:18]\n",
    "sns.pairplot(df1, height=1.5, x_vars = xs,\n",
    "                  y_vars = ys);\n",
    "plt.show()"
   ]
  },
  {
   "cell_type": "raw",
   "metadata": {},
   "source": [
    "xs=df1.columns[0:6]\n",
    "ys=df1.columns[18:]\n",
    "sns.pairplot(df1, height=1.5, x_vars = xs,\n",
    "                  y_vars = ys);\n",
    "plt.show()"
   ]
  },
  {
   "cell_type": "raw",
   "metadata": {},
   "source": [
    "xs=df1.columns[6:12]\n",
    "ys=df1.columns[6:12]\n",
    "sns.pairplot(df1, height=1.5, x_vars = xs,\n",
    "                  y_vars = ys);\n",
    "plt.show()"
   ]
  },
  {
   "cell_type": "raw",
   "metadata": {},
   "source": [
    "xs=df1.columns[6:12]\n",
    "ys=df1.columns[12:18]\n",
    "sns.pairplot(df1, height=1.5, x_vars = xs,\n",
    "                  y_vars = ys);\n",
    "plt.show()"
   ]
  },
  {
   "cell_type": "raw",
   "metadata": {},
   "source": [
    "xs=df1.columns[6:12]\n",
    "ys=df1.columns[18:]\n",
    "sns.pairplot(df1, height=1.5, x_vars = xs,\n",
    "                  y_vars = ys);\n",
    "plt.show()"
   ]
  },
  {
   "cell_type": "raw",
   "metadata": {},
   "source": [
    "xs=df1.columns[12:18]\n",
    "ys=df1.columns[12:18]\n",
    "sns.pairplot(df1, height=1.5, x_vars = xs,\n",
    "                  y_vars = ys);\n",
    "plt.show()"
   ]
  },
  {
   "cell_type": "raw",
   "metadata": {},
   "source": [
    "xs=df1.columns[12:18]\n",
    "ys=df1.columns[18:]\n",
    "sns.pairplot(df1, height=1.5, x_vars = xs,\n",
    "                  y_vars = ys);\n",
    "plt.show()"
   ]
  },
  {
   "cell_type": "raw",
   "metadata": {},
   "source": [
    "xs=df1.columns[18:]\n",
    "ys=df1.columns[18:]\n",
    "sns.pairplot(df1, height=1.5, x_vars = xs,\n",
    "                  y_vars = ys);\n",
    "plt.show()"
   ]
  },
  {
   "cell_type": "raw",
   "metadata": {},
   "source": [
    "corr= df1.corr()\n",
    "corr.style.background_gradient(cmap='coolwarm', axis=None)\n",
    "corr.style.background_gradient(cmap='coolwarm').set_precision(2)"
   ]
  },
  {
   "cell_type": "raw",
   "metadata": {},
   "source": [
    "corr[np.abs(corr) < 0.6] = 0\n",
    "pd.options.display.float_format = '{:,.4f}'.format\n",
    "plt.figure(figsize=(16,10))\n",
    "sns.heatmap(corr, cmap=\"YlGnBu\", annot=True)\n",
    "plt.show()"
   ]
  },
  {
   "cell_type": "raw",
   "metadata": {},
   "source": [
    "The correlation matrix shows potential issues of multicolinearity between:\n",
    "    PermanentIncomeSupport and Scholarship\n",
    "    InternetAccess and Computer\n",
    "    Incomeindex and UrbanIndex\n",
    "The dependent variable is not significantly correlated with any of the independent variables."
   ]
  },
  {
   "cell_type": "markdown",
   "metadata": {},
   "source": [
    "### The lasso method for variable selection¶\n",
    "\n",
    "The lasso method requires initial standardization of the regressors, so that the penalization scheme is fair to all regressors. For categorical regressors, one codes the regressor with dummy variables and then standardizes the dummy variables."
   ]
  },
  {
   "cell_type": "markdown",
   "metadata": {},
   "source": [
    "## LASSO Regression\n",
    "\n",
    "A linear model that estimates sparse coefficients.\n",
    "\n",
    "Mathematically, it consists of a linear model trained with $\\ell_1$ prior as regularizer. The objective function to minimize is:\n",
    "\n",
    "$$\\min_{w}\\frac{1}{2n_{samples}} \\big|\\big|Xw - y\\big|\\big|_2^2 + \\alpha \\big|\\big|w\\big|\\big|_1$$\n",
    "\n",
    "The lasso estimate thus solves the minimization of the least-squares penalty with $\\alpha \\big|\\big|w\\big|\\big|_1$ added, where $\\alpha$ is a constant and $\\big|\\big|w\\big|\\big|_1$ is the $\\ell_1-norm$ of the parameter vector.\n",
    "\n",
    "The Lasso is a shrinkage and selection method for linear regression. It minimizes the usual sum of squared errors, with a bound on the sum of the absolute values of the coefficients. It has connections to soft-thresholding of wavelet coefficients, forward stagewise regression, and boosting methods."
   ]
  },
  {
   "cell_type": "code",
   "execution_count": 143,
   "metadata": {},
   "outputs": [],
   "source": [
    "from sklearn.pipeline import Pipeline\n",
    "from sklearn.model_selection import GridSearchCV\n",
    "from sklearn.preprocessing import StandardScaler\n",
    "from sklearn.linear_model import Lasso\n",
    "from sklearn.metrics import mean_squared_error, r2_score"
   ]
  },
  {
   "cell_type": "code",
   "execution_count": 144,
   "metadata": {},
   "outputs": [],
   "source": [
    "X = df1.iloc[:, :22]\n",
    "y = df1.iloc[:, -1]\n",
    "X = X.to_numpy()\n",
    "y = y.to_numpy()"
   ]
  },
  {
   "cell_type": "code",
   "execution_count": 145,
   "metadata": {},
   "outputs": [],
   "source": [
    "sc = StandardScaler()\n",
    "\n",
    "X_stdscaler = sc.fit(X)\n",
    "X_std = X_stdscaler.transform(X)\n"
   ]
  },
  {
   "cell_type": "code",
   "execution_count": 146,
   "metadata": {},
   "outputs": [],
   "source": [
    "pipeline = Pipeline([('lasso', Lasso(alpha=0.01, fit_intercept=True, normalize=False,\n",
    "                  copy_X=True, max_iter=10000, tol=0.0001, warm_start=False, positive=False,\n",
    "                  random_state=22))])"
   ]
  },
  {
   "cell_type": "code",
   "execution_count": 147,
   "metadata": {},
   "outputs": [],
   "source": [
    "params = {'lasso__alpha':(0, 0.01, 0.02, 0.03, 0.04, 0.05, 0.06, 0.07, 0.08, 0.09, 0.1, 0.2, 0.3, 0.4)}"
   ]
  },
  {
   "cell_type": "code",
   "execution_count": 148,
   "metadata": {},
   "outputs": [],
   "source": [
    "lasso_grid = GridSearchCV(pipeline, params, n_jobs=-1,\n",
    "                            cv=3, verbose=1) \n"
   ]
  },
  {
   "cell_type": "code",
   "execution_count": 149,
   "metadata": {},
   "outputs": [
    {
     "name": "stdout",
     "output_type": "stream",
     "text": [
      "Fitting 3 folds for each of 14 candidates, totalling 42 fits\n"
     ]
    },
    {
     "name": "stderr",
     "output_type": "stream",
     "text": [
      "[Parallel(n_jobs=-1)]: Using backend LokyBackend with 12 concurrent workers.\n",
      "[Parallel(n_jobs=-1)]: Done  42 out of  42 | elapsed:  2.2min finished\n",
      "C:\\Users\\rmendes\\AppData\\Local\\Continuum\\anaconda3\\lib\\site-packages\\sklearn\\pipeline.py:356: UserWarning: With alpha=0, this algorithm does not converge well. You are advised to use the LinearRegression estimator\n",
      "  self._final_estimator.fit(Xt, y, **fit_params)\n",
      "C:\\Users\\rmendes\\AppData\\Local\\Continuum\\anaconda3\\lib\\site-packages\\sklearn\\linear_model\\coordinate_descent.py:475: UserWarning: Coordinate descent with no regularization may lead to unexpected results and is discouraged.\n",
      "  positive)\n"
     ]
    },
    {
     "name": "stdout",
     "output_type": "stream",
     "text": [
      "\tlasso__alpha: \t 0.00\n",
      "7.528336429238168\n",
      "0.1116227251442321\n"
     ]
    },
    {
     "name": "stderr",
     "output_type": "stream",
     "text": [
      "C:\\Users\\rmendes\\AppData\\Local\\Continuum\\anaconda3\\lib\\site-packages\\sklearn\\linear_model\\coordinate_descent.py:475: ConvergenceWarning: Objective did not converge. You might want to increase the number of iterations. Duality gap: 839868.7403822459, tolerance: 189.0792941588018\n",
      "  positive)\n"
     ]
    }
   ],
   "source": [
    "lasso_grid.fit(X_std, y)\n",
    "\n",
    "\n",
    "lasso_grid.scorer_ \n",
    "\n",
    "lasso_grid.best_score_\n",
    "\n",
    "\n",
    "best = lasso_grid.best_estimator_.get_params()\n",
    "\n",
    "for k in sorted(params.keys()): \n",
    "    print('\\t{0}: \\t {1:.2f}'.format(k, best[k]))\n",
    "\n",
    "\n",
    "y_pred = lasso_grid.predict(X_std)\n",
    "\n",
    "\n",
    "\n",
    "\n",
    "\n",
    "print(mean_squared_error(y, y_pred))\n",
    "\n",
    "print(r2_score(y, y_pred))\n",
    "\n",
    "\n"
   ]
  },
  {
   "cell_type": "code",
   "execution_count": 150,
   "metadata": {},
   "outputs": [
    {
     "data": {
      "text/html": [
       "<div>\n",
       "<style scoped>\n",
       "    .dataframe tbody tr th:only-of-type {\n",
       "        vertical-align: middle;\n",
       "    }\n",
       "\n",
       "    .dataframe tbody tr th {\n",
       "        vertical-align: top;\n",
       "    }\n",
       "\n",
       "    .dataframe thead th {\n",
       "        text-align: right;\n",
       "    }\n",
       "</style>\n",
       "<table border=\"1\" class=\"dataframe\">\n",
       "  <thead>\n",
       "    <tr style=\"text-align: right;\">\n",
       "      <th></th>\n",
       "      <th>mean_fit_time</th>\n",
       "      <th>std_fit_time</th>\n",
       "      <th>mean_score_time</th>\n",
       "      <th>std_score_time</th>\n",
       "      <th>param_lasso__alpha</th>\n",
       "      <th>params</th>\n",
       "      <th>split0_test_score</th>\n",
       "      <th>split1_test_score</th>\n",
       "      <th>split2_test_score</th>\n",
       "      <th>mean_test_score</th>\n",
       "      <th>std_test_score</th>\n",
       "      <th>rank_test_score</th>\n",
       "    </tr>\n",
       "  </thead>\n",
       "  <tbody>\n",
       "    <tr>\n",
       "      <th>0</th>\n",
       "      <td>128.932735</td>\n",
       "      <td>0.139286</td>\n",
       "      <td>0.007014</td>\n",
       "      <td>0.002155</td>\n",
       "      <td>0</td>\n",
       "      <td>{'lasso__alpha': 0}</td>\n",
       "      <td>0.109828</td>\n",
       "      <td>0.104810</td>\n",
       "      <td>0.113422</td>\n",
       "      <td>0.109354</td>\n",
       "      <td>0.003532</td>\n",
       "      <td>1</td>\n",
       "    </tr>\n",
       "    <tr>\n",
       "      <th>1</th>\n",
       "      <td>12.519843</td>\n",
       "      <td>0.040326</td>\n",
       "      <td>0.033245</td>\n",
       "      <td>0.003851</td>\n",
       "      <td>0.01</td>\n",
       "      <td>{'lasso__alpha': 0.01}</td>\n",
       "      <td>0.109538</td>\n",
       "      <td>0.104745</td>\n",
       "      <td>0.112642</td>\n",
       "      <td>0.108975</td>\n",
       "      <td>0.003248</td>\n",
       "      <td>2</td>\n",
       "    </tr>\n",
       "    <tr>\n",
       "      <th>2</th>\n",
       "      <td>11.211346</td>\n",
       "      <td>0.597591</td>\n",
       "      <td>0.050197</td>\n",
       "      <td>0.018929</td>\n",
       "      <td>0.02</td>\n",
       "      <td>{'lasso__alpha': 0.02}</td>\n",
       "      <td>0.108486</td>\n",
       "      <td>0.103746</td>\n",
       "      <td>0.111019</td>\n",
       "      <td>0.107751</td>\n",
       "      <td>0.003014</td>\n",
       "      <td>3</td>\n",
       "    </tr>\n",
       "    <tr>\n",
       "      <th>3</th>\n",
       "      <td>10.086354</td>\n",
       "      <td>0.398501</td>\n",
       "      <td>0.059175</td>\n",
       "      <td>0.010181</td>\n",
       "      <td>0.03</td>\n",
       "      <td>{'lasso__alpha': 0.03}</td>\n",
       "      <td>0.106638</td>\n",
       "      <td>0.102230</td>\n",
       "      <td>0.108795</td>\n",
       "      <td>0.105888</td>\n",
       "      <td>0.002732</td>\n",
       "      <td>4</td>\n",
       "    </tr>\n",
       "    <tr>\n",
       "      <th>4</th>\n",
       "      <td>4.435133</td>\n",
       "      <td>0.900380</td>\n",
       "      <td>0.047207</td>\n",
       "      <td>0.009006</td>\n",
       "      <td>0.04</td>\n",
       "      <td>{'lasso__alpha': 0.04}</td>\n",
       "      <td>0.104141</td>\n",
       "      <td>0.100002</td>\n",
       "      <td>0.106143</td>\n",
       "      <td>0.103429</td>\n",
       "      <td>0.002557</td>\n",
       "      <td>5</td>\n",
       "    </tr>\n",
       "    <tr>\n",
       "      <th>5</th>\n",
       "      <td>3.641590</td>\n",
       "      <td>0.320158</td>\n",
       "      <td>0.050201</td>\n",
       "      <td>0.012467</td>\n",
       "      <td>0.05</td>\n",
       "      <td>{'lasso__alpha': 0.05}</td>\n",
       "      <td>0.101684</td>\n",
       "      <td>0.098108</td>\n",
       "      <td>0.103501</td>\n",
       "      <td>0.101097</td>\n",
       "      <td>0.002240</td>\n",
       "      <td>6</td>\n",
       "    </tr>\n",
       "    <tr>\n",
       "      <th>6</th>\n",
       "      <td>3.285543</td>\n",
       "      <td>0.520496</td>\n",
       "      <td>0.037234</td>\n",
       "      <td>0.001881</td>\n",
       "      <td>0.06</td>\n",
       "      <td>{'lasso__alpha': 0.06}</td>\n",
       "      <td>0.099798</td>\n",
       "      <td>0.096405</td>\n",
       "      <td>0.101611</td>\n",
       "      <td>0.099271</td>\n",
       "      <td>0.002158</td>\n",
       "      <td>7</td>\n",
       "    </tr>\n",
       "    <tr>\n",
       "      <th>7</th>\n",
       "      <td>2.815134</td>\n",
       "      <td>0.388392</td>\n",
       "      <td>0.047540</td>\n",
       "      <td>0.002617</td>\n",
       "      <td>0.07</td>\n",
       "      <td>{'lasso__alpha': 0.07}</td>\n",
       "      <td>0.097555</td>\n",
       "      <td>0.094760</td>\n",
       "      <td>0.099726</td>\n",
       "      <td>0.097347</td>\n",
       "      <td>0.002033</td>\n",
       "      <td>8</td>\n",
       "    </tr>\n",
       "    <tr>\n",
       "      <th>8</th>\n",
       "      <td>2.443795</td>\n",
       "      <td>0.382182</td>\n",
       "      <td>0.040226</td>\n",
       "      <td>0.003672</td>\n",
       "      <td>0.08</td>\n",
       "      <td>{'lasso__alpha': 0.08}</td>\n",
       "      <td>0.094965</td>\n",
       "      <td>0.093236</td>\n",
       "      <td>0.097835</td>\n",
       "      <td>0.095346</td>\n",
       "      <td>0.001897</td>\n",
       "      <td>9</td>\n",
       "    </tr>\n",
       "    <tr>\n",
       "      <th>9</th>\n",
       "      <td>1.987353</td>\n",
       "      <td>0.561328</td>\n",
       "      <td>0.034905</td>\n",
       "      <td>0.003731</td>\n",
       "      <td>0.09</td>\n",
       "      <td>{'lasso__alpha': 0.09}</td>\n",
       "      <td>0.092043</td>\n",
       "      <td>0.091496</td>\n",
       "      <td>0.095717</td>\n",
       "      <td>0.093085</td>\n",
       "      <td>0.001874</td>\n",
       "      <td>10</td>\n",
       "    </tr>\n",
       "    <tr>\n",
       "      <th>10</th>\n",
       "      <td>1.884960</td>\n",
       "      <td>0.527295</td>\n",
       "      <td>0.022937</td>\n",
       "      <td>0.006959</td>\n",
       "      <td>0.1</td>\n",
       "      <td>{'lasso__alpha': 0.1}</td>\n",
       "      <td>0.088765</td>\n",
       "      <td>0.089490</td>\n",
       "      <td>0.093368</td>\n",
       "      <td>0.090541</td>\n",
       "      <td>0.002021</td>\n",
       "      <td>11</td>\n",
       "    </tr>\n",
       "    <tr>\n",
       "      <th>11</th>\n",
       "      <td>1.049191</td>\n",
       "      <td>0.050834</td>\n",
       "      <td>0.027261</td>\n",
       "      <td>0.004181</td>\n",
       "      <td>0.2</td>\n",
       "      <td>{'lasso__alpha': 0.2}</td>\n",
       "      <td>0.073465</td>\n",
       "      <td>0.072897</td>\n",
       "      <td>0.076022</td>\n",
       "      <td>0.074128</td>\n",
       "      <td>0.001359</td>\n",
       "      <td>12</td>\n",
       "    </tr>\n",
       "    <tr>\n",
       "      <th>12</th>\n",
       "      <td>0.789555</td>\n",
       "      <td>0.074455</td>\n",
       "      <td>0.017963</td>\n",
       "      <td>0.003728</td>\n",
       "      <td>0.3</td>\n",
       "      <td>{'lasso__alpha': 0.3}</td>\n",
       "      <td>0.062635</td>\n",
       "      <td>0.062790</td>\n",
       "      <td>0.065789</td>\n",
       "      <td>0.063738</td>\n",
       "      <td>0.001452</td>\n",
       "      <td>13</td>\n",
       "    </tr>\n",
       "    <tr>\n",
       "      <th>13</th>\n",
       "      <td>0.677186</td>\n",
       "      <td>0.074183</td>\n",
       "      <td>0.011970</td>\n",
       "      <td>0.000814</td>\n",
       "      <td>0.4</td>\n",
       "      <td>{'lasso__alpha': 0.4}</td>\n",
       "      <td>0.054268</td>\n",
       "      <td>0.055286</td>\n",
       "      <td>0.056922</td>\n",
       "      <td>0.055492</td>\n",
       "      <td>0.001093</td>\n",
       "      <td>14</td>\n",
       "    </tr>\n",
       "  </tbody>\n",
       "</table>\n",
       "</div>"
      ],
      "text/plain": [
       "    mean_fit_time  std_fit_time  mean_score_time  std_score_time  \\\n",
       "0      128.932735      0.139286         0.007014        0.002155   \n",
       "1       12.519843      0.040326         0.033245        0.003851   \n",
       "2       11.211346      0.597591         0.050197        0.018929   \n",
       "3       10.086354      0.398501         0.059175        0.010181   \n",
       "4        4.435133      0.900380         0.047207        0.009006   \n",
       "5        3.641590      0.320158         0.050201        0.012467   \n",
       "6        3.285543      0.520496         0.037234        0.001881   \n",
       "7        2.815134      0.388392         0.047540        0.002617   \n",
       "8        2.443795      0.382182         0.040226        0.003672   \n",
       "9        1.987353      0.561328         0.034905        0.003731   \n",
       "10       1.884960      0.527295         0.022937        0.006959   \n",
       "11       1.049191      0.050834         0.027261        0.004181   \n",
       "12       0.789555      0.074455         0.017963        0.003728   \n",
       "13       0.677186      0.074183         0.011970        0.000814   \n",
       "\n",
       "   param_lasso__alpha                  params  split0_test_score  \\\n",
       "0                   0     {'lasso__alpha': 0}           0.109828   \n",
       "1                0.01  {'lasso__alpha': 0.01}           0.109538   \n",
       "2                0.02  {'lasso__alpha': 0.02}           0.108486   \n",
       "3                0.03  {'lasso__alpha': 0.03}           0.106638   \n",
       "4                0.04  {'lasso__alpha': 0.04}           0.104141   \n",
       "5                0.05  {'lasso__alpha': 0.05}           0.101684   \n",
       "6                0.06  {'lasso__alpha': 0.06}           0.099798   \n",
       "7                0.07  {'lasso__alpha': 0.07}           0.097555   \n",
       "8                0.08  {'lasso__alpha': 0.08}           0.094965   \n",
       "9                0.09  {'lasso__alpha': 0.09}           0.092043   \n",
       "10                0.1   {'lasso__alpha': 0.1}           0.088765   \n",
       "11                0.2   {'lasso__alpha': 0.2}           0.073465   \n",
       "12                0.3   {'lasso__alpha': 0.3}           0.062635   \n",
       "13                0.4   {'lasso__alpha': 0.4}           0.054268   \n",
       "\n",
       "    split1_test_score  split2_test_score  mean_test_score  std_test_score  \\\n",
       "0            0.104810           0.113422         0.109354        0.003532   \n",
       "1            0.104745           0.112642         0.108975        0.003248   \n",
       "2            0.103746           0.111019         0.107751        0.003014   \n",
       "3            0.102230           0.108795         0.105888        0.002732   \n",
       "4            0.100002           0.106143         0.103429        0.002557   \n",
       "5            0.098108           0.103501         0.101097        0.002240   \n",
       "6            0.096405           0.101611         0.099271        0.002158   \n",
       "7            0.094760           0.099726         0.097347        0.002033   \n",
       "8            0.093236           0.097835         0.095346        0.001897   \n",
       "9            0.091496           0.095717         0.093085        0.001874   \n",
       "10           0.089490           0.093368         0.090541        0.002021   \n",
       "11           0.072897           0.076022         0.074128        0.001359   \n",
       "12           0.062790           0.065789         0.063738        0.001452   \n",
       "13           0.055286           0.056922         0.055492        0.001093   \n",
       "\n",
       "    rank_test_score  \n",
       "0                 1  \n",
       "1                 2  \n",
       "2                 3  \n",
       "3                 4  \n",
       "4                 5  \n",
       "5                 6  \n",
       "6                 7  \n",
       "7                 8  \n",
       "8                 9  \n",
       "9                10  \n",
       "10               11  \n",
       "11               12  \n",
       "12               13  \n",
       "13               14  "
      ]
     },
     "execution_count": 150,
     "metadata": {},
     "output_type": "execute_result"
    }
   ],
   "source": [
    "df_lasso_grid= pd.DataFrame(lasso_grid.cv_results_)\n",
    "df_lasso_grid.head(14)\n"
   ]
  },
  {
   "cell_type": "code",
   "execution_count": 151,
   "metadata": {},
   "outputs": [
    {
     "data": {
      "text/plain": [
       "0.10582200000000001"
      ]
     },
     "execution_count": 151,
     "metadata": {},
     "output_type": "execute_result"
    }
   ],
   "source": [
    "0.109354-0.003532"
   ]
  },
  {
   "cell_type": "code",
   "execution_count": 152,
   "metadata": {},
   "outputs": [
    {
     "data": {
      "text/plain": [
       "Pipeline(memory=None,\n",
       "         steps=[('lasso',\n",
       "                 Lasso(alpha=0, copy_X=True, fit_intercept=True, max_iter=10000,\n",
       "                       normalize=False, positive=False, precompute=False,\n",
       "                       random_state=22, selection='cyclic', tol=0.0001,\n",
       "                       warm_start=False))],\n",
       "         verbose=False)"
      ]
     },
     "execution_count": 152,
     "metadata": {},
     "output_type": "execute_result"
    }
   ],
   "source": [
    "# lasso_grid.get_params(deep=True)\n",
    "lasso_grid.best_estimator_"
   ]
  },
  {
   "cell_type": "code",
   "execution_count": 153,
   "metadata": {},
   "outputs": [],
   "source": [
    "# lasso_alfa = 0.03: last mean_test_score that is greater than best mean_test_score minus best std_test_score \n",
    "Lasso_rgr = Lasso(alpha=0.03, copy_X=True, fit_intercept=True, max_iter=10000,\n",
    "                       normalize=False, positive=False, precompute=False,\n",
    "                       random_state=22, selection='cyclic', tol=0.0001,\n",
    "                       warm_start=False)"
   ]
  },
  {
   "cell_type": "code",
   "execution_count": 154,
   "metadata": {},
   "outputs": [
    {
     "data": {
      "text/plain": [
       "Lasso(alpha=0.03, copy_X=True, fit_intercept=True, max_iter=10000,\n",
       "      normalize=False, positive=False, precompute=False, random_state=22,\n",
       "      selection='cyclic', tol=0.0001, warm_start=False)"
      ]
     },
     "execution_count": 154,
     "metadata": {},
     "output_type": "execute_result"
    }
   ],
   "source": [
    "Lasso_rgr.fit(X_std, y)"
   ]
  },
  {
   "cell_type": "code",
   "execution_count": 155,
   "metadata": {},
   "outputs": [],
   "source": [
    "Lasso_coef=pd.DataFrame(Lasso_rgr.coef_.reshape(1,-1), columns=df1.columns[0:22])"
   ]
  },
  {
   "cell_type": "code",
   "execution_count": 156,
   "metadata": {},
   "outputs": [
    {
     "data": {
      "text/html": [
       "<div>\n",
       "<style scoped>\n",
       "    .dataframe tbody tr th:only-of-type {\n",
       "        vertical-align: middle;\n",
       "    }\n",
       "\n",
       "    .dataframe tbody tr th {\n",
       "        vertical-align: top;\n",
       "    }\n",
       "\n",
       "    .dataframe thead th {\n",
       "        text-align: right;\n",
       "    }\n",
       "</style>\n",
       "<table border=\"1\" class=\"dataframe\">\n",
       "  <thead>\n",
       "    <tr style=\"text-align: right;\">\n",
       "      <th></th>\n",
       "      <th>0</th>\n",
       "    </tr>\n",
       "  </thead>\n",
       "  <tbody>\n",
       "    <tr>\n",
       "      <th>PermanentIncomeSupport_1</th>\n",
       "      <td>-0.016013</td>\n",
       "    </tr>\n",
       "    <tr>\n",
       "      <th>PermanentIncomeSupport_2</th>\n",
       "      <td>-0.000000</td>\n",
       "    </tr>\n",
       "    <tr>\n",
       "      <th>PermanentIncomeSupport_3</th>\n",
       "      <td>-0.000000</td>\n",
       "    </tr>\n",
       "    <tr>\n",
       "      <th>Scholarship_1</th>\n",
       "      <td>-0.121721</td>\n",
       "    </tr>\n",
       "    <tr>\n",
       "      <th>Scholarship_2</th>\n",
       "      <td>-0.162067</td>\n",
       "    </tr>\n",
       "    <tr>\n",
       "      <th>Gender_M</th>\n",
       "      <td>-0.169737</td>\n",
       "    </tr>\n",
       "    <tr>\n",
       "      <th>AcYear_11</th>\n",
       "      <td>0.338341</td>\n",
       "    </tr>\n",
       "    <tr>\n",
       "      <th>AcYear_12</th>\n",
       "      <td>0.381877</td>\n",
       "    </tr>\n",
       "    <tr>\n",
       "      <th>N_NoApprovals</th>\n",
       "      <td>-0.696693</td>\n",
       "    </tr>\n",
       "    <tr>\n",
       "      <th>Nationality</th>\n",
       "      <td>-0.000000</td>\n",
       "    </tr>\n",
       "    <tr>\n",
       "      <th>N_Enrollments</th>\n",
       "      <td>-0.137625</td>\n",
       "    </tr>\n",
       "    <tr>\n",
       "      <th>Computer</th>\n",
       "      <td>0.000000</td>\n",
       "    </tr>\n",
       "    <tr>\n",
       "      <th>InternetAccess</th>\n",
       "      <td>0.045108</td>\n",
       "    </tr>\n",
       "    <tr>\n",
       "      <th>UrbanIndex</th>\n",
       "      <td>-0.028412</td>\n",
       "    </tr>\n",
       "    <tr>\n",
       "      <th>IncomeIndex</th>\n",
       "      <td>-0.000000</td>\n",
       "    </tr>\n",
       "    <tr>\n",
       "      <th>AgingIndex</th>\n",
       "      <td>0.018485</td>\n",
       "    </tr>\n",
       "    <tr>\n",
       "      <th>UnemploymentIndex</th>\n",
       "      <td>-0.000000</td>\n",
       "    </tr>\n",
       "    <tr>\n",
       "      <th>CulturalLevelIndex</th>\n",
       "      <td>-0.000000</td>\n",
       "    </tr>\n",
       "    <tr>\n",
       "      <th>ClassSize</th>\n",
       "      <td>0.046299</td>\n",
       "    </tr>\n",
       "    <tr>\n",
       "      <th>SchoolSize</th>\n",
       "      <td>0.073116</td>\n",
       "    </tr>\n",
       "    <tr>\n",
       "      <th>N_SubjectsEnrolled</th>\n",
       "      <td>0.108429</td>\n",
       "    </tr>\n",
       "    <tr>\n",
       "      <th>Gender_M__ClassSize</th>\n",
       "      <td>-0.062464</td>\n",
       "    </tr>\n",
       "  </tbody>\n",
       "</table>\n",
       "</div>"
      ],
      "text/plain": [
       "                                 0\n",
       "PermanentIncomeSupport_1 -0.016013\n",
       "PermanentIncomeSupport_2 -0.000000\n",
       "PermanentIncomeSupport_3 -0.000000\n",
       "Scholarship_1            -0.121721\n",
       "Scholarship_2            -0.162067\n",
       "Gender_M                 -0.169737\n",
       "AcYear_11                 0.338341\n",
       "AcYear_12                 0.381877\n",
       "N_NoApprovals            -0.696693\n",
       "Nationality              -0.000000\n",
       "N_Enrollments            -0.137625\n",
       "Computer                  0.000000\n",
       "InternetAccess            0.045108\n",
       "UrbanIndex               -0.028412\n",
       "IncomeIndex              -0.000000\n",
       "AgingIndex                0.018485\n",
       "UnemploymentIndex        -0.000000\n",
       "CulturalLevelIndex       -0.000000\n",
       "ClassSize                 0.046299\n",
       "SchoolSize                0.073116\n",
       "N_SubjectsEnrolled        0.108429\n",
       "Gender_M__ClassSize      -0.062464"
      ]
     },
     "execution_count": 156,
     "metadata": {},
     "output_type": "execute_result"
    }
   ],
   "source": [
    "Lasso_coef.T"
   ]
  },
  {
   "cell_type": "markdown",
   "metadata": {},
   "source": [
    "According to Lasso features selection method there are five features that should be dropped: PermanentIncomeSupport_1, PermanentIncomeSupport_2, Nationality, IncomeIndex, CulturalLevelIndex, N_SubjectsEnrolled, Gender_M_ClassSize."
   ]
  },
  {
   "cell_type": "code",
   "execution_count": 157,
   "metadata": {},
   "outputs": [],
   "source": [
    "Lasso_coef.to_excel(\"Lasso_coef.xlsx\", sheet_name='Coef')"
   ]
  },
  {
   "cell_type": "raw",
   "metadata": {},
   "source": [
    "Let's follow Lasso selection and drop the features from the dataset"
   ]
  },
  {
   "cell_type": "code",
   "execution_count": 47,
   "metadata": {},
   "outputs": [
    {
     "data": {
      "text/plain": [
       "Index(['PermanentIncomeSupport_1', 'PermanentIncomeSupport_2',\n",
       "       'PermanentIncomeSupport_3', 'Scholarship_1', 'Scholarship_2',\n",
       "       'Gender_M', 'AcYear_11', 'AcYear_12', 'N_NoApprovals', 'Nationality',\n",
       "       'N_Enrollments', 'Computer', 'InternetAccess', 'UrbanIndex',\n",
       "       'IncomeIndex', 'AgingIndex', 'UnemploymentIndex', 'CulturalLevelIndex',\n",
       "       'ClassSize', 'SchoolSize', 'N_SubjectsEnrolled', 'Gender_M__ClassSize',\n",
       "       'FinalMark'],\n",
       "      dtype='object')"
      ]
     },
     "execution_count": 47,
     "metadata": {},
     "output_type": "execute_result"
    }
   ],
   "source": [
    "df1.columns"
   ]
  },
  {
   "cell_type": "code",
   "execution_count": 79,
   "metadata": {},
   "outputs": [],
   "source": [
    "df1=df1.drop(['PermanentIncomeSupport_1', 'PermanentIncomeSupport_3', 'AcYear_11', 'Nationality',\n",
    "              'InternetAccess', 'UrbanIndex', 'IncomeIndex', 'AgingIndex', 'CulturalLevelIndex',\n",
    "              'ClassSize', 'Gender_M__ClassSize'], axis=1)"
   ]
  },
  {
   "cell_type": "code",
   "execution_count": 80,
   "metadata": {},
   "outputs": [
    {
     "data": {
      "text/plain": [
       "(139005, 12)"
      ]
     },
     "execution_count": 80,
     "metadata": {},
     "output_type": "execute_result"
    }
   ],
   "source": [
    "df1.shape"
   ]
  },
  {
   "cell_type": "code",
   "execution_count": 81,
   "metadata": {},
   "outputs": [
    {
     "data": {
      "text/html": [
       "<div>\n",
       "<style scoped>\n",
       "    .dataframe tbody tr th:only-of-type {\n",
       "        vertical-align: middle;\n",
       "    }\n",
       "\n",
       "    .dataframe tbody tr th {\n",
       "        vertical-align: top;\n",
       "    }\n",
       "\n",
       "    .dataframe thead th {\n",
       "        text-align: right;\n",
       "    }\n",
       "</style>\n",
       "<table border=\"1\" class=\"dataframe\">\n",
       "  <thead>\n",
       "    <tr style=\"text-align: right;\">\n",
       "      <th></th>\n",
       "      <th>PermanentIncomeSupport_2</th>\n",
       "      <th>Scholarship_1</th>\n",
       "      <th>Scholarship_2</th>\n",
       "      <th>Gender_M</th>\n",
       "      <th>AcYear_12</th>\n",
       "      <th>N_NoApprovals</th>\n",
       "      <th>N_Enrollments</th>\n",
       "      <th>Computer</th>\n",
       "      <th>UnemploymentIndex</th>\n",
       "      <th>SchoolSize</th>\n",
       "      <th>N_SubjectsEnrolled</th>\n",
       "      <th>FinalMark</th>\n",
       "    </tr>\n",
       "  </thead>\n",
       "  <tbody>\n",
       "    <tr>\n",
       "      <th>1</th>\n",
       "      <td>0</td>\n",
       "      <td>0</td>\n",
       "      <td>0</td>\n",
       "      <td>1</td>\n",
       "      <td>1</td>\n",
       "      <td>0</td>\n",
       "      <td>1</td>\n",
       "      <td>0</td>\n",
       "      <td>11.76</td>\n",
       "      <td>519</td>\n",
       "      <td>5</td>\n",
       "      <td>19</td>\n",
       "    </tr>\n",
       "    <tr>\n",
       "      <th>2</th>\n",
       "      <td>1</td>\n",
       "      <td>1</td>\n",
       "      <td>0</td>\n",
       "      <td>0</td>\n",
       "      <td>1</td>\n",
       "      <td>0</td>\n",
       "      <td>1</td>\n",
       "      <td>0</td>\n",
       "      <td>11.76</td>\n",
       "      <td>519</td>\n",
       "      <td>5</td>\n",
       "      <td>16</td>\n",
       "    </tr>\n",
       "    <tr>\n",
       "      <th>11</th>\n",
       "      <td>0</td>\n",
       "      <td>0</td>\n",
       "      <td>0</td>\n",
       "      <td>1</td>\n",
       "      <td>1</td>\n",
       "      <td>0</td>\n",
       "      <td>1</td>\n",
       "      <td>0</td>\n",
       "      <td>11.76</td>\n",
       "      <td>519</td>\n",
       "      <td>5</td>\n",
       "      <td>17</td>\n",
       "    </tr>\n",
       "    <tr>\n",
       "      <th>17</th>\n",
       "      <td>0</td>\n",
       "      <td>0</td>\n",
       "      <td>0</td>\n",
       "      <td>1</td>\n",
       "      <td>0</td>\n",
       "      <td>0</td>\n",
       "      <td>1</td>\n",
       "      <td>0</td>\n",
       "      <td>11.76</td>\n",
       "      <td>519</td>\n",
       "      <td>7</td>\n",
       "      <td>16</td>\n",
       "    </tr>\n",
       "    <tr>\n",
       "      <th>21</th>\n",
       "      <td>0</td>\n",
       "      <td>0</td>\n",
       "      <td>0</td>\n",
       "      <td>1</td>\n",
       "      <td>0</td>\n",
       "      <td>0</td>\n",
       "      <td>1</td>\n",
       "      <td>0</td>\n",
       "      <td>11.76</td>\n",
       "      <td>519</td>\n",
       "      <td>7</td>\n",
       "      <td>16</td>\n",
       "    </tr>\n",
       "  </tbody>\n",
       "</table>\n",
       "</div>"
      ],
      "text/plain": [
       "    PermanentIncomeSupport_2  Scholarship_1  Scholarship_2  Gender_M  \\\n",
       "1                          0              0              0         1   \n",
       "2                          1              1              0         0   \n",
       "11                         0              0              0         1   \n",
       "17                         0              0              0         1   \n",
       "21                         0              0              0         1   \n",
       "\n",
       "    AcYear_12  N_NoApprovals  N_Enrollments  Computer  UnemploymentIndex  \\\n",
       "1           1              0              1         0              11.76   \n",
       "2           1              0              1         0              11.76   \n",
       "11          1              0              1         0              11.76   \n",
       "17          0              0              1         0              11.76   \n",
       "21          0              0              1         0              11.76   \n",
       "\n",
       "    SchoolSize  N_SubjectsEnrolled  FinalMark  \n",
       "1          519                   5         19  \n",
       "2          519                   5         16  \n",
       "11         519                   5         17  \n",
       "17         519                   7         16  \n",
       "21         519                   7         16  "
      ]
     },
     "execution_count": 81,
     "metadata": {},
     "output_type": "execute_result"
    }
   ],
   "source": [
    "df1.head()"
   ]
  },
  {
   "cell_type": "code",
   "execution_count": 82,
   "metadata": {},
   "outputs": [],
   "source": [
    "df1.to_excel(\"PREPARED_ExactSciences_DS_V1.xlsx\", sheet_name='DATASET')"
   ]
  },
  {
   "cell_type": "code",
   "execution_count": 41,
   "metadata": {},
   "outputs": [],
   "source": [
    "# from sklearn.ensemble import RandomForestRegressor\n"
   ]
  },
  {
   "cell_type": "code",
   "execution_count": 42,
   "metadata": {},
   "outputs": [],
   "source": [
    "# rf_rgr = RandomForestRegressor(n_estimators = 10, criterion=\"mse\", min_samples_leaf=0.001,\n",
    " #                              min_samples_split=0.001 , random_state=42)"
   ]
  },
  {
   "cell_type": "code",
   "execution_count": 43,
   "metadata": {},
   "outputs": [],
   "source": [
    "# rf_rgr = RandomForestRegressor(random_state=42)"
   ]
  },
  {
   "cell_type": "code",
   "execution_count": 54,
   "metadata": {
    "scrolled": true
   },
   "outputs": [],
   "source": [
    "#params_rf = {\"n_estimators\": [10, 20, 50, 100, 150, 200],\n",
    " #            \"min_samples_leaf\": [0.001,0.002,0.003,0.004,0.005,0.006,0.007,0.008,0.009,0.01],\n",
    "  #            \"min_samples_split\": [0.001,0.002,0.003,0.004,0.005,0.006,0.007,0.008,0.009,0.01,\n",
    "   #             0.011,0.012, 0.013,0.014, 0.015, 0.016, 0.017, 0.018, 0.019, 0.02]\n",
    "    #            \"bootstrap\": [True, False]}"
   ]
  },
  {
   "cell_type": "code",
   "execution_count": 55,
   "metadata": {},
   "outputs": [],
   "source": [
    "#rf_grid = GridSearchCV(rf_rgr, params_rf,\n",
    " #                          n_jobs=-1, cv=3,\n",
    "  #                         verbose=1)"
   ]
  },
  {
   "cell_type": "code",
   "execution_count": 56,
   "metadata": {},
   "outputs": [],
   "source": [
    "#rf_grid.fit(X_train_std, y_train)\n",
    "#rf_grid.best_score_\n",
    "#0.16261159736426134"
   ]
  },
  {
   "cell_type": "code",
   "execution_count": 57,
   "metadata": {},
   "outputs": [],
   "source": [
    "#rf_grid.best_score_"
   ]
  },
  {
   "cell_type": "code",
   "execution_count": 58,
   "metadata": {},
   "outputs": [],
   "source": [
    "#rf_grid.best_estimator_.get_params()\n",
    "#{'bootstrap': True,\n",
    " #'criterion': 'mse',\n",
    " #'max_depth': None,\n",
    " #'max_features': 'auto',\n",
    " #'max_leaf_nodes': None,\n",
    " #'min_impurity_decrease': 0.0,\n",
    " #'min_impurity_split': None,\n",
    " #'min_samples_leaf': 0.001,\n",
    " #'min_samples_split': 0.001,\n",
    " #'min_weight_fraction_leaf': 0.0,\n",
    " #'n_estimators': 200,\n",
    " #'n_jobs': None,\n",
    " #'oob_score': False,\n",
    " #'random_state': 42,\n",
    " #'verbose': 0,\n",
    " #'warm_start': False}"
   ]
  },
  {
   "cell_type": "code",
   "execution_count": 59,
   "metadata": {},
   "outputs": [],
   "source": [
    "#for k in sorted(params_rf.keys()): \n",
    " #   print('\\t{0}: \\t {1:.2f}'.format(k, best[k]))\n",
    "\n",
    "\n",
    "#y_train_pred = rf_grid.predict(X_train_std)\n",
    "\n",
    "\n",
    "#y_test_pred = rf_grid.predict(X_test_std)\n",
    "\n",
    "\n",
    "#print(\"MSE train: {0:.4f}, test: {1:.4f}\".\\\n",
    " #     format(mean_squared_error(y_train, y_train_pred), \n",
    "  #           mean_squared_error(y_test, y_test_pred)))\n",
    "\n",
    "\n",
    "\n",
    "#print(\"R^2 train: {0:.4f}, test: {1:.4f}\".\\\n",
    " #     format(r2_score(y_train, y_train_pred),\n",
    "  #           r2_score(y_test, y_test_pred)))\n",
    "             \n",
    "   #   MSE train: 7.1993, test: 7.8908\n",
    "    #  R^2 train: 0.2350, test: 0.1769       "
   ]
  }
 ],
 "metadata": {
  "kernelspec": {
   "display_name": "Python 3",
   "language": "python",
   "name": "python3"
  },
  "language_info": {
   "codemirror_mode": {
    "name": "ipython",
    "version": 3
   },
   "file_extension": ".py",
   "mimetype": "text/x-python",
   "name": "python",
   "nbconvert_exporter": "python",
   "pygments_lexer": "ipython3",
   "version": "3.7.7"
  }
 },
 "nbformat": 4,
 "nbformat_minor": 2
}
